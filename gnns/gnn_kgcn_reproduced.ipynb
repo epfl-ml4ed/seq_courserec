{
  "cells": [
    {
      "cell_type": "code",
      "execution_count": 1,
      "metadata": {
        "colab": {
          "base_uri": "https://localhost:8080/"
        },
        "id": "3SykvS2dRJ0b",
        "outputId": "90052bea-8eed-40f7-c900-dde1765c175e"
      },
      "outputs": [
        {
          "name": "stdout",
          "output_type": "stream",
          "text": [
            "Mounted at /content/drive\n"
          ]
        }
      ],
      "source": [
        "from google.colab import drive\n",
        "drive.mount('/content/drive')"
      ]
    },
    {
      "cell_type": "code",
      "execution_count": 2,
      "metadata": {
        "id": "fgt3ufr_RlR2"
      },
      "outputs": [],
      "source": [
        "!cp -r drive/MyDrive/<folder_name>/* .\n",
        "\n",
        "# create folder on drive and insert folder name above"
      ]
    },
    {
      "cell_type": "code",
      "execution_count": 3,
      "metadata": {
        "colab": {
          "base_uri": "https://localhost:8080/"
        },
        "id": "9hmFwEHySulI",
        "outputId": "052beb3d-5085-4e2b-a5be-953151449adb"
      },
      "outputs": [
        {
          "name": "stdout",
          "output_type": "stream",
          "text": [
            "Looking in links: https://data.pyg.org/whl/torch-2.0.1+cu118.html\n",
            "Collecting torch-scatter\n",
            "  Downloading https://data.pyg.org/whl/torch-2.0.0%2Bcu118/torch_scatter-2.1.2%2Bpt20cu118-cp310-cp310-linux_x86_64.whl (10.2 MB)\n",
            "\u001b[2K     \u001b[90m━━━━━━━━━━━━━━━━━━━━━━━━━━━━━━━━━━━━━━━━\u001b[0m \u001b[32m10.2/10.2 MB\u001b[0m \u001b[31m66.5 MB/s\u001b[0m eta \u001b[36m0:00:00\u001b[0m\n",
            "\u001b[?25hInstalling collected packages: torch-scatter\n",
            "Successfully installed torch-scatter-2.1.2+pt20cu118\n",
            "Looking in links: https://data.pyg.org/whl/torch-2.0.1+cu118.html\n",
            "Collecting torch-sparse\n",
            "  Downloading https://data.pyg.org/whl/torch-2.0.0%2Bcu118/torch_sparse-0.6.18%2Bpt20cu118-cp310-cp310-linux_x86_64.whl (4.9 MB)\n",
            "\u001b[2K     \u001b[90m━━━━━━━━━━━━━━━━━━━━━━━━━━━━━━━━━━━━━━━━\u001b[0m \u001b[32m4.9/4.9 MB\u001b[0m \u001b[31m43.1 MB/s\u001b[0m eta \u001b[36m0:00:00\u001b[0m\n",
            "\u001b[?25hRequirement already satisfied: scipy in /usr/local/lib/python3.10/dist-packages (from torch-sparse) (1.11.3)\n",
            "Requirement already satisfied: numpy<1.28.0,>=1.21.6 in /usr/local/lib/python3.10/dist-packages (from scipy->torch-sparse) (1.23.5)\n",
            "Installing collected packages: torch-sparse\n",
            "Successfully installed torch-sparse-0.6.18+pt20cu118\n",
            "Looking in links: https://data.pyg.org/whl/nightly/torch-2.0.1+cu118.html\n",
            "Collecting pyg-lib\n",
            "  Downloading https://data.pyg.org/whl/nightly/torch-2.0.0%2Bcu118/pyg_lib-0.3.0.dev20231017%2Bpt20cu118-cp310-cp310-linux_x86_64.whl (2.5 MB)\n",
            "\u001b[2K     \u001b[90m━━━━━━━━━━━━━━━━━━━━━━━━━━━━━━━━━━━━━━━━\u001b[0m \u001b[32m2.5/2.5 MB\u001b[0m \u001b[31m33.2 MB/s\u001b[0m eta \u001b[36m0:00:00\u001b[0m\n",
            "\u001b[?25hInstalling collected packages: pyg-lib\n",
            "Successfully installed pyg-lib-0.3.0.dev20231017+pt20cu118\n",
            "Collecting git+https://github.com/pyg-team/pytorch_geometric.git\n",
            "  Cloning https://github.com/pyg-team/pytorch_geometric.git to /tmp/pip-req-build-yksf2bg5\n",
            "  Running command git clone --filter=blob:none --quiet https://github.com/pyg-team/pytorch_geometric.git /tmp/pip-req-build-yksf2bg5\n",
            "  Resolved https://github.com/pyg-team/pytorch_geometric.git to commit ec6264bd9cd39f8f47abcad1a899b53fa92ae6d6\n",
            "  Installing build dependencies ... \u001b[?25l\u001b[?25hdone\n",
            "  Getting requirements to build wheel ... \u001b[?25l\u001b[?25hdone\n",
            "  Preparing metadata (pyproject.toml) ... \u001b[?25l\u001b[?25hdone\n",
            "Requirement already satisfied: tqdm in /usr/local/lib/python3.10/dist-packages (from torch_geometric==2.4.0) (4.66.1)\n",
            "Requirement already satisfied: numpy in /usr/local/lib/python3.10/dist-packages (from torch_geometric==2.4.0) (1.23.5)\n",
            "Requirement already satisfied: scipy in /usr/local/lib/python3.10/dist-packages (from torch_geometric==2.4.0) (1.11.3)\n",
            "Requirement already satisfied: jinja2 in /usr/local/lib/python3.10/dist-packages (from torch_geometric==2.4.0) (3.1.2)\n",
            "Requirement already satisfied: requests in /usr/local/lib/python3.10/dist-packages (from torch_geometric==2.4.0) (2.31.0)\n",
            "Requirement already satisfied: pyparsing in /usr/local/lib/python3.10/dist-packages (from torch_geometric==2.4.0) (3.1.1)\n",
            "Requirement already satisfied: scikit-learn in /usr/local/lib/python3.10/dist-packages (from torch_geometric==2.4.0) (1.2.2)\n",
            "Requirement already satisfied: psutil>=5.8.0 in /usr/local/lib/python3.10/dist-packages (from torch_geometric==2.4.0) (5.9.5)\n",
            "Requirement already satisfied: MarkupSafe>=2.0 in /usr/local/lib/python3.10/dist-packages (from jinja2->torch_geometric==2.4.0) (2.1.3)\n",
            "Requirement already satisfied: charset-normalizer<4,>=2 in /usr/local/lib/python3.10/dist-packages (from requests->torch_geometric==2.4.0) (3.3.0)\n",
            "Requirement already satisfied: idna<4,>=2.5 in /usr/local/lib/python3.10/dist-packages (from requests->torch_geometric==2.4.0) (3.4)\n",
            "Requirement already satisfied: urllib3<3,>=1.21.1 in /usr/local/lib/python3.10/dist-packages (from requests->torch_geometric==2.4.0) (2.0.6)\n",
            "Requirement already satisfied: certifi>=2017.4.17 in /usr/local/lib/python3.10/dist-packages (from requests->torch_geometric==2.4.0) (2023.7.22)\n",
            "Requirement already satisfied: joblib>=1.1.1 in /usr/local/lib/python3.10/dist-packages (from scikit-learn->torch_geometric==2.4.0) (1.3.2)\n",
            "Requirement already satisfied: threadpoolctl>=2.0.0 in /usr/local/lib/python3.10/dist-packages (from scikit-learn->torch_geometric==2.4.0) (3.2.0)\n",
            "Building wheels for collected packages: torch_geometric\n",
            "  Building wheel for torch_geometric (pyproject.toml) ... \u001b[?25l\u001b[?25hdone\n",
            "  Created wheel for torch_geometric: filename=torch_geometric-2.4.0-py3-none-any.whl size=1036449 sha256=94694dcecd03ecebf4b6cdd186e73a63a73f5dfc4b4e876b115f89a53e2e3fe4\n",
            "  Stored in directory: /tmp/pip-ephem-wheel-cache-bj4_kbqn/wheels/d3/78/eb/9e26525b948d19533f1688fb6c209cec8a0ba793d39b49ae8f\n",
            "Successfully built torch_geometric\n",
            "Installing collected packages: torch_geometric\n",
            "Successfully installed torch_geometric-2.4.0\n"
          ]
        }
      ],
      "source": [
        "import os\n",
        "import torch\n",
        "os.environ['TORCH'] = torch.__version__\n",
        "\n",
        "!pip install torch-scatter -f https://data.pyg.org/whl/torch-${TORCH}.html\n",
        "!pip install torch-sparse -f https://data.pyg.org/whl/torch-${TORCH}.html\n",
        "!pip install pyg-lib -f https://data.pyg.org/whl/nightly/torch-${TORCH}.html\n",
        "!pip install git+https://github.com/pyg-team/pytorch_geometric.git"
      ]
    },
    {
      "cell_type": "code",
      "execution_count": 59,
      "metadata": {
        "id": "uVQk7o9oQ-9o"
      },
      "outputs": [],
      "source": [
        "import torch\n",
        "from torch import Tensor\n",
        "import pandas as pd\n",
        "from torch_geometric.data import HeteroData\n",
        "import torch_geometric.transforms as T\n",
        "from torch_geometric.loader import LinkNeighborLoader\n",
        "from torch_geometric.nn import SAGEConv, to_hetero\n",
        "import torch.nn.functional as F\n",
        "import tqdm\n",
        "from sklearn.model_selection import train_test_split\n",
        "import random\n",
        "import numpy as np"
      ]
    },
    {
      "cell_type": "code",
      "execution_count": 60,
      "metadata": {
        "colab": {
          "base_uri": "https://localhost:8080/"
        },
        "id": "GIAf-t0IQ-9t",
        "outputId": "662786ad-ed96-455c-b94e-87f18a21c6a8"
      },
      "outputs": [
        {
          "data": {
            "text/plain": [
              "tensor([[   0,    0,    0,  ...,  686,  686,  686],\n",
              "        [2612,  495,  500,  ..., 2916, 2694, 2695]])"
            ]
          },
          "execution_count": 60,
          "metadata": {},
          "output_type": "execute_result"
        }
      ],
      "source": [
        "crs = []\n",
        "cnt = []\n",
        "\n",
        "with open('./gnn_rel/course_concepts.txt', 'r') as f:\n",
        "    lines = [l.strip() for l in f.readlines()]\n",
        "    for line in lines:\n",
        "        c_cs = line.split('\\t')\n",
        "        if(len(c_cs) == 1):\n",
        "            continue\n",
        "        cs = c_cs[1].split(' ')\n",
        "        c = [int(c_cs[0])] * len(cs)\n",
        "\n",
        "        crs.extend(c)\n",
        "        cnt.extend([int(css) for css in cs])\n",
        "\n",
        "edge_index_course_to_concept = torch.stack([torch.tensor(crs, dtype=int), torch.tensor(cnt, dtype=int)])\n",
        "edge_index_course_to_concept"
      ]
    },
    {
      "cell_type": "code",
      "execution_count": 61,
      "metadata": {
        "colab": {
          "base_uri": "https://localhost:8080/"
        },
        "id": "O5MEiJ1yQ-9v",
        "outputId": "3057f5c9-8ccd-45cf-b108-697763d17e9a"
      },
      "outputs": [
        {
          "data": {
            "text/plain": [
              "tensor([[  0,   1,   2,  ..., 684, 685, 686],\n",
              "        [122, 122, 122,  ..., 147,   7,  11]])"
            ]
          },
          "execution_count": 61,
          "metadata": {},
          "output_type": "execute_result"
        }
      ],
      "source": [
        "crs = []\n",
        "sch = []\n",
        "\n",
        "with open('./gnn_rel/course_school.txt', 'r') as f:\n",
        "    lines = [l.strip() for l in f.readlines()]\n",
        "    for line in lines:\n",
        "        c_schools = line.split('\\t')\n",
        "        if(len(c_schools) == 1):\n",
        "            continue\n",
        "        schools = c_schools[1].split(' ')\n",
        "        c = [int(c_schools[0])] * len(schools)\n",
        "\n",
        "        crs.extend(c)\n",
        "        sch.extend([int(s) for s in schools])\n",
        "\n",
        "\n",
        "edge_index_course_to_school = torch.stack([torch.tensor(crs, dtype=int), torch.tensor(sch, dtype=int)])\n",
        "edge_index_course_to_school"
      ]
    },
    {
      "cell_type": "code",
      "execution_count": 62,
      "metadata": {
        "colab": {
          "base_uri": "https://localhost:8080/"
        },
        "id": "ZwUj2PnMQ-9w",
        "outputId": "1bb50cd0-6d51-4ddb-eeaa-84b5e9730044"
      },
      "outputs": [
        {
          "data": {
            "text/plain": [
              "tensor([[   0,    0,    0,  ...,  686,  686,  686],\n",
              "        [ 993, 1481, 1489,  ..., 1118, 1211, 1448]])"
            ]
          },
          "execution_count": 62,
          "metadata": {},
          "output_type": "execute_result"
        }
      ],
      "source": [
        "crs = []\n",
        "tch = []\n",
        "\n",
        "with open('./gnn_rel/course_teachers.txt', 'r') as f:\n",
        "    lines = [l.strip() for l in f.readlines()]\n",
        "    for line in lines:\n",
        "        c_teachers = line.split('\\t')\n",
        "        if(len(c_teachers) == 1):\n",
        "            continue\n",
        "        teachers = c_teachers[1].split(' ')\n",
        "        c = [int(c_teachers[0])] * len(teachers)\n",
        "\n",
        "        crs.extend(c)\n",
        "        tch.extend([int(t) for t in teachers])\n",
        "\n",
        "\n",
        "edge_index_course_to_teacher = torch.stack([torch.tensor(crs, dtype=int), torch.tensor(tch, dtype=int)])\n",
        "edge_index_course_to_teacher"
      ]
    },
    {
      "cell_type": "code",
      "execution_count": 63,
      "metadata": {
        "id": "qFo70-GyQ-9w"
      },
      "outputs": [],
      "source": [
        "user_enrolments = {}\n",
        "\n",
        "with open('./gnn_rel/enrolments.txt', 'r') as f:\n",
        "    lines = [l.strip() for l in f.readlines()]\n",
        "    for line in lines:\n",
        "        user_course = line.split('\\t')\n",
        "\n",
        "        user = user_course[0]\n",
        "        course = user_course[1]\n",
        "\n",
        "        user_enrolments[user] = user_enrolments.get(user, []) + [course]"
      ]
    },
    {
      "cell_type": "code",
      "execution_count": 64,
      "metadata": {
        "id": "mUnwz0T_Q-9x"
      },
      "outputs": [],
      "source": [
        "def create_data_file(path, data):\n",
        "    with open(path, 'w') as f:\n",
        "        f.writelines(data)"
      ]
    },
    {
      "cell_type": "code",
      "execution_count": 65,
      "metadata": {
        "id": "u6XF_P5dQ-9x"
      },
      "outputs": [],
      "source": [
        "train_data = []\n",
        "test_data = []\n",
        "for user in user_enrolments:\n",
        "    courses = user_enrolments[user]\n",
        "    user_train_data, user_test_data = train_test_split(courses, train_size=0.8)\n",
        "\n",
        "    for c in user_train_data:\n",
        "        train_data.append(f\"{user}\\t{c}\\n\")\n",
        "\n",
        "    for c in user_test_data:\n",
        "        test_data.append(f\"{user}\\t{c}\\n\")\n",
        "\n",
        "random.shuffle(train_data)\n",
        "random.shuffle(test_data)\n",
        "\n",
        "#create_data_file('./gnn_rel/train.txt', train_data)\n",
        "#create_data_file('./gnn_rel/test.txt', test_data)"
      ]
    },
    {
      "cell_type": "code",
      "execution_count": 66,
      "metadata": {
        "colab": {
          "base_uri": "https://localhost:8080/"
        },
        "id": "thsVM4rBQ-9y",
        "outputId": "a1bd3630-45bb-4912-ed57-4ba156588933"
      },
      "outputs": [
        {
          "data": {
            "text/plain": [
              "tensor([[3424, 5806,  372,  ..., 5818, 2464,    2],\n",
              "        [  29,   24,   67,  ...,  278,   69,   24]])"
            ]
          },
          "execution_count": 66,
          "metadata": {},
          "output_type": "execute_result"
        }
      ],
      "source": [
        "users_tmp = []\n",
        "courses_tmp = []\n",
        "\n",
        "with open('./gnn_rel/train.txt', 'r') as f:\n",
        "    lines = [l.strip() for l in f.readlines()]\n",
        "    for line in lines:\n",
        "        user_course = line.split('\\t')\n",
        "\n",
        "        user = user_course[0]\n",
        "        course = user_course[1]\n",
        "\n",
        "        users_tmp.append(int(user))\n",
        "        courses_tmp.append(int(course))\n",
        "\n",
        "\n",
        "edge_index_user_to_course = torch.stack([torch.tensor(users_tmp, dtype=int), torch.tensor(courses_tmp, dtype=int)])\n",
        "edge_index_user_to_course"
      ]
    },
    {
      "cell_type": "code",
      "execution_count": 67,
      "metadata": {
        "id": "_7wQzuPmQ-9z"
      },
      "outputs": [],
      "source": [
        "with open('./gnn_rel/users.txt', 'r') as f:\n",
        "    users = [line.strip() for line in f.readlines()]\n",
        "with open('./gnn_rel/courses.txt', 'r') as f:\n",
        "    courses = [line.strip() for line in f.readlines()]\n",
        "with open('./gnn_rel/schools.txt', 'r') as f:\n",
        "    schools = [line.strip() for line in f.readlines()]\n",
        "with open('./gnn_rel/teachers.txt', 'r') as f:\n",
        "    teachers = [line.strip() for line in f.readlines()]\n",
        "with open('./gnn_rel/concepts.txt', 'r') as f:\n",
        "    concepts = [line.strip() for line in f.readlines()]"
      ]
    },
    {
      "cell_type": "code",
      "execution_count": 68,
      "metadata": {
        "id": "WVQ0JtScQ-9z"
      },
      "outputs": [],
      "source": [
        "data = HeteroData()\n",
        "\n",
        "EMBED_SIZE = 16\n",
        "\n",
        "data['user'].node_id = torch.arange(len(users))\n",
        "data['course'].node_id = torch.arange(len(courses))\n",
        "data['school'].node_id = torch.arange(len(schools))\n",
        "data['teacher'].node_id = torch.arange(len(teachers))\n",
        "data['concept'].node_id = torch.arange(len(concepts))\n",
        "\n",
        "\n",
        "# data['user'].x = torch.rand(size=(len(users), EMBED_SIZE))\n",
        "# data['course'].x = torch.rand(size=(len(courses), EMBED_SIZE))\n",
        "# data['school'].x = torch.rand(size=(len(schools), EMBED_SIZE))\n",
        "# data['teacher'].x = torch.rand(size=(len(teachers), EMBED_SIZE))\n",
        "# data['concept'].x = torch.rand(size=(len(concepts), EMBED_SIZE))\n"
      ]
    },
    {
      "cell_type": "code",
      "execution_count": 69,
      "metadata": {
        "id": "ciibOY_XQ-9z"
      },
      "outputs": [],
      "source": [
        "data['user', 'enroll', 'course'].edge_index = edge_index_user_to_course\n",
        "data['course', 'course_school', 'school'].edge_index = edge_index_course_to_school\n",
        "data['course', 'course_teacher', 'teacher'].edge_index = edge_index_course_to_teacher\n",
        "data['course', 'course_concept', 'concept'].edge_index = edge_index_course_to_concept"
      ]
    },
    {
      "cell_type": "code",
      "execution_count": 70,
      "metadata": {
        "id": "Yp9LI2rCQ-90"
      },
      "outputs": [],
      "source": [
        "data = T.ToUndirected()(data)"
      ]
    },
    {
      "cell_type": "code",
      "execution_count": 71,
      "metadata": {
        "colab": {
          "base_uri": "https://localhost:8080/"
        },
        "id": "v82UU3jdQ-90",
        "outputId": "47de32f6-3478-4fe4-ae38-d843fa1af101"
      },
      "outputs": [
        {
          "data": {
            "text/plain": [
              "HeteroData(\n",
              "  user={ node_id=[6548] },\n",
              "  course={ node_id=[687] },\n",
              "  school={ node_id=[150] },\n",
              "  teacher={ node_id=[1683] },\n",
              "  concept={ node_id=[3180] },\n",
              "  (user, enroll, course)={ edge_index=[2, 75597] },\n",
              "  (course, course_school, school)={ edge_index=[2, 687] },\n",
              "  (course, course_teacher, teacher)={ edge_index=[2, 2284] },\n",
              "  (course, course_concept, concept)={ edge_index=[2, 103497] },\n",
              "  (course, rev_enroll, user)={ edge_index=[2, 75597] },\n",
              "  (school, rev_course_school, course)={ edge_index=[2, 687] },\n",
              "  (teacher, rev_course_teacher, course)={ edge_index=[2, 2284] },\n",
              "  (concept, rev_course_concept, course)={ edge_index=[2, 103497] }\n",
              ")"
            ]
          },
          "execution_count": 71,
          "metadata": {},
          "output_type": "execute_result"
        }
      ],
      "source": [
        "data"
      ]
    },
    {
      "cell_type": "code",
      "execution_count": 72,
      "metadata": {
        "id": "kGx6ULEKQ-90"
      },
      "outputs": [],
      "source": [
        "transform = T.RandomLinkSplit(\n",
        "    num_val=0,\n",
        "    num_test=0,\n",
        "    disjoint_train_ratio=0.0,\n",
        "    neg_sampling_ratio=2,\n",
        "    add_negative_train_samples=False,\n",
        "    edge_types=('user', 'enroll', 'course'),\n",
        "    rev_edge_types=('course', 'rev_enroll', 'user')\n",
        ")\n",
        "\n",
        "train_data, val_data, test_data = transform(data)\n",
        "#train_data = data"
      ]
    },
    {
      "cell_type": "code",
      "execution_count": 18,
      "metadata": {
        "colab": {
          "base_uri": "https://localhost:8080/"
        },
        "id": "75-tXqUIh8rl",
        "outputId": "42c257a1-b907-4c5d-8bb3-6c775b759cc4"
      },
      "outputs": [
        {
          "data": {
            "text/plain": [
              "HeteroData(\n",
              "  user={ node_id=[6548] },\n",
              "  course={ node_id=[687] },\n",
              "  school={ node_id=[150] },\n",
              "  teacher={ node_id=[1683] },\n",
              "  concept={ node_id=[3180] },\n",
              "  (user, enroll, course)={\n",
              "    edge_index=[2, 75597],\n",
              "    edge_label=[75597],\n",
              "    edge_label_index=[2, 75597],\n",
              "  },\n",
              "  (course, course_school, school)={ edge_index=[2, 687] },\n",
              "  (course, course_teacher, teacher)={ edge_index=[2, 2284] },\n",
              "  (course, course_concept, concept)={ edge_index=[2, 103497] },\n",
              "  (course, rev_enroll, user)={ edge_index=[2, 75597] },\n",
              "  (school, rev_course_school, course)={ edge_index=[2, 687] },\n",
              "  (teacher, rev_course_teacher, course)={ edge_index=[2, 2284] },\n",
              "  (concept, rev_course_concept, course)={ edge_index=[2, 103497] }\n",
              ")"
            ]
          },
          "execution_count": 18,
          "metadata": {},
          "output_type": "execute_result"
        }
      ],
      "source": [
        "train_data"
      ]
    },
    {
      "cell_type": "code",
      "execution_count": 19,
      "metadata": {
        "colab": {
          "base_uri": "https://localhost:8080/"
        },
        "id": "hQ7fdKNKQ-90",
        "outputId": "9adc0348-6637-44fa-efcf-d77b897bb74a"
      },
      "outputs": [
        {
          "data": {
            "text/plain": [
              "(75597, tensor(75597.))"
            ]
          },
          "execution_count": 19,
          "metadata": {},
          "output_type": "execute_result"
        }
      ],
      "source": [
        "len(train_data['user', 'enroll', 'course'].edge_label),train_data['user', 'enroll', 'course'].edge_label.sum()"
      ]
    },
    {
      "cell_type": "code",
      "execution_count": 73,
      "metadata": {
        "id": "NXtGm6d2Q-90"
      },
      "outputs": [],
      "source": [
        "edge_label_index = train_data['user', 'enroll', 'course'].edge_label_index\n",
        "edge_label = train_data['user', 'enroll', 'course'].edge_label"
      ]
    },
    {
      "cell_type": "code",
      "execution_count": 21,
      "metadata": {
        "id": "RqawM-cMQ-90"
      },
      "outputs": [],
      "source": [
        "train_loader = LinkNeighborLoader(\n",
        "    data=train_data,\n",
        "    num_neighbors={('course', 'course_school', 'school'):[2 ,2],\n",
        " ('course', 'course_teacher', 'teacher'):[2 ,2],\n",
        " ('course', 'course_concept', 'concept'):[7,7],\n",
        "                   ('user', 'enroll', 'course'):[1,0],\n",
        "                   ('course', 'rev_enroll', 'user'):[0,0],\n",
        " ('school', 'rev_course_school', 'course'):[2 ,2],\n",
        " ('teacher', 'rev_course_teacher', 'course'):[2 ,2],\n",
        " ('concept', 'rev_course_concept', 'course'):[7,7]},\n",
        "    neg_sampling_ratio=2.0,\n",
        "    edge_label_index=(('user', 'enroll', 'course'), edge_label_index),\n",
        "    edge_label=edge_label,\n",
        "    batch_size=128,\n",
        "    shuffle=True\n",
        ")"
      ]
    },
    {
      "cell_type": "code",
      "execution_count": 23,
      "metadata": {
        "id": "tm1ptk6AtTSr"
      },
      "outputs": [],
      "source": [
        "sampled_data = next(iter(train_loader))"
      ]
    },
    {
      "cell_type": "code",
      "execution_count": null,
      "metadata": {
        "colab": {
          "base_uri": "https://localhost:8080/",
          "height": 1000
        },
        "id": "WH1rF2qtT09P",
        "outputId": "b055f4ab-c974-4ce6-ad46-d147c5e5bc48"
      },
      "outputs": [],
      "source": [
        "import networkx as nx\n",
        "from matplotlib import pyplot as plt\n",
        "from torch_geometric.nn import to_hetero\n",
        "from torch_geometric.utils import to_networkx\n",
        "\n",
        "hom = sampled_data.to_homogeneous()\n",
        "g = to_networkx(hom)\n",
        "# Networkx seems to create extra nodes from our heterogeneous graph, so I remove them\n",
        "isolated_nodes = [node for node in g.nodes() if g.out_degree(node) == 0]\n",
        "#[g.remove_node(i_n) for i_n in isolated_nodes]\n",
        "# Plot the graph\n",
        "fig, ax = plt.subplots(dpi=300, figsize=(20, 20))\n",
        "nx.draw(g, pos=nx.spring_layout(g), with_labels=True, node_color=hom.node_type, ax =ax)\n",
        "plt.show()"
      ]
    },
    {
      "cell_type": "code",
      "execution_count": 74,
      "metadata": {
        "id": "7dZAyd2yQ-91"
      },
      "outputs": [],
      "source": [
        "class GNN(torch.nn.Module):\n",
        "    def __init__(self, hidden_channels):\n",
        "        super().__init__()\n",
        "\n",
        "        self.conv1 = SAGEConv(hidden_channels, hidden_channels)\n",
        "        self.conv2 = SAGEConv(hidden_channels, hidden_channels)\n",
        "\n",
        "    def forward(self, x: Tensor, edge_index: Tensor):\n",
        "        print(x)\n",
        "        x = F.relu(self.conv1(x, edge_index))\n",
        "        x = self.conv2(x, edge_index)\n",
        "        return x\n",
        "\n",
        "class Classifier(torch.nn.Module):\n",
        "    def forward(self, x_user: Tensor, x_course: Tensor, edge_label_index: Tensor) -> Tensor:\n",
        "        edge_feat_user = x_user[edge_label_index[0]]\n",
        "        edge_feat_course = x_course[edge_label_index[1]]\n",
        "\n",
        "        return (edge_feat_user * edge_feat_course).sum(dim=-1)\n",
        "\n",
        "\n",
        "class GNNSimple(torch.nn.Module):\n",
        "    def __init__(self, hidden_channels):\n",
        "        super().__init__()\n",
        "\n",
        "        self.conv1 = SAGEConv(hidden_channels, hidden_channels)\n",
        "\n",
        "    def forward(self, x: Tensor, edge_index: Tensor):\n",
        "        print(x)\n",
        "        x = self.conv1(x, edge_index)\n",
        "        return x\n"
      ]
    },
    {
      "cell_type": "code",
      "execution_count": 75,
      "metadata": {
        "id": "B5_AS1ZMQ-91"
      },
      "outputs": [],
      "source": [
        "class Model(torch.nn.Module):\n",
        "    def __init__(self, hidden_channels):\n",
        "        super().__init__()\n",
        "        self.user_emb = torch.nn.Embedding(data[\"user\"].num_nodes, hidden_channels)\n",
        "        self.course_emb = torch.nn.Embedding(data[\"course\"].num_nodes, hidden_channels)\n",
        "        self.concept_emb = torch.nn.Embedding(data[\"concept\"].num_nodes, hidden_channels)\n",
        "        self.school_emb = torch.nn.Embedding(data[\"school\"].num_nodes, hidden_channels)\n",
        "        self.teacher_emb = torch.nn.Embedding(data[\"teacher\"].num_nodes, hidden_channels)\n",
        "\n",
        "        # Instantiate homogeneous GNN:\n",
        "        self.gnn = GNN(hidden_channels)\n",
        "\n",
        "        # Convert GNN model into a heterogeneous variant:\n",
        "        self.gnn = to_hetero(self.gnn, metadata=data.metadata())\n",
        "\n",
        "        self.classifier = Classifier()\n",
        "\n",
        "    def forward(self, data: HeteroData) -> Tensor:\n",
        "        x_dict = {\n",
        "          \"user\": self.user_emb(data[\"user\"].node_id),\n",
        "          \"course\": self.course_emb(data[\"course\"].node_id),\n",
        "          'concept': self.concept_emb(data['concept'].node_id),\n",
        "          'school': self.school_emb(data['school'].node_id),\n",
        "          'teacher': self.teacher_emb(data['teacher'].node_id)\n",
        "        }\n",
        "\n",
        "        # `x_dict` holds feature matrices of all node types\n",
        "        # `edge_index_dict` holds all edge indices of all edge types\n",
        "        x_dict = self.gnn(x_dict, data.edge_index_dict)\n",
        "\n",
        "        pred = self.classifier(\n",
        "            x_dict[\"user\"],\n",
        "            x_dict[\"course\"],\n",
        "            data[\"user\", \"enroll\", \"course\"].edge_label_index,\n",
        "        )\n",
        "\n",
        "        return pred"
      ]
    },
    {
      "cell_type": "code",
      "execution_count": 76,
      "metadata": {
        "id": "UOm3frgoK27_"
      },
      "outputs": [],
      "source": [
        "class ModelSimple(torch.nn.Module):\n",
        "    def __init__(self, hidden_channels):\n",
        "        super().__init__()\n",
        "        self.user_emb = torch.nn.Embedding(data[\"user\"].num_nodes, hidden_channels)\n",
        "        self.course_emb = torch.nn.Embedding(data[\"course\"].num_nodes, hidden_channels)\n",
        "        self.concept_emb = torch.nn.Embedding(data[\"concept\"].num_nodes, hidden_channels)\n",
        "        self.school_emb = torch.nn.Embedding(data[\"school\"].num_nodes, hidden_channels)\n",
        "        self.teacher_emb = torch.nn.Embedding(data[\"teacher\"].num_nodes, hidden_channels)\n",
        "\n",
        "        # Instantiate homogeneous GNN:\n",
        "        self.gnn = GNNSimple(hidden_channels)\n",
        "\n",
        "        # Convert GNN model into a heterogeneous variant:\n",
        "        self.gnn = to_hetero(self.gnn, metadata=data.metadata())\n",
        "\n",
        "        self.classifier = Classifier()\n",
        "\n",
        "    def forward(self, data: HeteroData) -> Tensor:\n",
        "        x_dict = {\n",
        "          \"user\": self.user_emb(data[\"user\"].node_id),\n",
        "          \"course\": self.course_emb(data[\"course\"].node_id),\n",
        "          'concept': self.concept_emb(data['concept'].node_id),\n",
        "          'school': self.school_emb(data['school'].node_id),\n",
        "          'teacher': self.teacher_emb(data['teacher'].node_id)\n",
        "        }\n",
        "\n",
        "        # `x_dict` holds feature matrices of all node types\n",
        "        # `edge_index_dict` holds all edge indices of all edge types\n",
        "        x_dict = self.gnn(x_dict, data.edge_index_dict)\n",
        "\n",
        "        pred = self.classifier(\n",
        "            x_dict[\"user\"],\n",
        "            x_dict[\"course\"],\n",
        "            data[\"user\", \"enroll\", \"course\"].edge_label_index,\n",
        "        )\n",
        "\n",
        "        return pred"
      ]
    },
    {
      "cell_type": "code",
      "execution_count": 40,
      "metadata": {
        "colab": {
          "base_uri": "https://localhost:8080/"
        },
        "id": "IS-dukOHQ-91",
        "outputId": "ed23eec8-96d6-48ca-ad30-5c0e553bd767"
      },
      "outputs": [
        {
          "name": "stdout",
          "output_type": "stream",
          "text": [
            "Proxy(x)\n"
          ]
        }
      ],
      "source": [
        "model = Model(hidden_channels=EMBED_SIZE)"
      ]
    },
    {
      "cell_type": "code",
      "execution_count": 77,
      "metadata": {
        "colab": {
          "base_uri": "https://localhost:8080/"
        },
        "id": "7N37ALarQ-91",
        "outputId": "ffbac250-dbfb-4356-f35b-324b41e223ee"
      },
      "outputs": [
        {
          "name": "stdout",
          "output_type": "stream",
          "text": [
            "Device: cpu\n"
          ]
        }
      ],
      "source": [
        "device = torch.device('cuda' if torch.cuda.is_available() else 'cpu')\n",
        "print(f'Device: {device}')\n",
        "\n",
        "#model = model.to(device)\n",
        "#optimizer = torch.optim.Adam(model.parameters(), lr=0.001)\n",
        "#num_epochs = 10"
      ]
    },
    {
      "cell_type": "code",
      "execution_count": 84,
      "metadata": {
        "id": "YNFOIAiTQ-91"
      },
      "outputs": [],
      "source": [
        "def train(model, num_epochs, lr):\n",
        "  model = model.to(device)\n",
        "  optimizer = torch.optim.Adam(model.parameters(), lr=lr)\n",
        "  model.train()\n",
        "\n",
        "\n",
        "  for epoch in range(num_epochs):\n",
        "      total_loss = total_examples = 0\n",
        "\n",
        "      for sampled_data in tqdm.tqdm(train_loader):\n",
        "          optimizer.zero_grad()\n",
        "          sampled_data.to(device)\n",
        "          pred = model(sampled_data)\n",
        "          ground_truth = sampled_data['user', 'enroll', 'course'].edge_label\n",
        "          loss = F.binary_cross_entropy_with_logits(pred, ground_truth)\n",
        "          loss.backward()\n",
        "          optimizer.step()\n",
        "          total_loss += float(loss) * pred.numel()\n",
        "          total_examples += pred.numel()\n",
        "      print(f\"Epoch: {epoch:03d}, Loss: {total_loss / total_examples:.4f}\")\n",
        "    # if epoch % 10 == 0:\n",
        "    #     torch.save(model.state_dict(), f'./model_train/model_ep_{epoch}')\n"
      ]
    },
    {
      "cell_type": "code",
      "execution_count": 78,
      "metadata": {
        "id": "PBduj04AQ-92"
      },
      "outputs": [],
      "source": [
        "train_records = {u: set() for u in range(len(users))}\n",
        "test_records = {u: set() for u in range(len(users))}\n",
        "\n",
        "with open('./gnn_rel/train.txt', 'r') as f:\n",
        "    lines = [l.strip() for l in f.readlines()]\n",
        "    for line in lines:\n",
        "        user_course = line.split('\\t')\n",
        "\n",
        "        user = user_course[0]\n",
        "        course = user_course[1]\n",
        "\n",
        "        train_records[int(user)].add(int(course))\n",
        "\n",
        "\n",
        "with open('./gnn_rel/test.txt', 'r') as f:\n",
        "    lines = [l.strip() for l in f.readlines()]\n",
        "    for line in lines:\n",
        "        user_course = line.split('\\t')\n",
        "\n",
        "        user = user_course[0]\n",
        "        course = user_course[1]\n",
        "\n",
        "        test_records[int(user)].add(int(course))"
      ]
    },
    {
      "cell_type": "code",
      "execution_count": 57,
      "metadata": {
        "colab": {
          "base_uri": "https://localhost:8080/"
        },
        "id": "3WPXV1HKQ-92",
        "outputId": "3965a8fa-b541-40a7-cb61-4a9c658cc5f8"
      },
      "outputs": [
        {
          "data": {
            "text/plain": [
              "Model(\n",
              "  (user_emb): Embedding(6548, 16)\n",
              "  (course_emb): Embedding(687, 16)\n",
              "  (concept_emb): Embedding(3180, 16)\n",
              "  (school_emb): Embedding(150, 16)\n",
              "  (teacher_emb): Embedding(1683, 16)\n",
              "  (gnn): GraphModule(\n",
              "    (conv1): ModuleDict(\n",
              "      (user__enroll__course): SAGEConv(16, 16, aggr=mean)\n",
              "      (course__course_school__school): SAGEConv(16, 16, aggr=mean)\n",
              "      (course__course_teacher__teacher): SAGEConv(16, 16, aggr=mean)\n",
              "      (course__course_concept__concept): SAGEConv(16, 16, aggr=mean)\n",
              "      (course__rev_enroll__user): SAGEConv(16, 16, aggr=mean)\n",
              "      (school__rev_course_school__course): SAGEConv(16, 16, aggr=mean)\n",
              "      (teacher__rev_course_teacher__course): SAGEConv(16, 16, aggr=mean)\n",
              "      (concept__rev_course_concept__course): SAGEConv(16, 16, aggr=mean)\n",
              "    )\n",
              "    (conv2): ModuleDict(\n",
              "      (user__enroll__course): SAGEConv(16, 16, aggr=mean)\n",
              "      (course__course_school__school): SAGEConv(16, 16, aggr=mean)\n",
              "      (course__course_teacher__teacher): SAGEConv(16, 16, aggr=mean)\n",
              "      (course__course_concept__concept): SAGEConv(16, 16, aggr=mean)\n",
              "      (course__rev_enroll__user): SAGEConv(16, 16, aggr=mean)\n",
              "      (school__rev_course_school__course): SAGEConv(16, 16, aggr=mean)\n",
              "      (teacher__rev_course_teacher__course): SAGEConv(16, 16, aggr=mean)\n",
              "      (concept__rev_course_concept__course): SAGEConv(16, 16, aggr=mean)\n",
              "    )\n",
              "  )\n",
              "  (classifier): Classifier()\n",
              ")"
            ]
          },
          "execution_count": 57,
          "metadata": {},
          "output_type": "execute_result"
        }
      ],
      "source": [
        "model.cpu()"
      ]
    },
    {
      "cell_type": "code",
      "execution_count": 79,
      "metadata": {
        "colab": {
          "base_uri": "https://localhost:8080/"
        },
        "id": "PB7fPvEr0PK8",
        "outputId": "4ff8ad72-5370-4ad3-b459-26b2611efbaf"
      },
      "outputs": [
        {
          "name": "stdout",
          "output_type": "stream",
          "text": [
            "torch.Size([4498476, 2])\n"
          ]
        },
        {
          "data": {
            "text/plain": [
              "tensor([ 0, 20])"
            ]
          },
          "execution_count": 79,
          "metadata": {},
          "output_type": "execute_result"
        }
      ],
      "source": [
        "all_enrolls = torch.tensor([[x,y] for x in range(len(users)) for y in range(len(courses))])\n",
        "print(all_enrolls.shape)\n",
        "all_enrolls = torch.transpose(all_enrolls, 1, 0)\n",
        "all_enrolls[:, 20]"
      ]
    },
    {
      "cell_type": "code",
      "execution_count": 80,
      "metadata": {
        "id": "28ibaEeD0Des"
      },
      "outputs": [],
      "source": [
        "data_modif = data.clone()\n",
        "data_modif['user', 'enroll', 'course']['edge_label_index'] = all_enrolls"
      ]
    },
    {
      "cell_type": "code",
      "execution_count": 48,
      "metadata": {
        "colab": {
          "base_uri": "https://localhost:8080/"
        },
        "id": "R5M0t6hg3eHG",
        "outputId": "abdf5c40-b5db-4001-9892-3cf0d1d3e361"
      },
      "outputs": [
        {
          "data": {
            "text/plain": [
              "HeteroData(\n",
              "  user={ node_id=[6548] },\n",
              "  course={ node_id=[687] },\n",
              "  school={ node_id=[150] },\n",
              "  teacher={ node_id=[1683] },\n",
              "  concept={ node_id=[3180] },\n",
              "  (user, enroll, course)={\n",
              "    edge_index=[2, 75597],\n",
              "    edge_label_index=[2, 4498476],\n",
              "  },\n",
              "  (course, course_school, school)={ edge_index=[2, 687] },\n",
              "  (course, course_teacher, teacher)={ edge_index=[2, 2284] },\n",
              "  (course, course_concept, concept)={ edge_index=[2, 103497] },\n",
              "  (course, rev_enroll, user)={ edge_index=[2, 75597] },\n",
              "  (school, rev_course_school, course)={ edge_index=[2, 687] },\n",
              "  (teacher, rev_course_teacher, course)={ edge_index=[2, 2284] },\n",
              "  (concept, rev_course_concept, course)={ edge_index=[2, 103497] }\n",
              ")"
            ]
          },
          "execution_count": 48,
          "metadata": {},
          "output_type": "execute_result"
        }
      ],
      "source": [
        "data_modif"
      ]
    },
    {
      "cell_type": "code",
      "execution_count": 87,
      "metadata": {
        "id": "TORYdztrQ-92"
      },
      "outputs": [],
      "source": [
        "# Recommender - evaluation:\n",
        "\n",
        "def evaluate():\n",
        "\n",
        "  model.eval()\n",
        "\n",
        "  item_embeds = model.course_emb\n",
        "  user_embeds = model.user_emb\n",
        "\n",
        "  item_set = set(data['course'].node_id.numpy())\n",
        "  user_set = set(data['user'].node_id.numpy())\n",
        "\n",
        "  k = 10\n",
        "  scores = model(data_modif)\n",
        "\n",
        "  precisions, recalls, ndcgs, hit = [], [], [], []\n",
        "  for n, user in enumerate(user_set):\n",
        "      test_item_list = list(item_set - train_records[user])\n",
        "      item_score_map = {}\n",
        "\n",
        "      user_scores = scores[n*len(courses):(n+1)*len(courses)]\n",
        "      scores_test = user_scores[test_item_list]\n",
        "\n",
        "      for i, s in zip(test_item_list, scores_test):\n",
        "          item_score_map[i] = s.item()\n",
        "\n",
        "      item_score_pair_sorted = sorted(item_score_map.items(), key=lambda x: x[1], reverse=True)\n",
        "      item_sorted = [i[0] for i in item_score_pair_sorted]\n",
        "\n",
        "      dcg = 0.0\n",
        "      for i in item_sorted:\n",
        "          if i in test_records[user]:\n",
        "              dcg += 1. / (np.log(i + 2) / np.log(2))\n",
        "      idcg = 0.0\n",
        "      for i in range(min(len(item_sorted), len(test_records[user]))):\n",
        "          idcg += 1. / (np.log(i + 2) / np.log(2))\n",
        "      ndcg = dcg / idcg\n",
        "\n",
        "      hit_num = len(set(item_sorted[:k]) & test_records[user])\n",
        "      precisions.append(hit_num / k)\n",
        "      recalls.append(hit_num / len(test_records[user]))\n",
        "      ndcgs.append(ndcg)\n",
        "\n",
        "\n",
        "  print(f'precision: {np.mean(precisions)}')\n",
        "  print(f'recall: {np.mean(recalls)}')\n",
        "  print(f'ndcg: {np.mean(ndcgs)}')\n"
      ]
    },
    {
      "cell_type": "code",
      "execution_count": 81,
      "metadata": {
        "id": "fAk38IU71ke3"
      },
      "outputs": [],
      "source": [
        "def getLoader(num_neg, num_neighbors):\n",
        "  return LinkNeighborLoader(\n",
        "    data=train_data,\n",
        "    num_neighbors=num_neighbors,\n",
        "    neg_sampling_ratio=num_neg,\n",
        "    edge_label_index=(('user', 'enroll', 'course'), edge_label_index),\n",
        "    edge_label=edge_label,\n",
        "    batch_size=128,\n",
        "    shuffle=True\n",
        ")"
      ]
    },
    {
      "cell_type": "code",
      "execution_count": 82,
      "metadata": {
        "id": "_dKONCWYQ-92"
      },
      "outputs": [],
      "source": [
        "neighbours_params = [{('course', 'course_school', 'school'):[2 ,2],\n",
        " ('course', 'course_teacher', 'teacher'):[2 ,2],\n",
        " ('course', 'course_concept', 'concept'):[7,7],\n",
        "                   ('user', 'enroll', 'course'):[1,0],\n",
        "                   ('course', 'rev_enroll', 'user'):[0,0],\n",
        " ('school', 'rev_course_school', 'course'):[2 ,2],\n",
        " ('teacher', 'rev_course_teacher', 'course'):[2 ,2],\n",
        " ('concept', 'rev_course_concept', 'course'):[7,7]},\n",
        "\n",
        "{('course', 'course_school', 'school'):[2 ,2],\n",
        " ('course', 'course_teacher', 'teacher'):[2 ,2],\n",
        " ('course', 'course_concept', 'concept'):[10,10],\n",
        "                   ('user', 'enroll', 'course'):[1,0],\n",
        "                   ('course', 'rev_enroll', 'user'):[0,0],\n",
        " ('school', 'rev_course_school', 'course'):[2 ,2],\n",
        " ('teacher', 'rev_course_teacher', 'course'):[2 ,2],\n",
        " ('concept', 'rev_course_concept', 'course'):[10,10]},\n",
        "\n",
        "  {('course', 'course_school', 'school'):[2 ,2],\n",
        " ('course', 'course_teacher', 'teacher'):[2 ,2],\n",
        " ('course', 'course_concept', 'concept'):[13,13],\n",
        "('user', 'enroll', 'course'):[1,0],\n",
        "('course', 'rev_enroll', 'user'):[0,0],\n",
        " ('school', 'rev_course_school', 'course'):[2 ,2],\n",
        " ('teacher', 'rev_course_teacher', 'course'):[2 ,2],\n",
        " ('concept', 'rev_course_concept', 'course'):[13,13]}]"
      ]
    },
    {
      "cell_type": "code",
      "execution_count": null,
      "metadata": {
        "colab": {
          "base_uri": "https://localhost:8080/"
        },
        "id": "dUoosXhKQ-92",
        "outputId": "e8146030-2daa-4509-8c84-e568d63249eb"
      },
      "outputs": [
        {
          "name": "stdout",
          "output_type": "stream",
          "text": [
            "Proxy(x)\n",
            "embed_size: 16, model: <class '__main__.Model'>, sampled_neighbours: {('course', 'course_school', 'school'): [2, 2], ('course', 'course_teacher', 'teacher'): [2, 2], ('course', 'course_concept', 'concept'): [7, 7], ('user', 'enroll', 'course'): [1, 0], ('course', 'rev_enroll', 'user'): [0, 0], ('school', 'rev_course_school', 'course'): [2, 2], ('teacher', 'rev_course_teacher', 'course'): [2, 2], ('concept', 'rev_course_concept', 'course'): [7, 7]}, num_negative_samples: 1.0, lr: 0.001\n"
          ]
        },
        {
          "name": "stderr",
          "output_type": "stream",
          "text": [
            "100%|██████████| 591/591 [00:12<00:00, 47.65it/s]\n"
          ]
        },
        {
          "name": "stdout",
          "output_type": "stream",
          "text": [
            "Epoch: 000, Loss: 0.5714\n"
          ]
        },
        {
          "name": "stderr",
          "output_type": "stream",
          "text": [
            "100%|██████████| 591/591 [00:12<00:00, 46.79it/s]\n"
          ]
        },
        {
          "name": "stdout",
          "output_type": "stream",
          "text": [
            "Epoch: 001, Loss: 0.4908\n"
          ]
        },
        {
          "name": "stderr",
          "output_type": "stream",
          "text": [
            "100%|██████████| 591/591 [00:13<00:00, 44.41it/s]\n"
          ]
        },
        {
          "name": "stdout",
          "output_type": "stream",
          "text": [
            "Epoch: 002, Loss: 0.4772\n"
          ]
        },
        {
          "name": "stderr",
          "output_type": "stream",
          "text": [
            "100%|██████████| 591/591 [00:13<00:00, 43.94it/s]\n"
          ]
        },
        {
          "name": "stdout",
          "output_type": "stream",
          "text": [
            "Epoch: 003, Loss: 0.4699\n"
          ]
        },
        {
          "name": "stderr",
          "output_type": "stream",
          "text": [
            "100%|██████████| 591/591 [00:13<00:00, 44.05it/s]\n"
          ]
        },
        {
          "name": "stdout",
          "output_type": "stream",
          "text": [
            "Epoch: 004, Loss: 0.4623\n"
          ]
        },
        {
          "name": "stderr",
          "output_type": "stream",
          "text": [
            "100%|██████████| 591/591 [00:13<00:00, 43.86it/s]\n"
          ]
        },
        {
          "name": "stdout",
          "output_type": "stream",
          "text": [
            "Epoch: 005, Loss: 0.4531\n"
          ]
        },
        {
          "name": "stderr",
          "output_type": "stream",
          "text": [
            "100%|██████████| 591/591 [00:13<00:00, 44.47it/s]\n"
          ]
        },
        {
          "name": "stdout",
          "output_type": "stream",
          "text": [
            "Epoch: 006, Loss: 0.4459\n"
          ]
        },
        {
          "name": "stderr",
          "output_type": "stream",
          "text": [
            "100%|██████████| 591/591 [00:13<00:00, 44.81it/s]\n"
          ]
        },
        {
          "name": "stdout",
          "output_type": "stream",
          "text": [
            "Epoch: 007, Loss: 0.4381\n"
          ]
        },
        {
          "name": "stderr",
          "output_type": "stream",
          "text": [
            "100%|██████████| 591/591 [00:12<00:00, 45.92it/s]\n"
          ]
        },
        {
          "name": "stdout",
          "output_type": "stream",
          "text": [
            "Epoch: 008, Loss: 0.4333\n"
          ]
        },
        {
          "name": "stderr",
          "output_type": "stream",
          "text": [
            "100%|██████████| 591/591 [00:12<00:00, 47.47it/s]\n"
          ]
        },
        {
          "name": "stdout",
          "output_type": "stream",
          "text": [
            "Epoch: 009, Loss: 0.4293\n",
            "precision: 0.017577886377519853\n",
            "recall: 0.05779379731243119\n",
            "ndcg: 0.24016528656886124\n",
            "Proxy(x)\n",
            "embed_size: 16, model: <class '__main__.Model'>, sampled_neighbours: {('course', 'course_school', 'school'): [2, 2], ('course', 'course_teacher', 'teacher'): [2, 2], ('course', 'course_concept', 'concept'): [7, 7], ('user', 'enroll', 'course'): [1, 0], ('course', 'rev_enroll', 'user'): [0, 0], ('school', 'rev_course_school', 'course'): [2, 2], ('teacher', 'rev_course_teacher', 'course'): [2, 2], ('concept', 'rev_course_concept', 'course'): [7, 7]}, num_negative_samples: 1.0, lr: 0.005\n"
          ]
        },
        {
          "name": "stderr",
          "output_type": "stream",
          "text": [
            "100%|██████████| 591/591 [00:13<00:00, 45.46it/s]\n"
          ]
        },
        {
          "name": "stdout",
          "output_type": "stream",
          "text": [
            "Epoch: 000, Loss: 0.5181\n"
          ]
        },
        {
          "name": "stderr",
          "output_type": "stream",
          "text": [
            "100%|██████████| 591/591 [00:12<00:00, 46.27it/s]\n"
          ]
        },
        {
          "name": "stdout",
          "output_type": "stream",
          "text": [
            "Epoch: 001, Loss: 0.4685\n"
          ]
        },
        {
          "name": "stderr",
          "output_type": "stream",
          "text": [
            "100%|██████████| 591/591 [00:13<00:00, 44.86it/s]\n"
          ]
        },
        {
          "name": "stdout",
          "output_type": "stream",
          "text": [
            "Epoch: 002, Loss: 0.4491\n"
          ]
        },
        {
          "name": "stderr",
          "output_type": "stream",
          "text": [
            "100%|██████████| 591/591 [00:13<00:00, 43.72it/s]\n"
          ]
        },
        {
          "name": "stdout",
          "output_type": "stream",
          "text": [
            "Epoch: 003, Loss: 0.4354\n"
          ]
        },
        {
          "name": "stderr",
          "output_type": "stream",
          "text": [
            "100%|██████████| 591/591 [00:13<00:00, 43.87it/s]\n"
          ]
        },
        {
          "name": "stdout",
          "output_type": "stream",
          "text": [
            "Epoch: 004, Loss: 0.4300\n"
          ]
        },
        {
          "name": "stderr",
          "output_type": "stream",
          "text": [
            "100%|██████████| 591/591 [00:13<00:00, 43.42it/s]\n"
          ]
        },
        {
          "name": "stdout",
          "output_type": "stream",
          "text": [
            "Epoch: 005, Loss: 0.4243\n"
          ]
        },
        {
          "name": "stderr",
          "output_type": "stream",
          "text": [
            "100%|██████████| 591/591 [00:13<00:00, 44.04it/s]\n"
          ]
        },
        {
          "name": "stdout",
          "output_type": "stream",
          "text": [
            "Epoch: 006, Loss: 0.4217\n"
          ]
        },
        {
          "name": "stderr",
          "output_type": "stream",
          "text": [
            "100%|██████████| 591/591 [00:13<00:00, 44.19it/s]\n"
          ]
        },
        {
          "name": "stdout",
          "output_type": "stream",
          "text": [
            "Epoch: 007, Loss: 0.4179\n"
          ]
        },
        {
          "name": "stderr",
          "output_type": "stream",
          "text": [
            "100%|██████████| 591/591 [00:13<00:00, 44.19it/s]\n"
          ]
        },
        {
          "name": "stdout",
          "output_type": "stream",
          "text": [
            "Epoch: 008, Loss: 0.4125\n"
          ]
        },
        {
          "name": "stderr",
          "output_type": "stream",
          "text": [
            "100%|██████████| 591/591 [00:13<00:00, 43.50it/s]\n"
          ]
        },
        {
          "name": "stdout",
          "output_type": "stream",
          "text": [
            "Epoch: 009, Loss: 0.4078\n",
            "precision: 0.0061392791692119735\n",
            "recall: 0.021358925660811733\n",
            "ndcg: 0.24016528656886124\n",
            "Proxy(x)\n",
            "embed_size: 16, model: <class '__main__.Model'>, sampled_neighbours: {('course', 'course_school', 'school'): [2, 2], ('course', 'course_teacher', 'teacher'): [2, 2], ('course', 'course_concept', 'concept'): [7, 7], ('user', 'enroll', 'course'): [1, 0], ('course', 'rev_enroll', 'user'): [0, 0], ('school', 'rev_course_school', 'course'): [2, 2], ('teacher', 'rev_course_teacher', 'course'): [2, 2], ('concept', 'rev_course_concept', 'course'): [7, 7]}, num_negative_samples: 1.0, lr: 0.01\n"
          ]
        },
        {
          "name": "stderr",
          "output_type": "stream",
          "text": [
            "100%|██████████| 591/591 [00:12<00:00, 46.49it/s]\n"
          ]
        },
        {
          "name": "stdout",
          "output_type": "stream",
          "text": [
            "Epoch: 000, Loss: 0.5039\n"
          ]
        },
        {
          "name": "stderr",
          "output_type": "stream",
          "text": [
            "100%|██████████| 591/591 [00:12<00:00, 47.49it/s]\n"
          ]
        },
        {
          "name": "stdout",
          "output_type": "stream",
          "text": [
            "Epoch: 001, Loss: 0.4681\n"
          ]
        },
        {
          "name": "stderr",
          "output_type": "stream",
          "text": [
            "100%|██████████| 591/591 [00:12<00:00, 46.85it/s]\n"
          ]
        },
        {
          "name": "stdout",
          "output_type": "stream",
          "text": [
            "Epoch: 002, Loss: 0.4585\n"
          ]
        },
        {
          "name": "stderr",
          "output_type": "stream",
          "text": [
            "100%|██████████| 591/591 [00:13<00:00, 44.20it/s]\n"
          ]
        },
        {
          "name": "stdout",
          "output_type": "stream",
          "text": [
            "Epoch: 003, Loss: 0.4499\n"
          ]
        },
        {
          "name": "stderr",
          "output_type": "stream",
          "text": [
            "100%|██████████| 591/591 [00:13<00:00, 44.38it/s]\n"
          ]
        },
        {
          "name": "stdout",
          "output_type": "stream",
          "text": [
            "Epoch: 004, Loss: 0.4437\n"
          ]
        },
        {
          "name": "stderr",
          "output_type": "stream",
          "text": [
            "100%|██████████| 591/591 [00:13<00:00, 43.57it/s]\n"
          ]
        },
        {
          "name": "stdout",
          "output_type": "stream",
          "text": [
            "Epoch: 005, Loss: 0.4412\n"
          ]
        },
        {
          "name": "stderr",
          "output_type": "stream",
          "text": [
            "100%|██████████| 591/591 [00:13<00:00, 43.93it/s]\n"
          ]
        },
        {
          "name": "stdout",
          "output_type": "stream",
          "text": [
            "Epoch: 006, Loss: 0.4380\n"
          ]
        },
        {
          "name": "stderr",
          "output_type": "stream",
          "text": [
            "100%|██████████| 591/591 [00:13<00:00, 43.99it/s]\n"
          ]
        },
        {
          "name": "stdout",
          "output_type": "stream",
          "text": [
            "Epoch: 007, Loss: 0.4373\n"
          ]
        },
        {
          "name": "stderr",
          "output_type": "stream",
          "text": [
            "100%|██████████| 591/591 [00:13<00:00, 43.90it/s]\n"
          ]
        },
        {
          "name": "stdout",
          "output_type": "stream",
          "text": [
            "Epoch: 008, Loss: 0.4349\n"
          ]
        },
        {
          "name": "stderr",
          "output_type": "stream",
          "text": [
            "100%|██████████| 591/591 [00:13<00:00, 45.22it/s]\n"
          ]
        },
        {
          "name": "stdout",
          "output_type": "stream",
          "text": [
            "Epoch: 009, Loss: 0.4338\n",
            "precision: 0.07061698228466708\n",
            "recall: 0.224966790971763\n",
            "ndcg: 0.24016528656886124\n",
            "Proxy(x)\n",
            "embed_size: 16, model: <class '__main__.Model'>, sampled_neighbours: {('course', 'course_school', 'school'): [2, 2], ('course', 'course_teacher', 'teacher'): [2, 2], ('course', 'course_concept', 'concept'): [7, 7], ('user', 'enroll', 'course'): [1, 0], ('course', 'rev_enroll', 'user'): [0, 0], ('school', 'rev_course_school', 'course'): [2, 2], ('teacher', 'rev_course_teacher', 'course'): [2, 2], ('concept', 'rev_course_concept', 'course'): [7, 7]}, num_negative_samples: 2.0, lr: 0.001\n"
          ]
        },
        {
          "name": "stderr",
          "output_type": "stream",
          "text": [
            "100%|██████████| 591/591 [00:14<00:00, 41.66it/s]\n"
          ]
        },
        {
          "name": "stdout",
          "output_type": "stream",
          "text": [
            "Epoch: 000, Loss: 0.5336\n"
          ]
        },
        {
          "name": "stderr",
          "output_type": "stream",
          "text": [
            "100%|██████████| 591/591 [00:14<00:00, 41.73it/s]\n"
          ]
        },
        {
          "name": "stdout",
          "output_type": "stream",
          "text": [
            "Epoch: 001, Loss: 0.4541\n"
          ]
        },
        {
          "name": "stderr",
          "output_type": "stream",
          "text": [
            "100%|██████████| 591/591 [00:13<00:00, 43.06it/s]\n"
          ]
        },
        {
          "name": "stdout",
          "output_type": "stream",
          "text": [
            "Epoch: 002, Loss: 0.4414\n"
          ]
        },
        {
          "name": "stderr",
          "output_type": "stream",
          "text": [
            "100%|██████████| 591/591 [00:13<00:00, 42.65it/s]\n"
          ]
        },
        {
          "name": "stdout",
          "output_type": "stream",
          "text": [
            "Epoch: 003, Loss: 0.4362\n"
          ]
        },
        {
          "name": "stderr",
          "output_type": "stream",
          "text": [
            "100%|██████████| 591/591 [00:13<00:00, 43.32it/s]\n"
          ]
        },
        {
          "name": "stdout",
          "output_type": "stream",
          "text": [
            "Epoch: 004, Loss: 0.4282\n"
          ]
        },
        {
          "name": "stderr",
          "output_type": "stream",
          "text": [
            "100%|██████████| 591/591 [00:13<00:00, 43.08it/s]\n"
          ]
        },
        {
          "name": "stdout",
          "output_type": "stream",
          "text": [
            "Epoch: 005, Loss: 0.4218\n"
          ]
        },
        {
          "name": "stderr",
          "output_type": "stream",
          "text": [
            "100%|██████████| 591/591 [00:14<00:00, 41.51it/s]\n"
          ]
        },
        {
          "name": "stdout",
          "output_type": "stream",
          "text": [
            "Epoch: 006, Loss: 0.4157\n"
          ]
        },
        {
          "name": "stderr",
          "output_type": "stream",
          "text": [
            "100%|██████████| 591/591 [00:14<00:00, 41.35it/s]\n"
          ]
        },
        {
          "name": "stdout",
          "output_type": "stream",
          "text": [
            "Epoch: 007, Loss: 0.4114\n"
          ]
        },
        {
          "name": "stderr",
          "output_type": "stream",
          "text": [
            "100%|██████████| 591/591 [00:14<00:00, 40.78it/s]\n"
          ]
        },
        {
          "name": "stdout",
          "output_type": "stream",
          "text": [
            "Epoch: 008, Loss: 0.4050\n"
          ]
        },
        {
          "name": "stderr",
          "output_type": "stream",
          "text": [
            "100%|██████████| 591/591 [00:14<00:00, 41.01it/s]\n"
          ]
        },
        {
          "name": "stdout",
          "output_type": "stream",
          "text": [
            "Epoch: 009, Loss: 0.4026\n",
            "precision: 0.05887293830177153\n",
            "recall: 0.1864362802652\n",
            "ndcg: 0.24016528656886124\n",
            "Proxy(x)\n",
            "embed_size: 16, model: <class '__main__.Model'>, sampled_neighbours: {('course', 'course_school', 'school'): [2, 2], ('course', 'course_teacher', 'teacher'): [2, 2], ('course', 'course_concept', 'concept'): [7, 7], ('user', 'enroll', 'course'): [1, 0], ('course', 'rev_enroll', 'user'): [0, 0], ('school', 'rev_course_school', 'course'): [2, 2], ('teacher', 'rev_course_teacher', 'course'): [2, 2], ('concept', 'rev_course_concept', 'course'): [7, 7]}, num_negative_samples: 2.0, lr: 0.005\n"
          ]
        },
        {
          "name": "stderr",
          "output_type": "stream",
          "text": [
            "100%|██████████| 591/591 [00:14<00:00, 41.08it/s]\n"
          ]
        },
        {
          "name": "stdout",
          "output_type": "stream",
          "text": [
            "Epoch: 000, Loss: 0.4760\n"
          ]
        },
        {
          "name": "stderr",
          "output_type": "stream",
          "text": [
            "100%|██████████| 591/591 [00:19<00:00, 31.05it/s]\n"
          ]
        },
        {
          "name": "stdout",
          "output_type": "stream",
          "text": [
            "Epoch: 001, Loss: 0.4336\n"
          ]
        },
        {
          "name": "stderr",
          "output_type": "stream",
          "text": [
            "100%|██████████| 591/591 [00:13<00:00, 42.32it/s]\n"
          ]
        },
        {
          "name": "stdout",
          "output_type": "stream",
          "text": [
            "Epoch: 002, Loss: 0.4163\n"
          ]
        },
        {
          "name": "stderr",
          "output_type": "stream",
          "text": [
            "100%|██████████| 591/591 [00:13<00:00, 42.69it/s]\n"
          ]
        },
        {
          "name": "stdout",
          "output_type": "stream",
          "text": [
            "Epoch: 003, Loss: 0.4064\n"
          ]
        },
        {
          "name": "stderr",
          "output_type": "stream",
          "text": [
            "100%|██████████| 591/591 [00:13<00:00, 42.31it/s]\n"
          ]
        },
        {
          "name": "stdout",
          "output_type": "stream",
          "text": [
            "Epoch: 004, Loss: 0.4008\n"
          ]
        },
        {
          "name": "stderr",
          "output_type": "stream",
          "text": [
            "100%|██████████| 591/591 [00:14<00:00, 41.22it/s]\n"
          ]
        },
        {
          "name": "stdout",
          "output_type": "stream",
          "text": [
            "Epoch: 005, Loss: 0.3967\n"
          ]
        },
        {
          "name": "stderr",
          "output_type": "stream",
          "text": [
            "100%|██████████| 591/591 [00:14<00:00, 41.43it/s]\n"
          ]
        },
        {
          "name": "stdout",
          "output_type": "stream",
          "text": [
            "Epoch: 006, Loss: 0.3937\n"
          ]
        },
        {
          "name": "stderr",
          "output_type": "stream",
          "text": [
            "100%|██████████| 591/591 [00:14<00:00, 41.60it/s]\n"
          ]
        },
        {
          "name": "stdout",
          "output_type": "stream",
          "text": [
            "Epoch: 007, Loss: 0.3896\n"
          ]
        },
        {
          "name": "stderr",
          "output_type": "stream",
          "text": [
            "100%|██████████| 591/591 [00:14<00:00, 40.92it/s]\n"
          ]
        },
        {
          "name": "stdout",
          "output_type": "stream",
          "text": [
            "Epoch: 008, Loss: 0.3855\n"
          ]
        },
        {
          "name": "stderr",
          "output_type": "stream",
          "text": [
            "100%|██████████| 591/591 [00:14<00:00, 41.85it/s]\n"
          ]
        },
        {
          "name": "stdout",
          "output_type": "stream",
          "text": [
            "Epoch: 009, Loss: 0.3834\n",
            "precision: 0.07926084300549786\n",
            "recall: 0.24979666702366543\n",
            "ndcg: 0.24016528656886124\n",
            "Proxy(x)\n",
            "embed_size: 16, model: <class '__main__.Model'>, sampled_neighbours: {('course', 'course_school', 'school'): [2, 2], ('course', 'course_teacher', 'teacher'): [2, 2], ('course', 'course_concept', 'concept'): [7, 7], ('user', 'enroll', 'course'): [1, 0], ('course', 'rev_enroll', 'user'): [0, 0], ('school', 'rev_course_school', 'course'): [2, 2], ('teacher', 'rev_course_teacher', 'course'): [2, 2], ('concept', 'rev_course_concept', 'course'): [7, 7]}, num_negative_samples: 2.0, lr: 0.01\n"
          ]
        },
        {
          "name": "stderr",
          "output_type": "stream",
          "text": [
            "100%|██████████| 591/591 [00:14<00:00, 40.73it/s]\n"
          ]
        },
        {
          "name": "stdout",
          "output_type": "stream",
          "text": [
            "Epoch: 000, Loss: 0.4639\n"
          ]
        },
        {
          "name": "stderr",
          "output_type": "stream",
          "text": [
            "100%|██████████| 591/591 [00:14<00:00, 40.77it/s]\n"
          ]
        },
        {
          "name": "stdout",
          "output_type": "stream",
          "text": [
            "Epoch: 001, Loss: 0.4349\n"
          ]
        },
        {
          "name": "stderr",
          "output_type": "stream",
          "text": [
            "100%|██████████| 591/591 [00:14<00:00, 39.82it/s]\n"
          ]
        },
        {
          "name": "stdout",
          "output_type": "stream",
          "text": [
            "Epoch: 002, Loss: 0.4268\n"
          ]
        },
        {
          "name": "stderr",
          "output_type": "stream",
          "text": [
            "100%|██████████| 591/591 [00:14<00:00, 40.53it/s]\n"
          ]
        },
        {
          "name": "stdout",
          "output_type": "stream",
          "text": [
            "Epoch: 003, Loss: 0.4217\n"
          ]
        },
        {
          "name": "stderr",
          "output_type": "stream",
          "text": [
            "100%|██████████| 591/591 [00:14<00:00, 40.20it/s]\n"
          ]
        },
        {
          "name": "stdout",
          "output_type": "stream",
          "text": [
            "Epoch: 004, Loss: 0.4179\n"
          ]
        },
        {
          "name": "stderr",
          "output_type": "stream",
          "text": [
            "100%|██████████| 591/591 [00:14<00:00, 40.87it/s]\n"
          ]
        },
        {
          "name": "stdout",
          "output_type": "stream",
          "text": [
            "Epoch: 005, Loss: 0.4171\n"
          ]
        },
        {
          "name": "stderr",
          "output_type": "stream",
          "text": [
            "100%|██████████| 591/591 [00:14<00:00, 40.03it/s]\n"
          ]
        },
        {
          "name": "stdout",
          "output_type": "stream",
          "text": [
            "Epoch: 006, Loss: 0.4156\n"
          ]
        },
        {
          "name": "stderr",
          "output_type": "stream",
          "text": [
            "100%|██████████| 591/591 [00:14<00:00, 40.88it/s]\n"
          ]
        },
        {
          "name": "stdout",
          "output_type": "stream",
          "text": [
            "Epoch: 007, Loss: 0.4125\n"
          ]
        },
        {
          "name": "stderr",
          "output_type": "stream",
          "text": [
            "100%|██████████| 591/591 [00:14<00:00, 40.95it/s]\n"
          ]
        },
        {
          "name": "stdout",
          "output_type": "stream",
          "text": [
            "Epoch: 008, Loss: 0.4091\n"
          ]
        },
        {
          "name": "stderr",
          "output_type": "stream",
          "text": [
            "100%|██████████| 591/591 [00:14<00:00, 41.07it/s]\n"
          ]
        },
        {
          "name": "stdout",
          "output_type": "stream",
          "text": [
            "Epoch: 009, Loss: 0.4061\n",
            "precision: 0.04210445937690899\n",
            "recall: 0.1410821552200599\n",
            "ndcg: 0.24016528656886124\n",
            "Proxy(x)\n",
            "embed_size: 16, model: <class '__main__.Model'>, sampled_neighbours: {('course', 'course_school', 'school'): [2, 2], ('course', 'course_teacher', 'teacher'): [2, 2], ('course', 'course_concept', 'concept'): [7, 7], ('user', 'enroll', 'course'): [1, 0], ('course', 'rev_enroll', 'user'): [0, 0], ('school', 'rev_course_school', 'course'): [2, 2], ('teacher', 'rev_course_teacher', 'course'): [2, 2], ('concept', 'rev_course_concept', 'course'): [7, 7]}, num_negative_samples: 4.0, lr: 0.001\n"
          ]
        },
        {
          "name": "stderr",
          "output_type": "stream",
          "text": [
            "100%|██████████| 591/591 [00:15<00:00, 37.59it/s]\n"
          ]
        },
        {
          "name": "stdout",
          "output_type": "stream",
          "text": [
            "Epoch: 000, Loss: 0.4265\n"
          ]
        },
        {
          "name": "stderr",
          "output_type": "stream",
          "text": [
            "100%|██████████| 591/591 [00:15<00:00, 37.93it/s]\n"
          ]
        },
        {
          "name": "stdout",
          "output_type": "stream",
          "text": [
            "Epoch: 001, Loss: 0.3635\n"
          ]
        },
        {
          "name": "stderr",
          "output_type": "stream",
          "text": [
            "100%|██████████| 591/591 [00:15<00:00, 37.65it/s]\n"
          ]
        },
        {
          "name": "stdout",
          "output_type": "stream",
          "text": [
            "Epoch: 002, Loss: 0.3575\n"
          ]
        },
        {
          "name": "stderr",
          "output_type": "stream",
          "text": [
            "100%|██████████| 591/591 [00:15<00:00, 37.16it/s]\n"
          ]
        },
        {
          "name": "stdout",
          "output_type": "stream",
          "text": [
            "Epoch: 003, Loss: 0.3533\n"
          ]
        },
        {
          "name": "stderr",
          "output_type": "stream",
          "text": [
            "100%|██████████| 591/591 [00:15<00:00, 37.25it/s]\n"
          ]
        },
        {
          "name": "stdout",
          "output_type": "stream",
          "text": [
            "Epoch: 004, Loss: 0.3495\n"
          ]
        },
        {
          "name": "stderr",
          "output_type": "stream",
          "text": [
            "100%|██████████| 591/591 [00:16<00:00, 36.19it/s]\n"
          ]
        },
        {
          "name": "stdout",
          "output_type": "stream",
          "text": [
            "Epoch: 005, Loss: 0.3434\n"
          ]
        },
        {
          "name": "stderr",
          "output_type": "stream",
          "text": [
            "100%|██████████| 591/591 [00:16<00:00, 36.45it/s]\n"
          ]
        },
        {
          "name": "stdout",
          "output_type": "stream",
          "text": [
            "Epoch: 006, Loss: 0.3397\n"
          ]
        },
        {
          "name": "stderr",
          "output_type": "stream",
          "text": [
            "100%|██████████| 591/591 [00:16<00:00, 36.84it/s]\n"
          ]
        },
        {
          "name": "stdout",
          "output_type": "stream",
          "text": [
            "Epoch: 007, Loss: 0.3347\n"
          ]
        },
        {
          "name": "stderr",
          "output_type": "stream",
          "text": [
            "100%|██████████| 591/591 [00:15<00:00, 37.54it/s]\n"
          ]
        },
        {
          "name": "stdout",
          "output_type": "stream",
          "text": [
            "Epoch: 008, Loss: 0.3319\n"
          ]
        },
        {
          "name": "stderr",
          "output_type": "stream",
          "text": [
            "100%|██████████| 591/591 [00:15<00:00, 37.87it/s]\n"
          ]
        },
        {
          "name": "stdout",
          "output_type": "stream",
          "text": [
            "Epoch: 009, Loss: 0.3297\n",
            "precision: 0.05505497861942578\n",
            "recall: 0.18095329455721945\n",
            "ndcg: 0.24016528656886124\n",
            "Proxy(x)\n",
            "embed_size: 16, model: <class '__main__.Model'>, sampled_neighbours: {('course', 'course_school', 'school'): [2, 2], ('course', 'course_teacher', 'teacher'): [2, 2], ('course', 'course_concept', 'concept'): [7, 7], ('user', 'enroll', 'course'): [1, 0], ('course', 'rev_enroll', 'user'): [0, 0], ('school', 'rev_course_school', 'course'): [2, 2], ('teacher', 'rev_course_teacher', 'course'): [2, 2], ('concept', 'rev_course_concept', 'course'): [7, 7]}, num_negative_samples: 4.0, lr: 0.005\n"
          ]
        },
        {
          "name": "stderr",
          "output_type": "stream",
          "text": [
            "100%|██████████| 591/591 [00:15<00:00, 38.32it/s]\n"
          ]
        },
        {
          "name": "stdout",
          "output_type": "stream",
          "text": [
            "Epoch: 000, Loss: 0.3759\n"
          ]
        },
        {
          "name": "stderr",
          "output_type": "stream",
          "text": [
            "100%|██████████| 591/591 [00:15<00:00, 38.30it/s]\n"
          ]
        },
        {
          "name": "stdout",
          "output_type": "stream",
          "text": [
            "Epoch: 001, Loss: 0.3471\n"
          ]
        },
        {
          "name": "stderr",
          "output_type": "stream",
          "text": [
            "100%|██████████| 591/591 [00:15<00:00, 38.47it/s]\n"
          ]
        },
        {
          "name": "stdout",
          "output_type": "stream",
          "text": [
            "Epoch: 002, Loss: 0.3349\n"
          ]
        },
        {
          "name": "stderr",
          "output_type": "stream",
          "text": [
            "100%|██████████| 591/591 [00:15<00:00, 38.10it/s]\n"
          ]
        },
        {
          "name": "stdout",
          "output_type": "stream",
          "text": [
            "Epoch: 003, Loss: 0.3274\n"
          ]
        },
        {
          "name": "stderr",
          "output_type": "stream",
          "text": [
            "100%|██████████| 591/591 [00:15<00:00, 38.03it/s]\n"
          ]
        },
        {
          "name": "stdout",
          "output_type": "stream",
          "text": [
            "Epoch: 004, Loss: 0.3216\n"
          ]
        },
        {
          "name": "stderr",
          "output_type": "stream",
          "text": [
            "100%|██████████| 591/591 [00:15<00:00, 38.40it/s]\n"
          ]
        },
        {
          "name": "stdout",
          "output_type": "stream",
          "text": [
            "Epoch: 005, Loss: 0.3172\n"
          ]
        },
        {
          "name": "stderr",
          "output_type": "stream",
          "text": [
            "100%|██████████| 591/591 [00:15<00:00, 38.21it/s]\n"
          ]
        },
        {
          "name": "stdout",
          "output_type": "stream",
          "text": [
            "Epoch: 006, Loss: 0.3144\n"
          ]
        },
        {
          "name": "stderr",
          "output_type": "stream",
          "text": [
            "100%|██████████| 591/591 [00:15<00:00, 38.35it/s]\n"
          ]
        },
        {
          "name": "stdout",
          "output_type": "stream",
          "text": [
            "Epoch: 007, Loss: 0.3117\n"
          ]
        },
        {
          "name": "stderr",
          "output_type": "stream",
          "text": [
            "100%|██████████| 591/591 [00:15<00:00, 38.19it/s]\n"
          ]
        },
        {
          "name": "stdout",
          "output_type": "stream",
          "text": [
            "Epoch: 008, Loss: 0.3092\n"
          ]
        },
        {
          "name": "stderr",
          "output_type": "stream",
          "text": [
            "100%|██████████| 591/591 [00:15<00:00, 37.92it/s]\n"
          ]
        },
        {
          "name": "stdout",
          "output_type": "stream",
          "text": [
            "Epoch: 009, Loss: 0.3081\n",
            "precision: 0.0523365913255956\n",
            "recall: 0.16600362797537394\n",
            "ndcg: 0.24016528656886124\n",
            "Proxy(x)\n",
            "embed_size: 16, model: <class '__main__.Model'>, sampled_neighbours: {('course', 'course_school', 'school'): [2, 2], ('course', 'course_teacher', 'teacher'): [2, 2], ('course', 'course_concept', 'concept'): [7, 7], ('user', 'enroll', 'course'): [1, 0], ('course', 'rev_enroll', 'user'): [0, 0], ('school', 'rev_course_school', 'course'): [2, 2], ('teacher', 'rev_course_teacher', 'course'): [2, 2], ('concept', 'rev_course_concept', 'course'): [7, 7]}, num_negative_samples: 4.0, lr: 0.01\n"
          ]
        },
        {
          "name": "stderr",
          "output_type": "stream",
          "text": [
            "100%|██████████| 591/591 [00:16<00:00, 36.64it/s]\n"
          ]
        },
        {
          "name": "stdout",
          "output_type": "stream",
          "text": [
            "Epoch: 000, Loss: 0.3729\n"
          ]
        },
        {
          "name": "stderr",
          "output_type": "stream",
          "text": [
            "100%|██████████| 591/591 [00:15<00:00, 37.72it/s]\n"
          ]
        },
        {
          "name": "stdout",
          "output_type": "stream",
          "text": [
            "Epoch: 001, Loss: 0.3486\n"
          ]
        },
        {
          "name": "stderr",
          "output_type": "stream",
          "text": [
            "100%|██████████| 591/591 [00:15<00:00, 37.18it/s]\n"
          ]
        },
        {
          "name": "stdout",
          "output_type": "stream",
          "text": [
            "Epoch: 002, Loss: 0.3399\n"
          ]
        },
        {
          "name": "stderr",
          "output_type": "stream",
          "text": [
            "100%|██████████| 591/591 [00:16<00:00, 36.80it/s]\n"
          ]
        },
        {
          "name": "stdout",
          "output_type": "stream",
          "text": [
            "Epoch: 003, Loss: 0.3348\n"
          ]
        },
        {
          "name": "stderr",
          "output_type": "stream",
          "text": [
            "100%|██████████| 591/591 [00:15<00:00, 37.12it/s]\n"
          ]
        },
        {
          "name": "stdout",
          "output_type": "stream",
          "text": [
            "Epoch: 004, Loss: 0.3314\n"
          ]
        },
        {
          "name": "stderr",
          "output_type": "stream",
          "text": [
            "100%|██████████| 591/591 [00:15<00:00, 37.38it/s]\n"
          ]
        },
        {
          "name": "stdout",
          "output_type": "stream",
          "text": [
            "Epoch: 005, Loss: 0.3287\n"
          ]
        },
        {
          "name": "stderr",
          "output_type": "stream",
          "text": [
            "100%|██████████| 591/591 [00:15<00:00, 37.62it/s]\n"
          ]
        },
        {
          "name": "stdout",
          "output_type": "stream",
          "text": [
            "Epoch: 006, Loss: 0.3266\n"
          ]
        },
        {
          "name": "stderr",
          "output_type": "stream",
          "text": [
            "100%|██████████| 591/591 [00:15<00:00, 37.42it/s]\n"
          ]
        },
        {
          "name": "stdout",
          "output_type": "stream",
          "text": [
            "Epoch: 007, Loss: 0.3260\n"
          ]
        },
        {
          "name": "stderr",
          "output_type": "stream",
          "text": [
            "100%|██████████| 591/591 [00:15<00:00, 38.10it/s]\n"
          ]
        },
        {
          "name": "stdout",
          "output_type": "stream",
          "text": [
            "Epoch: 008, Loss: 0.3237\n"
          ]
        },
        {
          "name": "stderr",
          "output_type": "stream",
          "text": [
            "100%|██████████| 591/591 [00:15<00:00, 38.19it/s]\n"
          ]
        },
        {
          "name": "stdout",
          "output_type": "stream",
          "text": [
            "Epoch: 009, Loss: 0.3232\n",
            "precision: 0.04564752596212584\n",
            "recall: 0.14748392127097557\n",
            "ndcg: 0.24016528656886124\n",
            "Proxy(x)\n",
            "embed_size: 16, model: <class '__main__.Model'>, sampled_neighbours: {('course', 'course_school', 'school'): [2, 2], ('course', 'course_teacher', 'teacher'): [2, 2], ('course', 'course_concept', 'concept'): [10, 10], ('user', 'enroll', 'course'): [1, 0], ('course', 'rev_enroll', 'user'): [0, 0], ('school', 'rev_course_school', 'course'): [2, 2], ('teacher', 'rev_course_teacher', 'course'): [2, 2], ('concept', 'rev_course_concept', 'course'): [10, 10]}, num_negative_samples: 1.0, lr: 0.001\n"
          ]
        },
        {
          "name": "stderr",
          "output_type": "stream",
          "text": [
            "100%|██████████| 591/591 [00:14<00:00, 40.29it/s]\n"
          ]
        },
        {
          "name": "stdout",
          "output_type": "stream",
          "text": [
            "Epoch: 000, Loss: 0.5702\n"
          ]
        },
        {
          "name": "stderr",
          "output_type": "stream",
          "text": [
            "100%|██████████| 591/591 [00:14<00:00, 40.33it/s]\n"
          ]
        },
        {
          "name": "stdout",
          "output_type": "stream",
          "text": [
            "Epoch: 001, Loss: 0.4894\n"
          ]
        },
        {
          "name": "stderr",
          "output_type": "stream",
          "text": [
            "100%|██████████| 591/591 [00:14<00:00, 40.43it/s]\n"
          ]
        },
        {
          "name": "stdout",
          "output_type": "stream",
          "text": [
            "Epoch: 002, Loss: 0.4759\n"
          ]
        },
        {
          "name": "stderr",
          "output_type": "stream",
          "text": [
            "100%|██████████| 591/591 [00:14<00:00, 40.27it/s]\n"
          ]
        },
        {
          "name": "stdout",
          "output_type": "stream",
          "text": [
            "Epoch: 003, Loss: 0.4694\n"
          ]
        },
        {
          "name": "stderr",
          "output_type": "stream",
          "text": [
            "100%|██████████| 591/591 [00:14<00:00, 39.56it/s]\n"
          ]
        },
        {
          "name": "stdout",
          "output_type": "stream",
          "text": [
            "Epoch: 004, Loss: 0.4590\n"
          ]
        },
        {
          "name": "stderr",
          "output_type": "stream",
          "text": [
            "100%|██████████| 591/591 [00:14<00:00, 39.82it/s]\n"
          ]
        },
        {
          "name": "stdout",
          "output_type": "stream",
          "text": [
            "Epoch: 005, Loss: 0.4528\n"
          ]
        },
        {
          "name": "stderr",
          "output_type": "stream",
          "text": [
            "100%|██████████| 591/591 [00:14<00:00, 39.74it/s]\n"
          ]
        },
        {
          "name": "stdout",
          "output_type": "stream",
          "text": [
            "Epoch: 006, Loss: 0.4453\n"
          ]
        },
        {
          "name": "stderr",
          "output_type": "stream",
          "text": [
            "100%|██████████| 591/591 [00:14<00:00, 40.34it/s]\n"
          ]
        },
        {
          "name": "stdout",
          "output_type": "stream",
          "text": [
            "Epoch: 007, Loss: 0.4374\n"
          ]
        },
        {
          "name": "stderr",
          "output_type": "stream",
          "text": [
            "100%|██████████| 591/591 [00:14<00:00, 40.14it/s]\n"
          ]
        },
        {
          "name": "stdout",
          "output_type": "stream",
          "text": [
            "Epoch: 008, Loss: 0.4332\n"
          ]
        },
        {
          "name": "stderr",
          "output_type": "stream",
          "text": [
            "100%|██████████| 591/591 [00:14<00:00, 39.93it/s]\n"
          ]
        },
        {
          "name": "stdout",
          "output_type": "stream",
          "text": [
            "Epoch: 009, Loss: 0.4283\n",
            "precision: 0.012324373854612096\n",
            "recall: 0.04267412320252882\n",
            "ndcg: 0.24016528656886124\n",
            "Proxy(x)\n",
            "embed_size: 16, model: <class '__main__.Model'>, sampled_neighbours: {('course', 'course_school', 'school'): [2, 2], ('course', 'course_teacher', 'teacher'): [2, 2], ('course', 'course_concept', 'concept'): [10, 10], ('user', 'enroll', 'course'): [1, 0], ('course', 'rev_enroll', 'user'): [0, 0], ('school', 'rev_course_school', 'course'): [2, 2], ('teacher', 'rev_course_teacher', 'course'): [2, 2], ('concept', 'rev_course_concept', 'course'): [10, 10]}, num_negative_samples: 1.0, lr: 0.005\n"
          ]
        },
        {
          "name": "stderr",
          "output_type": "stream",
          "text": [
            "100%|██████████| 591/591 [00:14<00:00, 40.27it/s]\n"
          ]
        },
        {
          "name": "stdout",
          "output_type": "stream",
          "text": [
            "Epoch: 000, Loss: 0.5100\n"
          ]
        },
        {
          "name": "stderr",
          "output_type": "stream",
          "text": [
            "100%|██████████| 591/591 [00:14<00:00, 40.48it/s]\n"
          ]
        },
        {
          "name": "stdout",
          "output_type": "stream",
          "text": [
            "Epoch: 001, Loss: 0.4630\n"
          ]
        },
        {
          "name": "stderr",
          "output_type": "stream",
          "text": [
            "100%|██████████| 591/591 [00:14<00:00, 39.97it/s]\n"
          ]
        },
        {
          "name": "stdout",
          "output_type": "stream",
          "text": [
            "Epoch: 002, Loss: 0.4456\n"
          ]
        },
        {
          "name": "stderr",
          "output_type": "stream",
          "text": [
            "100%|██████████| 591/591 [00:14<00:00, 40.17it/s]\n"
          ]
        },
        {
          "name": "stdout",
          "output_type": "stream",
          "text": [
            "Epoch: 003, Loss: 0.4339\n"
          ]
        },
        {
          "name": "stderr",
          "output_type": "stream",
          "text": [
            "100%|██████████| 591/591 [00:14<00:00, 40.19it/s]\n"
          ]
        },
        {
          "name": "stdout",
          "output_type": "stream",
          "text": [
            "Epoch: 004, Loss: 0.4284\n"
          ]
        },
        {
          "name": "stderr",
          "output_type": "stream",
          "text": [
            "100%|██████████| 591/591 [00:14<00:00, 40.86it/s]\n"
          ]
        },
        {
          "name": "stdout",
          "output_type": "stream",
          "text": [
            "Epoch: 005, Loss: 0.4216\n"
          ]
        },
        {
          "name": "stderr",
          "output_type": "stream",
          "text": [
            "100%|██████████| 591/591 [00:14<00:00, 40.21it/s]\n"
          ]
        },
        {
          "name": "stdout",
          "output_type": "stream",
          "text": [
            "Epoch: 006, Loss: 0.4177\n"
          ]
        },
        {
          "name": "stderr",
          "output_type": "stream",
          "text": [
            "100%|██████████| 591/591 [00:14<00:00, 40.67it/s]\n"
          ]
        },
        {
          "name": "stdout",
          "output_type": "stream",
          "text": [
            "Epoch: 007, Loss: 0.4130\n"
          ]
        },
        {
          "name": "stderr",
          "output_type": "stream",
          "text": [
            "100%|██████████| 591/591 [00:14<00:00, 40.40it/s]\n"
          ]
        },
        {
          "name": "stdout",
          "output_type": "stream",
          "text": [
            "Epoch: 008, Loss: 0.4108\n"
          ]
        },
        {
          "name": "stderr",
          "output_type": "stream",
          "text": [
            "100%|██████████| 591/591 [00:14<00:00, 40.57it/s]\n"
          ]
        },
        {
          "name": "stdout",
          "output_type": "stream",
          "text": [
            "Epoch: 009, Loss: 0.4090\n",
            "precision: 0.045968234575442884\n",
            "recall: 0.15052388541162054\n",
            "ndcg: 0.24016528656886124\n",
            "Proxy(x)\n",
            "embed_size: 16, model: <class '__main__.Model'>, sampled_neighbours: {('course', 'course_school', 'school'): [2, 2], ('course', 'course_teacher', 'teacher'): [2, 2], ('course', 'course_concept', 'concept'): [10, 10], ('user', 'enroll', 'course'): [1, 0], ('course', 'rev_enroll', 'user'): [0, 0], ('school', 'rev_course_school', 'course'): [2, 2], ('teacher', 'rev_course_teacher', 'course'): [2, 2], ('concept', 'rev_course_concept', 'course'): [10, 10]}, num_negative_samples: 1.0, lr: 0.01\n"
          ]
        },
        {
          "name": "stderr",
          "output_type": "stream",
          "text": [
            "100%|██████████| 591/591 [00:14<00:00, 40.58it/s]\n"
          ]
        },
        {
          "name": "stdout",
          "output_type": "stream",
          "text": [
            "Epoch: 000, Loss: 0.5008\n"
          ]
        },
        {
          "name": "stderr",
          "output_type": "stream",
          "text": [
            "100%|██████████| 591/591 [00:14<00:00, 40.53it/s]\n"
          ]
        },
        {
          "name": "stdout",
          "output_type": "stream",
          "text": [
            "Epoch: 001, Loss: 0.4705\n"
          ]
        },
        {
          "name": "stderr",
          "output_type": "stream",
          "text": [
            "100%|██████████| 591/591 [00:14<00:00, 40.09it/s]\n"
          ]
        },
        {
          "name": "stdout",
          "output_type": "stream",
          "text": [
            "Epoch: 002, Loss: 0.4646\n"
          ]
        },
        {
          "name": "stderr",
          "output_type": "stream",
          "text": [
            "100%|██████████| 591/591 [00:14<00:00, 40.04it/s]\n"
          ]
        },
        {
          "name": "stdout",
          "output_type": "stream",
          "text": [
            "Epoch: 003, Loss: 0.4603\n"
          ]
        },
        {
          "name": "stderr",
          "output_type": "stream",
          "text": [
            "100%|██████████| 591/591 [00:14<00:00, 40.28it/s]\n"
          ]
        },
        {
          "name": "stdout",
          "output_type": "stream",
          "text": [
            "Epoch: 004, Loss: 0.4557\n"
          ]
        },
        {
          "name": "stderr",
          "output_type": "stream",
          "text": [
            "100%|██████████| 591/591 [00:14<00:00, 39.47it/s]\n"
          ]
        },
        {
          "name": "stdout",
          "output_type": "stream",
          "text": [
            "Epoch: 005, Loss: 0.4528\n"
          ]
        },
        {
          "name": "stderr",
          "output_type": "stream",
          "text": [
            "100%|██████████| 591/591 [00:14<00:00, 39.45it/s]\n"
          ]
        },
        {
          "name": "stdout",
          "output_type": "stream",
          "text": [
            "Epoch: 006, Loss: 0.4486\n"
          ]
        },
        {
          "name": "stderr",
          "output_type": "stream",
          "text": [
            "100%|██████████| 591/591 [00:14<00:00, 39.68it/s]\n"
          ]
        },
        {
          "name": "stdout",
          "output_type": "stream",
          "text": [
            "Epoch: 007, Loss: 0.4448\n"
          ]
        },
        {
          "name": "stderr",
          "output_type": "stream",
          "text": [
            "100%|██████████| 591/591 [00:14<00:00, 40.10it/s]\n"
          ]
        },
        {
          "name": "stdout",
          "output_type": "stream",
          "text": [
            "Epoch: 008, Loss: 0.4433\n"
          ]
        },
        {
          "name": "stderr",
          "output_type": "stream",
          "text": [
            "100%|██████████| 591/591 [00:14<00:00, 39.45it/s]\n"
          ]
        },
        {
          "name": "stdout",
          "output_type": "stream",
          "text": [
            "Epoch: 009, Loss: 0.4425\n",
            "precision: 0.05587965791081246\n",
            "recall: 0.17736288254337595\n",
            "ndcg: 0.24016528656886124\n",
            "Proxy(x)\n",
            "embed_size: 16, model: <class '__main__.Model'>, sampled_neighbours: {('course', 'course_school', 'school'): [2, 2], ('course', 'course_teacher', 'teacher'): [2, 2], ('course', 'course_concept', 'concept'): [10, 10], ('user', 'enroll', 'course'): [1, 0], ('course', 'rev_enroll', 'user'): [0, 0], ('school', 'rev_course_school', 'course'): [2, 2], ('teacher', 'rev_course_teacher', 'course'): [2, 2], ('concept', 'rev_course_concept', 'course'): [10, 10]}, num_negative_samples: 2.0, lr: 0.001\n"
          ]
        },
        {
          "name": "stderr",
          "output_type": "stream",
          "text": [
            "100%|██████████| 591/591 [00:15<00:00, 36.98it/s]\n"
          ]
        },
        {
          "name": "stdout",
          "output_type": "stream",
          "text": [
            "Epoch: 000, Loss: 0.5216\n"
          ]
        },
        {
          "name": "stderr",
          "output_type": "stream",
          "text": [
            "100%|██████████| 591/591 [00:15<00:00, 37.22it/s]\n"
          ]
        },
        {
          "name": "stdout",
          "output_type": "stream",
          "text": [
            "Epoch: 001, Loss: 0.4508\n"
          ]
        },
        {
          "name": "stderr",
          "output_type": "stream",
          "text": [
            "100%|██████████| 591/591 [00:15<00:00, 37.60it/s]\n"
          ]
        },
        {
          "name": "stdout",
          "output_type": "stream",
          "text": [
            "Epoch: 002, Loss: 0.4410\n"
          ]
        },
        {
          "name": "stderr",
          "output_type": "stream",
          "text": [
            "100%|██████████| 591/591 [00:15<00:00, 37.54it/s]\n"
          ]
        },
        {
          "name": "stdout",
          "output_type": "stream",
          "text": [
            "Epoch: 003, Loss: 0.4349\n"
          ]
        },
        {
          "name": "stderr",
          "output_type": "stream",
          "text": [
            "100%|██████████| 591/591 [00:16<00:00, 36.55it/s]\n"
          ]
        },
        {
          "name": "stdout",
          "output_type": "stream",
          "text": [
            "Epoch: 004, Loss: 0.4276\n"
          ]
        },
        {
          "name": "stderr",
          "output_type": "stream",
          "text": [
            "100%|██████████| 591/591 [00:16<00:00, 36.11it/s]\n"
          ]
        },
        {
          "name": "stdout",
          "output_type": "stream",
          "text": [
            "Epoch: 005, Loss: 0.4200\n"
          ]
        },
        {
          "name": "stderr",
          "output_type": "stream",
          "text": [
            "100%|██████████| 591/591 [00:16<00:00, 36.58it/s]\n"
          ]
        },
        {
          "name": "stdout",
          "output_type": "stream",
          "text": [
            "Epoch: 006, Loss: 0.4149\n"
          ]
        },
        {
          "name": "stderr",
          "output_type": "stream",
          "text": [
            "100%|██████████| 591/591 [00:16<00:00, 36.33it/s]\n"
          ]
        },
        {
          "name": "stdout",
          "output_type": "stream",
          "text": [
            "Epoch: 007, Loss: 0.4099\n"
          ]
        },
        {
          "name": "stderr",
          "output_type": "stream",
          "text": [
            "100%|██████████| 591/591 [00:16<00:00, 35.54it/s]\n"
          ]
        },
        {
          "name": "stdout",
          "output_type": "stream",
          "text": [
            "Epoch: 008, Loss: 0.4053\n"
          ]
        },
        {
          "name": "stderr",
          "output_type": "stream",
          "text": [
            "100%|██████████| 591/591 [00:15<00:00, 37.17it/s]\n"
          ]
        },
        {
          "name": "stdout",
          "output_type": "stream",
          "text": [
            "Epoch: 009, Loss: 0.4009\n",
            "precision: 0.04444105070250458\n",
            "recall: 0.14925251318711152\n",
            "ndcg: 0.24016528656886124\n",
            "Proxy(x)\n",
            "embed_size: 16, model: <class '__main__.Model'>, sampled_neighbours: {('course', 'course_school', 'school'): [2, 2], ('course', 'course_teacher', 'teacher'): [2, 2], ('course', 'course_concept', 'concept'): [10, 10], ('user', 'enroll', 'course'): [1, 0], ('course', 'rev_enroll', 'user'): [0, 0], ('school', 'rev_course_school', 'course'): [2, 2], ('teacher', 'rev_course_teacher', 'course'): [2, 2], ('concept', 'rev_course_concept', 'course'): [10, 10]}, num_negative_samples: 2.0, lr: 0.005\n"
          ]
        },
        {
          "name": "stderr",
          "output_type": "stream",
          "text": [
            "100%|██████████| 591/591 [00:15<00:00, 36.98it/s]\n"
          ]
        },
        {
          "name": "stdout",
          "output_type": "stream",
          "text": [
            "Epoch: 000, Loss: 0.4734\n"
          ]
        },
        {
          "name": "stderr",
          "output_type": "stream",
          "text": [
            "100%|██████████| 591/591 [00:15<00:00, 37.55it/s]\n"
          ]
        },
        {
          "name": "stdout",
          "output_type": "stream",
          "text": [
            "Epoch: 001, Loss: 0.4337\n"
          ]
        },
        {
          "name": "stderr",
          "output_type": "stream",
          "text": [
            "100%|██████████| 591/591 [00:15<00:00, 37.59it/s]\n"
          ]
        },
        {
          "name": "stdout",
          "output_type": "stream",
          "text": [
            "Epoch: 002, Loss: 0.4161\n"
          ]
        },
        {
          "name": "stderr",
          "output_type": "stream",
          "text": [
            "100%|██████████| 591/591 [00:16<00:00, 36.86it/s]\n"
          ]
        },
        {
          "name": "stdout",
          "output_type": "stream",
          "text": [
            "Epoch: 003, Loss: 0.4071\n"
          ]
        },
        {
          "name": "stderr",
          "output_type": "stream",
          "text": [
            "100%|██████████| 591/591 [00:15<00:00, 37.13it/s]\n"
          ]
        },
        {
          "name": "stdout",
          "output_type": "stream",
          "text": [
            "Epoch: 004, Loss: 0.4000\n"
          ]
        },
        {
          "name": "stderr",
          "output_type": "stream",
          "text": [
            "100%|██████████| 591/591 [00:15<00:00, 37.02it/s]\n"
          ]
        },
        {
          "name": "stdout",
          "output_type": "stream",
          "text": [
            "Epoch: 005, Loss: 0.3946\n"
          ]
        },
        {
          "name": "stderr",
          "output_type": "stream",
          "text": [
            "100%|██████████| 591/591 [00:15<00:00, 37.30it/s]\n"
          ]
        },
        {
          "name": "stdout",
          "output_type": "stream",
          "text": [
            "Epoch: 006, Loss: 0.3902\n"
          ]
        },
        {
          "name": "stderr",
          "output_type": "stream",
          "text": [
            "100%|██████████| 591/591 [00:15<00:00, 37.28it/s]\n"
          ]
        },
        {
          "name": "stdout",
          "output_type": "stream",
          "text": [
            "Epoch: 007, Loss: 0.3864\n"
          ]
        },
        {
          "name": "stderr",
          "output_type": "stream",
          "text": [
            "100%|██████████| 591/591 [00:16<00:00, 36.07it/s]\n"
          ]
        },
        {
          "name": "stdout",
          "output_type": "stream",
          "text": [
            "Epoch: 008, Loss: 0.3833\n"
          ]
        },
        {
          "name": "stderr",
          "output_type": "stream",
          "text": [
            "100%|██████████| 591/591 [00:16<00:00, 35.64it/s]\n"
          ]
        },
        {
          "name": "stdout",
          "output_type": "stream",
          "text": [
            "Epoch: 009, Loss: 0.3810\n",
            "precision: 0.07272449602932193\n",
            "recall: 0.2323164861744951\n",
            "ndcg: 0.24016528656886124\n",
            "Proxy(x)\n",
            "embed_size: 16, model: <class '__main__.Model'>, sampled_neighbours: {('course', 'course_school', 'school'): [2, 2], ('course', 'course_teacher', 'teacher'): [2, 2], ('course', 'course_concept', 'concept'): [10, 10], ('user', 'enroll', 'course'): [1, 0], ('course', 'rev_enroll', 'user'): [0, 0], ('school', 'rev_course_school', 'course'): [2, 2], ('teacher', 'rev_course_teacher', 'course'): [2, 2], ('concept', 'rev_course_concept', 'course'): [10, 10]}, num_negative_samples: 2.0, lr: 0.01\n"
          ]
        },
        {
          "name": "stderr",
          "output_type": "stream",
          "text": [
            "100%|██████████| 591/591 [00:15<00:00, 37.68it/s]\n"
          ]
        },
        {
          "name": "stdout",
          "output_type": "stream",
          "text": [
            "Epoch: 000, Loss: 0.4619\n"
          ]
        },
        {
          "name": "stderr",
          "output_type": "stream",
          "text": [
            "100%|██████████| 591/591 [00:16<00:00, 36.93it/s]\n"
          ]
        },
        {
          "name": "stdout",
          "output_type": "stream",
          "text": [
            "Epoch: 001, Loss: 0.4370\n"
          ]
        },
        {
          "name": "stderr",
          "output_type": "stream",
          "text": [
            "100%|██████████| 591/591 [00:15<00:00, 37.52it/s]\n"
          ]
        },
        {
          "name": "stdout",
          "output_type": "stream",
          "text": [
            "Epoch: 002, Loss: 0.4286\n"
          ]
        },
        {
          "name": "stderr",
          "output_type": "stream",
          "text": [
            "100%|██████████| 591/591 [00:15<00:00, 37.33it/s]\n"
          ]
        },
        {
          "name": "stdout",
          "output_type": "stream",
          "text": [
            "Epoch: 003, Loss: 0.4250\n"
          ]
        },
        {
          "name": "stderr",
          "output_type": "stream",
          "text": [
            "100%|██████████| 591/591 [00:15<00:00, 36.98it/s]\n"
          ]
        },
        {
          "name": "stdout",
          "output_type": "stream",
          "text": [
            "Epoch: 004, Loss: 0.4217\n"
          ]
        },
        {
          "name": "stderr",
          "output_type": "stream",
          "text": [
            "100%|██████████| 591/591 [00:15<00:00, 36.96it/s]\n"
          ]
        },
        {
          "name": "stdout",
          "output_type": "stream",
          "text": [
            "Epoch: 005, Loss: 0.4205\n"
          ]
        },
        {
          "name": "stderr",
          "output_type": "stream",
          "text": [
            "100%|██████████| 591/591 [00:16<00:00, 36.78it/s]\n"
          ]
        },
        {
          "name": "stdout",
          "output_type": "stream",
          "text": [
            "Epoch: 006, Loss: 0.4175\n"
          ]
        },
        {
          "name": "stderr",
          "output_type": "stream",
          "text": [
            "100%|██████████| 591/591 [00:15<00:00, 37.52it/s]\n"
          ]
        },
        {
          "name": "stdout",
          "output_type": "stream",
          "text": [
            "Epoch: 007, Loss: 0.4178\n"
          ]
        },
        {
          "name": "stderr",
          "output_type": "stream",
          "text": [
            "100%|██████████| 591/591 [00:15<00:00, 37.33it/s]\n"
          ]
        },
        {
          "name": "stdout",
          "output_type": "stream",
          "text": [
            "Epoch: 008, Loss: 0.4135\n"
          ]
        },
        {
          "name": "stderr",
          "output_type": "stream",
          "text": [
            "100%|██████████| 591/591 [00:15<00:00, 37.49it/s]\n"
          ]
        },
        {
          "name": "stdout",
          "output_type": "stream",
          "text": [
            "Epoch: 009, Loss: 0.4135\n",
            "precision: 0.019899205864386073\n",
            "recall: 0.06970891390561519\n",
            "ndcg: 0.24016528656886124\n",
            "Proxy(x)\n",
            "embed_size: 16, model: <class '__main__.Model'>, sampled_neighbours: {('course', 'course_school', 'school'): [2, 2], ('course', 'course_teacher', 'teacher'): [2, 2], ('course', 'course_concept', 'concept'): [10, 10], ('user', 'enroll', 'course'): [1, 0], ('course', 'rev_enroll', 'user'): [0, 0], ('school', 'rev_course_school', 'course'): [2, 2], ('teacher', 'rev_course_teacher', 'course'): [2, 2], ('concept', 'rev_course_concept', 'course'): [10, 10]}, num_negative_samples: 4.0, lr: 0.001\n"
          ]
        },
        {
          "name": "stderr",
          "output_type": "stream",
          "text": [
            "100%|██████████| 591/591 [00:18<00:00, 32.69it/s]\n"
          ]
        },
        {
          "name": "stdout",
          "output_type": "stream",
          "text": [
            "Epoch: 000, Loss: 0.4137\n"
          ]
        },
        {
          "name": "stderr",
          "output_type": "stream",
          "text": [
            "100%|██████████| 591/591 [00:17<00:00, 34.13it/s]\n"
          ]
        },
        {
          "name": "stdout",
          "output_type": "stream",
          "text": [
            "Epoch: 001, Loss: 0.3620\n"
          ]
        },
        {
          "name": "stderr",
          "output_type": "stream",
          "text": [
            "100%|██████████| 591/591 [00:17<00:00, 34.06it/s]\n"
          ]
        },
        {
          "name": "stdout",
          "output_type": "stream",
          "text": [
            "Epoch: 002, Loss: 0.3549\n"
          ]
        },
        {
          "name": "stderr",
          "output_type": "stream",
          "text": [
            "100%|██████████| 591/591 [00:17<00:00, 33.94it/s]\n"
          ]
        },
        {
          "name": "stdout",
          "output_type": "stream",
          "text": [
            "Epoch: 003, Loss: 0.3510\n"
          ]
        },
        {
          "name": "stderr",
          "output_type": "stream",
          "text": [
            "100%|██████████| 591/591 [00:17<00:00, 33.06it/s]\n"
          ]
        },
        {
          "name": "stdout",
          "output_type": "stream",
          "text": [
            "Epoch: 004, Loss: 0.3454\n"
          ]
        },
        {
          "name": "stderr",
          "output_type": "stream",
          "text": [
            "100%|██████████| 591/591 [00:18<00:00, 31.76it/s]\n"
          ]
        },
        {
          "name": "stdout",
          "output_type": "stream",
          "text": [
            "Epoch: 005, Loss: 0.3399\n"
          ]
        },
        {
          "name": "stderr",
          "output_type": "stream",
          "text": [
            "100%|██████████| 591/591 [00:17<00:00, 34.15it/s]\n"
          ]
        },
        {
          "name": "stdout",
          "output_type": "stream",
          "text": [
            "Epoch: 006, Loss: 0.3360\n"
          ]
        },
        {
          "name": "stderr",
          "output_type": "stream",
          "text": [
            "100%|██████████| 591/591 [00:17<00:00, 34.17it/s]\n"
          ]
        },
        {
          "name": "stdout",
          "output_type": "stream",
          "text": [
            "Epoch: 007, Loss: 0.3325\n"
          ]
        },
        {
          "name": "stderr",
          "output_type": "stream",
          "text": [
            "100%|██████████| 591/591 [00:17<00:00, 34.23it/s]\n"
          ]
        },
        {
          "name": "stdout",
          "output_type": "stream",
          "text": [
            "Epoch: 008, Loss: 0.3287\n"
          ]
        },
        {
          "name": "stderr",
          "output_type": "stream",
          "text": [
            "100%|██████████| 591/591 [00:17<00:00, 33.88it/s]\n"
          ]
        },
        {
          "name": "stdout",
          "output_type": "stream",
          "text": [
            "Epoch: 009, Loss: 0.3254\n",
            "precision: 0.06504276114844226\n",
            "recall: 0.21103556833826845\n",
            "ndcg: 0.24016528656886124\n",
            "Proxy(x)\n",
            "embed_size: 16, model: <class '__main__.Model'>, sampled_neighbours: {('course', 'course_school', 'school'): [2, 2], ('course', 'course_teacher', 'teacher'): [2, 2], ('course', 'course_concept', 'concept'): [10, 10], ('user', 'enroll', 'course'): [1, 0], ('course', 'rev_enroll', 'user'): [0, 0], ('school', 'rev_course_school', 'course'): [2, 2], ('teacher', 'rev_course_teacher', 'course'): [2, 2], ('concept', 'rev_course_concept', 'course'): [10, 10]}, num_negative_samples: 4.0, lr: 0.005\n"
          ]
        },
        {
          "name": "stderr",
          "output_type": "stream",
          "text": [
            "100%|██████████| 591/591 [00:17<00:00, 33.55it/s]\n"
          ]
        },
        {
          "name": "stdout",
          "output_type": "stream",
          "text": [
            "Epoch: 000, Loss: 0.3801\n"
          ]
        },
        {
          "name": "stderr",
          "output_type": "stream",
          "text": [
            "100%|██████████| 591/591 [00:16<00:00, 34.78it/s]\n"
          ]
        },
        {
          "name": "stdout",
          "output_type": "stream",
          "text": [
            "Epoch: 001, Loss: 0.3488\n"
          ]
        },
        {
          "name": "stderr",
          "output_type": "stream",
          "text": [
            "100%|██████████| 591/591 [00:17<00:00, 34.33it/s]\n"
          ]
        },
        {
          "name": "stdout",
          "output_type": "stream",
          "text": [
            "Epoch: 002, Loss: 0.3377\n"
          ]
        },
        {
          "name": "stderr",
          "output_type": "stream",
          "text": [
            "100%|██████████| 591/591 [00:17<00:00, 34.09it/s]\n"
          ]
        },
        {
          "name": "stdout",
          "output_type": "stream",
          "text": [
            "Epoch: 003, Loss: 0.3306\n"
          ]
        },
        {
          "name": "stderr",
          "output_type": "stream",
          "text": [
            "100%|██████████| 591/591 [00:17<00:00, 34.21it/s]\n"
          ]
        },
        {
          "name": "stdout",
          "output_type": "stream",
          "text": [
            "Epoch: 004, Loss: 0.3256\n"
          ]
        },
        {
          "name": "stderr",
          "output_type": "stream",
          "text": [
            "100%|██████████| 591/591 [00:18<00:00, 32.23it/s]\n"
          ]
        },
        {
          "name": "stdout",
          "output_type": "stream",
          "text": [
            "Epoch: 005, Loss: 0.3208\n"
          ]
        },
        {
          "name": "stderr",
          "output_type": "stream",
          "text": [
            "100%|██████████| 591/591 [00:17<00:00, 33.21it/s]\n"
          ]
        },
        {
          "name": "stdout",
          "output_type": "stream",
          "text": [
            "Epoch: 006, Loss: 0.3168\n"
          ]
        },
        {
          "name": "stderr",
          "output_type": "stream",
          "text": [
            "100%|██████████| 591/591 [00:17<00:00, 34.00it/s]\n"
          ]
        },
        {
          "name": "stdout",
          "output_type": "stream",
          "text": [
            "Epoch: 007, Loss: 0.3135\n"
          ]
        },
        {
          "name": "stderr",
          "output_type": "stream",
          "text": [
            "100%|██████████| 591/591 [00:17<00:00, 34.16it/s]\n"
          ]
        },
        {
          "name": "stdout",
          "output_type": "stream",
          "text": [
            "Epoch: 008, Loss: 0.3096\n"
          ]
        },
        {
          "name": "stderr",
          "output_type": "stream",
          "text": [
            "100%|██████████| 591/591 [00:17<00:00, 34.22it/s]\n"
          ]
        },
        {
          "name": "stdout",
          "output_type": "stream",
          "text": [
            "Epoch: 009, Loss: 0.3080\n",
            "precision: 0.05187843616371411\n",
            "recall: 0.17070379393226062\n",
            "ndcg: 0.24016528656886124\n",
            "Proxy(x)\n",
            "embed_size: 16, model: <class '__main__.Model'>, sampled_neighbours: {('course', 'course_school', 'school'): [2, 2], ('course', 'course_teacher', 'teacher'): [2, 2], ('course', 'course_concept', 'concept'): [10, 10], ('user', 'enroll', 'course'): [1, 0], ('course', 'rev_enroll', 'user'): [0, 0], ('school', 'rev_course_school', 'course'): [2, 2], ('teacher', 'rev_course_teacher', 'course'): [2, 2], ('concept', 'rev_course_concept', 'course'): [10, 10]}, num_negative_samples: 4.0, lr: 0.01\n"
          ]
        },
        {
          "name": "stderr",
          "output_type": "stream",
          "text": [
            "100%|██████████| 591/591 [00:18<00:00, 32.13it/s]\n"
          ]
        },
        {
          "name": "stdout",
          "output_type": "stream",
          "text": [
            "Epoch: 000, Loss: 0.3719\n"
          ]
        },
        {
          "name": "stderr",
          "output_type": "stream",
          "text": [
            "100%|██████████| 591/591 [00:17<00:00, 33.08it/s]\n"
          ]
        },
        {
          "name": "stdout",
          "output_type": "stream",
          "text": [
            "Epoch: 001, Loss: 0.3454\n"
          ]
        },
        {
          "name": "stderr",
          "output_type": "stream",
          "text": [
            "100%|██████████| 591/591 [00:17<00:00, 34.17it/s]\n"
          ]
        },
        {
          "name": "stdout",
          "output_type": "stream",
          "text": [
            "Epoch: 002, Loss: 0.3359\n"
          ]
        },
        {
          "name": "stderr",
          "output_type": "stream",
          "text": [
            "100%|██████████| 591/591 [00:16<00:00, 34.83it/s]\n"
          ]
        },
        {
          "name": "stdout",
          "output_type": "stream",
          "text": [
            "Epoch: 003, Loss: 0.3311\n"
          ]
        },
        {
          "name": "stderr",
          "output_type": "stream",
          "text": [
            "100%|██████████| 591/591 [00:17<00:00, 34.28it/s]\n"
          ]
        },
        {
          "name": "stdout",
          "output_type": "stream",
          "text": [
            "Epoch: 004, Loss: 0.3276\n"
          ]
        },
        {
          "name": "stderr",
          "output_type": "stream",
          "text": [
            "100%|██████████| 591/591 [00:17<00:00, 33.87it/s]\n"
          ]
        },
        {
          "name": "stdout",
          "output_type": "stream",
          "text": [
            "Epoch: 005, Loss: 0.3248\n"
          ]
        },
        {
          "name": "stderr",
          "output_type": "stream",
          "text": [
            "100%|██████████| 591/591 [00:18<00:00, 32.30it/s]\n"
          ]
        },
        {
          "name": "stdout",
          "output_type": "stream",
          "text": [
            "Epoch: 006, Loss: 0.3237\n"
          ]
        },
        {
          "name": "stderr",
          "output_type": "stream",
          "text": [
            "100%|██████████| 591/591 [00:17<00:00, 33.40it/s]\n"
          ]
        },
        {
          "name": "stdout",
          "output_type": "stream",
          "text": [
            "Epoch: 007, Loss: 0.3224\n"
          ]
        },
        {
          "name": "stderr",
          "output_type": "stream",
          "text": [
            "100%|██████████| 591/591 [00:17<00:00, 34.55it/s]\n"
          ]
        },
        {
          "name": "stdout",
          "output_type": "stream",
          "text": [
            "Epoch: 008, Loss: 0.3207\n"
          ]
        },
        {
          "name": "stderr",
          "output_type": "stream",
          "text": [
            "100%|██████████| 591/591 [00:17<00:00, 34.57it/s]\n"
          ]
        },
        {
          "name": "stdout",
          "output_type": "stream",
          "text": [
            "Epoch: 009, Loss: 0.3199\n",
            "precision: 0.06551618814905315\n",
            "recall: 0.20837733832223526\n",
            "ndcg: 0.24016528656886124\n",
            "Proxy(x)\n",
            "embed_size: 16, model: <class '__main__.Model'>, sampled_neighbours: {('course', 'course_school', 'school'): [2, 2], ('course', 'course_teacher', 'teacher'): [2, 2], ('course', 'course_concept', 'concept'): [13, 13], ('user', 'enroll', 'course'): [1, 0], ('course', 'rev_enroll', 'user'): [0, 0], ('school', 'rev_course_school', 'course'): [2, 2], ('teacher', 'rev_course_teacher', 'course'): [2, 2], ('concept', 'rev_course_concept', 'course'): [13, 13]}, num_negative_samples: 1.0, lr: 0.001\n"
          ]
        },
        {
          "name": "stderr",
          "output_type": "stream",
          "text": [
            "100%|██████████| 591/591 [00:16<00:00, 36.80it/s]\n"
          ]
        },
        {
          "name": "stdout",
          "output_type": "stream",
          "text": [
            "Epoch: 000, Loss: 0.5872\n"
          ]
        },
        {
          "name": "stderr",
          "output_type": "stream",
          "text": [
            "100%|██████████| 591/591 [00:15<00:00, 37.59it/s]\n"
          ]
        },
        {
          "name": "stdout",
          "output_type": "stream",
          "text": [
            "Epoch: 001, Loss: 0.4906\n"
          ]
        },
        {
          "name": "stderr",
          "output_type": "stream",
          "text": [
            "100%|██████████| 591/591 [00:16<00:00, 35.93it/s]\n"
          ]
        },
        {
          "name": "stdout",
          "output_type": "stream",
          "text": [
            "Epoch: 002, Loss: 0.4779\n"
          ]
        },
        {
          "name": "stderr",
          "output_type": "stream",
          "text": [
            "100%|██████████| 591/591 [00:16<00:00, 36.77it/s]\n"
          ]
        },
        {
          "name": "stdout",
          "output_type": "stream",
          "text": [
            "Epoch: 003, Loss: 0.4690\n"
          ]
        },
        {
          "name": "stderr",
          "output_type": "stream",
          "text": [
            "100%|██████████| 591/591 [00:16<00:00, 36.17it/s]\n"
          ]
        },
        {
          "name": "stdout",
          "output_type": "stream",
          "text": [
            "Epoch: 004, Loss: 0.4624\n"
          ]
        },
        {
          "name": "stderr",
          "output_type": "stream",
          "text": [
            "100%|██████████| 591/591 [00:16<00:00, 35.88it/s]\n"
          ]
        },
        {
          "name": "stdout",
          "output_type": "stream",
          "text": [
            "Epoch: 005, Loss: 0.4568\n"
          ]
        },
        {
          "name": "stderr",
          "output_type": "stream",
          "text": [
            "100%|██████████| 591/591 [00:16<00:00, 36.64it/s]\n"
          ]
        },
        {
          "name": "stdout",
          "output_type": "stream",
          "text": [
            "Epoch: 006, Loss: 0.4480\n"
          ]
        },
        {
          "name": "stderr",
          "output_type": "stream",
          "text": [
            "100%|██████████| 591/591 [00:16<00:00, 36.90it/s]\n"
          ]
        },
        {
          "name": "stdout",
          "output_type": "stream",
          "text": [
            "Epoch: 007, Loss: 0.4408\n"
          ]
        },
        {
          "name": "stderr",
          "output_type": "stream",
          "text": [
            "100%|██████████| 591/591 [00:16<00:00, 36.90it/s]\n"
          ]
        },
        {
          "name": "stdout",
          "output_type": "stream",
          "text": [
            "Epoch: 008, Loss: 0.4357\n"
          ]
        },
        {
          "name": "stderr",
          "output_type": "stream",
          "text": [
            "100%|██████████| 591/591 [00:16<00:00, 36.70it/s]\n"
          ]
        },
        {
          "name": "stdout",
          "output_type": "stream",
          "text": [
            "Epoch: 009, Loss: 0.4308\n",
            "precision: 0.06635613927916921\n",
            "recall: 0.21152259238811288\n",
            "ndcg: 0.24016528656886124\n",
            "Proxy(x)\n",
            "embed_size: 16, model: <class '__main__.Model'>, sampled_neighbours: {('course', 'course_school', 'school'): [2, 2], ('course', 'course_teacher', 'teacher'): [2, 2], ('course', 'course_concept', 'concept'): [13, 13], ('user', 'enroll', 'course'): [1, 0], ('course', 'rev_enroll', 'user'): [0, 0], ('school', 'rev_course_school', 'course'): [2, 2], ('teacher', 'rev_course_teacher', 'course'): [2, 2], ('concept', 'rev_course_concept', 'course'): [13, 13]}, num_negative_samples: 1.0, lr: 0.005\n"
          ]
        },
        {
          "name": "stderr",
          "output_type": "stream",
          "text": [
            "100%|██████████| 591/591 [00:16<00:00, 36.82it/s]\n"
          ]
        },
        {
          "name": "stdout",
          "output_type": "stream",
          "text": [
            "Epoch: 000, Loss: 0.5098\n"
          ]
        },
        {
          "name": "stderr",
          "output_type": "stream",
          "text": [
            "100%|██████████| 591/591 [00:16<00:00, 36.48it/s]\n"
          ]
        },
        {
          "name": "stdout",
          "output_type": "stream",
          "text": [
            "Epoch: 001, Loss: 0.4656\n"
          ]
        },
        {
          "name": "stderr",
          "output_type": "stream",
          "text": [
            "100%|██████████| 591/591 [00:16<00:00, 36.93it/s]\n"
          ]
        },
        {
          "name": "stdout",
          "output_type": "stream",
          "text": [
            "Epoch: 002, Loss: 0.4512\n"
          ]
        },
        {
          "name": "stderr",
          "output_type": "stream",
          "text": [
            "100%|██████████| 591/591 [00:15<00:00, 37.01it/s]\n"
          ]
        },
        {
          "name": "stdout",
          "output_type": "stream",
          "text": [
            "Epoch: 003, Loss: 0.4359\n"
          ]
        },
        {
          "name": "stderr",
          "output_type": "stream",
          "text": [
            "100%|██████████| 591/591 [00:16<00:00, 35.89it/s]\n"
          ]
        },
        {
          "name": "stdout",
          "output_type": "stream",
          "text": [
            "Epoch: 004, Loss: 0.4290\n"
          ]
        },
        {
          "name": "stderr",
          "output_type": "stream",
          "text": [
            "100%|██████████| 591/591 [00:16<00:00, 35.28it/s]\n"
          ]
        },
        {
          "name": "stdout",
          "output_type": "stream",
          "text": [
            "Epoch: 005, Loss: 0.4231\n"
          ]
        },
        {
          "name": "stderr",
          "output_type": "stream",
          "text": [
            "100%|██████████| 591/591 [00:16<00:00, 36.21it/s]\n"
          ]
        },
        {
          "name": "stdout",
          "output_type": "stream",
          "text": [
            "Epoch: 006, Loss: 0.4175\n"
          ]
        },
        {
          "name": "stderr",
          "output_type": "stream",
          "text": [
            "100%|██████████| 591/591 [00:16<00:00, 36.31it/s]\n"
          ]
        },
        {
          "name": "stdout",
          "output_type": "stream",
          "text": [
            "Epoch: 007, Loss: 0.4128\n"
          ]
        },
        {
          "name": "stderr",
          "output_type": "stream",
          "text": [
            "100%|██████████| 591/591 [00:16<00:00, 36.76it/s]\n"
          ]
        },
        {
          "name": "stdout",
          "output_type": "stream",
          "text": [
            "Epoch: 008, Loss: 0.4085\n"
          ]
        },
        {
          "name": "stderr",
          "output_type": "stream",
          "text": [
            "100%|██████████| 591/591 [00:15<00:00, 37.38it/s]\n"
          ]
        },
        {
          "name": "stdout",
          "output_type": "stream",
          "text": [
            "Epoch: 009, Loss: 0.4078\n",
            "precision: 0.0011912034208918754\n",
            "recall: 0.003628940376802319\n",
            "ndcg: 0.24016528656886124\n",
            "Proxy(x)\n",
            "embed_size: 16, model: <class '__main__.Model'>, sampled_neighbours: {('course', 'course_school', 'school'): [2, 2], ('course', 'course_teacher', 'teacher'): [2, 2], ('course', 'course_concept', 'concept'): [13, 13], ('user', 'enroll', 'course'): [1, 0], ('course', 'rev_enroll', 'user'): [0, 0], ('school', 'rev_course_school', 'course'): [2, 2], ('teacher', 'rev_course_teacher', 'course'): [2, 2], ('concept', 'rev_course_concept', 'course'): [13, 13]}, num_negative_samples: 1.0, lr: 0.01\n"
          ]
        },
        {
          "name": "stderr",
          "output_type": "stream",
          "text": [
            "100%|██████████| 591/591 [00:15<00:00, 37.54it/s]\n"
          ]
        },
        {
          "name": "stdout",
          "output_type": "stream",
          "text": [
            "Epoch: 000, Loss: 0.5013\n"
          ]
        },
        {
          "name": "stderr",
          "output_type": "stream",
          "text": [
            "100%|██████████| 591/591 [00:15<00:00, 37.03it/s]\n"
          ]
        },
        {
          "name": "stdout",
          "output_type": "stream",
          "text": [
            "Epoch: 001, Loss: 0.4731\n"
          ]
        },
        {
          "name": "stderr",
          "output_type": "stream",
          "text": [
            "100%|██████████| 591/591 [00:15<00:00, 37.51it/s]\n"
          ]
        },
        {
          "name": "stdout",
          "output_type": "stream",
          "text": [
            "Epoch: 002, Loss: 0.4690\n"
          ]
        },
        {
          "name": "stderr",
          "output_type": "stream",
          "text": [
            "100%|██████████| 591/591 [00:15<00:00, 37.15it/s]\n"
          ]
        },
        {
          "name": "stdout",
          "output_type": "stream",
          "text": [
            "Epoch: 003, Loss: 0.4636\n"
          ]
        },
        {
          "name": "stderr",
          "output_type": "stream",
          "text": [
            "100%|██████████| 591/591 [00:15<00:00, 37.11it/s]\n"
          ]
        },
        {
          "name": "stdout",
          "output_type": "stream",
          "text": [
            "Epoch: 004, Loss: 0.4625\n"
          ]
        },
        {
          "name": "stderr",
          "output_type": "stream",
          "text": [
            "100%|██████████| 591/591 [00:16<00:00, 36.83it/s]\n"
          ]
        },
        {
          "name": "stdout",
          "output_type": "stream",
          "text": [
            "Epoch: 005, Loss: 0.4600\n"
          ]
        },
        {
          "name": "stderr",
          "output_type": "stream",
          "text": [
            "100%|██████████| 591/591 [00:16<00:00, 36.74it/s]\n"
          ]
        },
        {
          "name": "stdout",
          "output_type": "stream",
          "text": [
            "Epoch: 006, Loss: 0.4567\n"
          ]
        },
        {
          "name": "stderr",
          "output_type": "stream",
          "text": [
            "100%|██████████| 591/591 [00:16<00:00, 36.17it/s]\n"
          ]
        },
        {
          "name": "stdout",
          "output_type": "stream",
          "text": [
            "Epoch: 007, Loss: 0.4564\n"
          ]
        },
        {
          "name": "stderr",
          "output_type": "stream",
          "text": [
            "100%|██████████| 591/591 [00:16<00:00, 36.48it/s]\n"
          ]
        },
        {
          "name": "stdout",
          "output_type": "stream",
          "text": [
            "Epoch: 008, Loss: 0.4572\n"
          ]
        },
        {
          "name": "stderr",
          "output_type": "stream",
          "text": [
            "100%|██████████| 591/591 [00:16<00:00, 36.45it/s]\n"
          ]
        },
        {
          "name": "stdout",
          "output_type": "stream",
          "text": [
            "Epoch: 009, Loss: 0.4545\n",
            "precision: 0.0019242516799022604\n",
            "recall: 0.005259057885421121\n",
            "ndcg: 0.24016528656886124\n",
            "Proxy(x)\n",
            "embed_size: 16, model: <class '__main__.Model'>, sampled_neighbours: {('course', 'course_school', 'school'): [2, 2], ('course', 'course_teacher', 'teacher'): [2, 2], ('course', 'course_concept', 'concept'): [13, 13], ('user', 'enroll', 'course'): [1, 0], ('course', 'rev_enroll', 'user'): [0, 0], ('school', 'rev_course_school', 'course'): [2, 2], ('teacher', 'rev_course_teacher', 'course'): [2, 2], ('concept', 'rev_course_concept', 'course'): [13, 13]}, num_negative_samples: 2.0, lr: 0.001\n"
          ]
        },
        {
          "name": "stderr",
          "output_type": "stream",
          "text": [
            "100%|██████████| 591/591 [00:17<00:00, 34.45it/s]\n"
          ]
        },
        {
          "name": "stdout",
          "output_type": "stream",
          "text": [
            "Epoch: 000, Loss: 0.5246\n"
          ]
        },
        {
          "name": "stderr",
          "output_type": "stream",
          "text": [
            "100%|██████████| 591/591 [00:16<00:00, 34.78it/s]\n"
          ]
        },
        {
          "name": "stdout",
          "output_type": "stream",
          "text": [
            "Epoch: 001, Loss: 0.4520\n"
          ]
        },
        {
          "name": "stderr",
          "output_type": "stream",
          "text": [
            "100%|██████████| 591/591 [00:17<00:00, 34.14it/s]\n"
          ]
        },
        {
          "name": "stdout",
          "output_type": "stream",
          "text": [
            "Epoch: 002, Loss: 0.4424\n"
          ]
        },
        {
          "name": "stderr",
          "output_type": "stream",
          "text": [
            "100%|██████████| 591/591 [00:17<00:00, 34.59it/s]\n"
          ]
        },
        {
          "name": "stdout",
          "output_type": "stream",
          "text": [
            "Epoch: 003, Loss: 0.4361\n"
          ]
        },
        {
          "name": "stderr",
          "output_type": "stream",
          "text": [
            "100%|██████████| 591/591 [00:18<00:00, 32.48it/s]\n"
          ]
        },
        {
          "name": "stdout",
          "output_type": "stream",
          "text": [
            "Epoch: 004, Loss: 0.4304\n"
          ]
        },
        {
          "name": "stderr",
          "output_type": "stream",
          "text": [
            "100%|██████████| 591/591 [00:20<00:00, 29.26it/s]\n"
          ]
        },
        {
          "name": "stdout",
          "output_type": "stream",
          "text": [
            "Epoch: 005, Loss: 0.4224\n"
          ]
        },
        {
          "name": "stderr",
          "output_type": "stream",
          "text": [
            "100%|██████████| 591/591 [00:17<00:00, 34.31it/s]\n"
          ]
        },
        {
          "name": "stdout",
          "output_type": "stream",
          "text": [
            "Epoch: 006, Loss: 0.4172\n"
          ]
        },
        {
          "name": "stderr",
          "output_type": "stream",
          "text": [
            "100%|██████████| 591/591 [00:17<00:00, 34.26it/s]\n"
          ]
        },
        {
          "name": "stdout",
          "output_type": "stream",
          "text": [
            "Epoch: 007, Loss: 0.4116\n"
          ]
        },
        {
          "name": "stderr",
          "output_type": "stream",
          "text": [
            "100%|██████████| 591/591 [00:17<00:00, 34.15it/s]\n"
          ]
        },
        {
          "name": "stdout",
          "output_type": "stream",
          "text": [
            "Epoch: 008, Loss: 0.4076\n"
          ]
        },
        {
          "name": "stderr",
          "output_type": "stream",
          "text": [
            "100%|██████████| 591/591 [00:18<00:00, 32.52it/s]\n"
          ]
        },
        {
          "name": "stdout",
          "output_type": "stream",
          "text": [
            "Epoch: 009, Loss: 0.4035\n",
            "precision: 0.06478313989004277\n",
            "recall: 0.20547172582776413\n",
            "ndcg: 0.24016528656886124\n",
            "Proxy(x)\n",
            "embed_size: 16, model: <class '__main__.Model'>, sampled_neighbours: {('course', 'course_school', 'school'): [2, 2], ('course', 'course_teacher', 'teacher'): [2, 2], ('course', 'course_concept', 'concept'): [13, 13], ('user', 'enroll', 'course'): [1, 0], ('course', 'rev_enroll', 'user'): [0, 0], ('school', 'rev_course_school', 'course'): [2, 2], ('teacher', 'rev_course_teacher', 'course'): [2, 2], ('concept', 'rev_course_concept', 'course'): [13, 13]}, num_negative_samples: 2.0, lr: 0.005\n"
          ]
        },
        {
          "name": "stderr",
          "output_type": "stream",
          "text": [
            "100%|██████████| 591/591 [00:16<00:00, 35.60it/s]\n"
          ]
        },
        {
          "name": "stdout",
          "output_type": "stream",
          "text": [
            "Epoch: 000, Loss: 0.4689\n"
          ]
        },
        {
          "name": "stderr",
          "output_type": "stream",
          "text": [
            "100%|██████████| 591/591 [00:17<00:00, 34.74it/s]\n"
          ]
        },
        {
          "name": "stdout",
          "output_type": "stream",
          "text": [
            "Epoch: 001, Loss: 0.4336\n"
          ]
        },
        {
          "name": "stderr",
          "output_type": "stream",
          "text": [
            "100%|██████████| 591/591 [00:17<00:00, 34.37it/s]\n"
          ]
        },
        {
          "name": "stdout",
          "output_type": "stream",
          "text": [
            "Epoch: 002, Loss: 0.4188\n"
          ]
        },
        {
          "name": "stderr",
          "output_type": "stream",
          "text": [
            "100%|██████████| 591/591 [00:17<00:00, 34.60it/s]\n"
          ]
        },
        {
          "name": "stdout",
          "output_type": "stream",
          "text": [
            "Epoch: 003, Loss: 0.4093\n"
          ]
        },
        {
          "name": "stderr",
          "output_type": "stream",
          "text": [
            "100%|██████████| 591/591 [00:17<00:00, 33.89it/s]\n"
          ]
        },
        {
          "name": "stdout",
          "output_type": "stream",
          "text": [
            "Epoch: 004, Loss: 0.4040\n"
          ]
        },
        {
          "name": "stderr",
          "output_type": "stream",
          "text": [
            "100%|██████████| 591/591 [00:18<00:00, 32.51it/s]\n"
          ]
        },
        {
          "name": "stdout",
          "output_type": "stream",
          "text": [
            "Epoch: 005, Loss: 0.3985\n"
          ]
        },
        {
          "name": "stderr",
          "output_type": "stream",
          "text": [
            "100%|██████████| 591/591 [00:17<00:00, 34.00it/s]\n"
          ]
        },
        {
          "name": "stdout",
          "output_type": "stream",
          "text": [
            "Epoch: 006, Loss: 0.3961\n"
          ]
        },
        {
          "name": "stderr",
          "output_type": "stream",
          "text": [
            "100%|██████████| 591/591 [00:17<00:00, 34.14it/s]\n"
          ]
        },
        {
          "name": "stdout",
          "output_type": "stream",
          "text": [
            "Epoch: 007, Loss: 0.3930\n"
          ]
        },
        {
          "name": "stderr",
          "output_type": "stream",
          "text": [
            "100%|██████████| 591/591 [00:17<00:00, 34.35it/s]\n"
          ]
        },
        {
          "name": "stdout",
          "output_type": "stream",
          "text": [
            "Epoch: 008, Loss: 0.3887\n"
          ]
        },
        {
          "name": "stderr",
          "output_type": "stream",
          "text": [
            "100%|██████████| 591/591 [00:17<00:00, 34.24it/s]\n"
          ]
        },
        {
          "name": "stdout",
          "output_type": "stream",
          "text": [
            "Epoch: 009, Loss: 0.3860\n",
            "precision: 0.0678985949908369\n",
            "recall: 0.21771259989008807\n",
            "ndcg: 0.24016528656886124\n",
            "Proxy(x)\n",
            "embed_size: 16, model: <class '__main__.Model'>, sampled_neighbours: {('course', 'course_school', 'school'): [2, 2], ('course', 'course_teacher', 'teacher'): [2, 2], ('course', 'course_concept', 'concept'): [13, 13], ('user', 'enroll', 'course'): [1, 0], ('course', 'rev_enroll', 'user'): [0, 0], ('school', 'rev_course_school', 'course'): [2, 2], ('teacher', 'rev_course_teacher', 'course'): [2, 2], ('concept', 'rev_course_concept', 'course'): [13, 13]}, num_negative_samples: 2.0, lr: 0.01\n"
          ]
        },
        {
          "name": "stderr",
          "output_type": "stream",
          "text": [
            "100%|██████████| 591/591 [00:18<00:00, 31.95it/s]\n"
          ]
        },
        {
          "name": "stdout",
          "output_type": "stream",
          "text": [
            "Epoch: 000, Loss: 0.4616\n"
          ]
        },
        {
          "name": "stderr",
          "output_type": "stream",
          "text": [
            "100%|██████████| 591/591 [00:17<00:00, 32.92it/s]\n"
          ]
        },
        {
          "name": "stdout",
          "output_type": "stream",
          "text": [
            "Epoch: 001, Loss: 0.4323\n"
          ]
        },
        {
          "name": "stderr",
          "output_type": "stream",
          "text": [
            "100%|██████████| 591/591 [00:17<00:00, 33.91it/s]\n"
          ]
        },
        {
          "name": "stdout",
          "output_type": "stream",
          "text": [
            "Epoch: 002, Loss: 0.4243\n"
          ]
        },
        {
          "name": "stderr",
          "output_type": "stream",
          "text": [
            "100%|██████████| 591/591 [00:19<00:00, 29.85it/s]\n"
          ]
        },
        {
          "name": "stdout",
          "output_type": "stream",
          "text": [
            "Epoch: 003, Loss: 0.4202\n"
          ]
        },
        {
          "name": "stderr",
          "output_type": "stream",
          "text": [
            "100%|██████████| 591/591 [00:17<00:00, 33.91it/s]\n"
          ]
        },
        {
          "name": "stdout",
          "output_type": "stream",
          "text": [
            "Epoch: 004, Loss: 0.4166\n"
          ]
        },
        {
          "name": "stderr",
          "output_type": "stream",
          "text": [
            "100%|██████████| 591/591 [00:17<00:00, 34.18it/s]\n"
          ]
        },
        {
          "name": "stdout",
          "output_type": "stream",
          "text": [
            "Epoch: 005, Loss: 0.4139\n"
          ]
        },
        {
          "name": "stderr",
          "output_type": "stream",
          "text": [
            "100%|██████████| 591/591 [00:17<00:00, 33.72it/s]\n"
          ]
        },
        {
          "name": "stdout",
          "output_type": "stream",
          "text": [
            "Epoch: 006, Loss: 0.4117\n"
          ]
        },
        {
          "name": "stderr",
          "output_type": "stream",
          "text": [
            "100%|██████████| 591/591 [00:18<00:00, 32.29it/s]\n"
          ]
        },
        {
          "name": "stdout",
          "output_type": "stream",
          "text": [
            "Epoch: 007, Loss: 0.4099\n"
          ]
        },
        {
          "name": "stderr",
          "output_type": "stream",
          "text": [
            "100%|██████████| 591/591 [00:17<00:00, 34.21it/s]\n"
          ]
        },
        {
          "name": "stdout",
          "output_type": "stream",
          "text": [
            "Epoch: 008, Loss: 0.4091\n"
          ]
        },
        {
          "name": "stderr",
          "output_type": "stream",
          "text": [
            "100%|██████████| 591/591 [00:17<00:00, 33.97it/s]\n"
          ]
        },
        {
          "name": "stdout",
          "output_type": "stream",
          "text": [
            "Epoch: 009, Loss: 0.4084\n",
            "precision: 0.01693646915088577\n",
            "recall: 0.05047532464319997\n",
            "ndcg: 0.24016528656886124\n",
            "Proxy(x)\n",
            "embed_size: 16, model: <class '__main__.Model'>, sampled_neighbours: {('course', 'course_school', 'school'): [2, 2], ('course', 'course_teacher', 'teacher'): [2, 2], ('course', 'course_concept', 'concept'): [13, 13], ('user', 'enroll', 'course'): [1, 0], ('course', 'rev_enroll', 'user'): [0, 0], ('school', 'rev_course_school', 'course'): [2, 2], ('teacher', 'rev_course_teacher', 'course'): [2, 2], ('concept', 'rev_course_concept', 'course'): [13, 13]}, num_negative_samples: 4.0, lr: 0.001\n"
          ]
        },
        {
          "name": "stderr",
          "output_type": "stream",
          "text": [
            "100%|██████████| 591/591 [00:18<00:00, 31.48it/s]\n"
          ]
        },
        {
          "name": "stdout",
          "output_type": "stream",
          "text": [
            "Epoch: 000, Loss: 0.4440\n"
          ]
        },
        {
          "name": "stderr",
          "output_type": "stream",
          "text": [
            "100%|██████████| 591/591 [00:20<00:00, 28.71it/s]\n"
          ]
        },
        {
          "name": "stdout",
          "output_type": "stream",
          "text": [
            "Epoch: 001, Loss: 0.3658\n"
          ]
        },
        {
          "name": "stderr",
          "output_type": "stream",
          "text": [
            "100%|██████████| 591/591 [00:18<00:00, 31.50it/s]\n"
          ]
        },
        {
          "name": "stdout",
          "output_type": "stream",
          "text": [
            "Epoch: 002, Loss: 0.3576\n"
          ]
        },
        {
          "name": "stderr",
          "output_type": "stream",
          "text": [
            "100%|██████████| 591/591 [00:18<00:00, 31.51it/s]\n"
          ]
        },
        {
          "name": "stdout",
          "output_type": "stream",
          "text": [
            "Epoch: 003, Loss: 0.3551\n"
          ]
        },
        {
          "name": "stderr",
          "output_type": "stream",
          "text": [
            "100%|██████████| 591/591 [00:19<00:00, 30.21it/s]\n"
          ]
        },
        {
          "name": "stdout",
          "output_type": "stream",
          "text": [
            "Epoch: 004, Loss: 0.3508\n"
          ]
        },
        {
          "name": "stderr",
          "output_type": "stream",
          "text": [
            "100%|██████████| 591/591 [00:19<00:00, 29.79it/s]\n"
          ]
        },
        {
          "name": "stdout",
          "output_type": "stream",
          "text": [
            "Epoch: 005, Loss: 0.3457\n"
          ]
        },
        {
          "name": "stderr",
          "output_type": "stream",
          "text": [
            "100%|██████████| 591/591 [00:18<00:00, 31.46it/s]\n"
          ]
        },
        {
          "name": "stdout",
          "output_type": "stream",
          "text": [
            "Epoch: 006, Loss: 0.3410\n"
          ]
        },
        {
          "name": "stderr",
          "output_type": "stream",
          "text": [
            "100%|██████████| 591/591 [00:18<00:00, 32.01it/s]\n"
          ]
        },
        {
          "name": "stdout",
          "output_type": "stream",
          "text": [
            "Epoch: 007, Loss: 0.3369\n"
          ]
        },
        {
          "name": "stderr",
          "output_type": "stream",
          "text": [
            "100%|██████████| 591/591 [00:19<00:00, 29.70it/s]\n"
          ]
        },
        {
          "name": "stdout",
          "output_type": "stream",
          "text": [
            "Epoch: 008, Loss: 0.3324\n"
          ]
        },
        {
          "name": "stderr",
          "output_type": "stream",
          "text": [
            "100%|██████████| 591/591 [00:19<00:00, 30.89it/s]\n"
          ]
        },
        {
          "name": "stdout",
          "output_type": "stream",
          "text": [
            "Epoch: 009, Loss: 0.3308\n",
            "precision: 0.04746487477092241\n",
            "recall: 0.15732771474944657\n",
            "ndcg: 0.24016528656886124\n",
            "Proxy(x)\n",
            "embed_size: 16, model: <class '__main__.Model'>, sampled_neighbours: {('course', 'course_school', 'school'): [2, 2], ('course', 'course_teacher', 'teacher'): [2, 2], ('course', 'course_concept', 'concept'): [13, 13], ('user', 'enroll', 'course'): [1, 0], ('course', 'rev_enroll', 'user'): [0, 0], ('school', 'rev_course_school', 'course'): [2, 2], ('teacher', 'rev_course_teacher', 'course'): [2, 2], ('concept', 'rev_course_concept', 'course'): [13, 13]}, num_negative_samples: 4.0, lr: 0.005\n"
          ]
        },
        {
          "name": "stderr",
          "output_type": "stream",
          "text": [
            "100%|██████████| 591/591 [00:19<00:00, 30.54it/s]\n"
          ]
        },
        {
          "name": "stdout",
          "output_type": "stream",
          "text": [
            "Epoch: 000, Loss: 0.3835\n"
          ]
        },
        {
          "name": "stderr",
          "output_type": "stream",
          "text": [
            "100%|██████████| 591/591 [00:20<00:00, 28.47it/s]\n"
          ]
        },
        {
          "name": "stdout",
          "output_type": "stream",
          "text": [
            "Epoch: 001, Loss: 0.3504\n"
          ]
        },
        {
          "name": "stderr",
          "output_type": "stream",
          "text": [
            "100%|██████████| 591/591 [00:18<00:00, 31.36it/s]\n"
          ]
        },
        {
          "name": "stdout",
          "output_type": "stream",
          "text": [
            "Epoch: 002, Loss: 0.3382\n"
          ]
        },
        {
          "name": "stderr",
          "output_type": "stream",
          "text": [
            "100%|██████████| 591/591 [00:18<00:00, 31.20it/s]\n"
          ]
        },
        {
          "name": "stdout",
          "output_type": "stream",
          "text": [
            "Epoch: 003, Loss: 0.3316\n"
          ]
        },
        {
          "name": "stderr",
          "output_type": "stream",
          "text": [
            "100%|██████████| 591/591 [00:20<00:00, 29.42it/s]\n"
          ]
        },
        {
          "name": "stdout",
          "output_type": "stream",
          "text": [
            "Epoch: 004, Loss: 0.3266\n"
          ]
        },
        {
          "name": "stderr",
          "output_type": "stream",
          "text": [
            "100%|██████████| 591/591 [00:19<00:00, 30.55it/s]\n"
          ]
        },
        {
          "name": "stdout",
          "output_type": "stream",
          "text": [
            "Epoch: 005, Loss: 0.3214\n"
          ]
        },
        {
          "name": "stderr",
          "output_type": "stream",
          "text": [
            "100%|██████████| 591/591 [00:18<00:00, 31.33it/s]\n"
          ]
        },
        {
          "name": "stdout",
          "output_type": "stream",
          "text": [
            "Epoch: 006, Loss: 0.3173\n"
          ]
        },
        {
          "name": "stderr",
          "output_type": "stream",
          "text": [
            "100%|██████████| 591/591 [00:19<00:00, 30.89it/s]\n"
          ]
        },
        {
          "name": "stdout",
          "output_type": "stream",
          "text": [
            "Epoch: 007, Loss: 0.3150\n"
          ]
        },
        {
          "name": "stderr",
          "output_type": "stream",
          "text": [
            "100%|██████████| 591/591 [00:20<00:00, 29.27it/s]\n"
          ]
        },
        {
          "name": "stdout",
          "output_type": "stream",
          "text": [
            "Epoch: 008, Loss: 0.3117\n"
          ]
        },
        {
          "name": "stderr",
          "output_type": "stream",
          "text": [
            "100%|██████████| 591/591 [00:18<00:00, 31.32it/s]\n"
          ]
        },
        {
          "name": "stdout",
          "output_type": "stream",
          "text": [
            "Epoch: 009, Loss: 0.3092\n",
            "precision: 0.04376908979841172\n",
            "recall: 0.14259008808115067\n",
            "ndcg: 0.24016528656886124\n",
            "Proxy(x)\n",
            "embed_size: 16, model: <class '__main__.Model'>, sampled_neighbours: {('course', 'course_school', 'school'): [2, 2], ('course', 'course_teacher', 'teacher'): [2, 2], ('course', 'course_concept', 'concept'): [13, 13], ('user', 'enroll', 'course'): [1, 0], ('course', 'rev_enroll', 'user'): [0, 0], ('school', 'rev_course_school', 'course'): [2, 2], ('teacher', 'rev_course_teacher', 'course'): [2, 2], ('concept', 'rev_course_concept', 'course'): [13, 13]}, num_negative_samples: 4.0, lr: 0.01\n"
          ]
        },
        {
          "name": "stderr",
          "output_type": "stream",
          "text": [
            "100%|██████████| 591/591 [00:19<00:00, 30.12it/s]\n"
          ]
        },
        {
          "name": "stdout",
          "output_type": "stream",
          "text": [
            "Epoch: 000, Loss: 0.3703\n"
          ]
        },
        {
          "name": "stderr",
          "output_type": "stream",
          "text": [
            "100%|██████████| 591/591 [00:20<00:00, 28.94it/s]\n"
          ]
        },
        {
          "name": "stdout",
          "output_type": "stream",
          "text": [
            "Epoch: 001, Loss: 0.3474\n"
          ]
        },
        {
          "name": "stderr",
          "output_type": "stream",
          "text": [
            "100%|██████████| 591/591 [00:18<00:00, 31.41it/s]\n"
          ]
        },
        {
          "name": "stdout",
          "output_type": "stream",
          "text": [
            "Epoch: 002, Loss: 0.3400\n"
          ]
        },
        {
          "name": "stderr",
          "output_type": "stream",
          "text": [
            "100%|██████████| 591/591 [00:18<00:00, 31.45it/s]\n"
          ]
        },
        {
          "name": "stdout",
          "output_type": "stream",
          "text": [
            "Epoch: 003, Loss: 0.3365\n"
          ]
        },
        {
          "name": "stderr",
          "output_type": "stream",
          "text": [
            "100%|██████████| 591/591 [00:20<00:00, 28.53it/s]\n"
          ]
        },
        {
          "name": "stdout",
          "output_type": "stream",
          "text": [
            "Epoch: 004, Loss: 0.3349\n"
          ]
        },
        {
          "name": "stderr",
          "output_type": "stream",
          "text": [
            "100%|██████████| 591/591 [00:20<00:00, 28.52it/s]\n"
          ]
        },
        {
          "name": "stdout",
          "output_type": "stream",
          "text": [
            "Epoch: 005, Loss: 0.3333\n"
          ]
        },
        {
          "name": "stderr",
          "output_type": "stream",
          "text": [
            "100%|██████████| 591/591 [00:18<00:00, 31.12it/s]\n"
          ]
        },
        {
          "name": "stdout",
          "output_type": "stream",
          "text": [
            "Epoch: 006, Loss: 0.3316\n"
          ]
        },
        {
          "name": "stderr",
          "output_type": "stream",
          "text": [
            "100%|██████████| 591/591 [00:20<00:00, 28.99it/s]\n"
          ]
        },
        {
          "name": "stdout",
          "output_type": "stream",
          "text": [
            "Epoch: 007, Loss: 0.3299\n"
          ]
        },
        {
          "name": "stderr",
          "output_type": "stream",
          "text": [
            "100%|██████████| 591/591 [00:19<00:00, 30.15it/s]\n"
          ]
        },
        {
          "name": "stdout",
          "output_type": "stream",
          "text": [
            "Epoch: 008, Loss: 0.3288\n"
          ]
        },
        {
          "name": "stderr",
          "output_type": "stream",
          "text": [
            "100%|██████████| 591/591 [00:19<00:00, 31.04it/s]\n"
          ]
        },
        {
          "name": "stdout",
          "output_type": "stream",
          "text": [
            "Epoch: 009, Loss: 0.3273\n",
            "precision: 0.0446090409285278\n",
            "recall: 0.1489562425458882\n",
            "ndcg: 0.24016528656886124\n",
            "Proxy(x)\n",
            "embed_size: 16, model: <class '__main__.ModelSimple'>, sampled_neighbours: {('course', 'course_school', 'school'): [2, 2], ('course', 'course_teacher', 'teacher'): [2, 2], ('course', 'course_concept', 'concept'): [7, 7], ('user', 'enroll', 'course'): [1, 0], ('course', 'rev_enroll', 'user'): [0, 0], ('school', 'rev_course_school', 'course'): [2, 2], ('teacher', 'rev_course_teacher', 'course'): [2, 2], ('concept', 'rev_course_concept', 'course'): [7, 7]}, num_negative_samples: 1.0, lr: 0.001\n"
          ]
        },
        {
          "name": "stderr",
          "output_type": "stream",
          "text": [
            "100%|██████████| 591/591 [00:09<00:00, 62.87it/s]\n"
          ]
        },
        {
          "name": "stdout",
          "output_type": "stream",
          "text": [
            "Epoch: 000, Loss: 0.7667\n"
          ]
        },
        {
          "name": "stderr",
          "output_type": "stream",
          "text": [
            "100%|██████████| 591/591 [00:08<00:00, 73.27it/s]\n"
          ]
        },
        {
          "name": "stdout",
          "output_type": "stream",
          "text": [
            "Epoch: 001, Loss: 0.5662\n"
          ]
        },
        {
          "name": "stderr",
          "output_type": "stream",
          "text": [
            "100%|██████████| 591/591 [00:08<00:00, 68.39it/s]\n"
          ]
        },
        {
          "name": "stdout",
          "output_type": "stream",
          "text": [
            "Epoch: 002, Loss: 0.5008\n"
          ]
        },
        {
          "name": "stderr",
          "output_type": "stream",
          "text": [
            "100%|██████████| 591/591 [00:08<00:00, 66.85it/s]\n"
          ]
        },
        {
          "name": "stdout",
          "output_type": "stream",
          "text": [
            "Epoch: 003, Loss: 0.4842\n"
          ]
        },
        {
          "name": "stderr",
          "output_type": "stream",
          "text": [
            "100%|██████████| 591/591 [00:07<00:00, 75.13it/s]\n"
          ]
        },
        {
          "name": "stdout",
          "output_type": "stream",
          "text": [
            "Epoch: 004, Loss: 0.4766\n"
          ]
        },
        {
          "name": "stderr",
          "output_type": "stream",
          "text": [
            "100%|██████████| 591/591 [00:09<00:00, 64.38it/s]\n"
          ]
        },
        {
          "name": "stdout",
          "output_type": "stream",
          "text": [
            "Epoch: 005, Loss: 0.4734\n"
          ]
        },
        {
          "name": "stderr",
          "output_type": "stream",
          "text": [
            "100%|██████████| 591/591 [00:07<00:00, 78.77it/s]\n"
          ]
        },
        {
          "name": "stdout",
          "output_type": "stream",
          "text": [
            "Epoch: 006, Loss: 0.4712\n"
          ]
        },
        {
          "name": "stderr",
          "output_type": "stream",
          "text": [
            "100%|██████████| 591/591 [00:09<00:00, 64.85it/s]\n"
          ]
        },
        {
          "name": "stdout",
          "output_type": "stream",
          "text": [
            "Epoch: 007, Loss: 0.4664\n"
          ]
        },
        {
          "name": "stderr",
          "output_type": "stream",
          "text": [
            "100%|██████████| 591/591 [00:07<00:00, 79.88it/s]\n"
          ]
        },
        {
          "name": "stdout",
          "output_type": "stream",
          "text": [
            "Epoch: 008, Loss: 0.4648\n"
          ]
        },
        {
          "name": "stderr",
          "output_type": "stream",
          "text": [
            "100%|██████████| 591/591 [00:09<00:00, 64.65it/s]\n"
          ]
        },
        {
          "name": "stdout",
          "output_type": "stream",
          "text": [
            "Epoch: 009, Loss: 0.4565\n",
            "precision: 0.054153940134392176\n",
            "recall: 0.1672455750912951\n",
            "ndcg: 0.24016528656886124\n",
            "Proxy(x)\n",
            "embed_size: 16, model: <class '__main__.ModelSimple'>, sampled_neighbours: {('course', 'course_school', 'school'): [2, 2], ('course', 'course_teacher', 'teacher'): [2, 2], ('course', 'course_concept', 'concept'): [7, 7], ('user', 'enroll', 'course'): [1, 0], ('course', 'rev_enroll', 'user'): [0, 0], ('school', 'rev_course_school', 'course'): [2, 2], ('teacher', 'rev_course_teacher', 'course'): [2, 2], ('concept', 'rev_course_concept', 'course'): [7, 7]}, num_negative_samples: 1.0, lr: 0.005\n"
          ]
        },
        {
          "name": "stderr",
          "output_type": "stream",
          "text": [
            "100%|██████████| 591/591 [00:09<00:00, 64.12it/s]\n"
          ]
        },
        {
          "name": "stdout",
          "output_type": "stream",
          "text": [
            "Epoch: 000, Loss: 0.5614\n"
          ]
        },
        {
          "name": "stderr",
          "output_type": "stream",
          "text": [
            "100%|██████████| 591/591 [00:07<00:00, 78.96it/s]\n"
          ]
        },
        {
          "name": "stdout",
          "output_type": "stream",
          "text": [
            "Epoch: 001, Loss: 0.4798\n"
          ]
        },
        {
          "name": "stderr",
          "output_type": "stream",
          "text": [
            "100%|██████████| 591/591 [00:09<00:00, 64.28it/s]\n"
          ]
        },
        {
          "name": "stdout",
          "output_type": "stream",
          "text": [
            "Epoch: 002, Loss: 0.4703\n"
          ]
        },
        {
          "name": "stderr",
          "output_type": "stream",
          "text": [
            "100%|██████████| 591/591 [00:07<00:00, 79.75it/s]\n"
          ]
        },
        {
          "name": "stdout",
          "output_type": "stream",
          "text": [
            "Epoch: 003, Loss: 0.4537\n"
          ]
        },
        {
          "name": "stderr",
          "output_type": "stream",
          "text": [
            "100%|██████████| 591/591 [00:09<00:00, 65.21it/s]\n"
          ]
        },
        {
          "name": "stdout",
          "output_type": "stream",
          "text": [
            "Epoch: 004, Loss: 0.4403\n"
          ]
        },
        {
          "name": "stderr",
          "output_type": "stream",
          "text": [
            "100%|██████████| 591/591 [00:08<00:00, 73.45it/s]\n"
          ]
        },
        {
          "name": "stdout",
          "output_type": "stream",
          "text": [
            "Epoch: 005, Loss: 0.4335\n"
          ]
        },
        {
          "name": "stderr",
          "output_type": "stream",
          "text": [
            "100%|██████████| 591/591 [00:08<00:00, 69.91it/s]\n"
          ]
        },
        {
          "name": "stdout",
          "output_type": "stream",
          "text": [
            "Epoch: 006, Loss: 0.4256\n"
          ]
        },
        {
          "name": "stderr",
          "output_type": "stream",
          "text": [
            "100%|██████████| 591/591 [00:08<00:00, 66.85it/s]\n"
          ]
        },
        {
          "name": "stdout",
          "output_type": "stream",
          "text": [
            "Epoch: 007, Loss: 0.4185\n"
          ]
        },
        {
          "name": "stderr",
          "output_type": "stream",
          "text": [
            "100%|██████████| 591/591 [00:07<00:00, 75.44it/s]\n"
          ]
        },
        {
          "name": "stdout",
          "output_type": "stream",
          "text": [
            "Epoch: 008, Loss: 0.4117\n"
          ]
        },
        {
          "name": "stderr",
          "output_type": "stream",
          "text": [
            "100%|██████████| 591/591 [00:08<00:00, 66.08it/s]\n"
          ]
        },
        {
          "name": "stdout",
          "output_type": "stream",
          "text": [
            "Epoch: 009, Loss: 0.4022\n",
            "precision: 0.06345448992058644\n",
            "recall: 0.20295453690494167\n",
            "ndcg: 0.24016528656886124\n",
            "Proxy(x)\n",
            "embed_size: 16, model: <class '__main__.ModelSimple'>, sampled_neighbours: {('course', 'course_school', 'school'): [2, 2], ('course', 'course_teacher', 'teacher'): [2, 2], ('course', 'course_concept', 'concept'): [7, 7], ('user', 'enroll', 'course'): [1, 0], ('course', 'rev_enroll', 'user'): [0, 0], ('school', 'rev_course_school', 'course'): [2, 2], ('teacher', 'rev_course_teacher', 'course'): [2, 2], ('concept', 'rev_course_concept', 'course'): [7, 7]}, num_negative_samples: 1.0, lr: 0.01\n"
          ]
        },
        {
          "name": "stderr",
          "output_type": "stream",
          "text": [
            "100%|██████████| 591/591 [00:07<00:00, 76.62it/s]\n"
          ]
        },
        {
          "name": "stdout",
          "output_type": "stream",
          "text": [
            "Epoch: 000, Loss: 0.5405\n"
          ]
        },
        {
          "name": "stderr",
          "output_type": "stream",
          "text": [
            "100%|██████████| 591/591 [00:08<00:00, 68.37it/s]\n"
          ]
        },
        {
          "name": "stdout",
          "output_type": "stream",
          "text": [
            "Epoch: 001, Loss: 0.4804\n"
          ]
        },
        {
          "name": "stderr",
          "output_type": "stream",
          "text": [
            "100%|██████████| 591/591 [00:08<00:00, 69.62it/s]\n"
          ]
        },
        {
          "name": "stdout",
          "output_type": "stream",
          "text": [
            "Epoch: 002, Loss: 0.4605\n"
          ]
        },
        {
          "name": "stderr",
          "output_type": "stream",
          "text": [
            "100%|██████████| 591/591 [00:09<00:00, 60.02it/s]\n"
          ]
        },
        {
          "name": "stdout",
          "output_type": "stream",
          "text": [
            "Epoch: 003, Loss: 0.4497\n"
          ]
        },
        {
          "name": "stderr",
          "output_type": "stream",
          "text": [
            "100%|██████████| 591/591 [00:07<00:00, 74.18it/s]\n"
          ]
        },
        {
          "name": "stdout",
          "output_type": "stream",
          "text": [
            "Epoch: 004, Loss: 0.4379\n"
          ]
        },
        {
          "name": "stderr",
          "output_type": "stream",
          "text": [
            "100%|██████████| 591/591 [00:08<00:00, 72.02it/s]\n"
          ]
        },
        {
          "name": "stdout",
          "output_type": "stream",
          "text": [
            "Epoch: 005, Loss: 0.4352\n"
          ]
        },
        {
          "name": "stderr",
          "output_type": "stream",
          "text": [
            "100%|██████████| 591/591 [00:08<00:00, 69.79it/s]\n"
          ]
        },
        {
          "name": "stdout",
          "output_type": "stream",
          "text": [
            "Epoch: 006, Loss: 0.4283\n"
          ]
        },
        {
          "name": "stderr",
          "output_type": "stream",
          "text": [
            "100%|██████████| 591/591 [00:07<00:00, 75.52it/s]\n"
          ]
        },
        {
          "name": "stdout",
          "output_type": "stream",
          "text": [
            "Epoch: 007, Loss: 0.4219\n"
          ]
        },
        {
          "name": "stderr",
          "output_type": "stream",
          "text": [
            "100%|██████████| 591/591 [00:08<00:00, 66.41it/s]\n"
          ]
        },
        {
          "name": "stdout",
          "output_type": "stream",
          "text": [
            "Epoch: 008, Loss: 0.4130\n"
          ]
        },
        {
          "name": "stderr",
          "output_type": "stream",
          "text": [
            "100%|██████████| 591/591 [00:07<00:00, 83.94it/s]\n"
          ]
        },
        {
          "name": "stdout",
          "output_type": "stream",
          "text": [
            "Epoch: 009, Loss: 0.4063\n",
            "precision: 0.0468540012217471\n",
            "recall: 0.14817669796356803\n",
            "ndcg: 0.24016528656886124\n",
            "Proxy(x)\n",
            "embed_size: 16, model: <class '__main__.ModelSimple'>, sampled_neighbours: {('course', 'course_school', 'school'): [2, 2], ('course', 'course_teacher', 'teacher'): [2, 2], ('course', 'course_concept', 'concept'): [7, 7], ('user', 'enroll', 'course'): [1, 0], ('course', 'rev_enroll', 'user'): [0, 0], ('school', 'rev_course_school', 'course'): [2, 2], ('teacher', 'rev_course_teacher', 'course'): [2, 2], ('concept', 'rev_course_concept', 'course'): [7, 7]}, num_negative_samples: 2.0, lr: 0.001\n"
          ]
        },
        {
          "name": "stderr",
          "output_type": "stream",
          "text": [
            "100%|██████████| 591/591 [00:09<00:00, 60.40it/s]\n"
          ]
        },
        {
          "name": "stdout",
          "output_type": "stream",
          "text": [
            "Epoch: 000, Loss: 0.7039\n"
          ]
        },
        {
          "name": "stderr",
          "output_type": "stream",
          "text": [
            "100%|██████████| 591/591 [00:08<00:00, 66.85it/s]\n"
          ]
        },
        {
          "name": "stdout",
          "output_type": "stream",
          "text": [
            "Epoch: 001, Loss: 0.4930\n"
          ]
        },
        {
          "name": "stderr",
          "output_type": "stream",
          "text": [
            "100%|██████████| 591/591 [00:08<00:00, 67.96it/s]\n"
          ]
        },
        {
          "name": "stdout",
          "output_type": "stream",
          "text": [
            "Epoch: 002, Loss: 0.4549\n"
          ]
        },
        {
          "name": "stderr",
          "output_type": "stream",
          "text": [
            "100%|██████████| 591/591 [00:09<00:00, 61.55it/s]\n"
          ]
        },
        {
          "name": "stdout",
          "output_type": "stream",
          "text": [
            "Epoch: 003, Loss: 0.4458\n"
          ]
        },
        {
          "name": "stderr",
          "output_type": "stream",
          "text": [
            "100%|██████████| 591/591 [00:08<00:00, 73.17it/s]\n"
          ]
        },
        {
          "name": "stdout",
          "output_type": "stream",
          "text": [
            "Epoch: 004, Loss: 0.4415\n"
          ]
        },
        {
          "name": "stderr",
          "output_type": "stream",
          "text": [
            "100%|██████████| 591/591 [00:09<00:00, 59.53it/s]\n"
          ]
        },
        {
          "name": "stdout",
          "output_type": "stream",
          "text": [
            "Epoch: 005, Loss: 0.4390\n"
          ]
        },
        {
          "name": "stderr",
          "output_type": "stream",
          "text": [
            "100%|██████████| 591/591 [00:09<00:00, 65.05it/s]\n"
          ]
        },
        {
          "name": "stdout",
          "output_type": "stream",
          "text": [
            "Epoch: 006, Loss: 0.4368\n"
          ]
        },
        {
          "name": "stderr",
          "output_type": "stream",
          "text": [
            "100%|██████████| 591/591 [00:08<00:00, 68.93it/s]\n"
          ]
        },
        {
          "name": "stdout",
          "output_type": "stream",
          "text": [
            "Epoch: 007, Loss: 0.4354\n"
          ]
        },
        {
          "name": "stderr",
          "output_type": "stream",
          "text": [
            "100%|██████████| 591/591 [00:09<00:00, 60.92it/s]\n"
          ]
        },
        {
          "name": "stdout",
          "output_type": "stream",
          "text": [
            "Epoch: 008, Loss: 0.4305\n"
          ]
        },
        {
          "name": "stderr",
          "output_type": "stream",
          "text": [
            "100%|██████████| 591/591 [00:08<00:00, 72.31it/s]\n"
          ]
        },
        {
          "name": "stdout",
          "output_type": "stream",
          "text": [
            "Epoch: 009, Loss: 0.4258\n",
            "precision: 0.05505497861942578\n",
            "recall: 0.17209417682589032\n",
            "ndcg: 0.24016528656886124\n",
            "Proxy(x)\n",
            "embed_size: 16, model: <class '__main__.ModelSimple'>, sampled_neighbours: {('course', 'course_school', 'school'): [2, 2], ('course', 'course_teacher', 'teacher'): [2, 2], ('course', 'course_concept', 'concept'): [7, 7], ('user', 'enroll', 'course'): [1, 0], ('course', 'rev_enroll', 'user'): [0, 0], ('school', 'rev_course_school', 'course'): [2, 2], ('teacher', 'rev_course_teacher', 'course'): [2, 2], ('concept', 'rev_course_concept', 'course'): [7, 7]}, num_negative_samples: 2.0, lr: 0.005\n"
          ]
        },
        {
          "name": "stderr",
          "output_type": "stream",
          "text": [
            "100%|██████████| 591/591 [00:08<00:00, 69.10it/s]\n"
          ]
        },
        {
          "name": "stdout",
          "output_type": "stream",
          "text": [
            "Epoch: 000, Loss: 0.5185\n"
          ]
        },
        {
          "name": "stderr",
          "output_type": "stream",
          "text": [
            "100%|██████████| 591/591 [00:09<00:00, 62.14it/s]\n"
          ]
        },
        {
          "name": "stdout",
          "output_type": "stream",
          "text": [
            "Epoch: 001, Loss: 0.4451\n"
          ]
        },
        {
          "name": "stderr",
          "output_type": "stream",
          "text": [
            "100%|██████████| 591/591 [00:07<00:00, 75.20it/s]\n"
          ]
        },
        {
          "name": "stdout",
          "output_type": "stream",
          "text": [
            "Epoch: 002, Loss: 0.4389\n"
          ]
        },
        {
          "name": "stderr",
          "output_type": "stream",
          "text": [
            "100%|██████████| 591/591 [00:09<00:00, 61.19it/s]\n"
          ]
        },
        {
          "name": "stdout",
          "output_type": "stream",
          "text": [
            "Epoch: 003, Loss: 0.4256\n"
          ]
        },
        {
          "name": "stderr",
          "output_type": "stream",
          "text": [
            "100%|██████████| 591/591 [00:08<00:00, 67.64it/s]\n"
          ]
        },
        {
          "name": "stdout",
          "output_type": "stream",
          "text": [
            "Epoch: 004, Loss: 0.4123\n"
          ]
        },
        {
          "name": "stderr",
          "output_type": "stream",
          "text": [
            "100%|██████████| 591/591 [00:08<00:00, 66.96it/s]\n"
          ]
        },
        {
          "name": "stdout",
          "output_type": "stream",
          "text": [
            "Epoch: 005, Loss: 0.4031\n"
          ]
        },
        {
          "name": "stderr",
          "output_type": "stream",
          "text": [
            "100%|██████████| 591/591 [00:09<00:00, 62.16it/s]\n"
          ]
        },
        {
          "name": "stdout",
          "output_type": "stream",
          "text": [
            "Epoch: 006, Loss: 0.3957\n"
          ]
        },
        {
          "name": "stderr",
          "output_type": "stream",
          "text": [
            "100%|██████████| 591/591 [00:07<00:00, 75.08it/s]\n"
          ]
        },
        {
          "name": "stdout",
          "output_type": "stream",
          "text": [
            "Epoch: 007, Loss: 0.3869\n"
          ]
        },
        {
          "name": "stderr",
          "output_type": "stream",
          "text": [
            "100%|██████████| 591/591 [00:09<00:00, 60.45it/s]\n"
          ]
        },
        {
          "name": "stdout",
          "output_type": "stream",
          "text": [
            "Epoch: 008, Loss: 0.3796\n"
          ]
        },
        {
          "name": "stderr",
          "output_type": "stream",
          "text": [
            "100%|██████████| 591/591 [00:08<00:00, 68.42it/s]\n"
          ]
        },
        {
          "name": "stdout",
          "output_type": "stream",
          "text": [
            "Epoch: 009, Loss: 0.3717\n",
            "precision: 0.06585216860109958\n",
            "recall: 0.2073152878115194\n",
            "ndcg: 0.24016528656886124\n",
            "Proxy(x)\n",
            "embed_size: 16, model: <class '__main__.ModelSimple'>, sampled_neighbours: {('course', 'course_school', 'school'): [2, 2], ('course', 'course_teacher', 'teacher'): [2, 2], ('course', 'course_concept', 'concept'): [7, 7], ('user', 'enroll', 'course'): [1, 0], ('course', 'rev_enroll', 'user'): [0, 0], ('school', 'rev_course_school', 'course'): [2, 2], ('teacher', 'rev_course_teacher', 'course'): [2, 2], ('concept', 'rev_course_concept', 'course'): [7, 7]}, num_negative_samples: 2.0, lr: 0.01\n"
          ]
        },
        {
          "name": "stderr",
          "output_type": "stream",
          "text": [
            "100%|██████████| 591/591 [00:07<00:00, 75.33it/s]\n"
          ]
        },
        {
          "name": "stdout",
          "output_type": "stream",
          "text": [
            "Epoch: 000, Loss: 0.4901\n"
          ]
        },
        {
          "name": "stderr",
          "output_type": "stream",
          "text": [
            "100%|██████████| 591/591 [00:09<00:00, 59.68it/s]\n"
          ]
        },
        {
          "name": "stdout",
          "output_type": "stream",
          "text": [
            "Epoch: 001, Loss: 0.4447\n"
          ]
        },
        {
          "name": "stderr",
          "output_type": "stream",
          "text": [
            "100%|██████████| 591/591 [00:08<00:00, 71.35it/s]\n"
          ]
        },
        {
          "name": "stdout",
          "output_type": "stream",
          "text": [
            "Epoch: 002, Loss: 0.4281\n"
          ]
        },
        {
          "name": "stderr",
          "output_type": "stream",
          "text": [
            "100%|██████████| 591/591 [00:09<00:00, 64.28it/s]\n"
          ]
        },
        {
          "name": "stdout",
          "output_type": "stream",
          "text": [
            "Epoch: 003, Loss: 0.4169\n"
          ]
        },
        {
          "name": "stderr",
          "output_type": "stream",
          "text": [
            "100%|██████████| 591/591 [00:09<00:00, 61.32it/s]\n"
          ]
        },
        {
          "name": "stdout",
          "output_type": "stream",
          "text": [
            "Epoch: 004, Loss: 0.4089\n"
          ]
        },
        {
          "name": "stderr",
          "output_type": "stream",
          "text": [
            "100%|██████████| 591/591 [00:09<00:00, 59.89it/s]\n"
          ]
        },
        {
          "name": "stdout",
          "output_type": "stream",
          "text": [
            "Epoch: 005, Loss: 0.4017\n"
          ]
        },
        {
          "name": "stderr",
          "output_type": "stream",
          "text": [
            "100%|██████████| 591/591 [00:09<00:00, 61.62it/s]\n"
          ]
        },
        {
          "name": "stdout",
          "output_type": "stream",
          "text": [
            "Epoch: 006, Loss: 0.3930\n"
          ]
        },
        {
          "name": "stderr",
          "output_type": "stream",
          "text": [
            "100%|██████████| 591/591 [00:08<00:00, 65.72it/s]\n"
          ]
        },
        {
          "name": "stdout",
          "output_type": "stream",
          "text": [
            "Epoch: 007, Loss: 0.3856\n"
          ]
        },
        {
          "name": "stderr",
          "output_type": "stream",
          "text": [
            "100%|██████████| 591/591 [00:08<00:00, 69.70it/s]\n"
          ]
        },
        {
          "name": "stdout",
          "output_type": "stream",
          "text": [
            "Epoch: 008, Loss: 0.3811\n"
          ]
        },
        {
          "name": "stderr",
          "output_type": "stream",
          "text": [
            "100%|██████████| 591/591 [00:09<00:00, 62.84it/s]\n"
          ]
        },
        {
          "name": "stdout",
          "output_type": "stream",
          "text": [
            "Epoch: 009, Loss: 0.3750\n",
            "precision: 0.07150274893097129\n",
            "recall: 0.23150416611912486\n",
            "ndcg: 0.24016528656886124\n",
            "Proxy(x)\n",
            "embed_size: 16, model: <class '__main__.ModelSimple'>, sampled_neighbours: {('course', 'course_school', 'school'): [2, 2], ('course', 'course_teacher', 'teacher'): [2, 2], ('course', 'course_concept', 'concept'): [7, 7], ('user', 'enroll', 'course'): [1, 0], ('course', 'rev_enroll', 'user'): [0, 0], ('school', 'rev_course_school', 'course'): [2, 2], ('teacher', 'rev_course_teacher', 'course'): [2, 2], ('concept', 'rev_course_concept', 'course'): [7, 7]}, num_negative_samples: 4.0, lr: 0.001\n"
          ]
        },
        {
          "name": "stderr",
          "output_type": "stream",
          "text": [
            "100%|██████████| 591/591 [00:09<00:00, 62.75it/s]\n"
          ]
        },
        {
          "name": "stdout",
          "output_type": "stream",
          "text": [
            "Epoch: 000, Loss: 0.5636\n"
          ]
        },
        {
          "name": "stderr",
          "output_type": "stream",
          "text": [
            "100%|██████████| 591/591 [00:09<00:00, 63.59it/s]\n"
          ]
        },
        {
          "name": "stdout",
          "output_type": "stream",
          "text": [
            "Epoch: 001, Loss: 0.3896\n"
          ]
        },
        {
          "name": "stderr",
          "output_type": "stream",
          "text": [
            "100%|██████████| 591/591 [00:10<00:00, 57.25it/s]\n"
          ]
        },
        {
          "name": "stdout",
          "output_type": "stream",
          "text": [
            "Epoch: 002, Loss: 0.3636\n"
          ]
        },
        {
          "name": "stderr",
          "output_type": "stream",
          "text": [
            "100%|██████████| 591/591 [00:08<00:00, 66.26it/s]\n"
          ]
        },
        {
          "name": "stdout",
          "output_type": "stream",
          "text": [
            "Epoch: 003, Loss: 0.3583\n"
          ]
        },
        {
          "name": "stderr",
          "output_type": "stream",
          "text": [
            "100%|██████████| 591/591 [00:09<00:00, 60.33it/s]\n"
          ]
        },
        {
          "name": "stdout",
          "output_type": "stream",
          "text": [
            "Epoch: 004, Loss: 0.3563\n"
          ]
        },
        {
          "name": "stderr",
          "output_type": "stream",
          "text": [
            "100%|██████████| 591/591 [00:10<00:00, 58.52it/s]\n"
          ]
        },
        {
          "name": "stdout",
          "output_type": "stream",
          "text": [
            "Epoch: 005, Loss: 0.3549\n"
          ]
        },
        {
          "name": "stderr",
          "output_type": "stream",
          "text": [
            "100%|██████████| 591/591 [00:08<00:00, 70.00it/s]\n"
          ]
        },
        {
          "name": "stdout",
          "output_type": "stream",
          "text": [
            "Epoch: 006, Loss: 0.3535\n"
          ]
        },
        {
          "name": "stderr",
          "output_type": "stream",
          "text": [
            "100%|██████████| 591/591 [00:10<00:00, 58.36it/s]\n"
          ]
        },
        {
          "name": "stdout",
          "output_type": "stream",
          "text": [
            "Epoch: 007, Loss: 0.3526\n"
          ]
        },
        {
          "name": "stderr",
          "output_type": "stream",
          "text": [
            "100%|██████████| 591/591 [00:10<00:00, 57.06it/s]\n"
          ]
        },
        {
          "name": "stdout",
          "output_type": "stream",
          "text": [
            "Epoch: 008, Loss: 0.3485\n"
          ]
        },
        {
          "name": "stderr",
          "output_type": "stream",
          "text": [
            "100%|██████████| 591/591 [00:08<00:00, 70.12it/s]\n"
          ]
        },
        {
          "name": "stdout",
          "output_type": "stream",
          "text": [
            "Epoch: 009, Loss: 0.3445\n",
            "precision: 0.05696395846059866\n",
            "recall: 0.1767248063519663\n",
            "ndcg: 0.24016528656886124\n",
            "Proxy(x)\n",
            "embed_size: 16, model: <class '__main__.ModelSimple'>, sampled_neighbours: {('course', 'course_school', 'school'): [2, 2], ('course', 'course_teacher', 'teacher'): [2, 2], ('course', 'course_concept', 'concept'): [7, 7], ('user', 'enroll', 'course'): [1, 0], ('course', 'rev_enroll', 'user'): [0, 0], ('school', 'rev_course_school', 'course'): [2, 2], ('teacher', 'rev_course_teacher', 'course'): [2, 2], ('concept', 'rev_course_concept', 'course'): [7, 7]}, num_negative_samples: 4.0, lr: 0.005\n"
          ]
        },
        {
          "name": "stderr",
          "output_type": "stream",
          "text": [
            "100%|██████████| 591/591 [00:09<00:00, 60.73it/s]\n"
          ]
        },
        {
          "name": "stdout",
          "output_type": "stream",
          "text": [
            "Epoch: 000, Loss: 0.4167\n"
          ]
        },
        {
          "name": "stderr",
          "output_type": "stream",
          "text": [
            "100%|██████████| 591/591 [00:10<00:00, 57.58it/s]\n"
          ]
        },
        {
          "name": "stdout",
          "output_type": "stream",
          "text": [
            "Epoch: 001, Loss: 0.3586\n"
          ]
        },
        {
          "name": "stderr",
          "output_type": "stream",
          "text": [
            "100%|██████████| 591/591 [00:08<00:00, 66.86it/s]\n"
          ]
        },
        {
          "name": "stdout",
          "output_type": "stream",
          "text": [
            "Epoch: 002, Loss: 0.3519\n"
          ]
        },
        {
          "name": "stderr",
          "output_type": "stream",
          "text": [
            "100%|██████████| 591/591 [00:09<00:00, 59.30it/s]\n"
          ]
        },
        {
          "name": "stdout",
          "output_type": "stream",
          "text": [
            "Epoch: 003, Loss: 0.3417\n"
          ]
        },
        {
          "name": "stderr",
          "output_type": "stream",
          "text": [
            "100%|██████████| 591/591 [00:10<00:00, 57.15it/s]\n"
          ]
        },
        {
          "name": "stdout",
          "output_type": "stream",
          "text": [
            "Epoch: 004, Loss: 0.3349\n"
          ]
        },
        {
          "name": "stderr",
          "output_type": "stream",
          "text": [
            "100%|██████████| 591/591 [00:08<00:00, 65.86it/s]\n"
          ]
        },
        {
          "name": "stdout",
          "output_type": "stream",
          "text": [
            "Epoch: 005, Loss: 0.3280\n"
          ]
        },
        {
          "name": "stderr",
          "output_type": "stream",
          "text": [
            "100%|██████████| 591/591 [00:10<00:00, 56.66it/s]\n"
          ]
        },
        {
          "name": "stdout",
          "output_type": "stream",
          "text": [
            "Epoch: 006, Loss: 0.3215\n"
          ]
        },
        {
          "name": "stderr",
          "output_type": "stream",
          "text": [
            "100%|██████████| 591/591 [00:10<00:00, 57.07it/s]\n"
          ]
        },
        {
          "name": "stdout",
          "output_type": "stream",
          "text": [
            "Epoch: 007, Loss: 0.3144\n"
          ]
        },
        {
          "name": "stderr",
          "output_type": "stream",
          "text": [
            "100%|██████████| 591/591 [00:08<00:00, 67.25it/s]\n"
          ]
        },
        {
          "name": "stdout",
          "output_type": "stream",
          "text": [
            "Epoch: 008, Loss: 0.3093\n"
          ]
        },
        {
          "name": "stderr",
          "output_type": "stream",
          "text": [
            "100%|██████████| 591/591 [00:10<00:00, 57.64it/s]\n"
          ]
        },
        {
          "name": "stdout",
          "output_type": "stream",
          "text": [
            "Epoch: 009, Loss: 0.3039\n",
            "precision: 0.0629505192425168\n",
            "recall: 0.19891639085346874\n",
            "ndcg: 0.24016528656886124\n",
            "Proxy(x)\n",
            "embed_size: 16, model: <class '__main__.ModelSimple'>, sampled_neighbours: {('course', 'course_school', 'school'): [2, 2], ('course', 'course_teacher', 'teacher'): [2, 2], ('course', 'course_concept', 'concept'): [7, 7], ('user', 'enroll', 'course'): [1, 0], ('course', 'rev_enroll', 'user'): [0, 0], ('school', 'rev_course_school', 'course'): [2, 2], ('teacher', 'rev_course_teacher', 'course'): [2, 2], ('concept', 'rev_course_concept', 'course'): [7, 7]}, num_negative_samples: 4.0, lr: 0.01\n"
          ]
        },
        {
          "name": "stderr",
          "output_type": "stream",
          "text": [
            "100%|██████████| 591/591 [00:10<00:00, 56.70it/s]\n"
          ]
        },
        {
          "name": "stdout",
          "output_type": "stream",
          "text": [
            "Epoch: 000, Loss: 0.3969\n"
          ]
        },
        {
          "name": "stderr",
          "output_type": "stream",
          "text": [
            "100%|██████████| 591/591 [00:09<00:00, 63.30it/s]\n"
          ]
        },
        {
          "name": "stdout",
          "output_type": "stream",
          "text": [
            "Epoch: 001, Loss: 0.3568\n"
          ]
        },
        {
          "name": "stderr",
          "output_type": "stream",
          "text": [
            "100%|██████████| 591/591 [00:09<00:00, 61.00it/s]\n"
          ]
        },
        {
          "name": "stdout",
          "output_type": "stream",
          "text": [
            "Epoch: 002, Loss: 0.3436\n"
          ]
        },
        {
          "name": "stderr",
          "output_type": "stream",
          "text": [
            "100%|██████████| 591/591 [00:11<00:00, 50.21it/s]\n"
          ]
        },
        {
          "name": "stdout",
          "output_type": "stream",
          "text": [
            "Epoch: 003, Loss: 0.3350\n"
          ]
        },
        {
          "name": "stderr",
          "output_type": "stream",
          "text": [
            "100%|██████████| 591/591 [00:09<00:00, 64.50it/s]\n"
          ]
        },
        {
          "name": "stdout",
          "output_type": "stream",
          "text": [
            "Epoch: 004, Loss: 0.3252\n"
          ]
        },
        {
          "name": "stderr",
          "output_type": "stream",
          "text": [
            "100%|██████████| 591/591 [00:10<00:00, 55.61it/s]\n"
          ]
        },
        {
          "name": "stdout",
          "output_type": "stream",
          "text": [
            "Epoch: 005, Loss: 0.3189\n"
          ]
        },
        {
          "name": "stderr",
          "output_type": "stream",
          "text": [
            "100%|██████████| 591/591 [00:10<00:00, 57.10it/s]\n"
          ]
        },
        {
          "name": "stdout",
          "output_type": "stream",
          "text": [
            "Epoch: 006, Loss: 0.3148\n"
          ]
        },
        {
          "name": "stderr",
          "output_type": "stream",
          "text": [
            "100%|██████████| 591/591 [00:08<00:00, 68.15it/s]\n"
          ]
        },
        {
          "name": "stdout",
          "output_type": "stream",
          "text": [
            "Epoch: 007, Loss: 0.3098\n"
          ]
        },
        {
          "name": "stderr",
          "output_type": "stream",
          "text": [
            "100%|██████████| 591/591 [00:10<00:00, 58.46it/s]\n"
          ]
        },
        {
          "name": "stdout",
          "output_type": "stream",
          "text": [
            "Epoch: 008, Loss: 0.3046\n"
          ]
        },
        {
          "name": "stderr",
          "output_type": "stream",
          "text": [
            "100%|██████████| 591/591 [00:10<00:00, 56.75it/s]\n"
          ]
        },
        {
          "name": "stdout",
          "output_type": "stream",
          "text": [
            "Epoch: 009, Loss: 0.3012\n",
            "precision: 0.05969761759315821\n",
            "recall: 0.19911321461956472\n",
            "ndcg: 0.24016528656886124\n",
            "Proxy(x)\n",
            "embed_size: 16, model: <class '__main__.ModelSimple'>, sampled_neighbours: {('course', 'course_school', 'school'): [2, 2], ('course', 'course_teacher', 'teacher'): [2, 2], ('course', 'course_concept', 'concept'): [10, 10], ('user', 'enroll', 'course'): [1, 0], ('course', 'rev_enroll', 'user'): [0, 0], ('school', 'rev_course_school', 'course'): [2, 2], ('teacher', 'rev_course_teacher', 'course'): [2, 2], ('concept', 'rev_course_concept', 'course'): [10, 10]}, num_negative_samples: 1.0, lr: 0.001\n"
          ]
        },
        {
          "name": "stderr",
          "output_type": "stream",
          "text": [
            "100%|██████████| 591/591 [00:07<00:00, 75.22it/s]\n"
          ]
        },
        {
          "name": "stdout",
          "output_type": "stream",
          "text": [
            "Epoch: 000, Loss: 0.7374\n"
          ]
        },
        {
          "name": "stderr",
          "output_type": "stream",
          "text": [
            "100%|██████████| 591/591 [00:09<00:00, 61.73it/s]\n"
          ]
        },
        {
          "name": "stdout",
          "output_type": "stream",
          "text": [
            "Epoch: 001, Loss: 0.5486\n"
          ]
        },
        {
          "name": "stderr",
          "output_type": "stream",
          "text": [
            "100%|██████████| 591/591 [00:09<00:00, 62.81it/s]\n"
          ]
        },
        {
          "name": "stdout",
          "output_type": "stream",
          "text": [
            "Epoch: 002, Loss: 0.4961\n"
          ]
        },
        {
          "name": "stderr",
          "output_type": "stream",
          "text": [
            "100%|██████████| 591/591 [00:08<00:00, 71.36it/s]\n"
          ]
        },
        {
          "name": "stdout",
          "output_type": "stream",
          "text": [
            "Epoch: 003, Loss: 0.4806\n"
          ]
        },
        {
          "name": "stderr",
          "output_type": "stream",
          "text": [
            "100%|██████████| 591/591 [00:09<00:00, 61.75it/s]\n"
          ]
        },
        {
          "name": "stdout",
          "output_type": "stream",
          "text": [
            "Epoch: 004, Loss: 0.4745\n"
          ]
        },
        {
          "name": "stderr",
          "output_type": "stream",
          "text": [
            "100%|██████████| 591/591 [00:07<00:00, 73.88it/s]\n"
          ]
        },
        {
          "name": "stdout",
          "output_type": "stream",
          "text": [
            "Epoch: 005, Loss: 0.4701\n"
          ]
        },
        {
          "name": "stderr",
          "output_type": "stream",
          "text": [
            "100%|██████████| 591/591 [00:09<00:00, 60.54it/s]\n"
          ]
        },
        {
          "name": "stdout",
          "output_type": "stream",
          "text": [
            "Epoch: 006, Loss: 0.4700\n"
          ]
        },
        {
          "name": "stderr",
          "output_type": "stream",
          "text": [
            "100%|██████████| 591/591 [00:09<00:00, 62.38it/s]\n"
          ]
        },
        {
          "name": "stdout",
          "output_type": "stream",
          "text": [
            "Epoch: 007, Loss: 0.4674\n"
          ]
        },
        {
          "name": "stderr",
          "output_type": "stream",
          "text": [
            "100%|██████████| 591/591 [00:08<00:00, 70.95it/s]\n"
          ]
        },
        {
          "name": "stdout",
          "output_type": "stream",
          "text": [
            "Epoch: 008, Loss: 0.4631\n"
          ]
        },
        {
          "name": "stderr",
          "output_type": "stream",
          "text": [
            "100%|██████████| 591/591 [00:09<00:00, 60.95it/s]\n"
          ]
        },
        {
          "name": "stdout",
          "output_type": "stream",
          "text": [
            "Epoch: 009, Loss: 0.4585\n",
            "precision: 0.06649358582773365\n",
            "recall: 0.21069145181139115\n",
            "ndcg: 0.24016528656886124\n",
            "Proxy(x)\n",
            "embed_size: 16, model: <class '__main__.ModelSimple'>, sampled_neighbours: {('course', 'course_school', 'school'): [2, 2], ('course', 'course_teacher', 'teacher'): [2, 2], ('course', 'course_concept', 'concept'): [10, 10], ('user', 'enroll', 'course'): [1, 0], ('course', 'rev_enroll', 'user'): [0, 0], ('school', 'rev_course_school', 'course'): [2, 2], ('teacher', 'rev_course_teacher', 'course'): [2, 2], ('concept', 'rev_course_concept', 'course'): [10, 10]}, num_negative_samples: 1.0, lr: 0.005\n"
          ]
        },
        {
          "name": "stderr",
          "output_type": "stream",
          "text": [
            "100%|██████████| 591/591 [00:09<00:00, 64.91it/s]\n"
          ]
        },
        {
          "name": "stdout",
          "output_type": "stream",
          "text": [
            "Epoch: 000, Loss: 0.5654\n"
          ]
        },
        {
          "name": "stderr",
          "output_type": "stream",
          "text": [
            "100%|██████████| 591/591 [00:08<00:00, 69.49it/s]\n"
          ]
        },
        {
          "name": "stdout",
          "output_type": "stream",
          "text": [
            "Epoch: 001, Loss: 0.4785\n"
          ]
        },
        {
          "name": "stderr",
          "output_type": "stream",
          "text": [
            "100%|██████████| 591/591 [00:09<00:00, 61.58it/s]\n"
          ]
        },
        {
          "name": "stdout",
          "output_type": "stream",
          "text": [
            "Epoch: 002, Loss: 0.4700\n"
          ]
        },
        {
          "name": "stderr",
          "output_type": "stream",
          "text": [
            "100%|██████████| 591/591 [00:07<00:00, 75.96it/s]\n"
          ]
        },
        {
          "name": "stdout",
          "output_type": "stream",
          "text": [
            "Epoch: 003, Loss: 0.4557\n"
          ]
        },
        {
          "name": "stderr",
          "output_type": "stream",
          "text": [
            "100%|██████████| 591/591 [00:09<00:00, 60.74it/s]\n"
          ]
        },
        {
          "name": "stdout",
          "output_type": "stream",
          "text": [
            "Epoch: 004, Loss: 0.4410\n"
          ]
        },
        {
          "name": "stderr",
          "output_type": "stream",
          "text": [
            "100%|██████████| 591/591 [00:08<00:00, 67.60it/s]\n"
          ]
        },
        {
          "name": "stdout",
          "output_type": "stream",
          "text": [
            "Epoch: 005, Loss: 0.4311\n"
          ]
        },
        {
          "name": "stderr",
          "output_type": "stream",
          "text": [
            "100%|██████████| 591/591 [00:08<00:00, 66.18it/s]\n"
          ]
        },
        {
          "name": "stdout",
          "output_type": "stream",
          "text": [
            "Epoch: 006, Loss: 0.4238\n"
          ]
        },
        {
          "name": "stderr",
          "output_type": "stream",
          "text": [
            "100%|██████████| 591/591 [00:09<00:00, 62.38it/s]\n"
          ]
        },
        {
          "name": "stdout",
          "output_type": "stream",
          "text": [
            "Epoch: 007, Loss: 0.4158\n"
          ]
        },
        {
          "name": "stderr",
          "output_type": "stream",
          "text": [
            "100%|██████████| 591/591 [00:08<00:00, 73.72it/s]\n"
          ]
        },
        {
          "name": "stdout",
          "output_type": "stream",
          "text": [
            "Epoch: 008, Loss: 0.4072\n"
          ]
        },
        {
          "name": "stderr",
          "output_type": "stream",
          "text": [
            "100%|██████████| 591/591 [00:09<00:00, 59.88it/s]\n"
          ]
        },
        {
          "name": "stdout",
          "output_type": "stream",
          "text": [
            "Epoch: 009, Loss: 0.4003\n",
            "precision: 0.07501527183872939\n",
            "recall: 0.2374720850738003\n",
            "ndcg: 0.24016528656886124\n",
            "Proxy(x)\n",
            "embed_size: 16, model: <class '__main__.ModelSimple'>, sampled_neighbours: {('course', 'course_school', 'school'): [2, 2], ('course', 'course_teacher', 'teacher'): [2, 2], ('course', 'course_concept', 'concept'): [10, 10], ('user', 'enroll', 'course'): [1, 0], ('course', 'rev_enroll', 'user'): [0, 0], ('school', 'rev_course_school', 'course'): [2, 2], ('teacher', 'rev_course_teacher', 'course'): [2, 2], ('concept', 'rev_course_concept', 'course'): [10, 10]}, num_negative_samples: 1.0, lr: 0.01\n"
          ]
        },
        {
          "name": "stderr",
          "output_type": "stream",
          "text": [
            "100%|██████████| 591/591 [00:09<00:00, 59.75it/s]\n"
          ]
        },
        {
          "name": "stdout",
          "output_type": "stream",
          "text": [
            "Epoch: 000, Loss: 0.5379\n"
          ]
        },
        {
          "name": "stderr",
          "output_type": "stream",
          "text": [
            "100%|██████████| 591/591 [00:08<00:00, 73.75it/s]\n"
          ]
        },
        {
          "name": "stdout",
          "output_type": "stream",
          "text": [
            "Epoch: 001, Loss: 0.4832\n"
          ]
        },
        {
          "name": "stderr",
          "output_type": "stream",
          "text": [
            "100%|██████████| 591/591 [00:10<00:00, 55.88it/s]\n"
          ]
        },
        {
          "name": "stdout",
          "output_type": "stream",
          "text": [
            "Epoch: 002, Loss: 0.4620\n"
          ]
        },
        {
          "name": "stderr",
          "output_type": "stream",
          "text": [
            "100%|██████████| 591/591 [00:09<00:00, 59.23it/s]\n"
          ]
        },
        {
          "name": "stdout",
          "output_type": "stream",
          "text": [
            "Epoch: 003, Loss: 0.4474\n"
          ]
        },
        {
          "name": "stderr",
          "output_type": "stream",
          "text": [
            "100%|██████████| 591/591 [00:08<00:00, 69.15it/s]\n"
          ]
        },
        {
          "name": "stdout",
          "output_type": "stream",
          "text": [
            "Epoch: 004, Loss: 0.4421\n"
          ]
        },
        {
          "name": "stderr",
          "output_type": "stream",
          "text": [
            "100%|██████████| 591/591 [00:09<00:00, 60.88it/s]\n"
          ]
        },
        {
          "name": "stdout",
          "output_type": "stream",
          "text": [
            "Epoch: 005, Loss: 0.4326\n"
          ]
        },
        {
          "name": "stderr",
          "output_type": "stream",
          "text": [
            "100%|██████████| 591/591 [00:07<00:00, 76.20it/s]\n"
          ]
        },
        {
          "name": "stdout",
          "output_type": "stream",
          "text": [
            "Epoch: 006, Loss: 0.4213\n"
          ]
        },
        {
          "name": "stderr",
          "output_type": "stream",
          "text": [
            "100%|██████████| 591/591 [00:09<00:00, 60.84it/s]\n"
          ]
        },
        {
          "name": "stdout",
          "output_type": "stream",
          "text": [
            "Epoch: 007, Loss: 0.4173\n"
          ]
        },
        {
          "name": "stderr",
          "output_type": "stream",
          "text": [
            "100%|██████████| 591/591 [00:08<00:00, 66.00it/s]\n"
          ]
        },
        {
          "name": "stdout",
          "output_type": "stream",
          "text": [
            "Epoch: 008, Loss: 0.4087\n"
          ]
        },
        {
          "name": "stderr",
          "output_type": "stream",
          "text": [
            "100%|██████████| 591/591 [00:08<00:00, 67.90it/s]\n"
          ]
        },
        {
          "name": "stdout",
          "output_type": "stream",
          "text": [
            "Epoch: 009, Loss: 0.4021\n",
            "precision: 0.0690745265729994\n",
            "recall: 0.2201775217969094\n",
            "ndcg: 0.24016528656886124\n",
            "Proxy(x)\n",
            "embed_size: 16, model: <class '__main__.ModelSimple'>, sampled_neighbours: {('course', 'course_school', 'school'): [2, 2], ('course', 'course_teacher', 'teacher'): [2, 2], ('course', 'course_concept', 'concept'): [10, 10], ('user', 'enroll', 'course'): [1, 0], ('course', 'rev_enroll', 'user'): [0, 0], ('school', 'rev_course_school', 'course'): [2, 2], ('teacher', 'rev_course_teacher', 'course'): [2, 2], ('concept', 'rev_course_concept', 'course'): [10, 10]}, num_negative_samples: 2.0, lr: 0.001\n"
          ]
        },
        {
          "name": "stderr",
          "output_type": "stream",
          "text": [
            "100%|██████████| 591/591 [00:10<00:00, 57.09it/s]\n"
          ]
        },
        {
          "name": "stdout",
          "output_type": "stream",
          "text": [
            "Epoch: 000, Loss: 0.6752\n"
          ]
        },
        {
          "name": "stderr",
          "output_type": "stream",
          "text": [
            "100%|██████████| 591/591 [00:09<00:00, 61.56it/s]\n"
          ]
        },
        {
          "name": "stdout",
          "output_type": "stream",
          "text": [
            "Epoch: 001, Loss: 0.4870\n"
          ]
        },
        {
          "name": "stderr",
          "output_type": "stream",
          "text": [
            "100%|██████████| 591/591 [00:09<00:00, 63.51it/s]\n"
          ]
        },
        {
          "name": "stdout",
          "output_type": "stream",
          "text": [
            "Epoch: 002, Loss: 0.4517\n"
          ]
        },
        {
          "name": "stderr",
          "output_type": "stream",
          "text": [
            "100%|██████████| 591/591 [00:10<00:00, 57.40it/s]\n"
          ]
        },
        {
          "name": "stdout",
          "output_type": "stream",
          "text": [
            "Epoch: 003, Loss: 0.4450\n"
          ]
        },
        {
          "name": "stderr",
          "output_type": "stream",
          "text": [
            "100%|██████████| 591/591 [00:09<00:00, 62.91it/s]\n"
          ]
        },
        {
          "name": "stdout",
          "output_type": "stream",
          "text": [
            "Epoch: 004, Loss: 0.4416\n"
          ]
        },
        {
          "name": "stderr",
          "output_type": "stream",
          "text": [
            "100%|██████████| 591/591 [00:09<00:00, 60.46it/s]\n"
          ]
        },
        {
          "name": "stdout",
          "output_type": "stream",
          "text": [
            "Epoch: 005, Loss: 0.4384\n"
          ]
        },
        {
          "name": "stderr",
          "output_type": "stream",
          "text": [
            "100%|██████████| 591/591 [00:10<00:00, 56.51it/s]\n"
          ]
        },
        {
          "name": "stdout",
          "output_type": "stream",
          "text": [
            "Epoch: 006, Loss: 0.4365\n"
          ]
        },
        {
          "name": "stderr",
          "output_type": "stream",
          "text": [
            "100%|██████████| 591/591 [00:09<00:00, 64.46it/s]\n"
          ]
        },
        {
          "name": "stdout",
          "output_type": "stream",
          "text": [
            "Epoch: 007, Loss: 0.4327\n"
          ]
        },
        {
          "name": "stderr",
          "output_type": "stream",
          "text": [
            "100%|██████████| 591/591 [00:09<00:00, 59.48it/s]\n"
          ]
        },
        {
          "name": "stdout",
          "output_type": "stream",
          "text": [
            "Epoch: 008, Loss: 0.4296\n"
          ]
        },
        {
          "name": "stderr",
          "output_type": "stream",
          "text": [
            "100%|██████████| 591/591 [00:10<00:00, 57.57it/s]\n"
          ]
        },
        {
          "name": "stdout",
          "output_type": "stream",
          "text": [
            "Epoch: 009, Loss: 0.4246\n",
            "precision: 0.05238240684178375\n",
            "recall: 0.16484742608868083\n",
            "ndcg: 0.24016528656886124\n",
            "Proxy(x)\n",
            "embed_size: 16, model: <class '__main__.ModelSimple'>, sampled_neighbours: {('course', 'course_school', 'school'): [2, 2], ('course', 'course_teacher', 'teacher'): [2, 2], ('course', 'course_concept', 'concept'): [10, 10], ('user', 'enroll', 'course'): [1, 0], ('course', 'rev_enroll', 'user'): [0, 0], ('school', 'rev_course_school', 'course'): [2, 2], ('teacher', 'rev_course_teacher', 'course'): [2, 2], ('concept', 'rev_course_concept', 'course'): [10, 10]}, num_negative_samples: 2.0, lr: 0.005\n"
          ]
        },
        {
          "name": "stderr",
          "output_type": "stream",
          "text": [
            "100%|██████████| 591/591 [00:09<00:00, 62.46it/s]\n"
          ]
        },
        {
          "name": "stdout",
          "output_type": "stream",
          "text": [
            "Epoch: 000, Loss: 0.5164\n"
          ]
        },
        {
          "name": "stderr",
          "output_type": "stream",
          "text": [
            "100%|██████████| 591/591 [00:09<00:00, 62.94it/s]\n"
          ]
        },
        {
          "name": "stdout",
          "output_type": "stream",
          "text": [
            "Epoch: 001, Loss: 0.4460\n"
          ]
        },
        {
          "name": "stderr",
          "output_type": "stream",
          "text": [
            "100%|██████████| 591/591 [00:10<00:00, 57.38it/s]\n"
          ]
        },
        {
          "name": "stdout",
          "output_type": "stream",
          "text": [
            "Epoch: 002, Loss: 0.4390\n"
          ]
        },
        {
          "name": "stderr",
          "output_type": "stream",
          "text": [
            "100%|██████████| 591/591 [00:09<00:00, 63.86it/s]\n"
          ]
        },
        {
          "name": "stdout",
          "output_type": "stream",
          "text": [
            "Epoch: 003, Loss: 0.4226\n"
          ]
        },
        {
          "name": "stderr",
          "output_type": "stream",
          "text": [
            "100%|██████████| 591/591 [00:09<00:00, 60.83it/s]\n"
          ]
        },
        {
          "name": "stdout",
          "output_type": "stream",
          "text": [
            "Epoch: 004, Loss: 0.4119\n"
          ]
        },
        {
          "name": "stderr",
          "output_type": "stream",
          "text": [
            "100%|██████████| 591/591 [00:10<00:00, 57.11it/s]\n"
          ]
        },
        {
          "name": "stdout",
          "output_type": "stream",
          "text": [
            "Epoch: 005, Loss: 0.4045\n"
          ]
        },
        {
          "name": "stderr",
          "output_type": "stream",
          "text": [
            "100%|██████████| 591/591 [00:08<00:00, 67.50it/s]\n"
          ]
        },
        {
          "name": "stdout",
          "output_type": "stream",
          "text": [
            "Epoch: 006, Loss: 0.3963\n"
          ]
        },
        {
          "name": "stderr",
          "output_type": "stream",
          "text": [
            "100%|██████████| 591/591 [00:10<00:00, 58.76it/s]\n"
          ]
        },
        {
          "name": "stdout",
          "output_type": "stream",
          "text": [
            "Epoch: 007, Loss: 0.3911\n"
          ]
        },
        {
          "name": "stderr",
          "output_type": "stream",
          "text": [
            "100%|██████████| 591/591 [00:10<00:00, 57.23it/s]\n"
          ]
        },
        {
          "name": "stdout",
          "output_type": "stream",
          "text": [
            "Epoch: 008, Loss: 0.3823\n"
          ]
        },
        {
          "name": "stderr",
          "output_type": "stream",
          "text": [
            "100%|██████████| 591/591 [00:08<00:00, 68.71it/s]\n"
          ]
        },
        {
          "name": "stdout",
          "output_type": "stream",
          "text": [
            "Epoch: 009, Loss: 0.3741\n",
            "precision: 0.037034208918753815\n",
            "recall: 0.1187303287617359\n",
            "ndcg: 0.24016528656886124\n",
            "Proxy(x)\n",
            "embed_size: 16, model: <class '__main__.ModelSimple'>, sampled_neighbours: {('course', 'course_school', 'school'): [2, 2], ('course', 'course_teacher', 'teacher'): [2, 2], ('course', 'course_concept', 'concept'): [10, 10], ('user', 'enroll', 'course'): [1, 0], ('course', 'rev_enroll', 'user'): [0, 0], ('school', 'rev_course_school', 'course'): [2, 2], ('teacher', 'rev_course_teacher', 'course'): [2, 2], ('concept', 'rev_course_concept', 'course'): [10, 10]}, num_negative_samples: 2.0, lr: 0.01\n"
          ]
        },
        {
          "name": "stderr",
          "output_type": "stream",
          "text": [
            "100%|██████████| 591/591 [00:09<00:00, 63.55it/s]\n"
          ]
        },
        {
          "name": "stdout",
          "output_type": "stream",
          "text": [
            "Epoch: 000, Loss: 0.4899\n"
          ]
        },
        {
          "name": "stderr",
          "output_type": "stream",
          "text": [
            "100%|██████████| 591/591 [00:10<00:00, 56.03it/s]\n"
          ]
        },
        {
          "name": "stdout",
          "output_type": "stream",
          "text": [
            "Epoch: 001, Loss: 0.4415\n"
          ]
        },
        {
          "name": "stderr",
          "output_type": "stream",
          "text": [
            "100%|██████████| 591/591 [00:09<00:00, 60.60it/s]\n"
          ]
        },
        {
          "name": "stdout",
          "output_type": "stream",
          "text": [
            "Epoch: 002, Loss: 0.4263\n"
          ]
        },
        {
          "name": "stderr",
          "output_type": "stream",
          "text": [
            "100%|██████████| 591/591 [00:09<00:00, 62.49it/s]\n"
          ]
        },
        {
          "name": "stdout",
          "output_type": "stream",
          "text": [
            "Epoch: 003, Loss: 0.4159\n"
          ]
        },
        {
          "name": "stderr",
          "output_type": "stream",
          "text": [
            "100%|██████████| 591/591 [00:10<00:00, 57.20it/s]\n"
          ]
        },
        {
          "name": "stdout",
          "output_type": "stream",
          "text": [
            "Epoch: 004, Loss: 0.4080\n"
          ]
        },
        {
          "name": "stderr",
          "output_type": "stream",
          "text": [
            "100%|██████████| 591/591 [00:09<00:00, 63.32it/s]\n"
          ]
        },
        {
          "name": "stdout",
          "output_type": "stream",
          "text": [
            "Epoch: 005, Loss: 0.3976\n"
          ]
        },
        {
          "name": "stderr",
          "output_type": "stream",
          "text": [
            "100%|██████████| 591/591 [00:09<00:00, 61.45it/s]\n"
          ]
        },
        {
          "name": "stdout",
          "output_type": "stream",
          "text": [
            "Epoch: 006, Loss: 0.3890\n"
          ]
        },
        {
          "name": "stderr",
          "output_type": "stream",
          "text": [
            "100%|██████████| 591/591 [00:10<00:00, 56.26it/s]\n"
          ]
        },
        {
          "name": "stdout",
          "output_type": "stream",
          "text": [
            "Epoch: 007, Loss: 0.3798\n"
          ]
        },
        {
          "name": "stderr",
          "output_type": "stream",
          "text": [
            "100%|██████████| 591/591 [00:08<00:00, 67.66it/s]\n"
          ]
        },
        {
          "name": "stdout",
          "output_type": "stream",
          "text": [
            "Epoch: 008, Loss: 0.3727\n"
          ]
        },
        {
          "name": "stderr",
          "output_type": "stream",
          "text": [
            "100%|██████████| 591/591 [00:10<00:00, 58.46it/s]\n"
          ]
        },
        {
          "name": "stdout",
          "output_type": "stream",
          "text": [
            "Epoch: 009, Loss: 0.3667\n",
            "precision: 0.06866218692730605\n",
            "recall: 0.21509128905272776\n",
            "ndcg: 0.24016528656886124\n",
            "Proxy(x)\n",
            "embed_size: 16, model: <class '__main__.ModelSimple'>, sampled_neighbours: {('course', 'course_school', 'school'): [2, 2], ('course', 'course_teacher', 'teacher'): [2, 2], ('course', 'course_concept', 'concept'): [10, 10], ('user', 'enroll', 'course'): [1, 0], ('course', 'rev_enroll', 'user'): [0, 0], ('school', 'rev_course_school', 'course'): [2, 2], ('teacher', 'rev_course_teacher', 'course'): [2, 2], ('concept', 'rev_course_concept', 'course'): [10, 10]}, num_negative_samples: 4.0, lr: 0.001\n"
          ]
        },
        {
          "name": "stderr",
          "output_type": "stream",
          "text": [
            "100%|██████████| 591/591 [00:11<00:00, 52.46it/s]\n"
          ]
        },
        {
          "name": "stdout",
          "output_type": "stream",
          "text": [
            "Epoch: 000, Loss: 0.5657\n"
          ]
        },
        {
          "name": "stderr",
          "output_type": "stream",
          "text": [
            "100%|██████████| 591/591 [00:11<00:00, 53.35it/s]\n"
          ]
        },
        {
          "name": "stdout",
          "output_type": "stream",
          "text": [
            "Epoch: 001, Loss: 0.3862\n"
          ]
        },
        {
          "name": "stderr",
          "output_type": "stream",
          "text": [
            "100%|██████████| 591/591 [00:09<00:00, 60.71it/s]\n"
          ]
        },
        {
          "name": "stdout",
          "output_type": "stream",
          "text": [
            "Epoch: 002, Loss: 0.3633\n"
          ]
        },
        {
          "name": "stderr",
          "output_type": "stream",
          "text": [
            "100%|██████████| 591/591 [00:11<00:00, 51.69it/s]\n"
          ]
        },
        {
          "name": "stdout",
          "output_type": "stream",
          "text": [
            "Epoch: 003, Loss: 0.3579\n"
          ]
        },
        {
          "name": "stderr",
          "output_type": "stream",
          "text": [
            "100%|██████████| 591/591 [00:11<00:00, 52.76it/s]\n"
          ]
        },
        {
          "name": "stdout",
          "output_type": "stream",
          "text": [
            "Epoch: 004, Loss: 0.3563\n"
          ]
        },
        {
          "name": "stderr",
          "output_type": "stream",
          "text": [
            "100%|██████████| 591/591 [00:09<00:00, 59.64it/s]\n"
          ]
        },
        {
          "name": "stdout",
          "output_type": "stream",
          "text": [
            "Epoch: 005, Loss: 0.3547\n"
          ]
        },
        {
          "name": "stderr",
          "output_type": "stream",
          "text": [
            "100%|██████████| 591/591 [00:10<00:00, 55.58it/s]\n"
          ]
        },
        {
          "name": "stdout",
          "output_type": "stream",
          "text": [
            "Epoch: 006, Loss: 0.3527\n"
          ]
        },
        {
          "name": "stderr",
          "output_type": "stream",
          "text": [
            "100%|██████████| 591/591 [00:11<00:00, 52.78it/s]\n"
          ]
        },
        {
          "name": "stdout",
          "output_type": "stream",
          "text": [
            "Epoch: 007, Loss: 0.3507\n"
          ]
        },
        {
          "name": "stderr",
          "output_type": "stream",
          "text": [
            "100%|██████████| 591/591 [00:10<00:00, 54.30it/s]\n"
          ]
        },
        {
          "name": "stdout",
          "output_type": "stream",
          "text": [
            "Epoch: 008, Loss: 0.3482\n"
          ]
        },
        {
          "name": "stderr",
          "output_type": "stream",
          "text": [
            "100%|██████████| 591/591 [00:10<00:00, 58.91it/s]\n"
          ]
        },
        {
          "name": "stdout",
          "output_type": "stream",
          "text": [
            "Epoch: 009, Loss: 0.3437\n",
            "precision: 0.06730299328039095\n",
            "recall: 0.21236630052327385\n",
            "ndcg: 0.24016528656886124\n",
            "Proxy(x)\n",
            "embed_size: 16, model: <class '__main__.ModelSimple'>, sampled_neighbours: {('course', 'course_school', 'school'): [2, 2], ('course', 'course_teacher', 'teacher'): [2, 2], ('course', 'course_concept', 'concept'): [10, 10], ('user', 'enroll', 'course'): [1, 0], ('course', 'rev_enroll', 'user'): [0, 0], ('school', 'rev_course_school', 'course'): [2, 2], ('teacher', 'rev_course_teacher', 'course'): [2, 2], ('concept', 'rev_course_concept', 'course'): [10, 10]}, num_negative_samples: 4.0, lr: 0.005\n"
          ]
        },
        {
          "name": "stderr",
          "output_type": "stream",
          "text": [
            "100%|██████████| 591/591 [00:10<00:00, 55.80it/s]\n"
          ]
        },
        {
          "name": "stdout",
          "output_type": "stream",
          "text": [
            "Epoch: 000, Loss: 0.4165\n"
          ]
        },
        {
          "name": "stderr",
          "output_type": "stream",
          "text": [
            "100%|██████████| 591/591 [00:11<00:00, 52.35it/s]\n"
          ]
        },
        {
          "name": "stdout",
          "output_type": "stream",
          "text": [
            "Epoch: 001, Loss: 0.3584\n"
          ]
        },
        {
          "name": "stderr",
          "output_type": "stream",
          "text": [
            "100%|██████████| 591/591 [00:11<00:00, 52.54it/s]\n"
          ]
        },
        {
          "name": "stdout",
          "output_type": "stream",
          "text": [
            "Epoch: 002, Loss: 0.3538\n"
          ]
        },
        {
          "name": "stderr",
          "output_type": "stream",
          "text": [
            "100%|██████████| 591/591 [00:09<00:00, 61.66it/s]\n"
          ]
        },
        {
          "name": "stdout",
          "output_type": "stream",
          "text": [
            "Epoch: 003, Loss: 0.3431\n"
          ]
        },
        {
          "name": "stderr",
          "output_type": "stream",
          "text": [
            "100%|██████████| 591/591 [00:13<00:00, 43.82it/s]\n"
          ]
        },
        {
          "name": "stdout",
          "output_type": "stream",
          "text": [
            "Epoch: 004, Loss: 0.3343\n"
          ]
        },
        {
          "name": "stderr",
          "output_type": "stream",
          "text": [
            "100%|██████████| 591/591 [00:11<00:00, 52.38it/s]\n"
          ]
        },
        {
          "name": "stdout",
          "output_type": "stream",
          "text": [
            "Epoch: 005, Loss: 0.3277\n"
          ]
        },
        {
          "name": "stderr",
          "output_type": "stream",
          "text": [
            "100%|██████████| 591/591 [00:10<00:00, 56.30it/s]\n"
          ]
        },
        {
          "name": "stdout",
          "output_type": "stream",
          "text": [
            "Epoch: 006, Loss: 0.3201\n"
          ]
        },
        {
          "name": "stderr",
          "output_type": "stream",
          "text": [
            "100%|██████████| 591/591 [00:10<00:00, 57.24it/s]\n"
          ]
        },
        {
          "name": "stdout",
          "output_type": "stream",
          "text": [
            "Epoch: 007, Loss: 0.3128\n"
          ]
        },
        {
          "name": "stderr",
          "output_type": "stream",
          "text": [
            "100%|██████████| 591/591 [00:11<00:00, 50.81it/s]\n"
          ]
        },
        {
          "name": "stdout",
          "output_type": "stream",
          "text": [
            "Epoch: 008, Loss: 0.3062\n"
          ]
        },
        {
          "name": "stderr",
          "output_type": "stream",
          "text": [
            "100%|██████████| 591/591 [00:11<00:00, 51.59it/s]\n"
          ]
        },
        {
          "name": "stdout",
          "output_type": "stream",
          "text": [
            "Epoch: 009, Loss: 0.3002\n",
            "precision: 0.07521380574221136\n",
            "recall: 0.23929261532371174\n",
            "ndcg: 0.24016528656886124\n",
            "Proxy(x)\n",
            "embed_size: 16, model: <class '__main__.ModelSimple'>, sampled_neighbours: {('course', 'course_school', 'school'): [2, 2], ('course', 'course_teacher', 'teacher'): [2, 2], ('course', 'course_concept', 'concept'): [10, 10], ('user', 'enroll', 'course'): [1, 0], ('course', 'rev_enroll', 'user'): [0, 0], ('school', 'rev_course_school', 'course'): [2, 2], ('teacher', 'rev_course_teacher', 'course'): [2, 2], ('concept', 'rev_course_concept', 'course'): [10, 10]}, num_negative_samples: 4.0, lr: 0.01\n"
          ]
        },
        {
          "name": "stderr",
          "output_type": "stream",
          "text": [
            "100%|██████████| 591/591 [00:10<00:00, 54.03it/s]\n"
          ]
        },
        {
          "name": "stdout",
          "output_type": "stream",
          "text": [
            "Epoch: 000, Loss: 0.3958\n"
          ]
        },
        {
          "name": "stderr",
          "output_type": "stream",
          "text": [
            "100%|██████████| 591/591 [00:09<00:00, 59.27it/s]\n"
          ]
        },
        {
          "name": "stdout",
          "output_type": "stream",
          "text": [
            "Epoch: 001, Loss: 0.3562\n"
          ]
        },
        {
          "name": "stderr",
          "output_type": "stream",
          "text": [
            "100%|██████████| 591/591 [00:11<00:00, 52.64it/s]\n"
          ]
        },
        {
          "name": "stdout",
          "output_type": "stream",
          "text": [
            "Epoch: 002, Loss: 0.3435\n"
          ]
        },
        {
          "name": "stderr",
          "output_type": "stream",
          "text": [
            "100%|██████████| 591/591 [00:11<00:00, 52.99it/s]\n"
          ]
        },
        {
          "name": "stdout",
          "output_type": "stream",
          "text": [
            "Epoch: 003, Loss: 0.3340\n"
          ]
        },
        {
          "name": "stderr",
          "output_type": "stream",
          "text": [
            "100%|██████████| 591/591 [00:09<00:00, 61.36it/s]\n"
          ]
        },
        {
          "name": "stdout",
          "output_type": "stream",
          "text": [
            "Epoch: 004, Loss: 0.3246\n"
          ]
        },
        {
          "name": "stderr",
          "output_type": "stream",
          "text": [
            "100%|██████████| 591/591 [00:11<00:00, 53.23it/s]\n"
          ]
        },
        {
          "name": "stdout",
          "output_type": "stream",
          "text": [
            "Epoch: 005, Loss: 0.3183\n"
          ]
        },
        {
          "name": "stderr",
          "output_type": "stream",
          "text": [
            "100%|██████████| 591/591 [00:11<00:00, 51.88it/s]\n"
          ]
        },
        {
          "name": "stdout",
          "output_type": "stream",
          "text": [
            "Epoch: 006, Loss: 0.3147\n"
          ]
        },
        {
          "name": "stderr",
          "output_type": "stream",
          "text": [
            "100%|██████████| 591/591 [00:10<00:00, 54.33it/s]\n"
          ]
        },
        {
          "name": "stdout",
          "output_type": "stream",
          "text": [
            "Epoch: 007, Loss: 0.3097\n"
          ]
        },
        {
          "name": "stderr",
          "output_type": "stream",
          "text": [
            "100%|██████████| 591/591 [00:10<00:00, 57.70it/s]\n"
          ]
        },
        {
          "name": "stdout",
          "output_type": "stream",
          "text": [
            "Epoch: 008, Loss: 0.3044\n"
          ]
        },
        {
          "name": "stderr",
          "output_type": "stream",
          "text": [
            "100%|██████████| 591/591 [00:11<00:00, 51.89it/s]\n"
          ]
        },
        {
          "name": "stdout",
          "output_type": "stream",
          "text": [
            "Epoch: 009, Loss: 0.2981\n",
            "precision: 0.0784208918753818\n",
            "recall: 0.2504395830845624\n",
            "ndcg: 0.24016528656886124\n",
            "Proxy(x)\n",
            "embed_size: 16, model: <class '__main__.ModelSimple'>, sampled_neighbours: {('course', 'course_school', 'school'): [2, 2], ('course', 'course_teacher', 'teacher'): [2, 2], ('course', 'course_concept', 'concept'): [13, 13], ('user', 'enroll', 'course'): [1, 0], ('course', 'rev_enroll', 'user'): [0, 0], ('school', 'rev_course_school', 'course'): [2, 2], ('teacher', 'rev_course_teacher', 'course'): [2, 2], ('concept', 'rev_course_concept', 'course'): [13, 13]}, num_negative_samples: 1.0, lr: 0.001\n"
          ]
        },
        {
          "name": "stderr",
          "output_type": "stream",
          "text": [
            "100%|██████████| 591/591 [00:10<00:00, 57.83it/s]\n"
          ]
        },
        {
          "name": "stdout",
          "output_type": "stream",
          "text": [
            "Epoch: 000, Loss: 0.7360\n"
          ]
        },
        {
          "name": "stderr",
          "output_type": "stream",
          "text": [
            "100%|██████████| 591/591 [00:08<00:00, 70.68it/s]\n"
          ]
        },
        {
          "name": "stdout",
          "output_type": "stream",
          "text": [
            "Epoch: 001, Loss: 0.5484\n"
          ]
        },
        {
          "name": "stderr",
          "output_type": "stream",
          "text": [
            "100%|██████████| 591/591 [00:10<00:00, 57.45it/s]\n"
          ]
        },
        {
          "name": "stdout",
          "output_type": "stream",
          "text": [
            "Epoch: 002, Loss: 0.4990\n"
          ]
        },
        {
          "name": "stderr",
          "output_type": "stream",
          "text": [
            "100%|██████████| 591/591 [00:10<00:00, 58.36it/s]\n"
          ]
        },
        {
          "name": "stdout",
          "output_type": "stream",
          "text": [
            "Epoch: 003, Loss: 0.4804\n"
          ]
        },
        {
          "name": "stderr",
          "output_type": "stream",
          "text": [
            "100%|██████████| 591/591 [00:08<00:00, 70.07it/s]\n"
          ]
        },
        {
          "name": "stdout",
          "output_type": "stream",
          "text": [
            "Epoch: 004, Loss: 0.4750\n"
          ]
        },
        {
          "name": "stderr",
          "output_type": "stream",
          "text": [
            "100%|██████████| 591/591 [00:10<00:00, 58.27it/s]\n"
          ]
        },
        {
          "name": "stdout",
          "output_type": "stream",
          "text": [
            "Epoch: 005, Loss: 0.4717\n"
          ]
        },
        {
          "name": "stderr",
          "output_type": "stream",
          "text": [
            "100%|██████████| 591/591 [00:09<00:00, 63.29it/s]\n"
          ]
        },
        {
          "name": "stdout",
          "output_type": "stream",
          "text": [
            "Epoch: 006, Loss: 0.4709\n"
          ]
        },
        {
          "name": "stderr",
          "output_type": "stream",
          "text": [
            "100%|██████████| 591/591 [00:09<00:00, 64.73it/s]\n"
          ]
        },
        {
          "name": "stdout",
          "output_type": "stream",
          "text": [
            "Epoch: 007, Loss: 0.4704\n"
          ]
        },
        {
          "name": "stderr",
          "output_type": "stream",
          "text": [
            "100%|██████████| 591/591 [00:10<00:00, 57.93it/s]\n"
          ]
        },
        {
          "name": "stdout",
          "output_type": "stream",
          "text": [
            "Epoch: 008, Loss: 0.4657\n"
          ]
        },
        {
          "name": "stderr",
          "output_type": "stream",
          "text": [
            "100%|██████████| 591/591 [00:11<00:00, 52.92it/s]\n"
          ]
        },
        {
          "name": "stdout",
          "output_type": "stream",
          "text": [
            "Epoch: 009, Loss: 0.4628\n",
            "precision: 0.055497861942577886\n",
            "recall: 0.17121372673967014\n",
            "ndcg: 0.24016528656886124\n",
            "Proxy(x)\n",
            "embed_size: 16, model: <class '__main__.ModelSimple'>, sampled_neighbours: {('course', 'course_school', 'school'): [2, 2], ('course', 'course_teacher', 'teacher'): [2, 2], ('course', 'course_concept', 'concept'): [13, 13], ('user', 'enroll', 'course'): [1, 0], ('course', 'rev_enroll', 'user'): [0, 0], ('school', 'rev_course_school', 'course'): [2, 2], ('teacher', 'rev_course_teacher', 'course'): [2, 2], ('concept', 'rev_course_concept', 'course'): [13, 13]}, num_negative_samples: 1.0, lr: 0.005\n"
          ]
        },
        {
          "name": "stderr",
          "output_type": "stream",
          "text": [
            "100%|██████████| 591/591 [00:08<00:00, 69.21it/s]\n"
          ]
        },
        {
          "name": "stdout",
          "output_type": "stream",
          "text": [
            "Epoch: 000, Loss: 0.5657\n"
          ]
        },
        {
          "name": "stderr",
          "output_type": "stream",
          "text": [
            "100%|██████████| 591/591 [00:10<00:00, 58.07it/s]\n"
          ]
        },
        {
          "name": "stdout",
          "output_type": "stream",
          "text": [
            "Epoch: 001, Loss: 0.4787\n"
          ]
        },
        {
          "name": "stderr",
          "output_type": "stream",
          "text": [
            "100%|██████████| 591/591 [00:09<00:00, 60.23it/s]\n"
          ]
        },
        {
          "name": "stdout",
          "output_type": "stream",
          "text": [
            "Epoch: 002, Loss: 0.4723\n"
          ]
        },
        {
          "name": "stderr",
          "output_type": "stream",
          "text": [
            "100%|██████████| 591/591 [00:08<00:00, 65.79it/s]\n"
          ]
        },
        {
          "name": "stdout",
          "output_type": "stream",
          "text": [
            "Epoch: 003, Loss: 0.4559\n"
          ]
        },
        {
          "name": "stderr",
          "output_type": "stream",
          "text": [
            "100%|██████████| 591/591 [00:10<00:00, 57.62it/s]\n"
          ]
        },
        {
          "name": "stdout",
          "output_type": "stream",
          "text": [
            "Epoch: 004, Loss: 0.4398\n"
          ]
        },
        {
          "name": "stderr",
          "output_type": "stream",
          "text": [
            "100%|██████████| 591/591 [00:09<00:00, 63.92it/s]\n"
          ]
        },
        {
          "name": "stdout",
          "output_type": "stream",
          "text": [
            "Epoch: 005, Loss: 0.4306\n"
          ]
        },
        {
          "name": "stderr",
          "output_type": "stream",
          "text": [
            "100%|██████████| 591/591 [00:09<00:00, 60.74it/s]\n"
          ]
        },
        {
          "name": "stdout",
          "output_type": "stream",
          "text": [
            "Epoch: 006, Loss: 0.4256\n"
          ]
        },
        {
          "name": "stderr",
          "output_type": "stream",
          "text": [
            "100%|██████████| 591/591 [00:10<00:00, 57.58it/s]\n"
          ]
        },
        {
          "name": "stdout",
          "output_type": "stream",
          "text": [
            "Epoch: 007, Loss: 0.4189\n"
          ]
        },
        {
          "name": "stderr",
          "output_type": "stream",
          "text": [
            "100%|██████████| 591/591 [00:08<00:00, 65.68it/s]\n"
          ]
        },
        {
          "name": "stdout",
          "output_type": "stream",
          "text": [
            "Epoch: 008, Loss: 0.4121\n"
          ]
        },
        {
          "name": "stderr",
          "output_type": "stream",
          "text": [
            "100%|██████████| 591/591 [00:10<00:00, 58.54it/s]\n"
          ]
        },
        {
          "name": "stdout",
          "output_type": "stream",
          "text": [
            "Epoch: 009, Loss: 0.4062\n",
            "precision: 0.019303604153940137\n",
            "recall: 0.059268122090408666\n",
            "ndcg: 0.24016528656886124\n",
            "Proxy(x)\n",
            "embed_size: 16, model: <class '__main__.ModelSimple'>, sampled_neighbours: {('course', 'course_school', 'school'): [2, 2], ('course', 'course_teacher', 'teacher'): [2, 2], ('course', 'course_concept', 'concept'): [13, 13], ('user', 'enroll', 'course'): [1, 0], ('course', 'rev_enroll', 'user'): [0, 0], ('school', 'rev_course_school', 'course'): [2, 2], ('teacher', 'rev_course_teacher', 'course'): [2, 2], ('concept', 'rev_course_concept', 'course'): [13, 13]}, num_negative_samples: 1.0, lr: 0.01\n"
          ]
        },
        {
          "name": "stderr",
          "output_type": "stream",
          "text": [
            "100%|██████████| 591/591 [00:10<00:00, 57.62it/s]\n"
          ]
        },
        {
          "name": "stdout",
          "output_type": "stream",
          "text": [
            "Epoch: 000, Loss: 0.5372\n"
          ]
        },
        {
          "name": "stderr",
          "output_type": "stream",
          "text": [
            "100%|██████████| 591/591 [00:08<00:00, 65.79it/s]\n"
          ]
        },
        {
          "name": "stdout",
          "output_type": "stream",
          "text": [
            "Epoch: 001, Loss: 0.4844\n"
          ]
        },
        {
          "name": "stderr",
          "output_type": "stream",
          "text": [
            "100%|██████████| 591/591 [00:09<00:00, 60.99it/s]\n"
          ]
        },
        {
          "name": "stdout",
          "output_type": "stream",
          "text": [
            "Epoch: 002, Loss: 0.4622\n"
          ]
        },
        {
          "name": "stderr",
          "output_type": "stream",
          "text": [
            "100%|██████████| 591/591 [00:10<00:00, 56.97it/s]\n"
          ]
        },
        {
          "name": "stdout",
          "output_type": "stream",
          "text": [
            "Epoch: 003, Loss: 0.4462\n"
          ]
        },
        {
          "name": "stderr",
          "output_type": "stream",
          "text": [
            "100%|██████████| 591/591 [00:08<00:00, 69.66it/s]\n"
          ]
        },
        {
          "name": "stdout",
          "output_type": "stream",
          "text": [
            "Epoch: 004, Loss: 0.4392\n"
          ]
        },
        {
          "name": "stderr",
          "output_type": "stream",
          "text": [
            "100%|██████████| 591/591 [00:10<00:00, 57.85it/s]\n"
          ]
        },
        {
          "name": "stdout",
          "output_type": "stream",
          "text": [
            "Epoch: 005, Loss: 0.4369\n"
          ]
        },
        {
          "name": "stderr",
          "output_type": "stream",
          "text": [
            "100%|██████████| 591/591 [00:09<00:00, 59.48it/s]\n"
          ]
        },
        {
          "name": "stdout",
          "output_type": "stream",
          "text": [
            "Epoch: 006, Loss: 0.4289\n"
          ]
        },
        {
          "name": "stderr",
          "output_type": "stream",
          "text": [
            "100%|██████████| 591/591 [00:08<00:00, 67.74it/s]\n"
          ]
        },
        {
          "name": "stdout",
          "output_type": "stream",
          "text": [
            "Epoch: 007, Loss: 0.4211\n"
          ]
        },
        {
          "name": "stderr",
          "output_type": "stream",
          "text": [
            "100%|██████████| 591/591 [00:10<00:00, 58.15it/s]\n"
          ]
        },
        {
          "name": "stdout",
          "output_type": "stream",
          "text": [
            "Epoch: 008, Loss: 0.4138\n"
          ]
        },
        {
          "name": "stderr",
          "output_type": "stream",
          "text": [
            "100%|██████████| 591/591 [00:09<00:00, 62.74it/s]\n"
          ]
        },
        {
          "name": "stdout",
          "output_type": "stream",
          "text": [
            "Epoch: 009, Loss: 0.4065\n",
            "precision: 0.032666463042150276\n",
            "recall: 0.09693689849128469\n",
            "ndcg: 0.24016528656886124\n",
            "Proxy(x)\n",
            "embed_size: 16, model: <class '__main__.ModelSimple'>, sampled_neighbours: {('course', 'course_school', 'school'): [2, 2], ('course', 'course_teacher', 'teacher'): [2, 2], ('course', 'course_concept', 'concept'): [13, 13], ('user', 'enroll', 'course'): [1, 0], ('course', 'rev_enroll', 'user'): [0, 0], ('school', 'rev_course_school', 'course'): [2, 2], ('teacher', 'rev_course_teacher', 'course'): [2, 2], ('concept', 'rev_course_concept', 'course'): [13, 13]}, num_negative_samples: 2.0, lr: 0.001\n"
          ]
        },
        {
          "name": "stderr",
          "output_type": "stream",
          "text": [
            "100%|██████████| 591/591 [00:09<00:00, 65.38it/s]\n"
          ]
        },
        {
          "name": "stdout",
          "output_type": "stream",
          "text": [
            "Epoch: 000, Loss: 0.6717\n"
          ]
        },
        {
          "name": "stderr",
          "output_type": "stream",
          "text": [
            "100%|██████████| 591/591 [00:10<00:00, 55.19it/s]\n"
          ]
        },
        {
          "name": "stdout",
          "output_type": "stream",
          "text": [
            "Epoch: 001, Loss: 0.4881\n"
          ]
        },
        {
          "name": "stderr",
          "output_type": "stream",
          "text": [
            "100%|██████████| 591/591 [00:10<00:00, 54.63it/s]\n"
          ]
        },
        {
          "name": "stdout",
          "output_type": "stream",
          "text": [
            "Epoch: 002, Loss: 0.4532\n"
          ]
        },
        {
          "name": "stderr",
          "output_type": "stream",
          "text": [
            "100%|██████████| 591/591 [00:09<00:00, 64.03it/s]\n"
          ]
        },
        {
          "name": "stdout",
          "output_type": "stream",
          "text": [
            "Epoch: 003, Loss: 0.4455\n"
          ]
        },
        {
          "name": "stderr",
          "output_type": "stream",
          "text": [
            "100%|██████████| 591/591 [00:12<00:00, 46.54it/s]\n"
          ]
        },
        {
          "name": "stdout",
          "output_type": "stream",
          "text": [
            "Epoch: 004, Loss: 0.4408\n"
          ]
        },
        {
          "name": "stderr",
          "output_type": "stream",
          "text": [
            "100%|██████████| 591/591 [00:11<00:00, 53.55it/s]\n"
          ]
        },
        {
          "name": "stdout",
          "output_type": "stream",
          "text": [
            "Epoch: 005, Loss: 0.4394\n"
          ]
        },
        {
          "name": "stderr",
          "output_type": "stream",
          "text": [
            "100%|██████████| 591/591 [00:10<00:00, 56.37it/s]\n"
          ]
        },
        {
          "name": "stdout",
          "output_type": "stream",
          "text": [
            "Epoch: 006, Loss: 0.4360\n"
          ]
        },
        {
          "name": "stderr",
          "output_type": "stream",
          "text": [
            "100%|██████████| 591/591 [00:10<00:00, 58.96it/s]\n"
          ]
        },
        {
          "name": "stdout",
          "output_type": "stream",
          "text": [
            "Epoch: 007, Loss: 0.4360\n"
          ]
        },
        {
          "name": "stderr",
          "output_type": "stream",
          "text": [
            "100%|██████████| 591/591 [00:10<00:00, 54.51it/s]\n"
          ]
        },
        {
          "name": "stdout",
          "output_type": "stream",
          "text": [
            "Epoch: 008, Loss: 0.4308\n"
          ]
        },
        {
          "name": "stderr",
          "output_type": "stream",
          "text": [
            "100%|██████████| 591/591 [00:10<00:00, 54.14it/s]\n"
          ]
        },
        {
          "name": "stdout",
          "output_type": "stream",
          "text": [
            "Epoch: 009, Loss: 0.4278\n",
            "precision: 0.06441661576053757\n",
            "recall: 0.20302328907223444\n",
            "ndcg: 0.24016528656886124\n",
            "Proxy(x)\n",
            "embed_size: 16, model: <class '__main__.ModelSimple'>, sampled_neighbours: {('course', 'course_school', 'school'): [2, 2], ('course', 'course_teacher', 'teacher'): [2, 2], ('course', 'course_concept', 'concept'): [13, 13], ('user', 'enroll', 'course'): [1, 0], ('course', 'rev_enroll', 'user'): [0, 0], ('school', 'rev_course_school', 'course'): [2, 2], ('teacher', 'rev_course_teacher', 'course'): [2, 2], ('concept', 'rev_course_concept', 'course'): [13, 13]}, num_negative_samples: 2.0, lr: 0.005\n"
          ]
        },
        {
          "name": "stderr",
          "output_type": "stream",
          "text": [
            "100%|██████████| 591/591 [00:09<00:00, 61.19it/s]\n"
          ]
        },
        {
          "name": "stdout",
          "output_type": "stream",
          "text": [
            "Epoch: 000, Loss: 0.5125\n"
          ]
        },
        {
          "name": "stderr",
          "output_type": "stream",
          "text": [
            "100%|██████████| 591/591 [00:10<00:00, 56.81it/s]\n"
          ]
        },
        {
          "name": "stdout",
          "output_type": "stream",
          "text": [
            "Epoch: 001, Loss: 0.4444\n"
          ]
        },
        {
          "name": "stderr",
          "output_type": "stream",
          "text": [
            "100%|██████████| 591/591 [00:11<00:00, 53.61it/s]\n"
          ]
        },
        {
          "name": "stdout",
          "output_type": "stream",
          "text": [
            "Epoch: 002, Loss: 0.4356\n"
          ]
        },
        {
          "name": "stderr",
          "output_type": "stream",
          "text": [
            "100%|██████████| 591/591 [00:09<00:00, 59.45it/s]\n"
          ]
        },
        {
          "name": "stdout",
          "output_type": "stream",
          "text": [
            "Epoch: 003, Loss: 0.4211\n"
          ]
        },
        {
          "name": "stderr",
          "output_type": "stream",
          "text": [
            "100%|██████████| 591/591 [00:10<00:00, 58.83it/s]\n"
          ]
        },
        {
          "name": "stdout",
          "output_type": "stream",
          "text": [
            "Epoch: 004, Loss: 0.4089\n"
          ]
        },
        {
          "name": "stderr",
          "output_type": "stream",
          "text": [
            "100%|██████████| 591/591 [00:10<00:00, 53.96it/s]\n"
          ]
        },
        {
          "name": "stdout",
          "output_type": "stream",
          "text": [
            "Epoch: 005, Loss: 0.4002\n"
          ]
        },
        {
          "name": "stderr",
          "output_type": "stream",
          "text": [
            "100%|██████████| 591/591 [00:10<00:00, 57.95it/s]\n"
          ]
        },
        {
          "name": "stdout",
          "output_type": "stream",
          "text": [
            "Epoch: 006, Loss: 0.3953\n"
          ]
        },
        {
          "name": "stderr",
          "output_type": "stream",
          "text": [
            "100%|██████████| 591/591 [00:09<00:00, 59.98it/s]\n"
          ]
        },
        {
          "name": "stdout",
          "output_type": "stream",
          "text": [
            "Epoch: 007, Loss: 0.3874\n"
          ]
        },
        {
          "name": "stderr",
          "output_type": "stream",
          "text": [
            "100%|██████████| 591/591 [00:10<00:00, 54.09it/s]\n"
          ]
        },
        {
          "name": "stdout",
          "output_type": "stream",
          "text": [
            "Epoch: 008, Loss: 0.3800\n"
          ]
        },
        {
          "name": "stderr",
          "output_type": "stream",
          "text": [
            "100%|██████████| 591/591 [00:10<00:00, 58.03it/s]\n"
          ]
        },
        {
          "name": "stdout",
          "output_type": "stream",
          "text": [
            "Epoch: 009, Loss: 0.3749\n",
            "precision: 0.06536346976175932\n",
            "recall: 0.20702025374203567\n",
            "ndcg: 0.24016528656886124\n",
            "Proxy(x)\n",
            "embed_size: 16, model: <class '__main__.ModelSimple'>, sampled_neighbours: {('course', 'course_school', 'school'): [2, 2], ('course', 'course_teacher', 'teacher'): [2, 2], ('course', 'course_concept', 'concept'): [13, 13], ('user', 'enroll', 'course'): [1, 0], ('course', 'rev_enroll', 'user'): [0, 0], ('school', 'rev_course_school', 'course'): [2, 2], ('teacher', 'rev_course_teacher', 'course'): [2, 2], ('concept', 'rev_course_concept', 'course'): [13, 13]}, num_negative_samples: 2.0, lr: 0.01\n"
          ]
        },
        {
          "name": "stderr",
          "output_type": "stream",
          "text": [
            "100%|██████████| 591/591 [00:09<00:00, 61.40it/s]\n"
          ]
        },
        {
          "name": "stdout",
          "output_type": "stream",
          "text": [
            "Epoch: 000, Loss: 0.4900\n"
          ]
        },
        {
          "name": "stderr",
          "output_type": "stream",
          "text": [
            "100%|██████████| 591/591 [00:10<00:00, 54.27it/s]\n"
          ]
        },
        {
          "name": "stdout",
          "output_type": "stream",
          "text": [
            "Epoch: 001, Loss: 0.4430\n"
          ]
        },
        {
          "name": "stderr",
          "output_type": "stream",
          "text": [
            "100%|██████████| 591/591 [00:11<00:00, 53.38it/s]\n"
          ]
        },
        {
          "name": "stdout",
          "output_type": "stream",
          "text": [
            "Epoch: 002, Loss: 0.4249\n"
          ]
        },
        {
          "name": "stderr",
          "output_type": "stream",
          "text": [
            "100%|██████████| 591/591 [00:09<00:00, 60.22it/s]\n"
          ]
        },
        {
          "name": "stdout",
          "output_type": "stream",
          "text": [
            "Epoch: 003, Loss: 0.4146\n"
          ]
        },
        {
          "name": "stderr",
          "output_type": "stream",
          "text": [
            "100%|██████████| 591/591 [00:10<00:00, 58.25it/s]\n"
          ]
        },
        {
          "name": "stdout",
          "output_type": "stream",
          "text": [
            "Epoch: 004, Loss: 0.4056\n"
          ]
        },
        {
          "name": "stderr",
          "output_type": "stream",
          "text": [
            "100%|██████████| 591/591 [00:10<00:00, 53.76it/s]\n"
          ]
        },
        {
          "name": "stdout",
          "output_type": "stream",
          "text": [
            "Epoch: 005, Loss: 0.3955\n"
          ]
        },
        {
          "name": "stderr",
          "output_type": "stream",
          "text": [
            "100%|██████████| 591/591 [00:10<00:00, 57.57it/s]\n"
          ]
        },
        {
          "name": "stdout",
          "output_type": "stream",
          "text": [
            "Epoch: 006, Loss: 0.3885\n"
          ]
        },
        {
          "name": "stderr",
          "output_type": "stream",
          "text": [
            "100%|██████████| 591/591 [00:09<00:00, 59.56it/s]\n"
          ]
        },
        {
          "name": "stdout",
          "output_type": "stream",
          "text": [
            "Epoch: 007, Loss: 0.3839\n"
          ]
        },
        {
          "name": "stderr",
          "output_type": "stream",
          "text": [
            "100%|██████████| 591/591 [00:12<00:00, 46.70it/s]\n"
          ]
        },
        {
          "name": "stdout",
          "output_type": "stream",
          "text": [
            "Epoch: 008, Loss: 0.3775\n"
          ]
        },
        {
          "name": "stderr",
          "output_type": "stream",
          "text": [
            "100%|██████████| 591/591 [00:10<00:00, 54.86it/s]\n"
          ]
        },
        {
          "name": "stdout",
          "output_type": "stream",
          "text": [
            "Epoch: 009, Loss: 0.3690\n",
            "precision: 0.07616065974343311\n",
            "recall: 0.2416136801693537\n",
            "ndcg: 0.24016528656886124\n",
            "Proxy(x)\n",
            "embed_size: 16, model: <class '__main__.ModelSimple'>, sampled_neighbours: {('course', 'course_school', 'school'): [2, 2], ('course', 'course_teacher', 'teacher'): [2, 2], ('course', 'course_concept', 'concept'): [13, 13], ('user', 'enroll', 'course'): [1, 0], ('course', 'rev_enroll', 'user'): [0, 0], ('school', 'rev_course_school', 'course'): [2, 2], ('teacher', 'rev_course_teacher', 'course'): [2, 2], ('concept', 'rev_course_concept', 'course'): [13, 13]}, num_negative_samples: 4.0, lr: 0.001\n"
          ]
        },
        {
          "name": "stderr",
          "output_type": "stream",
          "text": [
            "100%|██████████| 591/591 [00:11<00:00, 53.65it/s]\n"
          ]
        },
        {
          "name": "stdout",
          "output_type": "stream",
          "text": [
            "Epoch: 000, Loss: 0.5545\n"
          ]
        },
        {
          "name": "stderr",
          "output_type": "stream",
          "text": [
            "100%|██████████| 591/591 [00:11<00:00, 52.43it/s]\n"
          ]
        },
        {
          "name": "stdout",
          "output_type": "stream",
          "text": [
            "Epoch: 001, Loss: 0.3899\n"
          ]
        },
        {
          "name": "stderr",
          "output_type": "stream",
          "text": [
            "100%|██████████| 591/591 [00:11<00:00, 49.27it/s]\n"
          ]
        },
        {
          "name": "stdout",
          "output_type": "stream",
          "text": [
            "Epoch: 002, Loss: 0.3663\n"
          ]
        },
        {
          "name": "stderr",
          "output_type": "stream",
          "text": [
            "100%|██████████| 591/591 [00:12<00:00, 48.25it/s]\n"
          ]
        },
        {
          "name": "stdout",
          "output_type": "stream",
          "text": [
            "Epoch: 003, Loss: 0.3589\n"
          ]
        },
        {
          "name": "stderr",
          "output_type": "stream",
          "text": [
            "100%|██████████| 591/591 [00:11<00:00, 52.10it/s]\n"
          ]
        },
        {
          "name": "stdout",
          "output_type": "stream",
          "text": [
            "Epoch: 004, Loss: 0.3573\n"
          ]
        },
        {
          "name": "stderr",
          "output_type": "stream",
          "text": [
            "100%|██████████| 591/591 [00:10<00:00, 54.70it/s]\n"
          ]
        },
        {
          "name": "stdout",
          "output_type": "stream",
          "text": [
            "Epoch: 005, Loss: 0.3555\n"
          ]
        },
        {
          "name": "stderr",
          "output_type": "stream",
          "text": [
            "100%|██████████| 591/591 [00:12<00:00, 48.96it/s]\n"
          ]
        },
        {
          "name": "stdout",
          "output_type": "stream",
          "text": [
            "Epoch: 006, Loss: 0.3553\n"
          ]
        },
        {
          "name": "stderr",
          "output_type": "stream",
          "text": [
            "100%|██████████| 591/591 [00:11<00:00, 49.34it/s]\n"
          ]
        },
        {
          "name": "stdout",
          "output_type": "stream",
          "text": [
            "Epoch: 007, Loss: 0.3522\n"
          ]
        },
        {
          "name": "stderr",
          "output_type": "stream",
          "text": [
            "100%|██████████| 591/591 [00:11<00:00, 50.71it/s]\n"
          ]
        },
        {
          "name": "stdout",
          "output_type": "stream",
          "text": [
            "Epoch: 008, Loss: 0.3509\n"
          ]
        },
        {
          "name": "stderr",
          "output_type": "stream",
          "text": [
            "100%|██████████| 591/591 [00:10<00:00, 55.61it/s]\n"
          ]
        },
        {
          "name": "stdout",
          "output_type": "stream",
          "text": [
            "Epoch: 009, Loss: 0.3476\n",
            "precision: 0.0668142944410507\n",
            "recall: 0.20978342884061438\n",
            "ndcg: 0.24016528656886124\n",
            "Proxy(x)\n",
            "embed_size: 16, model: <class '__main__.ModelSimple'>, sampled_neighbours: {('course', 'course_school', 'school'): [2, 2], ('course', 'course_teacher', 'teacher'): [2, 2], ('course', 'course_concept', 'concept'): [13, 13], ('user', 'enroll', 'course'): [1, 0], ('course', 'rev_enroll', 'user'): [0, 0], ('school', 'rev_course_school', 'course'): [2, 2], ('teacher', 'rev_course_teacher', 'course'): [2, 2], ('concept', 'rev_course_concept', 'course'): [13, 13]}, num_negative_samples: 4.0, lr: 0.005\n"
          ]
        },
        {
          "name": "stderr",
          "output_type": "stream",
          "text": [
            "100%|██████████| 591/591 [00:11<00:00, 53.25it/s]\n"
          ]
        },
        {
          "name": "stdout",
          "output_type": "stream",
          "text": [
            "Epoch: 000, Loss: 0.4128\n"
          ]
        },
        {
          "name": "stderr",
          "output_type": "stream",
          "text": [
            "100%|██████████| 591/591 [00:12<00:00, 49.23it/s]\n"
          ]
        },
        {
          "name": "stdout",
          "output_type": "stream",
          "text": [
            "Epoch: 001, Loss: 0.3590\n"
          ]
        },
        {
          "name": "stderr",
          "output_type": "stream",
          "text": [
            "100%|██████████| 591/591 [00:12<00:00, 49.12it/s]\n"
          ]
        },
        {
          "name": "stdout",
          "output_type": "stream",
          "text": [
            "Epoch: 002, Loss: 0.3515\n"
          ]
        },
        {
          "name": "stderr",
          "output_type": "stream",
          "text": [
            "100%|██████████| 591/591 [00:11<00:00, 50.09it/s]\n"
          ]
        },
        {
          "name": "stdout",
          "output_type": "stream",
          "text": [
            "Epoch: 003, Loss: 0.3408\n"
          ]
        },
        {
          "name": "stderr",
          "output_type": "stream",
          "text": [
            "100%|██████████| 591/591 [00:10<00:00, 56.51it/s]\n"
          ]
        },
        {
          "name": "stdout",
          "output_type": "stream",
          "text": [
            "Epoch: 004, Loss: 0.3327\n"
          ]
        },
        {
          "name": "stderr",
          "output_type": "stream",
          "text": [
            "100%|██████████| 591/591 [00:11<00:00, 49.50it/s]\n"
          ]
        },
        {
          "name": "stdout",
          "output_type": "stream",
          "text": [
            "Epoch: 005, Loss: 0.3257\n"
          ]
        },
        {
          "name": "stderr",
          "output_type": "stream",
          "text": [
            "100%|██████████| 591/591 [00:12<00:00, 49.22it/s]\n"
          ]
        },
        {
          "name": "stdout",
          "output_type": "stream",
          "text": [
            "Epoch: 006, Loss: 0.3192\n"
          ]
        },
        {
          "name": "stderr",
          "output_type": "stream",
          "text": [
            "100%|██████████| 591/591 [00:11<00:00, 49.70it/s]\n"
          ]
        },
        {
          "name": "stdout",
          "output_type": "stream",
          "text": [
            "Epoch: 007, Loss: 0.3120\n"
          ]
        },
        {
          "name": "stderr",
          "output_type": "stream",
          "text": [
            "100%|██████████| 591/591 [00:10<00:00, 57.06it/s]\n"
          ]
        },
        {
          "name": "stdout",
          "output_type": "stream",
          "text": [
            "Epoch: 008, Loss: 0.3066\n"
          ]
        },
        {
          "name": "stderr",
          "output_type": "stream",
          "text": [
            "100%|██████████| 591/591 [00:12<00:00, 45.81it/s]\n"
          ]
        },
        {
          "name": "stdout",
          "output_type": "stream",
          "text": [
            "Epoch: 009, Loss: 0.3005\n",
            "precision: 0.048091020158827116\n",
            "recall: 0.1471740657378796\n",
            "ndcg: 0.24016528656886124\n",
            "Proxy(x)\n",
            "embed_size: 16, model: <class '__main__.ModelSimple'>, sampled_neighbours: {('course', 'course_school', 'school'): [2, 2], ('course', 'course_teacher', 'teacher'): [2, 2], ('course', 'course_concept', 'concept'): [13, 13], ('user', 'enroll', 'course'): [1, 0], ('course', 'rev_enroll', 'user'): [0, 0], ('school', 'rev_course_school', 'course'): [2, 2], ('teacher', 'rev_course_teacher', 'course'): [2, 2], ('concept', 'rev_course_concept', 'course'): [13, 13]}, num_negative_samples: 4.0, lr: 0.01\n"
          ]
        },
        {
          "name": "stderr",
          "output_type": "stream",
          "text": [
            "100%|██████████| 591/591 [00:11<00:00, 52.66it/s]\n"
          ]
        },
        {
          "name": "stdout",
          "output_type": "stream",
          "text": [
            "Epoch: 000, Loss: 0.3935\n"
          ]
        },
        {
          "name": "stderr",
          "output_type": "stream",
          "text": [
            "100%|██████████| 591/591 [00:11<00:00, 50.87it/s]\n"
          ]
        },
        {
          "name": "stdout",
          "output_type": "stream",
          "text": [
            "Epoch: 001, Loss: 0.3569\n"
          ]
        },
        {
          "name": "stderr",
          "output_type": "stream",
          "text": [
            "100%|██████████| 591/591 [00:11<00:00, 49.31it/s]\n"
          ]
        },
        {
          "name": "stdout",
          "output_type": "stream",
          "text": [
            "Epoch: 002, Loss: 0.3450\n"
          ]
        },
        {
          "name": "stderr",
          "output_type": "stream",
          "text": [
            "100%|██████████| 591/591 [00:10<00:00, 54.44it/s]\n"
          ]
        },
        {
          "name": "stdout",
          "output_type": "stream",
          "text": [
            "Epoch: 003, Loss: 0.3361\n"
          ]
        },
        {
          "name": "stderr",
          "output_type": "stream",
          "text": [
            "100%|██████████| 591/591 [00:11<00:00, 51.94it/s]\n"
          ]
        },
        {
          "name": "stdout",
          "output_type": "stream",
          "text": [
            "Epoch: 004, Loss: 0.3280\n"
          ]
        },
        {
          "name": "stderr",
          "output_type": "stream",
          "text": [
            "100%|██████████| 591/591 [00:11<00:00, 49.37it/s]\n"
          ]
        },
        {
          "name": "stdout",
          "output_type": "stream",
          "text": [
            "Epoch: 005, Loss: 0.3195\n"
          ]
        },
        {
          "name": "stderr",
          "output_type": "stream",
          "text": [
            "100%|██████████| 591/591 [00:12<00:00, 49.07it/s]\n"
          ]
        },
        {
          "name": "stdout",
          "output_type": "stream",
          "text": [
            "Epoch: 006, Loss: 0.3150\n"
          ]
        },
        {
          "name": "stderr",
          "output_type": "stream",
          "text": [
            "100%|██████████| 591/591 [00:11<00:00, 52.55it/s]\n"
          ]
        },
        {
          "name": "stdout",
          "output_type": "stream",
          "text": [
            "Epoch: 007, Loss: 0.3091\n"
          ]
        },
        {
          "name": "stderr",
          "output_type": "stream",
          "text": [
            "100%|██████████| 591/591 [00:11<00:00, 52.82it/s]\n"
          ]
        },
        {
          "name": "stdout",
          "output_type": "stream",
          "text": [
            "Epoch: 008, Loss: 0.3029\n"
          ]
        },
        {
          "name": "stderr",
          "output_type": "stream",
          "text": [
            "100%|██████████| 591/591 [00:12<00:00, 47.69it/s]\n"
          ]
        },
        {
          "name": "stdout",
          "output_type": "stream",
          "text": [
            "Epoch: 009, Loss: 0.2966\n",
            "precision: 0.046166768478924855\n",
            "recall: 0.14531705185206018\n",
            "ndcg: 0.24016528656886124\n",
            "Proxy(x)\n",
            "embed_size: 32, model: <class '__main__.Model'>, sampled_neighbours: {('course', 'course_school', 'school'): [2, 2], ('course', 'course_teacher', 'teacher'): [2, 2], ('course', 'course_concept', 'concept'): [7, 7], ('user', 'enroll', 'course'): [1, 0], ('course', 'rev_enroll', 'user'): [0, 0], ('school', 'rev_course_school', 'course'): [2, 2], ('teacher', 'rev_course_teacher', 'course'): [2, 2], ('concept', 'rev_course_concept', 'course'): [7, 7]}, num_negative_samples: 1.0, lr: 0.001\n"
          ]
        },
        {
          "name": "stderr",
          "output_type": "stream",
          "text": [
            "100%|██████████| 591/591 [00:15<00:00, 37.00it/s]\n"
          ]
        },
        {
          "name": "stdout",
          "output_type": "stream",
          "text": [
            "Epoch: 000, Loss: 0.5486\n"
          ]
        },
        {
          "name": "stderr",
          "output_type": "stream",
          "text": [
            "100%|██████████| 591/591 [00:16<00:00, 36.88it/s]\n"
          ]
        },
        {
          "name": "stdout",
          "output_type": "stream",
          "text": [
            "Epoch: 001, Loss: 0.4833\n"
          ]
        },
        {
          "name": "stderr",
          "output_type": "stream",
          "text": [
            "100%|██████████| 591/591 [00:16<00:00, 36.94it/s]\n"
          ]
        },
        {
          "name": "stdout",
          "output_type": "stream",
          "text": [
            "Epoch: 002, Loss: 0.4706\n"
          ]
        },
        {
          "name": "stderr",
          "output_type": "stream",
          "text": [
            "100%|██████████| 591/591 [00:16<00:00, 36.23it/s]\n"
          ]
        },
        {
          "name": "stdout",
          "output_type": "stream",
          "text": [
            "Epoch: 003, Loss: 0.4601\n"
          ]
        },
        {
          "name": "stderr",
          "output_type": "stream",
          "text": [
            "100%|██████████| 591/591 [00:16<00:00, 36.73it/s]\n"
          ]
        },
        {
          "name": "stdout",
          "output_type": "stream",
          "text": [
            "Epoch: 004, Loss: 0.4498\n"
          ]
        },
        {
          "name": "stderr",
          "output_type": "stream",
          "text": [
            "100%|██████████| 591/591 [00:16<00:00, 36.35it/s]\n"
          ]
        },
        {
          "name": "stdout",
          "output_type": "stream",
          "text": [
            "Epoch: 005, Loss: 0.4410\n"
          ]
        },
        {
          "name": "stderr",
          "output_type": "stream",
          "text": [
            "100%|██████████| 591/591 [00:16<00:00, 35.56it/s]\n"
          ]
        },
        {
          "name": "stdout",
          "output_type": "stream",
          "text": [
            "Epoch: 006, Loss: 0.4345\n"
          ]
        },
        {
          "name": "stderr",
          "output_type": "stream",
          "text": [
            "100%|██████████| 591/591 [00:17<00:00, 33.22it/s]\n"
          ]
        },
        {
          "name": "stdout",
          "output_type": "stream",
          "text": [
            "Epoch: 007, Loss: 0.4277\n"
          ]
        },
        {
          "name": "stderr",
          "output_type": "stream",
          "text": [
            "100%|██████████| 591/591 [00:16<00:00, 36.66it/s]\n"
          ]
        },
        {
          "name": "stdout",
          "output_type": "stream",
          "text": [
            "Epoch: 008, Loss: 0.4214\n"
          ]
        },
        {
          "name": "stderr",
          "output_type": "stream",
          "text": [
            "100%|██████████| 591/591 [00:16<00:00, 36.78it/s]\n"
          ]
        },
        {
          "name": "stdout",
          "output_type": "stream",
          "text": [
            "Epoch: 009, Loss: 0.4155\n",
            "precision: 0.042883323152107515\n",
            "recall: 0.14392632371706257\n",
            "ndcg: 0.24016528656886124\n",
            "Proxy(x)\n",
            "embed_size: 32, model: <class '__main__.Model'>, sampled_neighbours: {('course', 'course_school', 'school'): [2, 2], ('course', 'course_teacher', 'teacher'): [2, 2], ('course', 'course_concept', 'concept'): [7, 7], ('user', 'enroll', 'course'): [1, 0], ('course', 'rev_enroll', 'user'): [0, 0], ('school', 'rev_course_school', 'course'): [2, 2], ('teacher', 'rev_course_teacher', 'course'): [2, 2], ('concept', 'rev_course_concept', 'course'): [7, 7]}, num_negative_samples: 1.0, lr: 0.005\n"
          ]
        },
        {
          "name": "stderr",
          "output_type": "stream",
          "text": [
            "100%|██████████| 591/591 [00:18<00:00, 31.53it/s]\n"
          ]
        },
        {
          "name": "stdout",
          "output_type": "stream",
          "text": [
            "Epoch: 000, Loss: 0.5111\n"
          ]
        },
        {
          "name": "stderr",
          "output_type": "stream",
          "text": [
            "100%|██████████| 591/591 [00:15<00:00, 37.45it/s]\n"
          ]
        },
        {
          "name": "stdout",
          "output_type": "stream",
          "text": [
            "Epoch: 001, Loss: 0.4681\n"
          ]
        },
        {
          "name": "stderr",
          "output_type": "stream",
          "text": [
            "100%|██████████| 591/591 [00:15<00:00, 37.48it/s]\n"
          ]
        },
        {
          "name": "stdout",
          "output_type": "stream",
          "text": [
            "Epoch: 002, Loss: 0.4529\n"
          ]
        },
        {
          "name": "stderr",
          "output_type": "stream",
          "text": [
            "100%|██████████| 591/591 [00:16<00:00, 36.56it/s]\n"
          ]
        },
        {
          "name": "stdout",
          "output_type": "stream",
          "text": [
            "Epoch: 003, Loss: 0.4403\n"
          ]
        },
        {
          "name": "stderr",
          "output_type": "stream",
          "text": [
            "100%|██████████| 591/591 [00:15<00:00, 37.19it/s]\n"
          ]
        },
        {
          "name": "stdout",
          "output_type": "stream",
          "text": [
            "Epoch: 004, Loss: 0.4333\n"
          ]
        },
        {
          "name": "stderr",
          "output_type": "stream",
          "text": [
            "100%|██████████| 591/591 [00:16<00:00, 36.76it/s]\n"
          ]
        },
        {
          "name": "stdout",
          "output_type": "stream",
          "text": [
            "Epoch: 005, Loss: 0.4297\n"
          ]
        },
        {
          "name": "stderr",
          "output_type": "stream",
          "text": [
            "100%|██████████| 591/591 [00:16<00:00, 36.72it/s]\n"
          ]
        },
        {
          "name": "stdout",
          "output_type": "stream",
          "text": [
            "Epoch: 006, Loss: 0.4248\n"
          ]
        },
        {
          "name": "stderr",
          "output_type": "stream",
          "text": [
            "100%|██████████| 591/591 [00:16<00:00, 36.30it/s]\n"
          ]
        },
        {
          "name": "stdout",
          "output_type": "stream",
          "text": [
            "Epoch: 007, Loss: 0.4247\n"
          ]
        },
        {
          "name": "stderr",
          "output_type": "stream",
          "text": [
            "100%|██████████| 591/591 [00:16<00:00, 36.05it/s]\n"
          ]
        },
        {
          "name": "stdout",
          "output_type": "stream",
          "text": [
            "Epoch: 008, Loss: 0.4245\n"
          ]
        },
        {
          "name": "stderr",
          "output_type": "stream",
          "text": [
            "100%|██████████| 591/591 [00:16<00:00, 35.81it/s]\n"
          ]
        },
        {
          "name": "stdout",
          "output_type": "stream",
          "text": [
            "Epoch: 009, Loss: 0.4191\n",
            "precision: 0.07006719609040928\n",
            "recall: 0.2221047433547371\n",
            "ndcg: 0.24016528656886124\n",
            "Proxy(x)\n",
            "embed_size: 32, model: <class '__main__.Model'>, sampled_neighbours: {('course', 'course_school', 'school'): [2, 2], ('course', 'course_teacher', 'teacher'): [2, 2], ('course', 'course_concept', 'concept'): [7, 7], ('user', 'enroll', 'course'): [1, 0], ('course', 'rev_enroll', 'user'): [0, 0], ('school', 'rev_course_school', 'course'): [2, 2], ('teacher', 'rev_course_teacher', 'course'): [2, 2], ('concept', 'rev_course_concept', 'course'): [7, 7]}, num_negative_samples: 1.0, lr: 0.01\n"
          ]
        },
        {
          "name": "stderr",
          "output_type": "stream",
          "text": [
            "100%|██████████| 591/591 [00:15<00:00, 36.99it/s]\n"
          ]
        },
        {
          "name": "stdout",
          "output_type": "stream",
          "text": [
            "Epoch: 000, Loss: 0.5121\n"
          ]
        },
        {
          "name": "stderr",
          "output_type": "stream",
          "text": [
            "100%|██████████| 591/591 [00:16<00:00, 36.90it/s]\n"
          ]
        },
        {
          "name": "stdout",
          "output_type": "stream",
          "text": [
            "Epoch: 001, Loss: 0.4758\n"
          ]
        },
        {
          "name": "stderr",
          "output_type": "stream",
          "text": [
            "100%|██████████| 591/591 [00:17<00:00, 33.25it/s]\n"
          ]
        },
        {
          "name": "stdout",
          "output_type": "stream",
          "text": [
            "Epoch: 002, Loss: 0.4666\n"
          ]
        },
        {
          "name": "stderr",
          "output_type": "stream",
          "text": [
            "100%|██████████| 591/591 [00:16<00:00, 35.08it/s]\n"
          ]
        },
        {
          "name": "stdout",
          "output_type": "stream",
          "text": [
            "Epoch: 003, Loss: 0.4625\n"
          ]
        },
        {
          "name": "stderr",
          "output_type": "stream",
          "text": [
            "100%|██████████| 591/591 [00:16<00:00, 36.26it/s]\n"
          ]
        },
        {
          "name": "stdout",
          "output_type": "stream",
          "text": [
            "Epoch: 004, Loss: 0.4573\n"
          ]
        },
        {
          "name": "stderr",
          "output_type": "stream",
          "text": [
            "100%|██████████| 591/591 [00:16<00:00, 36.84it/s]\n"
          ]
        },
        {
          "name": "stdout",
          "output_type": "stream",
          "text": [
            "Epoch: 005, Loss: 0.4504\n"
          ]
        },
        {
          "name": "stderr",
          "output_type": "stream",
          "text": [
            "100%|██████████| 591/591 [00:16<00:00, 36.82it/s]\n"
          ]
        },
        {
          "name": "stdout",
          "output_type": "stream",
          "text": [
            "Epoch: 006, Loss: 0.4489\n"
          ]
        },
        {
          "name": "stderr",
          "output_type": "stream",
          "text": [
            "100%|██████████| 591/591 [00:16<00:00, 36.91it/s]\n"
          ]
        },
        {
          "name": "stdout",
          "output_type": "stream",
          "text": [
            "Epoch: 007, Loss: 0.4439\n"
          ]
        },
        {
          "name": "stderr",
          "output_type": "stream",
          "text": [
            "100%|██████████| 591/591 [00:16<00:00, 36.75it/s]\n"
          ]
        },
        {
          "name": "stdout",
          "output_type": "stream",
          "text": [
            "Epoch: 008, Loss: 0.4418\n"
          ]
        },
        {
          "name": "stderr",
          "output_type": "stream",
          "text": [
            "100%|██████████| 591/591 [00:16<00:00, 35.64it/s]\n"
          ]
        },
        {
          "name": "stdout",
          "output_type": "stream",
          "text": [
            "Epoch: 009, Loss: 0.4405\n",
            "precision: 0.011331704337202198\n",
            "recall: 0.038857105105577924\n",
            "ndcg: 0.24016528656886124\n",
            "Proxy(x)\n",
            "embed_size: 32, model: <class '__main__.Model'>, sampled_neighbours: {('course', 'course_school', 'school'): [2, 2], ('course', 'course_teacher', 'teacher'): [2, 2], ('course', 'course_concept', 'concept'): [7, 7], ('user', 'enroll', 'course'): [1, 0], ('course', 'rev_enroll', 'user'): [0, 0], ('school', 'rev_course_school', 'course'): [2, 2], ('teacher', 'rev_course_teacher', 'course'): [2, 2], ('concept', 'rev_course_concept', 'course'): [7, 7]}, num_negative_samples: 2.0, lr: 0.001\n"
          ]
        },
        {
          "name": "stderr",
          "output_type": "stream",
          "text": [
            "100%|██████████| 591/591 [00:17<00:00, 33.94it/s]\n"
          ]
        },
        {
          "name": "stdout",
          "output_type": "stream",
          "text": [
            "Epoch: 000, Loss: 0.5141\n"
          ]
        },
        {
          "name": "stderr",
          "output_type": "stream",
          "text": [
            "100%|██████████| 591/591 [00:17<00:00, 33.70it/s]\n"
          ]
        },
        {
          "name": "stdout",
          "output_type": "stream",
          "text": [
            "Epoch: 001, Loss: 0.4477\n"
          ]
        },
        {
          "name": "stderr",
          "output_type": "stream",
          "text": [
            "100%|██████████| 591/591 [00:17<00:00, 33.69it/s]\n"
          ]
        },
        {
          "name": "stdout",
          "output_type": "stream",
          "text": [
            "Epoch: 002, Loss: 0.4377\n"
          ]
        },
        {
          "name": "stderr",
          "output_type": "stream",
          "text": [
            "100%|██████████| 591/591 [00:17<00:00, 33.99it/s]\n"
          ]
        },
        {
          "name": "stdout",
          "output_type": "stream",
          "text": [
            "Epoch: 003, Loss: 0.4296\n"
          ]
        },
        {
          "name": "stderr",
          "output_type": "stream",
          "text": [
            "100%|██████████| 591/591 [00:18<00:00, 32.68it/s]\n"
          ]
        },
        {
          "name": "stdout",
          "output_type": "stream",
          "text": [
            "Epoch: 004, Loss: 0.4193\n"
          ]
        },
        {
          "name": "stderr",
          "output_type": "stream",
          "text": [
            "100%|██████████| 591/591 [00:18<00:00, 31.83it/s]\n"
          ]
        },
        {
          "name": "stdout",
          "output_type": "stream",
          "text": [
            "Epoch: 005, Loss: 0.4119\n"
          ]
        },
        {
          "name": "stderr",
          "output_type": "stream",
          "text": [
            "100%|██████████| 591/591 [00:17<00:00, 33.43it/s]\n"
          ]
        },
        {
          "name": "stdout",
          "output_type": "stream",
          "text": [
            "Epoch: 006, Loss: 0.4061\n"
          ]
        },
        {
          "name": "stderr",
          "output_type": "stream",
          "text": [
            "100%|██████████| 591/591 [00:19<00:00, 30.13it/s]\n"
          ]
        },
        {
          "name": "stdout",
          "output_type": "stream",
          "text": [
            "Epoch: 007, Loss: 0.4008\n"
          ]
        },
        {
          "name": "stderr",
          "output_type": "stream",
          "text": [
            "100%|██████████| 591/591 [00:17<00:00, 34.13it/s]\n"
          ]
        },
        {
          "name": "stdout",
          "output_type": "stream",
          "text": [
            "Epoch: 008, Loss: 0.3962\n"
          ]
        },
        {
          "name": "stderr",
          "output_type": "stream",
          "text": [
            "100%|██████████| 591/591 [00:17<00:00, 34.14it/s]\n"
          ]
        },
        {
          "name": "stdout",
          "output_type": "stream",
          "text": [
            "Epoch: 009, Loss: 0.3914\n",
            "precision: 0.05771227855833842\n",
            "recall: 0.18799394031398645\n",
            "ndcg: 0.24016528656886124\n",
            "Proxy(x)\n",
            "embed_size: 32, model: <class '__main__.Model'>, sampled_neighbours: {('course', 'course_school', 'school'): [2, 2], ('course', 'course_teacher', 'teacher'): [2, 2], ('course', 'course_concept', 'concept'): [7, 7], ('user', 'enroll', 'course'): [1, 0], ('course', 'rev_enroll', 'user'): [0, 0], ('school', 'rev_course_school', 'course'): [2, 2], ('teacher', 'rev_course_teacher', 'course'): [2, 2], ('concept', 'rev_course_concept', 'course'): [7, 7]}, num_negative_samples: 2.0, lr: 0.005\n"
          ]
        },
        {
          "name": "stderr",
          "output_type": "stream",
          "text": [
            "100%|██████████| 591/591 [00:18<00:00, 32.26it/s]\n"
          ]
        },
        {
          "name": "stdout",
          "output_type": "stream",
          "text": [
            "Epoch: 000, Loss: 0.4701\n"
          ]
        },
        {
          "name": "stderr",
          "output_type": "stream",
          "text": [
            "100%|██████████| 591/591 [00:17<00:00, 33.53it/s]\n"
          ]
        },
        {
          "name": "stdout",
          "output_type": "stream",
          "text": [
            "Epoch: 001, Loss: 0.4343\n"
          ]
        },
        {
          "name": "stderr",
          "output_type": "stream",
          "text": [
            "100%|██████████| 591/591 [00:20<00:00, 29.19it/s]\n"
          ]
        },
        {
          "name": "stdout",
          "output_type": "stream",
          "text": [
            "Epoch: 002, Loss: 0.4193\n"
          ]
        },
        {
          "name": "stderr",
          "output_type": "stream",
          "text": [
            "100%|██████████| 591/591 [00:18<00:00, 32.20it/s]\n"
          ]
        },
        {
          "name": "stdout",
          "output_type": "stream",
          "text": [
            "Epoch: 003, Loss: 0.4103\n"
          ]
        },
        {
          "name": "stderr",
          "output_type": "stream",
          "text": [
            "100%|██████████| 591/591 [00:17<00:00, 33.86it/s]\n"
          ]
        },
        {
          "name": "stdout",
          "output_type": "stream",
          "text": [
            "Epoch: 004, Loss: 0.4030\n"
          ]
        },
        {
          "name": "stderr",
          "output_type": "stream",
          "text": [
            "100%|██████████| 591/591 [00:18<00:00, 32.09it/s]\n"
          ]
        },
        {
          "name": "stdout",
          "output_type": "stream",
          "text": [
            "Epoch: 005, Loss: 0.4000\n"
          ]
        },
        {
          "name": "stderr",
          "output_type": "stream",
          "text": [
            "100%|██████████| 591/591 [00:18<00:00, 32.41it/s]\n"
          ]
        },
        {
          "name": "stdout",
          "output_type": "stream",
          "text": [
            "Epoch: 006, Loss: 0.3973\n"
          ]
        },
        {
          "name": "stderr",
          "output_type": "stream",
          "text": [
            "100%|██████████| 591/591 [00:17<00:00, 33.91it/s]\n"
          ]
        },
        {
          "name": "stdout",
          "output_type": "stream",
          "text": [
            "Epoch: 007, Loss: 0.3952\n"
          ]
        },
        {
          "name": "stderr",
          "output_type": "stream",
          "text": [
            "100%|██████████| 591/591 [00:17<00:00, 34.26it/s]\n"
          ]
        },
        {
          "name": "stdout",
          "output_type": "stream",
          "text": [
            "Epoch: 008, Loss: 0.3911\n"
          ]
        },
        {
          "name": "stderr",
          "output_type": "stream",
          "text": [
            "100%|██████████| 591/591 [00:17<00:00, 33.55it/s]\n"
          ]
        },
        {
          "name": "stdout",
          "output_type": "stream",
          "text": [
            "Epoch: 009, Loss: 0.3892\n",
            "precision: 0.022709224190592545\n",
            "recall: 0.068912136376416\n",
            "ndcg: 0.24016528656886124\n",
            "Proxy(x)\n",
            "embed_size: 32, model: <class '__main__.Model'>, sampled_neighbours: {('course', 'course_school', 'school'): [2, 2], ('course', 'course_teacher', 'teacher'): [2, 2], ('course', 'course_concept', 'concept'): [7, 7], ('user', 'enroll', 'course'): [1, 0], ('course', 'rev_enroll', 'user'): [0, 0], ('school', 'rev_course_school', 'course'): [2, 2], ('teacher', 'rev_course_teacher', 'course'): [2, 2], ('concept', 'rev_course_concept', 'course'): [7, 7]}, num_negative_samples: 2.0, lr: 0.01\n"
          ]
        },
        {
          "name": "stderr",
          "output_type": "stream",
          "text": [
            "100%|██████████| 591/591 [00:18<00:00, 31.43it/s]\n"
          ]
        },
        {
          "name": "stdout",
          "output_type": "stream",
          "text": [
            "Epoch: 000, Loss: 0.4718\n"
          ]
        },
        {
          "name": "stderr",
          "output_type": "stream",
          "text": [
            "100%|██████████| 591/591 [00:18<00:00, 31.49it/s]\n"
          ]
        },
        {
          "name": "stdout",
          "output_type": "stream",
          "text": [
            "Epoch: 001, Loss: 0.4365\n"
          ]
        },
        {
          "name": "stderr",
          "output_type": "stream",
          "text": [
            "100%|██████████| 591/591 [00:17<00:00, 33.23it/s]\n"
          ]
        },
        {
          "name": "stdout",
          "output_type": "stream",
          "text": [
            "Epoch: 002, Loss: 0.4267\n"
          ]
        },
        {
          "name": "stderr",
          "output_type": "stream",
          "text": [
            "100%|██████████| 591/591 [00:17<00:00, 34.13it/s]\n"
          ]
        },
        {
          "name": "stdout",
          "output_type": "stream",
          "text": [
            "Epoch: 003, Loss: 0.4196\n"
          ]
        },
        {
          "name": "stderr",
          "output_type": "stream",
          "text": [
            "100%|██████████| 591/591 [00:17<00:00, 33.93it/s]\n"
          ]
        },
        {
          "name": "stdout",
          "output_type": "stream",
          "text": [
            "Epoch: 004, Loss: 0.4171\n"
          ]
        },
        {
          "name": "stderr",
          "output_type": "stream",
          "text": [
            "100%|██████████| 591/591 [00:17<00:00, 33.58it/s]\n"
          ]
        },
        {
          "name": "stdout",
          "output_type": "stream",
          "text": [
            "Epoch: 005, Loss: 0.4116\n"
          ]
        },
        {
          "name": "stderr",
          "output_type": "stream",
          "text": [
            "100%|██████████| 591/591 [00:18<00:00, 32.74it/s]\n"
          ]
        },
        {
          "name": "stdout",
          "output_type": "stream",
          "text": [
            "Epoch: 006, Loss: 0.4085\n"
          ]
        },
        {
          "name": "stderr",
          "output_type": "stream",
          "text": [
            "100%|██████████| 591/591 [00:18<00:00, 32.33it/s]\n"
          ]
        },
        {
          "name": "stdout",
          "output_type": "stream",
          "text": [
            "Epoch: 007, Loss: 0.4069\n"
          ]
        },
        {
          "name": "stderr",
          "output_type": "stream",
          "text": [
            "100%|██████████| 591/591 [00:17<00:00, 33.96it/s]\n"
          ]
        },
        {
          "name": "stdout",
          "output_type": "stream",
          "text": [
            "Epoch: 008, Loss: 0.4026\n"
          ]
        },
        {
          "name": "stderr",
          "output_type": "stream",
          "text": [
            "100%|██████████| 591/591 [00:17<00:00, 33.86it/s]\n"
          ]
        },
        {
          "name": "stdout",
          "output_type": "stream",
          "text": [
            "Epoch: 009, Loss: 0.4031\n",
            "precision: 0.07515271838729383\n",
            "recall: 0.23809975679674358\n",
            "ndcg: 0.24016528656886124\n",
            "Proxy(x)\n",
            "embed_size: 32, model: <class '__main__.Model'>, sampled_neighbours: {('course', 'course_school', 'school'): [2, 2], ('course', 'course_teacher', 'teacher'): [2, 2], ('course', 'course_concept', 'concept'): [7, 7], ('user', 'enroll', 'course'): [1, 0], ('course', 'rev_enroll', 'user'): [0, 0], ('school', 'rev_course_school', 'course'): [2, 2], ('teacher', 'rev_course_teacher', 'course'): [2, 2], ('concept', 'rev_course_concept', 'course'): [7, 7]}, num_negative_samples: 4.0, lr: 0.001\n"
          ]
        },
        {
          "name": "stderr",
          "output_type": "stream",
          "text": [
            "100%|██████████| 591/591 [00:19<00:00, 30.93it/s]\n"
          ]
        },
        {
          "name": "stdout",
          "output_type": "stream",
          "text": [
            "Epoch: 000, Loss: 0.3991\n"
          ]
        },
        {
          "name": "stderr",
          "output_type": "stream",
          "text": [
            "100%|██████████| 591/591 [00:21<00:00, 28.12it/s]\n"
          ]
        },
        {
          "name": "stdout",
          "output_type": "stream",
          "text": [
            "Epoch: 001, Loss: 0.3598\n"
          ]
        },
        {
          "name": "stderr",
          "output_type": "stream",
          "text": [
            "100%|██████████| 591/591 [00:18<00:00, 31.21it/s]\n"
          ]
        },
        {
          "name": "stdout",
          "output_type": "stream",
          "text": [
            "Epoch: 002, Loss: 0.3520\n"
          ]
        },
        {
          "name": "stderr",
          "output_type": "stream",
          "text": [
            "100%|██████████| 591/591 [00:19<00:00, 31.08it/s]\n"
          ]
        },
        {
          "name": "stdout",
          "output_type": "stream",
          "text": [
            "Epoch: 003, Loss: 0.3469\n"
          ]
        },
        {
          "name": "stderr",
          "output_type": "stream",
          "text": [
            "100%|██████████| 591/591 [00:22<00:00, 26.08it/s]\n"
          ]
        },
        {
          "name": "stdout",
          "output_type": "stream",
          "text": [
            "Epoch: 004, Loss: 0.3395\n"
          ]
        },
        {
          "name": "stderr",
          "output_type": "stream",
          "text": [
            "100%|██████████| 591/591 [00:19<00:00, 30.95it/s]\n"
          ]
        },
        {
          "name": "stdout",
          "output_type": "stream",
          "text": [
            "Epoch: 005, Loss: 0.3345\n"
          ]
        },
        {
          "name": "stderr",
          "output_type": "stream",
          "text": [
            "100%|██████████| 591/591 [00:19<00:00, 30.49it/s]\n"
          ]
        },
        {
          "name": "stdout",
          "output_type": "stream",
          "text": [
            "Epoch: 006, Loss: 0.3300\n"
          ]
        },
        {
          "name": "stderr",
          "output_type": "stream",
          "text": [
            "100%|██████████| 591/591 [00:20<00:00, 29.23it/s]\n"
          ]
        },
        {
          "name": "stdout",
          "output_type": "stream",
          "text": [
            "Epoch: 007, Loss: 0.3252\n"
          ]
        },
        {
          "name": "stderr",
          "output_type": "stream",
          "text": [
            "100%|██████████| 591/591 [00:19<00:00, 29.61it/s]\n"
          ]
        },
        {
          "name": "stdout",
          "output_type": "stream",
          "text": [
            "Epoch: 008, Loss: 0.3212\n"
          ]
        },
        {
          "name": "stderr",
          "output_type": "stream",
          "text": [
            "100%|██████████| 591/591 [00:19<00:00, 31.03it/s]\n"
          ]
        },
        {
          "name": "stdout",
          "output_type": "stream",
          "text": [
            "Epoch: 009, Loss: 0.3169\n",
            "precision: 0.05946854001221747\n",
            "recall: 0.19168748919321496\n",
            "ndcg: 0.24016528656886124\n",
            "Proxy(x)\n",
            "embed_size: 32, model: <class '__main__.Model'>, sampled_neighbours: {('course', 'course_school', 'school'): [2, 2], ('course', 'course_teacher', 'teacher'): [2, 2], ('course', 'course_concept', 'concept'): [7, 7], ('user', 'enroll', 'course'): [1, 0], ('course', 'rev_enroll', 'user'): [0, 0], ('school', 'rev_course_school', 'course'): [2, 2], ('teacher', 'rev_course_teacher', 'course'): [2, 2], ('concept', 'rev_course_concept', 'course'): [7, 7]}, num_negative_samples: 4.0, lr: 0.005\n"
          ]
        },
        {
          "name": "stderr",
          "output_type": "stream",
          "text": [
            "100%|██████████| 591/591 [00:20<00:00, 28.87it/s]\n"
          ]
        },
        {
          "name": "stdout",
          "output_type": "stream",
          "text": [
            "Epoch: 000, Loss: 0.3776\n"
          ]
        },
        {
          "name": "stderr",
          "output_type": "stream",
          "text": [
            "100%|██████████| 591/591 [00:19<00:00, 30.58it/s]\n"
          ]
        },
        {
          "name": "stdout",
          "output_type": "stream",
          "text": [
            "Epoch: 001, Loss: 0.3498\n"
          ]
        },
        {
          "name": "stderr",
          "output_type": "stream",
          "text": [
            "100%|██████████| 591/591 [00:23<00:00, 25.68it/s]\n"
          ]
        },
        {
          "name": "stdout",
          "output_type": "stream",
          "text": [
            "Epoch: 002, Loss: 0.3386\n"
          ]
        },
        {
          "name": "stderr",
          "output_type": "stream",
          "text": [
            "100%|██████████| 591/591 [00:19<00:00, 30.28it/s]\n"
          ]
        },
        {
          "name": "stdout",
          "output_type": "stream",
          "text": [
            "Epoch: 003, Loss: 0.3316\n"
          ]
        },
        {
          "name": "stderr",
          "output_type": "stream",
          "text": [
            "100%|██████████| 591/591 [00:20<00:00, 29.02it/s]\n"
          ]
        },
        {
          "name": "stdout",
          "output_type": "stream",
          "text": [
            "Epoch: 004, Loss: 0.3255\n"
          ]
        },
        {
          "name": "stderr",
          "output_type": "stream",
          "text": [
            "100%|██████████| 591/591 [00:19<00:00, 30.78it/s]\n"
          ]
        },
        {
          "name": "stdout",
          "output_type": "stream",
          "text": [
            "Epoch: 005, Loss: 0.3209\n"
          ]
        },
        {
          "name": "stderr",
          "output_type": "stream",
          "text": [
            "100%|██████████| 591/591 [00:20<00:00, 29.09it/s]\n"
          ]
        },
        {
          "name": "stdout",
          "output_type": "stream",
          "text": [
            "Epoch: 006, Loss: 0.3163\n"
          ]
        },
        {
          "name": "stderr",
          "output_type": "stream",
          "text": [
            "100%|██████████| 591/591 [00:21<00:00, 27.59it/s]\n"
          ]
        },
        {
          "name": "stdout",
          "output_type": "stream",
          "text": [
            "Epoch: 007, Loss: 0.3128\n"
          ]
        },
        {
          "name": "stderr",
          "output_type": "stream",
          "text": [
            "100%|██████████| 591/591 [00:19<00:00, 30.10it/s]\n"
          ]
        },
        {
          "name": "stdout",
          "output_type": "stream",
          "text": [
            "Epoch: 008, Loss: 0.3114\n"
          ]
        },
        {
          "name": "stderr",
          "output_type": "stream",
          "text": [
            "100%|██████████| 591/591 [00:19<00:00, 30.90it/s]\n"
          ]
        },
        {
          "name": "stdout",
          "output_type": "stream",
          "text": [
            "Epoch: 009, Loss: 0.3085\n",
            "precision: 0.07388515577275503\n",
            "recall: 0.23445460431207116\n",
            "ndcg: 0.24016528656886124\n",
            "Proxy(x)\n",
            "embed_size: 32, model: <class '__main__.Model'>, sampled_neighbours: {('course', 'course_school', 'school'): [2, 2], ('course', 'course_teacher', 'teacher'): [2, 2], ('course', 'course_concept', 'concept'): [7, 7], ('user', 'enroll', 'course'): [1, 0], ('course', 'rev_enroll', 'user'): [0, 0], ('school', 'rev_course_school', 'course'): [2, 2], ('teacher', 'rev_course_teacher', 'course'): [2, 2], ('concept', 'rev_course_concept', 'course'): [7, 7]}, num_negative_samples: 4.0, lr: 0.01\n"
          ]
        },
        {
          "name": "stderr",
          "output_type": "stream",
          "text": [
            "100%|██████████| 591/591 [00:19<00:00, 29.63it/s]\n"
          ]
        },
        {
          "name": "stdout",
          "output_type": "stream",
          "text": [
            "Epoch: 000, Loss: 0.3796\n"
          ]
        },
        {
          "name": "stderr",
          "output_type": "stream",
          "text": [
            "100%|██████████| 591/591 [00:19<00:00, 30.58it/s]\n"
          ]
        },
        {
          "name": "stdout",
          "output_type": "stream",
          "text": [
            "Epoch: 001, Loss: 0.3490\n"
          ]
        },
        {
          "name": "stderr",
          "output_type": "stream",
          "text": [
            "100%|██████████| 591/591 [00:19<00:00, 31.08it/s]\n"
          ]
        },
        {
          "name": "stdout",
          "output_type": "stream",
          "text": [
            "Epoch: 002, Loss: 0.3380\n"
          ]
        },
        {
          "name": "stderr",
          "output_type": "stream",
          "text": [
            "100%|██████████| 591/591 [00:20<00:00, 28.51it/s]\n"
          ]
        },
        {
          "name": "stdout",
          "output_type": "stream",
          "text": [
            "Epoch: 003, Loss: 0.3338\n"
          ]
        },
        {
          "name": "stderr",
          "output_type": "stream",
          "text": [
            "100%|██████████| 591/591 [00:19<00:00, 31.09it/s]\n"
          ]
        },
        {
          "name": "stdout",
          "output_type": "stream",
          "text": [
            "Epoch: 004, Loss: 0.3306\n"
          ]
        },
        {
          "name": "stderr",
          "output_type": "stream",
          "text": [
            "100%|██████████| 591/591 [00:19<00:00, 30.78it/s]\n"
          ]
        },
        {
          "name": "stdout",
          "output_type": "stream",
          "text": [
            "Epoch: 005, Loss: 0.3264\n"
          ]
        },
        {
          "name": "stderr",
          "output_type": "stream",
          "text": [
            "100%|██████████| 591/591 [00:19<00:00, 29.59it/s]\n"
          ]
        },
        {
          "name": "stdout",
          "output_type": "stream",
          "text": [
            "Epoch: 006, Loss: 0.3239\n"
          ]
        },
        {
          "name": "stderr",
          "output_type": "stream",
          "text": [
            "100%|██████████| 591/591 [00:19<00:00, 29.61it/s]\n"
          ]
        },
        {
          "name": "stdout",
          "output_type": "stream",
          "text": [
            "Epoch: 007, Loss: 0.3226\n"
          ]
        },
        {
          "name": "stderr",
          "output_type": "stream",
          "text": [
            "100%|██████████| 591/591 [00:19<00:00, 31.01it/s]\n"
          ]
        },
        {
          "name": "stdout",
          "output_type": "stream",
          "text": [
            "Epoch: 008, Loss: 0.3203\n"
          ]
        },
        {
          "name": "stderr",
          "output_type": "stream",
          "text": [
            "100%|██████████| 591/591 [00:21<00:00, 28.04it/s]\n"
          ]
        },
        {
          "name": "stdout",
          "output_type": "stream",
          "text": [
            "Epoch: 009, Loss: 0.3185\n",
            "precision: 0.07080024434941967\n",
            "recall: 0.22932747644587134\n",
            "ndcg: 0.24016528656886124\n",
            "Proxy(x)\n",
            "embed_size: 32, model: <class '__main__.Model'>, sampled_neighbours: {('course', 'course_school', 'school'): [2, 2], ('course', 'course_teacher', 'teacher'): [2, 2], ('course', 'course_concept', 'concept'): [10, 10], ('user', 'enroll', 'course'): [1, 0], ('course', 'rev_enroll', 'user'): [0, 0], ('school', 'rev_course_school', 'course'): [2, 2], ('teacher', 'rev_course_teacher', 'course'): [2, 2], ('concept', 'rev_course_concept', 'course'): [10, 10]}, num_negative_samples: 1.0, lr: 0.001\n"
          ]
        },
        {
          "name": "stderr",
          "output_type": "stream",
          "text": [
            "100%|██████████| 591/591 [00:18<00:00, 31.84it/s]\n"
          ]
        },
        {
          "name": "stdout",
          "output_type": "stream",
          "text": [
            "Epoch: 000, Loss: 0.5487\n"
          ]
        },
        {
          "name": "stderr",
          "output_type": "stream",
          "text": [
            "100%|██████████| 591/591 [00:17<00:00, 33.29it/s]\n"
          ]
        },
        {
          "name": "stdout",
          "output_type": "stream",
          "text": [
            "Epoch: 001, Loss: 0.4825\n"
          ]
        },
        {
          "name": "stderr",
          "output_type": "stream",
          "text": [
            "100%|██████████| 591/591 [00:17<00:00, 33.32it/s]\n"
          ]
        },
        {
          "name": "stdout",
          "output_type": "stream",
          "text": [
            "Epoch: 002, Loss: 0.4718\n"
          ]
        },
        {
          "name": "stderr",
          "output_type": "stream",
          "text": [
            "100%|██████████| 591/591 [00:18<00:00, 32.55it/s]\n"
          ]
        },
        {
          "name": "stdout",
          "output_type": "stream",
          "text": [
            "Epoch: 003, Loss: 0.4601\n"
          ]
        },
        {
          "name": "stderr",
          "output_type": "stream",
          "text": [
            "100%|██████████| 591/591 [00:19<00:00, 31.10it/s]\n"
          ]
        },
        {
          "name": "stdout",
          "output_type": "stream",
          "text": [
            "Epoch: 004, Loss: 0.4514\n"
          ]
        },
        {
          "name": "stderr",
          "output_type": "stream",
          "text": [
            "100%|██████████| 591/591 [00:18<00:00, 31.41it/s]\n"
          ]
        },
        {
          "name": "stdout",
          "output_type": "stream",
          "text": [
            "Epoch: 005, Loss: 0.4418\n"
          ]
        },
        {
          "name": "stderr",
          "output_type": "stream",
          "text": [
            "100%|██████████| 591/591 [00:17<00:00, 33.00it/s]\n"
          ]
        },
        {
          "name": "stdout",
          "output_type": "stream",
          "text": [
            "Epoch: 006, Loss: 0.4309\n"
          ]
        },
        {
          "name": "stderr",
          "output_type": "stream",
          "text": [
            "100%|██████████| 591/591 [00:17<00:00, 33.07it/s]\n"
          ]
        },
        {
          "name": "stdout",
          "output_type": "stream",
          "text": [
            "Epoch: 007, Loss: 0.4275\n"
          ]
        },
        {
          "name": "stderr",
          "output_type": "stream",
          "text": [
            "100%|██████████| 591/591 [00:17<00:00, 33.12it/s]\n"
          ]
        },
        {
          "name": "stdout",
          "output_type": "stream",
          "text": [
            "Epoch: 008, Loss: 0.4198\n"
          ]
        },
        {
          "name": "stderr",
          "output_type": "stream",
          "text": [
            "100%|██████████| 591/591 [00:18<00:00, 31.82it/s]\n"
          ]
        },
        {
          "name": "stdout",
          "output_type": "stream",
          "text": [
            "Epoch: 009, Loss: 0.4147\n",
            "precision: 0.019257788637751985\n",
            "recall: 0.06533887064201664\n",
            "ndcg: 0.24016528656886124\n",
            "Proxy(x)\n",
            "embed_size: 32, model: <class '__main__.Model'>, sampled_neighbours: {('course', 'course_school', 'school'): [2, 2], ('course', 'course_teacher', 'teacher'): [2, 2], ('course', 'course_concept', 'concept'): [10, 10], ('user', 'enroll', 'course'): [1, 0], ('course', 'rev_enroll', 'user'): [0, 0], ('school', 'rev_course_school', 'course'): [2, 2], ('teacher', 'rev_course_teacher', 'course'): [2, 2], ('concept', 'rev_course_concept', 'course'): [10, 10]}, num_negative_samples: 1.0, lr: 0.005\n"
          ]
        },
        {
          "name": "stderr",
          "output_type": "stream",
          "text": [
            "100%|██████████| 591/591 [00:17<00:00, 33.38it/s]\n"
          ]
        },
        {
          "name": "stdout",
          "output_type": "stream",
          "text": [
            "Epoch: 000, Loss: 0.5136\n"
          ]
        },
        {
          "name": "stderr",
          "output_type": "stream",
          "text": [
            "100%|██████████| 591/591 [00:24<00:00, 24.59it/s]\n"
          ]
        },
        {
          "name": "stdout",
          "output_type": "stream",
          "text": [
            "Epoch: 001, Loss: 0.4703\n"
          ]
        },
        {
          "name": "stderr",
          "output_type": "stream",
          "text": [
            "100%|██████████| 591/591 [00:18<00:00, 31.86it/s]\n"
          ]
        },
        {
          "name": "stdout",
          "output_type": "stream",
          "text": [
            "Epoch: 002, Loss: 0.4526\n"
          ]
        },
        {
          "name": "stderr",
          "output_type": "stream",
          "text": [
            "100%|██████████| 591/591 [00:18<00:00, 31.64it/s]\n"
          ]
        },
        {
          "name": "stdout",
          "output_type": "stream",
          "text": [
            "Epoch: 003, Loss: 0.4434\n"
          ]
        },
        {
          "name": "stderr",
          "output_type": "stream",
          "text": [
            "100%|██████████| 591/591 [00:17<00:00, 33.17it/s]\n"
          ]
        },
        {
          "name": "stdout",
          "output_type": "stream",
          "text": [
            "Epoch: 004, Loss: 0.4343\n"
          ]
        },
        {
          "name": "stderr",
          "output_type": "stream",
          "text": [
            "100%|██████████| 591/591 [00:17<00:00, 32.93it/s]\n"
          ]
        },
        {
          "name": "stdout",
          "output_type": "stream",
          "text": [
            "Epoch: 005, Loss: 0.4300\n"
          ]
        },
        {
          "name": "stderr",
          "output_type": "stream",
          "text": [
            "100%|██████████| 591/591 [00:18<00:00, 32.71it/s]\n"
          ]
        },
        {
          "name": "stdout",
          "output_type": "stream",
          "text": [
            "Epoch: 006, Loss: 0.4288\n"
          ]
        },
        {
          "name": "stderr",
          "output_type": "stream",
          "text": [
            "100%|██████████| 591/591 [00:18<00:00, 32.67it/s]\n"
          ]
        },
        {
          "name": "stdout",
          "output_type": "stream",
          "text": [
            "Epoch: 007, Loss: 0.4242\n"
          ]
        },
        {
          "name": "stderr",
          "output_type": "stream",
          "text": [
            "100%|██████████| 591/591 [00:18<00:00, 31.38it/s]\n"
          ]
        },
        {
          "name": "stdout",
          "output_type": "stream",
          "text": [
            "Epoch: 008, Loss: 0.4237\n"
          ]
        },
        {
          "name": "stderr",
          "output_type": "stream",
          "text": [
            "100%|██████████| 591/591 [00:18<00:00, 32.41it/s]\n"
          ]
        },
        {
          "name": "stdout",
          "output_type": "stream",
          "text": [
            "Epoch: 009, Loss: 0.4193\n",
            "precision: 0.006169822846670739\n",
            "recall: 0.020482462252049614\n",
            "ndcg: 0.24016528656886124\n",
            "Proxy(x)\n",
            "embed_size: 32, model: <class '__main__.Model'>, sampled_neighbours: {('course', 'course_school', 'school'): [2, 2], ('course', 'course_teacher', 'teacher'): [2, 2], ('course', 'course_concept', 'concept'): [10, 10], ('user', 'enroll', 'course'): [1, 0], ('course', 'rev_enroll', 'user'): [0, 0], ('school', 'rev_course_school', 'course'): [2, 2], ('teacher', 'rev_course_teacher', 'course'): [2, 2], ('concept', 'rev_course_concept', 'course'): [10, 10]}, num_negative_samples: 1.0, lr: 0.01\n"
          ]
        },
        {
          "name": "stderr",
          "output_type": "stream",
          "text": [
            "100%|██████████| 591/591 [00:18<00:00, 32.83it/s]\n"
          ]
        },
        {
          "name": "stdout",
          "output_type": "stream",
          "text": [
            "Epoch: 000, Loss: 0.5117\n"
          ]
        },
        {
          "name": "stderr",
          "output_type": "stream",
          "text": [
            "100%|██████████| 591/591 [00:18<00:00, 31.40it/s]\n"
          ]
        },
        {
          "name": "stdout",
          "output_type": "stream",
          "text": [
            "Epoch: 001, Loss: 0.4772\n"
          ]
        },
        {
          "name": "stderr",
          "output_type": "stream",
          "text": [
            "100%|██████████| 591/591 [00:19<00:00, 31.08it/s]\n"
          ]
        },
        {
          "name": "stdout",
          "output_type": "stream",
          "text": [
            "Epoch: 002, Loss: 0.4708\n"
          ]
        },
        {
          "name": "stderr",
          "output_type": "stream",
          "text": [
            "100%|██████████| 591/591 [00:17<00:00, 32.87it/s]\n"
          ]
        },
        {
          "name": "stdout",
          "output_type": "stream",
          "text": [
            "Epoch: 003, Loss: 0.4659\n"
          ]
        },
        {
          "name": "stderr",
          "output_type": "stream",
          "text": [
            "100%|██████████| 591/591 [00:20<00:00, 29.49it/s]\n"
          ]
        },
        {
          "name": "stdout",
          "output_type": "stream",
          "text": [
            "Epoch: 004, Loss: 0.4570\n"
          ]
        },
        {
          "name": "stderr",
          "output_type": "stream",
          "text": [
            "100%|██████████| 591/591 [00:18<00:00, 32.73it/s]\n"
          ]
        },
        {
          "name": "stdout",
          "output_type": "stream",
          "text": [
            "Epoch: 005, Loss: 0.4551\n"
          ]
        },
        {
          "name": "stderr",
          "output_type": "stream",
          "text": [
            "100%|██████████| 591/591 [00:18<00:00, 31.71it/s]\n"
          ]
        },
        {
          "name": "stdout",
          "output_type": "stream",
          "text": [
            "Epoch: 006, Loss: 0.4489\n"
          ]
        },
        {
          "name": "stderr",
          "output_type": "stream",
          "text": [
            "100%|██████████| 591/591 [00:19<00:00, 30.24it/s]\n"
          ]
        },
        {
          "name": "stdout",
          "output_type": "stream",
          "text": [
            "Epoch: 007, Loss: 0.4469\n"
          ]
        },
        {
          "name": "stderr",
          "output_type": "stream",
          "text": [
            "100%|██████████| 591/591 [00:18<00:00, 31.81it/s]\n"
          ]
        },
        {
          "name": "stdout",
          "output_type": "stream",
          "text": [
            "Epoch: 008, Loss: 0.4425\n"
          ]
        },
        {
          "name": "stderr",
          "output_type": "stream",
          "text": [
            "100%|██████████| 591/591 [00:18<00:00, 32.36it/s]\n"
          ]
        },
        {
          "name": "stdout",
          "output_type": "stream",
          "text": [
            "Epoch: 009, Loss: 0.4418\n",
            "precision: 0.04665546731826512\n",
            "recall: 0.15099522390643824\n",
            "ndcg: 0.24016528656886124\n",
            "Proxy(x)\n",
            "embed_size: 32, model: <class '__main__.Model'>, sampled_neighbours: {('course', 'course_school', 'school'): [2, 2], ('course', 'course_teacher', 'teacher'): [2, 2], ('course', 'course_concept', 'concept'): [10, 10], ('user', 'enroll', 'course'): [1, 0], ('course', 'rev_enroll', 'user'): [0, 0], ('school', 'rev_course_school', 'course'): [2, 2], ('teacher', 'rev_course_teacher', 'course'): [2, 2], ('concept', 'rev_course_concept', 'course'): [10, 10]}, num_negative_samples: 2.0, lr: 0.001\n"
          ]
        },
        {
          "name": "stderr",
          "output_type": "stream",
          "text": [
            "100%|██████████| 591/591 [00:21<00:00, 27.40it/s]\n"
          ]
        },
        {
          "name": "stdout",
          "output_type": "stream",
          "text": [
            "Epoch: 000, Loss: 0.5007\n"
          ]
        },
        {
          "name": "stderr",
          "output_type": "stream",
          "text": [
            "100%|██████████| 591/591 [00:19<00:00, 30.87it/s]\n"
          ]
        },
        {
          "name": "stdout",
          "output_type": "stream",
          "text": [
            "Epoch: 001, Loss: 0.4456\n"
          ]
        },
        {
          "name": "stderr",
          "output_type": "stream",
          "text": [
            "100%|██████████| 591/591 [00:20<00:00, 29.17it/s]\n"
          ]
        },
        {
          "name": "stdout",
          "output_type": "stream",
          "text": [
            "Epoch: 002, Loss: 0.4367\n"
          ]
        },
        {
          "name": "stderr",
          "output_type": "stream",
          "text": [
            "100%|██████████| 591/591 [00:20<00:00, 28.63it/s]\n"
          ]
        },
        {
          "name": "stdout",
          "output_type": "stream",
          "text": [
            "Epoch: 003, Loss: 0.4275\n"
          ]
        },
        {
          "name": "stderr",
          "output_type": "stream",
          "text": [
            "100%|██████████| 591/591 [00:19<00:00, 29.79it/s]\n"
          ]
        },
        {
          "name": "stdout",
          "output_type": "stream",
          "text": [
            "Epoch: 004, Loss: 0.4190\n"
          ]
        },
        {
          "name": "stderr",
          "output_type": "stream",
          "text": [
            "100%|██████████| 591/591 [00:19<00:00, 30.36it/s]\n"
          ]
        },
        {
          "name": "stdout",
          "output_type": "stream",
          "text": [
            "Epoch: 005, Loss: 0.4113\n"
          ]
        },
        {
          "name": "stderr",
          "output_type": "stream",
          "text": [
            "100%|██████████| 591/591 [00:19<00:00, 29.69it/s]\n"
          ]
        },
        {
          "name": "stdout",
          "output_type": "stream",
          "text": [
            "Epoch: 006, Loss: 0.4043\n"
          ]
        },
        {
          "name": "stderr",
          "output_type": "stream",
          "text": [
            "100%|██████████| 591/591 [00:22<00:00, 26.30it/s]\n"
          ]
        },
        {
          "name": "stdout",
          "output_type": "stream",
          "text": [
            "Epoch: 007, Loss: 0.3990\n"
          ]
        },
        {
          "name": "stderr",
          "output_type": "stream",
          "text": [
            "100%|██████████| 591/591 [00:19<00:00, 30.52it/s]\n"
          ]
        },
        {
          "name": "stdout",
          "output_type": "stream",
          "text": [
            "Epoch: 008, Loss: 0.3932\n"
          ]
        },
        {
          "name": "stderr",
          "output_type": "stream",
          "text": [
            "100%|██████████| 591/591 [00:19<00:00, 30.50it/s]\n"
          ]
        },
        {
          "name": "stdout",
          "output_type": "stream",
          "text": [
            "Epoch: 009, Loss: 0.3893\n",
            "precision: 0.05461209529627367\n",
            "recall: 0.17458704740832634\n",
            "ndcg: 0.24016528656886124\n",
            "Proxy(x)\n",
            "embed_size: 32, model: <class '__main__.Model'>, sampled_neighbours: {('course', 'course_school', 'school'): [2, 2], ('course', 'course_teacher', 'teacher'): [2, 2], ('course', 'course_concept', 'concept'): [10, 10], ('user', 'enroll', 'course'): [1, 0], ('course', 'rev_enroll', 'user'): [0, 0], ('school', 'rev_course_school', 'course'): [2, 2], ('teacher', 'rev_course_teacher', 'course'): [2, 2], ('concept', 'rev_course_concept', 'course'): [10, 10]}, num_negative_samples: 2.0, lr: 0.005\n"
          ]
        },
        {
          "name": "stderr",
          "output_type": "stream",
          "text": [
            "100%|██████████| 591/591 [00:19<00:00, 30.17it/s]\n"
          ]
        },
        {
          "name": "stdout",
          "output_type": "stream",
          "text": [
            "Epoch: 000, Loss: 0.4678\n"
          ]
        },
        {
          "name": "stderr",
          "output_type": "stream",
          "text": [
            "100%|██████████| 591/591 [00:19<00:00, 30.37it/s]\n"
          ]
        },
        {
          "name": "stdout",
          "output_type": "stream",
          "text": [
            "Epoch: 001, Loss: 0.4331\n"
          ]
        },
        {
          "name": "stderr",
          "output_type": "stream",
          "text": [
            "100%|██████████| 591/591 [00:20<00:00, 28.51it/s]\n"
          ]
        },
        {
          "name": "stdout",
          "output_type": "stream",
          "text": [
            "Epoch: 002, Loss: 0.4190\n"
          ]
        },
        {
          "name": "stderr",
          "output_type": "stream",
          "text": [
            "100%|██████████| 591/591 [00:20<00:00, 29.38it/s]\n"
          ]
        },
        {
          "name": "stdout",
          "output_type": "stream",
          "text": [
            "Epoch: 003, Loss: 0.4089\n"
          ]
        },
        {
          "name": "stderr",
          "output_type": "stream",
          "text": [
            "100%|██████████| 591/591 [00:19<00:00, 30.48it/s]\n"
          ]
        },
        {
          "name": "stdout",
          "output_type": "stream",
          "text": [
            "Epoch: 004, Loss: 0.4038\n"
          ]
        },
        {
          "name": "stderr",
          "output_type": "stream",
          "text": [
            "100%|██████████| 591/591 [00:19<00:00, 29.68it/s]\n"
          ]
        },
        {
          "name": "stdout",
          "output_type": "stream",
          "text": [
            "Epoch: 005, Loss: 0.3996\n"
          ]
        },
        {
          "name": "stderr",
          "output_type": "stream",
          "text": [
            "100%|██████████| 591/591 [00:20<00:00, 28.28it/s]\n"
          ]
        },
        {
          "name": "stdout",
          "output_type": "stream",
          "text": [
            "Epoch: 006, Loss: 0.3955\n"
          ]
        },
        {
          "name": "stderr",
          "output_type": "stream",
          "text": [
            "100%|██████████| 591/591 [00:19<00:00, 30.26it/s]\n"
          ]
        },
        {
          "name": "stdout",
          "output_type": "stream",
          "text": [
            "Epoch: 007, Loss: 0.3925\n"
          ]
        },
        {
          "name": "stderr",
          "output_type": "stream",
          "text": [
            "100%|██████████| 591/591 [00:19<00:00, 30.72it/s]\n"
          ]
        },
        {
          "name": "stdout",
          "output_type": "stream",
          "text": [
            "Epoch: 008, Loss: 0.3908\n"
          ]
        },
        {
          "name": "stderr",
          "output_type": "stream",
          "text": [
            "100%|██████████| 591/591 [00:23<00:00, 25.31it/s]\n"
          ]
        },
        {
          "name": "stdout",
          "output_type": "stream",
          "text": [
            "Epoch: 009, Loss: 0.3877\n",
            "precision: 0.008827122785583385\n",
            "recall: 0.02996625650871222\n",
            "ndcg: 0.24016528656886124\n",
            "Proxy(x)\n",
            "embed_size: 32, model: <class '__main__.Model'>, sampled_neighbours: {('course', 'course_school', 'school'): [2, 2], ('course', 'course_teacher', 'teacher'): [2, 2], ('course', 'course_concept', 'concept'): [10, 10], ('user', 'enroll', 'course'): [1, 0], ('course', 'rev_enroll', 'user'): [0, 0], ('school', 'rev_course_school', 'course'): [2, 2], ('teacher', 'rev_course_teacher', 'course'): [2, 2], ('concept', 'rev_course_concept', 'course'): [10, 10]}, num_negative_samples: 2.0, lr: 0.01\n"
          ]
        },
        {
          "name": "stderr",
          "output_type": "stream",
          "text": [
            "100%|██████████| 591/591 [00:19<00:00, 30.80it/s]\n"
          ]
        },
        {
          "name": "stdout",
          "output_type": "stream",
          "text": [
            "Epoch: 000, Loss: 0.4688\n"
          ]
        },
        {
          "name": "stderr",
          "output_type": "stream",
          "text": [
            "100%|██████████| 591/591 [00:19<00:00, 30.47it/s]\n"
          ]
        },
        {
          "name": "stdout",
          "output_type": "stream",
          "text": [
            "Epoch: 001, Loss: 0.4397\n"
          ]
        },
        {
          "name": "stderr",
          "output_type": "stream",
          "text": [
            "100%|██████████| 591/591 [00:20<00:00, 28.42it/s]\n"
          ]
        },
        {
          "name": "stdout",
          "output_type": "stream",
          "text": [
            "Epoch: 002, Loss: 0.4297\n"
          ]
        },
        {
          "name": "stderr",
          "output_type": "stream",
          "text": [
            "100%|██████████| 591/591 [00:19<00:00, 30.89it/s]\n"
          ]
        },
        {
          "name": "stdout",
          "output_type": "stream",
          "text": [
            "Epoch: 003, Loss: 0.4261\n"
          ]
        },
        {
          "name": "stderr",
          "output_type": "stream",
          "text": [
            "100%|██████████| 591/591 [00:19<00:00, 30.39it/s]\n"
          ]
        },
        {
          "name": "stdout",
          "output_type": "stream",
          "text": [
            "Epoch: 004, Loss: 0.4195\n"
          ]
        },
        {
          "name": "stderr",
          "output_type": "stream",
          "text": [
            "100%|██████████| 591/591 [00:20<00:00, 28.67it/s]\n"
          ]
        },
        {
          "name": "stdout",
          "output_type": "stream",
          "text": [
            "Epoch: 005, Loss: 0.4151\n"
          ]
        },
        {
          "name": "stderr",
          "output_type": "stream",
          "text": [
            "100%|██████████| 591/591 [00:19<00:00, 29.95it/s]\n"
          ]
        },
        {
          "name": "stdout",
          "output_type": "stream",
          "text": [
            "Epoch: 006, Loss: 0.4109\n"
          ]
        },
        {
          "name": "stderr",
          "output_type": "stream",
          "text": [
            "100%|██████████| 591/591 [00:19<00:00, 30.81it/s]\n"
          ]
        },
        {
          "name": "stdout",
          "output_type": "stream",
          "text": [
            "Epoch: 007, Loss: 0.4096\n"
          ]
        },
        {
          "name": "stderr",
          "output_type": "stream",
          "text": [
            "100%|██████████| 591/591 [00:19<00:00, 29.78it/s]\n"
          ]
        },
        {
          "name": "stdout",
          "output_type": "stream",
          "text": [
            "Epoch: 008, Loss: 0.4086\n"
          ]
        },
        {
          "name": "stderr",
          "output_type": "stream",
          "text": [
            "100%|██████████| 591/591 [00:20<00:00, 28.25it/s]\n"
          ]
        },
        {
          "name": "stdout",
          "output_type": "stream",
          "text": [
            "Epoch: 009, Loss: 0.4040\n",
            "precision: 0.07136530238240685\n",
            "recall: 0.2263703846152304\n",
            "ndcg: 0.24016528656886124\n",
            "Proxy(x)\n",
            "embed_size: 32, model: <class '__main__.Model'>, sampled_neighbours: {('course', 'course_school', 'school'): [2, 2], ('course', 'course_teacher', 'teacher'): [2, 2], ('course', 'course_concept', 'concept'): [10, 10], ('user', 'enroll', 'course'): [1, 0], ('course', 'rev_enroll', 'user'): [0, 0], ('school', 'rev_course_school', 'course'): [2, 2], ('teacher', 'rev_course_teacher', 'course'): [2, 2], ('concept', 'rev_course_concept', 'course'): [10, 10]}, num_negative_samples: 4.0, lr: 0.001\n"
          ]
        },
        {
          "name": "stderr",
          "output_type": "stream",
          "text": [
            "100%|██████████| 591/591 [00:23<00:00, 24.63it/s]\n"
          ]
        },
        {
          "name": "stdout",
          "output_type": "stream",
          "text": [
            "Epoch: 000, Loss: 0.4037\n"
          ]
        },
        {
          "name": "stderr",
          "output_type": "stream",
          "text": [
            "100%|██████████| 591/591 [00:23<00:00, 25.39it/s]\n"
          ]
        },
        {
          "name": "stdout",
          "output_type": "stream",
          "text": [
            "Epoch: 001, Loss: 0.3596\n"
          ]
        },
        {
          "name": "stderr",
          "output_type": "stream",
          "text": [
            "100%|██████████| 591/591 [00:21<00:00, 27.44it/s]\n"
          ]
        },
        {
          "name": "stdout",
          "output_type": "stream",
          "text": [
            "Epoch: 002, Loss: 0.3535\n"
          ]
        },
        {
          "name": "stderr",
          "output_type": "stream",
          "text": [
            "100%|██████████| 591/591 [00:23<00:00, 25.56it/s]\n"
          ]
        },
        {
          "name": "stdout",
          "output_type": "stream",
          "text": [
            "Epoch: 003, Loss: 0.3471\n"
          ]
        },
        {
          "name": "stderr",
          "output_type": "stream",
          "text": [
            "100%|██████████| 591/591 [00:21<00:00, 27.42it/s]\n"
          ]
        },
        {
          "name": "stdout",
          "output_type": "stream",
          "text": [
            "Epoch: 004, Loss: 0.3402\n"
          ]
        },
        {
          "name": "stderr",
          "output_type": "stream",
          "text": [
            "100%|██████████| 591/591 [00:21<00:00, 26.96it/s]\n"
          ]
        },
        {
          "name": "stdout",
          "output_type": "stream",
          "text": [
            "Epoch: 005, Loss: 0.3348\n"
          ]
        },
        {
          "name": "stderr",
          "output_type": "stream",
          "text": [
            "100%|██████████| 591/591 [00:21<00:00, 27.07it/s]\n"
          ]
        },
        {
          "name": "stdout",
          "output_type": "stream",
          "text": [
            "Epoch: 006, Loss: 0.3300\n"
          ]
        },
        {
          "name": "stderr",
          "output_type": "stream",
          "text": [
            "100%|██████████| 591/591 [00:26<00:00, 22.30it/s]\n"
          ]
        },
        {
          "name": "stdout",
          "output_type": "stream",
          "text": [
            "Epoch: 007, Loss: 0.3255\n"
          ]
        },
        {
          "name": "stderr",
          "output_type": "stream",
          "text": [
            "100%|██████████| 591/591 [00:22<00:00, 25.98it/s]\n"
          ]
        },
        {
          "name": "stdout",
          "output_type": "stream",
          "text": [
            "Epoch: 008, Loss: 0.3213\n"
          ]
        },
        {
          "name": "stderr",
          "output_type": "stream",
          "text": [
            "100%|██████████| 591/591 [00:21<00:00, 27.82it/s]\n"
          ]
        },
        {
          "name": "stdout",
          "output_type": "stream",
          "text": [
            "Epoch: 009, Loss: 0.3165\n",
            "precision: 0.06101099572388516\n",
            "recall: 0.19513074906152825\n",
            "ndcg: 0.24016528656886124\n",
            "Proxy(x)\n",
            "embed_size: 32, model: <class '__main__.Model'>, sampled_neighbours: {('course', 'course_school', 'school'): [2, 2], ('course', 'course_teacher', 'teacher'): [2, 2], ('course', 'course_concept', 'concept'): [10, 10], ('user', 'enroll', 'course'): [1, 0], ('course', 'rev_enroll', 'user'): [0, 0], ('school', 'rev_course_school', 'course'): [2, 2], ('teacher', 'rev_course_teacher', 'course'): [2, 2], ('concept', 'rev_course_concept', 'course'): [10, 10]}, num_negative_samples: 4.0, lr: 0.005\n"
          ]
        },
        {
          "name": "stderr",
          "output_type": "stream",
          "text": [
            "100%|██████████| 591/591 [00:23<00:00, 25.28it/s]\n"
          ]
        },
        {
          "name": "stdout",
          "output_type": "stream",
          "text": [
            "Epoch: 000, Loss: 0.3768\n"
          ]
        },
        {
          "name": "stderr",
          "output_type": "stream",
          "text": [
            "100%|██████████| 591/591 [00:23<00:00, 25.55it/s]\n"
          ]
        },
        {
          "name": "stdout",
          "output_type": "stream",
          "text": [
            "Epoch: 001, Loss: 0.3502\n"
          ]
        },
        {
          "name": "stderr",
          "output_type": "stream",
          "text": [
            "100%|██████████| 591/591 [00:21<00:00, 27.76it/s]\n"
          ]
        },
        {
          "name": "stdout",
          "output_type": "stream",
          "text": [
            "Epoch: 002, Loss: 0.3378\n"
          ]
        },
        {
          "name": "stderr",
          "output_type": "stream",
          "text": [
            "100%|██████████| 591/591 [00:22<00:00, 26.05it/s]\n"
          ]
        },
        {
          "name": "stdout",
          "output_type": "stream",
          "text": [
            "Epoch: 003, Loss: 0.3308\n"
          ]
        },
        {
          "name": "stderr",
          "output_type": "stream",
          "text": [
            "100%|██████████| 591/591 [00:21<00:00, 26.88it/s]\n"
          ]
        },
        {
          "name": "stdout",
          "output_type": "stream",
          "text": [
            "Epoch: 004, Loss: 0.3257\n"
          ]
        },
        {
          "name": "stderr",
          "output_type": "stream",
          "text": [
            "100%|██████████| 591/591 [00:21<00:00, 26.86it/s]\n"
          ]
        },
        {
          "name": "stdout",
          "output_type": "stream",
          "text": [
            "Epoch: 005, Loss: 0.3206\n"
          ]
        },
        {
          "name": "stderr",
          "output_type": "stream",
          "text": [
            "100%|██████████| 591/591 [00:22<00:00, 25.97it/s]\n"
          ]
        },
        {
          "name": "stdout",
          "output_type": "stream",
          "text": [
            "Epoch: 006, Loss: 0.3180\n"
          ]
        },
        {
          "name": "stderr",
          "output_type": "stream",
          "text": [
            "100%|██████████| 591/591 [00:21<00:00, 27.46it/s]\n"
          ]
        },
        {
          "name": "stdout",
          "output_type": "stream",
          "text": [
            "Epoch: 007, Loss: 0.3152\n"
          ]
        },
        {
          "name": "stderr",
          "output_type": "stream",
          "text": [
            "100%|██████████| 591/591 [00:23<00:00, 25.69it/s]\n"
          ]
        },
        {
          "name": "stdout",
          "output_type": "stream",
          "text": [
            "Epoch: 008, Loss: 0.3124\n"
          ]
        },
        {
          "name": "stderr",
          "output_type": "stream",
          "text": [
            "100%|██████████| 591/591 [00:21<00:00, 27.77it/s]\n"
          ]
        },
        {
          "name": "stdout",
          "output_type": "stream",
          "text": [
            "Epoch: 009, Loss: 0.3111\n",
            "precision: 0.0632254123396457\n",
            "recall: 0.20732420370803323\n",
            "ndcg: 0.24016528656886124\n",
            "Proxy(x)\n",
            "embed_size: 32, model: <class '__main__.Model'>, sampled_neighbours: {('course', 'course_school', 'school'): [2, 2], ('course', 'course_teacher', 'teacher'): [2, 2], ('course', 'course_concept', 'concept'): [10, 10], ('user', 'enroll', 'course'): [1, 0], ('course', 'rev_enroll', 'user'): [0, 0], ('school', 'rev_course_school', 'course'): [2, 2], ('teacher', 'rev_course_teacher', 'course'): [2, 2], ('concept', 'rev_course_concept', 'course'): [10, 10]}, num_negative_samples: 4.0, lr: 0.01\n"
          ]
        },
        {
          "name": "stderr",
          "output_type": "stream",
          "text": [
            "100%|██████████| 591/591 [00:22<00:00, 26.62it/s]\n"
          ]
        },
        {
          "name": "stdout",
          "output_type": "stream",
          "text": [
            "Epoch: 000, Loss: 0.3782\n"
          ]
        },
        {
          "name": "stderr",
          "output_type": "stream",
          "text": [
            "100%|██████████| 591/591 [00:23<00:00, 25.05it/s]\n"
          ]
        },
        {
          "name": "stdout",
          "output_type": "stream",
          "text": [
            "Epoch: 001, Loss: 0.3498\n"
          ]
        },
        {
          "name": "stderr",
          "output_type": "stream",
          "text": [
            "100%|██████████| 591/591 [00:23<00:00, 25.40it/s]\n"
          ]
        },
        {
          "name": "stdout",
          "output_type": "stream",
          "text": [
            "Epoch: 002, Loss: 0.3405\n"
          ]
        },
        {
          "name": "stderr",
          "output_type": "stream",
          "text": [
            "100%|██████████| 591/591 [00:21<00:00, 27.41it/s]\n"
          ]
        },
        {
          "name": "stdout",
          "output_type": "stream",
          "text": [
            "Epoch: 003, Loss: 0.3356\n"
          ]
        },
        {
          "name": "stderr",
          "output_type": "stream",
          "text": [
            "100%|██████████| 591/591 [00:23<00:00, 25.29it/s]\n"
          ]
        },
        {
          "name": "stdout",
          "output_type": "stream",
          "text": [
            "Epoch: 004, Loss: 0.3333\n"
          ]
        },
        {
          "name": "stderr",
          "output_type": "stream",
          "text": [
            "100%|██████████| 591/591 [00:21<00:00, 27.50it/s]\n"
          ]
        },
        {
          "name": "stdout",
          "output_type": "stream",
          "text": [
            "Epoch: 005, Loss: 0.3304\n"
          ]
        },
        {
          "name": "stderr",
          "output_type": "stream",
          "text": [
            "100%|██████████| 591/591 [00:23<00:00, 25.39it/s]\n"
          ]
        },
        {
          "name": "stdout",
          "output_type": "stream",
          "text": [
            "Epoch: 006, Loss: 0.3289\n"
          ]
        },
        {
          "name": "stderr",
          "output_type": "stream",
          "text": [
            "100%|██████████| 591/591 [00:21<00:00, 27.36it/s]\n"
          ]
        },
        {
          "name": "stdout",
          "output_type": "stream",
          "text": [
            "Epoch: 007, Loss: 0.3268\n"
          ]
        },
        {
          "name": "stderr",
          "output_type": "stream",
          "text": [
            "100%|██████████| 591/591 [00:22<00:00, 26.00it/s]\n"
          ]
        },
        {
          "name": "stdout",
          "output_type": "stream",
          "text": [
            "Epoch: 008, Loss: 0.3253\n"
          ]
        },
        {
          "name": "stderr",
          "output_type": "stream",
          "text": [
            "100%|██████████| 591/591 [00:22<00:00, 26.82it/s]\n"
          ]
        },
        {
          "name": "stdout",
          "output_type": "stream",
          "text": [
            "Epoch: 009, Loss: 0.3246\n",
            "precision: 0.04903787416004887\n",
            "recall: 0.16325426465545587\n",
            "ndcg: 0.24016528656886124\n",
            "Proxy(x)\n",
            "embed_size: 32, model: <class '__main__.Model'>, sampled_neighbours: {('course', 'course_school', 'school'): [2, 2], ('course', 'course_teacher', 'teacher'): [2, 2], ('course', 'course_concept', 'concept'): [13, 13], ('user', 'enroll', 'course'): [1, 0], ('course', 'rev_enroll', 'user'): [0, 0], ('school', 'rev_course_school', 'course'): [2, 2], ('teacher', 'rev_course_teacher', 'course'): [2, 2], ('concept', 'rev_course_concept', 'course'): [13, 13]}, num_negative_samples: 1.0, lr: 0.001\n"
          ]
        },
        {
          "name": "stderr",
          "output_type": "stream",
          "text": [
            "100%|██████████| 591/591 [00:19<00:00, 29.98it/s]\n"
          ]
        },
        {
          "name": "stdout",
          "output_type": "stream",
          "text": [
            "Epoch: 000, Loss: 0.5550\n"
          ]
        },
        {
          "name": "stderr",
          "output_type": "stream",
          "text": [
            "100%|██████████| 591/591 [00:20<00:00, 28.84it/s]\n"
          ]
        },
        {
          "name": "stdout",
          "output_type": "stream",
          "text": [
            "Epoch: 001, Loss: 0.4820\n"
          ]
        },
        {
          "name": "stderr",
          "output_type": "stream",
          "text": [
            "100%|██████████| 591/591 [00:21<00:00, 28.02it/s]\n"
          ]
        },
        {
          "name": "stdout",
          "output_type": "stream",
          "text": [
            "Epoch: 002, Loss: 0.4729\n"
          ]
        },
        {
          "name": "stderr",
          "output_type": "stream",
          "text": [
            "100%|██████████| 591/591 [00:19<00:00, 30.17it/s]\n"
          ]
        },
        {
          "name": "stdout",
          "output_type": "stream",
          "text": [
            "Epoch: 003, Loss: 0.4640\n"
          ]
        },
        {
          "name": "stderr",
          "output_type": "stream",
          "text": [
            "100%|██████████| 591/591 [00:20<00:00, 28.27it/s]\n"
          ]
        },
        {
          "name": "stdout",
          "output_type": "stream",
          "text": [
            "Epoch: 004, Loss: 0.4511\n"
          ]
        },
        {
          "name": "stderr",
          "output_type": "stream",
          "text": [
            "100%|██████████| 591/591 [00:19<00:00, 30.58it/s]\n"
          ]
        },
        {
          "name": "stdout",
          "output_type": "stream",
          "text": [
            "Epoch: 005, Loss: 0.4434\n"
          ]
        },
        {
          "name": "stderr",
          "output_type": "stream",
          "text": [
            "100%|██████████| 591/591 [00:19<00:00, 30.95it/s]\n"
          ]
        },
        {
          "name": "stdout",
          "output_type": "stream",
          "text": [
            "Epoch: 006, Loss: 0.4362\n"
          ]
        },
        {
          "name": "stderr",
          "output_type": "stream",
          "text": [
            "100%|██████████| 591/591 [00:20<00:00, 28.54it/s]\n"
          ]
        },
        {
          "name": "stdout",
          "output_type": "stream",
          "text": [
            "Epoch: 007, Loss: 0.4301\n"
          ]
        },
        {
          "name": "stderr",
          "output_type": "stream",
          "text": [
            "100%|██████████| 591/591 [00:19<00:00, 29.68it/s]\n"
          ]
        },
        {
          "name": "stdout",
          "output_type": "stream",
          "text": [
            "Epoch: 008, Loss: 0.4243\n"
          ]
        },
        {
          "name": "stderr",
          "output_type": "stream",
          "text": [
            "100%|██████████| 591/591 [00:19<00:00, 30.40it/s]\n"
          ]
        },
        {
          "name": "stdout",
          "output_type": "stream",
          "text": [
            "Epoch: 009, Loss: 0.4199\n",
            "precision: 0.060949908368967624\n",
            "recall: 0.19397223001286662\n",
            "ndcg: 0.24016528656886124\n",
            "Proxy(x)\n",
            "embed_size: 32, model: <class '__main__.Model'>, sampled_neighbours: {('course', 'course_school', 'school'): [2, 2], ('course', 'course_teacher', 'teacher'): [2, 2], ('course', 'course_concept', 'concept'): [13, 13], ('user', 'enroll', 'course'): [1, 0], ('course', 'rev_enroll', 'user'): [0, 0], ('school', 'rev_course_school', 'course'): [2, 2], ('teacher', 'rev_course_teacher', 'course'): [2, 2], ('concept', 'rev_course_concept', 'course'): [13, 13]}, num_negative_samples: 1.0, lr: 0.005\n"
          ]
        },
        {
          "name": "stderr",
          "output_type": "stream",
          "text": [
            "100%|██████████| 591/591 [00:20<00:00, 28.20it/s]\n"
          ]
        },
        {
          "name": "stdout",
          "output_type": "stream",
          "text": [
            "Epoch: 000, Loss: 0.5082\n"
          ]
        },
        {
          "name": "stderr",
          "output_type": "stream",
          "text": [
            "100%|██████████| 591/591 [00:19<00:00, 30.46it/s]\n"
          ]
        },
        {
          "name": "stdout",
          "output_type": "stream",
          "text": [
            "Epoch: 001, Loss: 0.4704\n"
          ]
        },
        {
          "name": "stderr",
          "output_type": "stream",
          "text": [
            "100%|██████████| 591/591 [00:19<00:00, 30.53it/s]\n"
          ]
        },
        {
          "name": "stdout",
          "output_type": "stream",
          "text": [
            "Epoch: 002, Loss: 0.4555\n"
          ]
        },
        {
          "name": "stderr",
          "output_type": "stream",
          "text": [
            "100%|██████████| 591/591 [00:20<00:00, 28.18it/s]\n"
          ]
        },
        {
          "name": "stdout",
          "output_type": "stream",
          "text": [
            "Epoch: 003, Loss: 0.4447\n"
          ]
        },
        {
          "name": "stderr",
          "output_type": "stream",
          "text": [
            "100%|██████████| 591/591 [00:21<00:00, 27.65it/s]\n"
          ]
        },
        {
          "name": "stdout",
          "output_type": "stream",
          "text": [
            "Epoch: 004, Loss: 0.4381\n"
          ]
        },
        {
          "name": "stderr",
          "output_type": "stream",
          "text": [
            "100%|██████████| 591/591 [00:19<00:00, 30.53it/s]\n"
          ]
        },
        {
          "name": "stdout",
          "output_type": "stream",
          "text": [
            "Epoch: 005, Loss: 0.4302\n"
          ]
        },
        {
          "name": "stderr",
          "output_type": "stream",
          "text": [
            "100%|██████████| 591/591 [00:21<00:00, 27.73it/s]\n"
          ]
        },
        {
          "name": "stdout",
          "output_type": "stream",
          "text": [
            "Epoch: 006, Loss: 0.4297\n"
          ]
        },
        {
          "name": "stderr",
          "output_type": "stream",
          "text": [
            "100%|██████████| 591/591 [00:19<00:00, 30.65it/s]\n"
          ]
        },
        {
          "name": "stdout",
          "output_type": "stream",
          "text": [
            "Epoch: 007, Loss: 0.4270\n"
          ]
        },
        {
          "name": "stderr",
          "output_type": "stream",
          "text": [
            "100%|██████████| 591/591 [00:19<00:00, 30.19it/s]\n"
          ]
        },
        {
          "name": "stdout",
          "output_type": "stream",
          "text": [
            "Epoch: 008, Loss: 0.4281\n"
          ]
        },
        {
          "name": "stderr",
          "output_type": "stream",
          "text": [
            "100%|██████████| 591/591 [00:20<00:00, 29.00it/s]\n"
          ]
        },
        {
          "name": "stdout",
          "output_type": "stream",
          "text": [
            "Epoch: 009, Loss: 0.4241\n",
            "precision: 0.003359804520464264\n",
            "recall: 0.012100568694185066\n",
            "ndcg: 0.24016528656886124\n",
            "Proxy(x)\n",
            "embed_size: 32, model: <class '__main__.Model'>, sampled_neighbours: {('course', 'course_school', 'school'): [2, 2], ('course', 'course_teacher', 'teacher'): [2, 2], ('course', 'course_concept', 'concept'): [13, 13], ('user', 'enroll', 'course'): [1, 0], ('course', 'rev_enroll', 'user'): [0, 0], ('school', 'rev_course_school', 'course'): [2, 2], ('teacher', 'rev_course_teacher', 'course'): [2, 2], ('concept', 'rev_course_concept', 'course'): [13, 13]}, num_negative_samples: 1.0, lr: 0.01\n"
          ]
        },
        {
          "name": "stderr",
          "output_type": "stream",
          "text": [
            "100%|██████████| 591/591 [00:19<00:00, 30.55it/s]\n"
          ]
        },
        {
          "name": "stdout",
          "output_type": "stream",
          "text": [
            "Epoch: 000, Loss: 0.5137\n"
          ]
        },
        {
          "name": "stderr",
          "output_type": "stream",
          "text": [
            "100%|██████████| 591/591 [00:19<00:00, 30.43it/s]\n"
          ]
        },
        {
          "name": "stdout",
          "output_type": "stream",
          "text": [
            "Epoch: 001, Loss: 0.4769\n"
          ]
        },
        {
          "name": "stderr",
          "output_type": "stream",
          "text": [
            "100%|██████████| 591/591 [00:20<00:00, 29.04it/s]\n"
          ]
        },
        {
          "name": "stdout",
          "output_type": "stream",
          "text": [
            "Epoch: 002, Loss: 0.4668\n"
          ]
        },
        {
          "name": "stderr",
          "output_type": "stream",
          "text": [
            "100%|██████████| 591/591 [00:19<00:00, 30.42it/s]\n"
          ]
        },
        {
          "name": "stdout",
          "output_type": "stream",
          "text": [
            "Epoch: 003, Loss: 0.4591\n"
          ]
        },
        {
          "name": "stderr",
          "output_type": "stream",
          "text": [
            "100%|██████████| 591/591 [00:19<00:00, 31.10it/s]\n"
          ]
        },
        {
          "name": "stdout",
          "output_type": "stream",
          "text": [
            "Epoch: 004, Loss: 0.4512\n"
          ]
        },
        {
          "name": "stderr",
          "output_type": "stream",
          "text": [
            "100%|██████████| 591/591 [00:19<00:00, 30.81it/s]\n"
          ]
        },
        {
          "name": "stdout",
          "output_type": "stream",
          "text": [
            "Epoch: 005, Loss: 0.4446\n"
          ]
        },
        {
          "name": "stderr",
          "output_type": "stream",
          "text": [
            "100%|██████████| 591/591 [00:22<00:00, 26.03it/s]\n"
          ]
        },
        {
          "name": "stdout",
          "output_type": "stream",
          "text": [
            "Epoch: 006, Loss: 0.4384\n"
          ]
        },
        {
          "name": "stderr",
          "output_type": "stream",
          "text": [
            "100%|██████████| 591/591 [00:18<00:00, 31.15it/s]\n"
          ]
        },
        {
          "name": "stdout",
          "output_type": "stream",
          "text": [
            "Epoch: 007, Loss: 0.4370\n"
          ]
        },
        {
          "name": "stderr",
          "output_type": "stream",
          "text": [
            "100%|██████████| 591/591 [00:18<00:00, 31.12it/s]\n"
          ]
        },
        {
          "name": "stdout",
          "output_type": "stream",
          "text": [
            "Epoch: 008, Loss: 0.4343\n"
          ]
        },
        {
          "name": "stderr",
          "output_type": "stream",
          "text": [
            "100%|██████████| 591/591 [00:19<00:00, 29.73it/s]\n"
          ]
        },
        {
          "name": "stdout",
          "output_type": "stream",
          "text": [
            "Epoch: 009, Loss: 0.4285\n",
            "precision: 0.0006719609040928529\n",
            "recall: 0.002188296923330521\n",
            "ndcg: 0.24016528656886124\n",
            "Proxy(x)\n",
            "embed_size: 32, model: <class '__main__.Model'>, sampled_neighbours: {('course', 'course_school', 'school'): [2, 2], ('course', 'course_teacher', 'teacher'): [2, 2], ('course', 'course_concept', 'concept'): [13, 13], ('user', 'enroll', 'course'): [1, 0], ('course', 'rev_enroll', 'user'): [0, 0], ('school', 'rev_course_school', 'course'): [2, 2], ('teacher', 'rev_course_teacher', 'course'): [2, 2], ('concept', 'rev_course_concept', 'course'): [13, 13]}, num_negative_samples: 2.0, lr: 0.001\n"
          ]
        },
        {
          "name": "stderr",
          "output_type": "stream",
          "text": [
            "100%|██████████| 591/591 [00:20<00:00, 28.23it/s]\n"
          ]
        },
        {
          "name": "stdout",
          "output_type": "stream",
          "text": [
            "Epoch: 000, Loss: 0.5018\n"
          ]
        },
        {
          "name": "stderr",
          "output_type": "stream",
          "text": [
            "100%|██████████| 591/591 [00:22<00:00, 26.49it/s]\n"
          ]
        },
        {
          "name": "stdout",
          "output_type": "stream",
          "text": [
            "Epoch: 001, Loss: 0.4471\n"
          ]
        },
        {
          "name": "stderr",
          "output_type": "stream",
          "text": [
            "100%|██████████| 591/591 [00:21<00:00, 27.15it/s]\n"
          ]
        },
        {
          "name": "stdout",
          "output_type": "stream",
          "text": [
            "Epoch: 002, Loss: 0.4372\n"
          ]
        },
        {
          "name": "stderr",
          "output_type": "stream",
          "text": [
            "100%|██████████| 591/591 [00:21<00:00, 27.73it/s]\n"
          ]
        },
        {
          "name": "stdout",
          "output_type": "stream",
          "text": [
            "Epoch: 003, Loss: 0.4287\n"
          ]
        },
        {
          "name": "stderr",
          "output_type": "stream",
          "text": [
            "100%|██████████| 591/591 [00:22<00:00, 25.95it/s]\n"
          ]
        },
        {
          "name": "stdout",
          "output_type": "stream",
          "text": [
            "Epoch: 004, Loss: 0.4205\n"
          ]
        },
        {
          "name": "stderr",
          "output_type": "stream",
          "text": [
            "100%|██████████| 591/591 [00:21<00:00, 27.86it/s]\n"
          ]
        },
        {
          "name": "stdout",
          "output_type": "stream",
          "text": [
            "Epoch: 005, Loss: 0.4124\n"
          ]
        },
        {
          "name": "stderr",
          "output_type": "stream",
          "text": [
            "100%|██████████| 591/591 [00:22<00:00, 25.89it/s]\n"
          ]
        },
        {
          "name": "stdout",
          "output_type": "stream",
          "text": [
            "Epoch: 006, Loss: 0.4053\n"
          ]
        },
        {
          "name": "stderr",
          "output_type": "stream",
          "text": [
            "100%|██████████| 591/591 [00:23<00:00, 25.32it/s]\n"
          ]
        },
        {
          "name": "stdout",
          "output_type": "stream",
          "text": [
            "Epoch: 007, Loss: 0.3998\n"
          ]
        },
        {
          "name": "stderr",
          "output_type": "stream",
          "text": [
            "100%|██████████| 591/591 [00:22<00:00, 25.76it/s]\n"
          ]
        },
        {
          "name": "stdout",
          "output_type": "stream",
          "text": [
            "Epoch: 008, Loss: 0.3936\n"
          ]
        },
        {
          "name": "stderr",
          "output_type": "stream",
          "text": [
            "100%|██████████| 591/591 [00:21<00:00, 27.76it/s]\n"
          ]
        },
        {
          "name": "stdout",
          "output_type": "stream",
          "text": [
            "Epoch: 009, Loss: 0.3898\n",
            "precision: 0.062370189370800244\n",
            "recall: 0.19824806881904936\n",
            "ndcg: 0.24016528656886124\n",
            "Proxy(x)\n",
            "embed_size: 32, model: <class '__main__.Model'>, sampled_neighbours: {('course', 'course_school', 'school'): [2, 2], ('course', 'course_teacher', 'teacher'): [2, 2], ('course', 'course_concept', 'concept'): [13, 13], ('user', 'enroll', 'course'): [1, 0], ('course', 'rev_enroll', 'user'): [0, 0], ('school', 'rev_course_school', 'course'): [2, 2], ('teacher', 'rev_course_teacher', 'course'): [2, 2], ('concept', 'rev_course_concept', 'course'): [13, 13]}, num_negative_samples: 2.0, lr: 0.005\n"
          ]
        },
        {
          "name": "stderr",
          "output_type": "stream",
          "text": [
            "100%|██████████| 591/591 [00:23<00:00, 25.44it/s]\n"
          ]
        },
        {
          "name": "stdout",
          "output_type": "stream",
          "text": [
            "Epoch: 000, Loss: 0.4686\n"
          ]
        },
        {
          "name": "stderr",
          "output_type": "stream",
          "text": [
            "100%|██████████| 591/591 [00:20<00:00, 28.30it/s]\n"
          ]
        },
        {
          "name": "stdout",
          "output_type": "stream",
          "text": [
            "Epoch: 001, Loss: 0.4339\n"
          ]
        },
        {
          "name": "stderr",
          "output_type": "stream",
          "text": [
            "100%|██████████| 591/591 [00:22<00:00, 26.19it/s]\n"
          ]
        },
        {
          "name": "stdout",
          "output_type": "stream",
          "text": [
            "Epoch: 002, Loss: 0.4172\n"
          ]
        },
        {
          "name": "stderr",
          "output_type": "stream",
          "text": [
            "100%|██████████| 591/591 [00:21<00:00, 27.47it/s]\n"
          ]
        },
        {
          "name": "stdout",
          "output_type": "stream",
          "text": [
            "Epoch: 003, Loss: 0.4084\n"
          ]
        },
        {
          "name": "stderr",
          "output_type": "stream",
          "text": [
            "100%|██████████| 591/591 [00:21<00:00, 27.44it/s]\n"
          ]
        },
        {
          "name": "stdout",
          "output_type": "stream",
          "text": [
            "Epoch: 004, Loss: 0.4034\n"
          ]
        },
        {
          "name": "stderr",
          "output_type": "stream",
          "text": [
            "100%|██████████| 591/591 [00:22<00:00, 26.32it/s]\n"
          ]
        },
        {
          "name": "stdout",
          "output_type": "stream",
          "text": [
            "Epoch: 005, Loss: 0.3984\n"
          ]
        },
        {
          "name": "stderr",
          "output_type": "stream",
          "text": [
            "100%|██████████| 591/591 [00:20<00:00, 28.23it/s]\n"
          ]
        },
        {
          "name": "stdout",
          "output_type": "stream",
          "text": [
            "Epoch: 006, Loss: 0.3951\n"
          ]
        },
        {
          "name": "stderr",
          "output_type": "stream",
          "text": [
            "100%|██████████| 591/591 [00:23<00:00, 24.92it/s]\n"
          ]
        },
        {
          "name": "stdout",
          "output_type": "stream",
          "text": [
            "Epoch: 007, Loss: 0.3934\n"
          ]
        },
        {
          "name": "stderr",
          "output_type": "stream",
          "text": [
            "100%|██████████| 591/591 [00:22<00:00, 25.73it/s]\n"
          ]
        },
        {
          "name": "stdout",
          "output_type": "stream",
          "text": [
            "Epoch: 008, Loss: 0.3895\n"
          ]
        },
        {
          "name": "stderr",
          "output_type": "stream",
          "text": [
            "100%|██████████| 591/591 [00:21<00:00, 27.59it/s]\n"
          ]
        },
        {
          "name": "stdout",
          "output_type": "stream",
          "text": [
            "Epoch: 009, Loss: 0.3871\n",
            "precision: 0.04156994502138058\n",
            "recall: 0.13892737149838552\n",
            "ndcg: 0.24016528656886124\n",
            "Proxy(x)\n",
            "embed_size: 32, model: <class '__main__.Model'>, sampled_neighbours: {('course', 'course_school', 'school'): [2, 2], ('course', 'course_teacher', 'teacher'): [2, 2], ('course', 'course_concept', 'concept'): [13, 13], ('user', 'enroll', 'course'): [1, 0], ('course', 'rev_enroll', 'user'): [0, 0], ('school', 'rev_course_school', 'course'): [2, 2], ('teacher', 'rev_course_teacher', 'course'): [2, 2], ('concept', 'rev_course_concept', 'course'): [13, 13]}, num_negative_samples: 2.0, lr: 0.01\n"
          ]
        },
        {
          "name": "stderr",
          "output_type": "stream",
          "text": [
            "100%|██████████| 591/591 [00:21<00:00, 27.85it/s]\n"
          ]
        },
        {
          "name": "stdout",
          "output_type": "stream",
          "text": [
            "Epoch: 000, Loss: 0.4696\n"
          ]
        },
        {
          "name": "stderr",
          "output_type": "stream",
          "text": [
            "100%|██████████| 591/591 [00:21<00:00, 27.08it/s]\n"
          ]
        },
        {
          "name": "stdout",
          "output_type": "stream",
          "text": [
            "Epoch: 001, Loss: 0.4361\n"
          ]
        },
        {
          "name": "stderr",
          "output_type": "stream",
          "text": [
            "100%|██████████| 591/591 [00:21<00:00, 27.05it/s]\n"
          ]
        },
        {
          "name": "stdout",
          "output_type": "stream",
          "text": [
            "Epoch: 002, Loss: 0.4247\n"
          ]
        },
        {
          "name": "stderr",
          "output_type": "stream",
          "text": [
            "100%|██████████| 591/591 [00:21<00:00, 27.93it/s]\n"
          ]
        },
        {
          "name": "stdout",
          "output_type": "stream",
          "text": [
            "Epoch: 003, Loss: 0.4159\n"
          ]
        },
        {
          "name": "stderr",
          "output_type": "stream",
          "text": [
            "100%|██████████| 591/591 [00:22<00:00, 25.84it/s]\n"
          ]
        },
        {
          "name": "stdout",
          "output_type": "stream",
          "text": [
            "Epoch: 004, Loss: 0.4098\n"
          ]
        },
        {
          "name": "stderr",
          "output_type": "stream",
          "text": [
            "100%|██████████| 591/591 [00:21<00:00, 28.00it/s]\n"
          ]
        },
        {
          "name": "stdout",
          "output_type": "stream",
          "text": [
            "Epoch: 005, Loss: 0.4061\n"
          ]
        },
        {
          "name": "stderr",
          "output_type": "stream",
          "text": [
            "100%|██████████| 591/591 [00:22<00:00, 26.62it/s]\n"
          ]
        },
        {
          "name": "stdout",
          "output_type": "stream",
          "text": [
            "Epoch: 006, Loss: 0.4045\n"
          ]
        },
        {
          "name": "stderr",
          "output_type": "stream",
          "text": [
            "100%|██████████| 591/591 [00:21<00:00, 27.39it/s]\n"
          ]
        },
        {
          "name": "stdout",
          "output_type": "stream",
          "text": [
            "Epoch: 007, Loss: 0.4022\n"
          ]
        },
        {
          "name": "stderr",
          "output_type": "stream",
          "text": [
            "100%|██████████| 591/591 [00:23<00:00, 24.80it/s]\n"
          ]
        },
        {
          "name": "stdout",
          "output_type": "stream",
          "text": [
            "Epoch: 008, Loss: 0.4015\n"
          ]
        },
        {
          "name": "stderr",
          "output_type": "stream",
          "text": [
            "100%|██████████| 591/591 [00:22<00:00, 26.75it/s]\n"
          ]
        },
        {
          "name": "stdout",
          "output_type": "stream",
          "text": [
            "Epoch: 009, Loss: 0.3998\n",
            "precision: 0.06237018937080025\n",
            "recall: 0.19507672745042062\n",
            "ndcg: 0.24016528656886124\n",
            "Proxy(x)\n",
            "embed_size: 32, model: <class '__main__.Model'>, sampled_neighbours: {('course', 'course_school', 'school'): [2, 2], ('course', 'course_teacher', 'teacher'): [2, 2], ('course', 'course_concept', 'concept'): [13, 13], ('user', 'enroll', 'course'): [1, 0], ('course', 'rev_enroll', 'user'): [0, 0], ('school', 'rev_course_school', 'course'): [2, 2], ('teacher', 'rev_course_teacher', 'course'): [2, 2], ('concept', 'rev_course_concept', 'course'): [13, 13]}, num_negative_samples: 4.0, lr: 0.001\n"
          ]
        },
        {
          "name": "stderr",
          "output_type": "stream",
          "text": [
            "100%|██████████| 591/591 [00:25<00:00, 23.36it/s]\n"
          ]
        },
        {
          "name": "stdout",
          "output_type": "stream",
          "text": [
            "Epoch: 000, Loss: 0.4019\n"
          ]
        },
        {
          "name": "stderr",
          "output_type": "stream",
          "text": [
            "100%|██████████| 591/591 [00:23<00:00, 24.82it/s]\n"
          ]
        },
        {
          "name": "stdout",
          "output_type": "stream",
          "text": [
            "Epoch: 001, Loss: 0.3585\n"
          ]
        },
        {
          "name": "stderr",
          "output_type": "stream",
          "text": [
            "100%|██████████| 591/591 [00:25<00:00, 23.18it/s]\n"
          ]
        },
        {
          "name": "stdout",
          "output_type": "stream",
          "text": [
            "Epoch: 002, Loss: 0.3523\n"
          ]
        },
        {
          "name": "stderr",
          "output_type": "stream",
          "text": [
            "100%|██████████| 591/591 [00:24<00:00, 24.35it/s]\n"
          ]
        },
        {
          "name": "stdout",
          "output_type": "stream",
          "text": [
            "Epoch: 003, Loss: 0.3453\n"
          ]
        },
        {
          "name": "stderr",
          "output_type": "stream",
          "text": [
            "100%|██████████| 591/591 [00:24<00:00, 23.88it/s]\n"
          ]
        },
        {
          "name": "stdout",
          "output_type": "stream",
          "text": [
            "Epoch: 004, Loss: 0.3385\n"
          ]
        },
        {
          "name": "stderr",
          "output_type": "stream",
          "text": [
            "100%|██████████| 591/591 [00:27<00:00, 21.79it/s]\n"
          ]
        },
        {
          "name": "stdout",
          "output_type": "stream",
          "text": [
            "Epoch: 005, Loss: 0.3325\n"
          ]
        },
        {
          "name": "stderr",
          "output_type": "stream",
          "text": [
            "100%|██████████| 591/591 [00:23<00:00, 25.15it/s]\n"
          ]
        },
        {
          "name": "stdout",
          "output_type": "stream",
          "text": [
            "Epoch: 006, Loss: 0.3265\n"
          ]
        },
        {
          "name": "stderr",
          "output_type": "stream",
          "text": [
            "100%|██████████| 591/591 [00:27<00:00, 21.47it/s]\n"
          ]
        },
        {
          "name": "stdout",
          "output_type": "stream",
          "text": [
            "Epoch: 007, Loss: 0.3222\n"
          ]
        },
        {
          "name": "stderr",
          "output_type": "stream",
          "text": [
            "100%|██████████| 591/591 [00:23<00:00, 24.70it/s]\n"
          ]
        },
        {
          "name": "stdout",
          "output_type": "stream",
          "text": [
            "Epoch: 008, Loss: 0.3177\n"
          ]
        },
        {
          "name": "stderr",
          "output_type": "stream",
          "text": [
            "100%|██████████| 591/591 [00:25<00:00, 23.56it/s]\n"
          ]
        },
        {
          "name": "stdout",
          "output_type": "stream",
          "text": [
            "Epoch: 009, Loss: 0.3134\n",
            "precision: 0.04911423335369579\n",
            "recall: 0.16145287482489679\n",
            "ndcg: 0.24016528656886124\n",
            "Proxy(x)\n",
            "embed_size: 32, model: <class '__main__.Model'>, sampled_neighbours: {('course', 'course_school', 'school'): [2, 2], ('course', 'course_teacher', 'teacher'): [2, 2], ('course', 'course_concept', 'concept'): [13, 13], ('user', 'enroll', 'course'): [1, 0], ('course', 'rev_enroll', 'user'): [0, 0], ('school', 'rev_course_school', 'course'): [2, 2], ('teacher', 'rev_course_teacher', 'course'): [2, 2], ('concept', 'rev_course_concept', 'course'): [13, 13]}, num_negative_samples: 4.0, lr: 0.005\n"
          ]
        },
        {
          "name": "stderr",
          "output_type": "stream",
          "text": [
            "100%|██████████| 591/591 [00:25<00:00, 23.33it/s]\n"
          ]
        },
        {
          "name": "stdout",
          "output_type": "stream",
          "text": [
            "Epoch: 000, Loss: 0.3776\n"
          ]
        },
        {
          "name": "stderr",
          "output_type": "stream",
          "text": [
            "100%|██████████| 591/591 [00:23<00:00, 24.63it/s]\n"
          ]
        },
        {
          "name": "stdout",
          "output_type": "stream",
          "text": [
            "Epoch: 001, Loss: 0.3473\n"
          ]
        },
        {
          "name": "stderr",
          "output_type": "stream",
          "text": [
            "100%|██████████| 591/591 [00:27<00:00, 21.69it/s]\n"
          ]
        },
        {
          "name": "stdout",
          "output_type": "stream",
          "text": [
            "Epoch: 002, Loss: 0.3363\n"
          ]
        },
        {
          "name": "stderr",
          "output_type": "stream",
          "text": [
            "100%|██████████| 591/591 [00:25<00:00, 23.14it/s]\n"
          ]
        },
        {
          "name": "stdout",
          "output_type": "stream",
          "text": [
            "Epoch: 003, Loss: 0.3280\n"
          ]
        },
        {
          "name": "stderr",
          "output_type": "stream",
          "text": [
            "100%|██████████| 591/591 [00:23<00:00, 24.93it/s]\n"
          ]
        },
        {
          "name": "stdout",
          "output_type": "stream",
          "text": [
            "Epoch: 004, Loss: 0.3233\n"
          ]
        },
        {
          "name": "stderr",
          "output_type": "stream",
          "text": [
            "100%|██████████| 591/591 [00:25<00:00, 23.28it/s]\n"
          ]
        },
        {
          "name": "stdout",
          "output_type": "stream",
          "text": [
            "Epoch: 005, Loss: 0.3196\n"
          ]
        },
        {
          "name": "stderr",
          "output_type": "stream",
          "text": [
            "100%|██████████| 591/591 [00:24<00:00, 23.90it/s]\n"
          ]
        },
        {
          "name": "stdout",
          "output_type": "stream",
          "text": [
            "Epoch: 006, Loss: 0.3171\n"
          ]
        },
        {
          "name": "stderr",
          "output_type": "stream",
          "text": [
            "100%|██████████| 591/591 [00:26<00:00, 22.14it/s]\n"
          ]
        },
        {
          "name": "stdout",
          "output_type": "stream",
          "text": [
            "Epoch: 007, Loss: 0.3137\n"
          ]
        },
        {
          "name": "stderr",
          "output_type": "stream",
          "text": [
            "100%|██████████| 591/591 [00:24<00:00, 24.10it/s]\n"
          ]
        },
        {
          "name": "stdout",
          "output_type": "stream",
          "text": [
            "Epoch: 008, Loss: 0.3112\n"
          ]
        },
        {
          "name": "stderr",
          "output_type": "stream",
          "text": [
            "100%|██████████| 591/591 [00:24<00:00, 23.87it/s]\n"
          ]
        },
        {
          "name": "stdout",
          "output_type": "stream",
          "text": [
            "Epoch: 009, Loss: 0.3088\n",
            "precision: 0.07561087354917533\n",
            "recall: 0.24106454469161137\n",
            "ndcg: 0.24016528656886124\n",
            "Proxy(x)\n",
            "embed_size: 32, model: <class '__main__.Model'>, sampled_neighbours: {('course', 'course_school', 'school'): [2, 2], ('course', 'course_teacher', 'teacher'): [2, 2], ('course', 'course_concept', 'concept'): [13, 13], ('user', 'enroll', 'course'): [1, 0], ('course', 'rev_enroll', 'user'): [0, 0], ('school', 'rev_course_school', 'course'): [2, 2], ('teacher', 'rev_course_teacher', 'course'): [2, 2], ('concept', 'rev_course_concept', 'course'): [13, 13]}, num_negative_samples: 4.0, lr: 0.01\n"
          ]
        },
        {
          "name": "stderr",
          "output_type": "stream",
          "text": [
            "100%|██████████| 591/591 [00:25<00:00, 23.05it/s]\n"
          ]
        },
        {
          "name": "stdout",
          "output_type": "stream",
          "text": [
            "Epoch: 000, Loss: 0.3790\n"
          ]
        },
        {
          "name": "stderr",
          "output_type": "stream",
          "text": [
            "100%|██████████| 591/591 [00:24<00:00, 24.04it/s]\n"
          ]
        },
        {
          "name": "stdout",
          "output_type": "stream",
          "text": [
            "Epoch: 001, Loss: 0.3480\n"
          ]
        },
        {
          "name": "stderr",
          "output_type": "stream",
          "text": [
            "100%|██████████| 591/591 [00:27<00:00, 21.80it/s]\n"
          ]
        },
        {
          "name": "stdout",
          "output_type": "stream",
          "text": [
            "Epoch: 002, Loss: 0.3385\n"
          ]
        },
        {
          "name": "stderr",
          "output_type": "stream",
          "text": [
            "100%|██████████| 591/591 [00:25<00:00, 23.43it/s]\n"
          ]
        },
        {
          "name": "stdout",
          "output_type": "stream",
          "text": [
            "Epoch: 003, Loss: 0.3347\n"
          ]
        },
        {
          "name": "stderr",
          "output_type": "stream",
          "text": [
            "100%|██████████| 591/591 [00:24<00:00, 24.31it/s]\n"
          ]
        },
        {
          "name": "stdout",
          "output_type": "stream",
          "text": [
            "Epoch: 004, Loss: 0.3321\n"
          ]
        },
        {
          "name": "stderr",
          "output_type": "stream",
          "text": [
            "100%|██████████| 591/591 [00:26<00:00, 22.28it/s]\n"
          ]
        },
        {
          "name": "stdout",
          "output_type": "stream",
          "text": [
            "Epoch: 005, Loss: 0.3277\n"
          ]
        },
        {
          "name": "stderr",
          "output_type": "stream",
          "text": [
            "100%|██████████| 591/591 [00:25<00:00, 22.76it/s]\n"
          ]
        },
        {
          "name": "stdout",
          "output_type": "stream",
          "text": [
            "Epoch: 006, Loss: 0.3268\n"
          ]
        },
        {
          "name": "stderr",
          "output_type": "stream",
          "text": [
            "100%|██████████| 591/591 [00:24<00:00, 23.66it/s]\n"
          ]
        },
        {
          "name": "stdout",
          "output_type": "stream",
          "text": [
            "Epoch: 007, Loss: 0.3245\n"
          ]
        },
        {
          "name": "stderr",
          "output_type": "stream",
          "text": [
            "100%|██████████| 591/591 [00:25<00:00, 23.03it/s]\n"
          ]
        },
        {
          "name": "stdout",
          "output_type": "stream",
          "text": [
            "Epoch: 008, Loss: 0.3214\n"
          ]
        },
        {
          "name": "stderr",
          "output_type": "stream",
          "text": [
            "100%|██████████| 591/591 [00:23<00:00, 25.17it/s]\n"
          ]
        },
        {
          "name": "stdout",
          "output_type": "stream",
          "text": [
            "Epoch: 009, Loss: 0.3209\n",
            "precision: 0.04891569945021381\n",
            "recall: 0.1633427875317249\n",
            "ndcg: 0.24016528656886124\n",
            "Proxy(x)\n",
            "embed_size: 32, model: <class '__main__.ModelSimple'>, sampled_neighbours: {('course', 'course_school', 'school'): [2, 2], ('course', 'course_teacher', 'teacher'): [2, 2], ('course', 'course_concept', 'concept'): [7, 7], ('user', 'enroll', 'course'): [1, 0], ('course', 'rev_enroll', 'user'): [0, 0], ('school', 'rev_course_school', 'course'): [2, 2], ('teacher', 'rev_course_teacher', 'course'): [2, 2], ('concept', 'rev_course_concept', 'course'): [7, 7]}, num_negative_samples: 1.0, lr: 0.001\n"
          ]
        },
        {
          "name": "stderr",
          "output_type": "stream",
          "text": [
            "100%|██████████| 591/591 [00:09<00:00, 61.23it/s]\n"
          ]
        },
        {
          "name": "stdout",
          "output_type": "stream",
          "text": [
            "Epoch: 000, Loss: 0.8198\n"
          ]
        },
        {
          "name": "stderr",
          "output_type": "stream",
          "text": [
            "100%|██████████| 591/591 [00:11<00:00, 53.50it/s]\n"
          ]
        },
        {
          "name": "stdout",
          "output_type": "stream",
          "text": [
            "Epoch: 001, Loss: 0.5381\n"
          ]
        },
        {
          "name": "stderr",
          "output_type": "stream",
          "text": [
            "100%|██████████| 591/591 [00:12<00:00, 46.09it/s]\n"
          ]
        },
        {
          "name": "stdout",
          "output_type": "stream",
          "text": [
            "Epoch: 002, Loss: 0.4956\n"
          ]
        },
        {
          "name": "stderr",
          "output_type": "stream",
          "text": [
            "100%|██████████| 591/591 [00:09<00:00, 62.53it/s]\n"
          ]
        },
        {
          "name": "stdout",
          "output_type": "stream",
          "text": [
            "Epoch: 003, Loss: 0.4820\n"
          ]
        },
        {
          "name": "stderr",
          "output_type": "stream",
          "text": [
            "100%|██████████| 591/591 [00:11<00:00, 53.16it/s]\n"
          ]
        },
        {
          "name": "stdout",
          "output_type": "stream",
          "text": [
            "Epoch: 004, Loss: 0.4771\n"
          ]
        },
        {
          "name": "stderr",
          "output_type": "stream",
          "text": [
            "100%|██████████| 591/591 [00:11<00:00, 52.85it/s]\n"
          ]
        },
        {
          "name": "stdout",
          "output_type": "stream",
          "text": [
            "Epoch: 005, Loss: 0.4733\n"
          ]
        },
        {
          "name": "stderr",
          "output_type": "stream",
          "text": [
            "100%|██████████| 591/591 [00:09<00:00, 61.08it/s]\n"
          ]
        },
        {
          "name": "stdout",
          "output_type": "stream",
          "text": [
            "Epoch: 006, Loss: 0.4693\n"
          ]
        },
        {
          "name": "stderr",
          "output_type": "stream",
          "text": [
            "100%|██████████| 591/591 [00:10<00:00, 54.01it/s]\n"
          ]
        },
        {
          "name": "stdout",
          "output_type": "stream",
          "text": [
            "Epoch: 007, Loss: 0.4660\n"
          ]
        },
        {
          "name": "stderr",
          "output_type": "stream",
          "text": [
            "100%|██████████| 591/591 [00:11<00:00, 53.72it/s]\n"
          ]
        },
        {
          "name": "stdout",
          "output_type": "stream",
          "text": [
            "Epoch: 008, Loss: 0.4600\n"
          ]
        },
        {
          "name": "stderr",
          "output_type": "stream",
          "text": [
            "100%|██████████| 591/591 [00:09<00:00, 59.41it/s]\n"
          ]
        },
        {
          "name": "stdout",
          "output_type": "stream",
          "text": [
            "Epoch: 009, Loss: 0.4555\n",
            "precision: 0.06160659743433109\n",
            "recall: 0.1951179635009086\n",
            "ndcg: 0.24016528656886124\n",
            "Proxy(x)\n",
            "embed_size: 32, model: <class '__main__.ModelSimple'>, sampled_neighbours: {('course', 'course_school', 'school'): [2, 2], ('course', 'course_teacher', 'teacher'): [2, 2], ('course', 'course_concept', 'concept'): [7, 7], ('user', 'enroll', 'course'): [1, 0], ('course', 'rev_enroll', 'user'): [0, 0], ('school', 'rev_course_school', 'course'): [2, 2], ('teacher', 'rev_course_teacher', 'course'): [2, 2], ('concept', 'rev_course_concept', 'course'): [7, 7]}, num_negative_samples: 1.0, lr: 0.005\n"
          ]
        },
        {
          "name": "stderr",
          "output_type": "stream",
          "text": [
            "100%|██████████| 591/591 [00:10<00:00, 57.12it/s]\n"
          ]
        },
        {
          "name": "stdout",
          "output_type": "stream",
          "text": [
            "Epoch: 000, Loss: 0.6082\n"
          ]
        },
        {
          "name": "stderr",
          "output_type": "stream",
          "text": [
            "100%|██████████| 591/591 [00:11<00:00, 53.13it/s]\n"
          ]
        },
        {
          "name": "stdout",
          "output_type": "stream",
          "text": [
            "Epoch: 001, Loss: 0.4953\n"
          ]
        },
        {
          "name": "stderr",
          "output_type": "stream",
          "text": [
            "100%|██████████| 591/591 [00:10<00:00, 55.85it/s]\n"
          ]
        },
        {
          "name": "stdout",
          "output_type": "stream",
          "text": [
            "Epoch: 002, Loss: 0.4870\n"
          ]
        },
        {
          "name": "stderr",
          "output_type": "stream",
          "text": [
            "100%|██████████| 591/591 [00:09<00:00, 60.92it/s]\n"
          ]
        },
        {
          "name": "stdout",
          "output_type": "stream",
          "text": [
            "Epoch: 003, Loss: 0.4758\n"
          ]
        },
        {
          "name": "stderr",
          "output_type": "stream",
          "text": [
            "100%|██████████| 591/591 [00:10<00:00, 53.80it/s]\n"
          ]
        },
        {
          "name": "stdout",
          "output_type": "stream",
          "text": [
            "Epoch: 004, Loss: 0.4626\n"
          ]
        },
        {
          "name": "stderr",
          "output_type": "stream",
          "text": [
            "100%|██████████| 591/591 [00:10<00:00, 55.26it/s]\n"
          ]
        },
        {
          "name": "stdout",
          "output_type": "stream",
          "text": [
            "Epoch: 005, Loss: 0.4562\n"
          ]
        },
        {
          "name": "stderr",
          "output_type": "stream",
          "text": [
            "100%|██████████| 591/591 [00:09<00:00, 62.06it/s]\n"
          ]
        },
        {
          "name": "stdout",
          "output_type": "stream",
          "text": [
            "Epoch: 006, Loss: 0.4474\n"
          ]
        },
        {
          "name": "stderr",
          "output_type": "stream",
          "text": [
            "100%|██████████| 591/591 [00:11<00:00, 53.29it/s]\n"
          ]
        },
        {
          "name": "stdout",
          "output_type": "stream",
          "text": [
            "Epoch: 007, Loss: 0.4400\n"
          ]
        },
        {
          "name": "stderr",
          "output_type": "stream",
          "text": [
            "100%|██████████| 591/591 [00:11<00:00, 53.71it/s]\n"
          ]
        },
        {
          "name": "stdout",
          "output_type": "stream",
          "text": [
            "Epoch: 008, Loss: 0.4343\n"
          ]
        },
        {
          "name": "stderr",
          "output_type": "stream",
          "text": [
            "100%|██████████| 591/591 [00:09<00:00, 62.59it/s]\n"
          ]
        },
        {
          "name": "stdout",
          "output_type": "stream",
          "text": [
            "Epoch: 009, Loss: 0.4295\n",
            "precision: 0.05421502748930971\n",
            "recall: 0.17353340324912922\n",
            "ndcg: 0.24016528656886124\n",
            "Proxy(x)\n",
            "embed_size: 32, model: <class '__main__.ModelSimple'>, sampled_neighbours: {('course', 'course_school', 'school'): [2, 2], ('course', 'course_teacher', 'teacher'): [2, 2], ('course', 'course_concept', 'concept'): [7, 7], ('user', 'enroll', 'course'): [1, 0], ('course', 'rev_enroll', 'user'): [0, 0], ('school', 'rev_course_school', 'course'): [2, 2], ('teacher', 'rev_course_teacher', 'course'): [2, 2], ('concept', 'rev_course_concept', 'course'): [7, 7]}, num_negative_samples: 1.0, lr: 0.01\n"
          ]
        },
        {
          "name": "stderr",
          "output_type": "stream",
          "text": [
            "100%|██████████| 591/591 [00:09<00:00, 60.75it/s]\n"
          ]
        },
        {
          "name": "stdout",
          "output_type": "stream",
          "text": [
            "Epoch: 000, Loss: 0.6116\n"
          ]
        },
        {
          "name": "stderr",
          "output_type": "stream",
          "text": [
            "100%|██████████| 591/591 [00:13<00:00, 43.84it/s]\n"
          ]
        },
        {
          "name": "stdout",
          "output_type": "stream",
          "text": [
            "Epoch: 001, Loss: 0.5377\n"
          ]
        },
        {
          "name": "stderr",
          "output_type": "stream",
          "text": [
            "100%|██████████| 591/591 [00:10<00:00, 58.08it/s]\n"
          ]
        },
        {
          "name": "stdout",
          "output_type": "stream",
          "text": [
            "Epoch: 002, Loss: 0.5187\n"
          ]
        },
        {
          "name": "stderr",
          "output_type": "stream",
          "text": [
            "100%|██████████| 591/591 [00:10<00:00, 58.45it/s]\n"
          ]
        },
        {
          "name": "stdout",
          "output_type": "stream",
          "text": [
            "Epoch: 003, Loss: 0.5030\n"
          ]
        },
        {
          "name": "stderr",
          "output_type": "stream",
          "text": [
            "100%|██████████| 591/591 [00:10<00:00, 54.22it/s]\n"
          ]
        },
        {
          "name": "stdout",
          "output_type": "stream",
          "text": [
            "Epoch: 004, Loss: 0.4905\n"
          ]
        },
        {
          "name": "stderr",
          "output_type": "stream",
          "text": [
            "100%|██████████| 591/591 [00:10<00:00, 57.42it/s]\n"
          ]
        },
        {
          "name": "stdout",
          "output_type": "stream",
          "text": [
            "Epoch: 005, Loss: 0.4804\n"
          ]
        },
        {
          "name": "stderr",
          "output_type": "stream",
          "text": [
            "100%|██████████| 591/591 [00:10<00:00, 58.47it/s]\n"
          ]
        },
        {
          "name": "stdout",
          "output_type": "stream",
          "text": [
            "Epoch: 006, Loss: 0.4736\n"
          ]
        },
        {
          "name": "stderr",
          "output_type": "stream",
          "text": [
            "100%|██████████| 591/591 [00:10<00:00, 53.80it/s]\n"
          ]
        },
        {
          "name": "stdout",
          "output_type": "stream",
          "text": [
            "Epoch: 007, Loss: 0.4657\n"
          ]
        },
        {
          "name": "stderr",
          "output_type": "stream",
          "text": [
            "100%|██████████| 591/591 [00:10<00:00, 57.15it/s]\n"
          ]
        },
        {
          "name": "stdout",
          "output_type": "stream",
          "text": [
            "Epoch: 008, Loss: 0.4581\n"
          ]
        },
        {
          "name": "stderr",
          "output_type": "stream",
          "text": [
            "100%|██████████| 591/591 [00:10<00:00, 57.16it/s]\n"
          ]
        },
        {
          "name": "stdout",
          "output_type": "stream",
          "text": [
            "Epoch: 009, Loss: 0.4463\n",
            "precision: 0.06701282834453268\n",
            "recall: 0.20988372449052634\n",
            "ndcg: 0.24016528656886124\n",
            "Proxy(x)\n",
            "embed_size: 32, model: <class '__main__.ModelSimple'>, sampled_neighbours: {('course', 'course_school', 'school'): [2, 2], ('course', 'course_teacher', 'teacher'): [2, 2], ('course', 'course_concept', 'concept'): [7, 7], ('user', 'enroll', 'course'): [1, 0], ('course', 'rev_enroll', 'user'): [0, 0], ('school', 'rev_course_school', 'course'): [2, 2], ('teacher', 'rev_course_teacher', 'course'): [2, 2], ('concept', 'rev_course_concept', 'course'): [7, 7]}, num_negative_samples: 2.0, lr: 0.001\n"
          ]
        },
        {
          "name": "stderr",
          "output_type": "stream",
          "text": [
            "100%|██████████| 591/591 [00:11<00:00, 53.34it/s]\n"
          ]
        },
        {
          "name": "stdout",
          "output_type": "stream",
          "text": [
            "Epoch: 000, Loss: 0.7261\n"
          ]
        },
        {
          "name": "stderr",
          "output_type": "stream",
          "text": [
            "100%|██████████| 591/591 [00:11<00:00, 50.36it/s]\n"
          ]
        },
        {
          "name": "stdout",
          "output_type": "stream",
          "text": [
            "Epoch: 001, Loss: 0.4790\n"
          ]
        },
        {
          "name": "stderr",
          "output_type": "stream",
          "text": [
            "100%|██████████| 591/591 [00:11<00:00, 49.97it/s]\n"
          ]
        },
        {
          "name": "stdout",
          "output_type": "stream",
          "text": [
            "Epoch: 002, Loss: 0.4551\n"
          ]
        },
        {
          "name": "stderr",
          "output_type": "stream",
          "text": [
            "100%|██████████| 591/591 [00:12<00:00, 47.89it/s]\n"
          ]
        },
        {
          "name": "stdout",
          "output_type": "stream",
          "text": [
            "Epoch: 003, Loss: 0.4489\n"
          ]
        },
        {
          "name": "stderr",
          "output_type": "stream",
          "text": [
            "100%|██████████| 591/591 [00:10<00:00, 54.76it/s]\n"
          ]
        },
        {
          "name": "stdout",
          "output_type": "stream",
          "text": [
            "Epoch: 004, Loss: 0.4443\n"
          ]
        },
        {
          "name": "stderr",
          "output_type": "stream",
          "text": [
            "100%|██████████| 591/591 [00:11<00:00, 49.55it/s]\n"
          ]
        },
        {
          "name": "stdout",
          "output_type": "stream",
          "text": [
            "Epoch: 005, Loss: 0.4400\n"
          ]
        },
        {
          "name": "stderr",
          "output_type": "stream",
          "text": [
            "100%|██████████| 591/591 [00:11<00:00, 49.70it/s]\n"
          ]
        },
        {
          "name": "stdout",
          "output_type": "stream",
          "text": [
            "Epoch: 006, Loss: 0.4375\n"
          ]
        },
        {
          "name": "stderr",
          "output_type": "stream",
          "text": [
            "100%|██████████| 591/591 [00:11<00:00, 51.28it/s]\n"
          ]
        },
        {
          "name": "stdout",
          "output_type": "stream",
          "text": [
            "Epoch: 007, Loss: 0.4335\n"
          ]
        },
        {
          "name": "stderr",
          "output_type": "stream",
          "text": [
            "100%|██████████| 591/591 [00:10<00:00, 54.76it/s]\n"
          ]
        },
        {
          "name": "stdout",
          "output_type": "stream",
          "text": [
            "Epoch: 008, Loss: 0.4277\n"
          ]
        },
        {
          "name": "stderr",
          "output_type": "stream",
          "text": [
            "100%|██████████| 591/591 [00:11<00:00, 50.41it/s]\n"
          ]
        },
        {
          "name": "stdout",
          "output_type": "stream",
          "text": [
            "Epoch: 009, Loss: 0.4210\n",
            "precision: 0.0565668906536347\n",
            "recall: 0.1775232849507915\n",
            "ndcg: 0.24016528656886124\n",
            "Proxy(x)\n",
            "embed_size: 32, model: <class '__main__.ModelSimple'>, sampled_neighbours: {('course', 'course_school', 'school'): [2, 2], ('course', 'course_teacher', 'teacher'): [2, 2], ('course', 'course_concept', 'concept'): [7, 7], ('user', 'enroll', 'course'): [1, 0], ('course', 'rev_enroll', 'user'): [0, 0], ('school', 'rev_course_school', 'course'): [2, 2], ('teacher', 'rev_course_teacher', 'course'): [2, 2], ('concept', 'rev_course_concept', 'course'): [7, 7]}, num_negative_samples: 2.0, lr: 0.005\n"
          ]
        },
        {
          "name": "stderr",
          "output_type": "stream",
          "text": [
            "100%|██████████| 591/591 [00:11<00:00, 50.22it/s]\n"
          ]
        },
        {
          "name": "stdout",
          "output_type": "stream",
          "text": [
            "Epoch: 000, Loss: 0.5456\n"
          ]
        },
        {
          "name": "stderr",
          "output_type": "stream",
          "text": [
            "100%|██████████| 591/591 [00:11<00:00, 50.55it/s]\n"
          ]
        },
        {
          "name": "stdout",
          "output_type": "stream",
          "text": [
            "Epoch: 001, Loss: 0.4576\n"
          ]
        },
        {
          "name": "stderr",
          "output_type": "stream",
          "text": [
            "100%|██████████| 591/591 [00:10<00:00, 55.04it/s]\n"
          ]
        },
        {
          "name": "stdout",
          "output_type": "stream",
          "text": [
            "Epoch: 002, Loss: 0.4511\n"
          ]
        },
        {
          "name": "stderr",
          "output_type": "stream",
          "text": [
            "100%|██████████| 591/591 [00:11<00:00, 52.62it/s]\n"
          ]
        },
        {
          "name": "stdout",
          "output_type": "stream",
          "text": [
            "Epoch: 003, Loss: 0.4375\n"
          ]
        },
        {
          "name": "stderr",
          "output_type": "stream",
          "text": [
            "100%|██████████| 591/591 [00:12<00:00, 48.98it/s]\n"
          ]
        },
        {
          "name": "stdout",
          "output_type": "stream",
          "text": [
            "Epoch: 004, Loss: 0.4265\n"
          ]
        },
        {
          "name": "stderr",
          "output_type": "stream",
          "text": [
            "100%|██████████| 591/591 [00:12<00:00, 49.08it/s]\n"
          ]
        },
        {
          "name": "stdout",
          "output_type": "stream",
          "text": [
            "Epoch: 005, Loss: 0.4193\n"
          ]
        },
        {
          "name": "stderr",
          "output_type": "stream",
          "text": [
            "100%|██████████| 591/591 [00:11<00:00, 52.38it/s]\n"
          ]
        },
        {
          "name": "stdout",
          "output_type": "stream",
          "text": [
            "Epoch: 006, Loss: 0.4131\n"
          ]
        },
        {
          "name": "stderr",
          "output_type": "stream",
          "text": [
            "100%|██████████| 591/591 [00:13<00:00, 45.43it/s]\n"
          ]
        },
        {
          "name": "stdout",
          "output_type": "stream",
          "text": [
            "Epoch: 007, Loss: 0.4054\n"
          ]
        },
        {
          "name": "stderr",
          "output_type": "stream",
          "text": [
            "100%|██████████| 591/591 [00:11<00:00, 49.95it/s]\n"
          ]
        },
        {
          "name": "stdout",
          "output_type": "stream",
          "text": [
            "Epoch: 008, Loss: 0.3981\n"
          ]
        },
        {
          "name": "stderr",
          "output_type": "stream",
          "text": [
            "100%|██████████| 591/591 [00:10<00:00, 55.06it/s]\n"
          ]
        },
        {
          "name": "stdout",
          "output_type": "stream",
          "text": [
            "Epoch: 009, Loss: 0.3901\n",
            "precision: 0.06149969456322541\n",
            "recall: 0.19375821468196763\n",
            "ndcg: 0.24016528656886124\n",
            "Proxy(x)\n",
            "embed_size: 32, model: <class '__main__.ModelSimple'>, sampled_neighbours: {('course', 'course_school', 'school'): [2, 2], ('course', 'course_teacher', 'teacher'): [2, 2], ('course', 'course_concept', 'concept'): [7, 7], ('user', 'enroll', 'course'): [1, 0], ('course', 'rev_enroll', 'user'): [0, 0], ('school', 'rev_course_school', 'course'): [2, 2], ('teacher', 'rev_course_teacher', 'course'): [2, 2], ('concept', 'rev_course_concept', 'course'): [7, 7]}, num_negative_samples: 2.0, lr: 0.01\n"
          ]
        },
        {
          "name": "stderr",
          "output_type": "stream",
          "text": [
            "100%|██████████| 591/591 [00:10<00:00, 57.00it/s]\n"
          ]
        },
        {
          "name": "stdout",
          "output_type": "stream",
          "text": [
            "Epoch: 000, Loss: 0.5443\n"
          ]
        },
        {
          "name": "stderr",
          "output_type": "stream",
          "text": [
            "100%|██████████| 591/591 [00:11<00:00, 51.90it/s]\n"
          ]
        },
        {
          "name": "stdout",
          "output_type": "stream",
          "text": [
            "Epoch: 001, Loss: 0.4841\n"
          ]
        },
        {
          "name": "stderr",
          "output_type": "stream",
          "text": [
            "100%|██████████| 591/591 [00:11<00:00, 49.92it/s]\n"
          ]
        },
        {
          "name": "stdout",
          "output_type": "stream",
          "text": [
            "Epoch: 002, Loss: 0.4632\n"
          ]
        },
        {
          "name": "stderr",
          "output_type": "stream",
          "text": [
            "100%|██████████| 591/591 [00:11<00:00, 50.48it/s]\n"
          ]
        },
        {
          "name": "stdout",
          "output_type": "stream",
          "text": [
            "Epoch: 003, Loss: 0.4506\n"
          ]
        },
        {
          "name": "stderr",
          "output_type": "stream",
          "text": [
            "100%|██████████| 591/591 [00:10<00:00, 57.72it/s]\n"
          ]
        },
        {
          "name": "stdout",
          "output_type": "stream",
          "text": [
            "Epoch: 004, Loss: 0.4397\n"
          ]
        },
        {
          "name": "stderr",
          "output_type": "stream",
          "text": [
            "100%|██████████| 591/591 [00:11<00:00, 51.21it/s]\n"
          ]
        },
        {
          "name": "stdout",
          "output_type": "stream",
          "text": [
            "Epoch: 005, Loss: 0.4303\n"
          ]
        },
        {
          "name": "stderr",
          "output_type": "stream",
          "text": [
            "100%|██████████| 591/591 [00:11<00:00, 50.04it/s]\n"
          ]
        },
        {
          "name": "stdout",
          "output_type": "stream",
          "text": [
            "Epoch: 006, Loss: 0.4204\n"
          ]
        },
        {
          "name": "stderr",
          "output_type": "stream",
          "text": [
            "100%|██████████| 591/591 [00:13<00:00, 43.91it/s]\n"
          ]
        },
        {
          "name": "stdout",
          "output_type": "stream",
          "text": [
            "Epoch: 007, Loss: 0.4118\n"
          ]
        },
        {
          "name": "stderr",
          "output_type": "stream",
          "text": [
            "100%|██████████| 591/591 [00:10<00:00, 56.35it/s]\n"
          ]
        },
        {
          "name": "stdout",
          "output_type": "stream",
          "text": [
            "Epoch: 008, Loss: 0.4061\n"
          ]
        },
        {
          "name": "stderr",
          "output_type": "stream",
          "text": [
            "100%|██████████| 591/591 [00:11<00:00, 50.17it/s]\n"
          ]
        },
        {
          "name": "stdout",
          "output_type": "stream",
          "text": [
            "Epoch: 009, Loss: 0.3977\n",
            "precision: 0.06849419670128283\n",
            "recall: 0.22006230959424664\n",
            "ndcg: 0.24016528656886124\n",
            "Proxy(x)\n",
            "embed_size: 32, model: <class '__main__.ModelSimple'>, sampled_neighbours: {('course', 'course_school', 'school'): [2, 2], ('course', 'course_teacher', 'teacher'): [2, 2], ('course', 'course_concept', 'concept'): [7, 7], ('user', 'enroll', 'course'): [1, 0], ('course', 'rev_enroll', 'user'): [0, 0], ('school', 'rev_course_school', 'course'): [2, 2], ('teacher', 'rev_course_teacher', 'course'): [2, 2], ('concept', 'rev_course_concept', 'course'): [7, 7]}, num_negative_samples: 4.0, lr: 0.001\n"
          ]
        },
        {
          "name": "stderr",
          "output_type": "stream",
          "text": [
            "100%|██████████| 591/591 [00:12<00:00, 46.73it/s]\n"
          ]
        },
        {
          "name": "stdout",
          "output_type": "stream",
          "text": [
            "Epoch: 000, Loss: 0.5871\n"
          ]
        },
        {
          "name": "stderr",
          "output_type": "stream",
          "text": [
            "100%|██████████| 591/591 [00:12<00:00, 45.50it/s]\n"
          ]
        },
        {
          "name": "stdout",
          "output_type": "stream",
          "text": [
            "Epoch: 001, Loss: 0.3796\n"
          ]
        },
        {
          "name": "stderr",
          "output_type": "stream",
          "text": [
            "100%|██████████| 591/591 [00:12<00:00, 46.34it/s]\n"
          ]
        },
        {
          "name": "stdout",
          "output_type": "stream",
          "text": [
            "Epoch: 002, Loss: 0.3643\n"
          ]
        },
        {
          "name": "stderr",
          "output_type": "stream",
          "text": [
            "100%|██████████| 591/591 [00:13<00:00, 43.24it/s]\n"
          ]
        },
        {
          "name": "stdout",
          "output_type": "stream",
          "text": [
            "Epoch: 003, Loss: 0.3607\n"
          ]
        },
        {
          "name": "stderr",
          "output_type": "stream",
          "text": [
            "100%|██████████| 591/591 [00:12<00:00, 48.27it/s]\n"
          ]
        },
        {
          "name": "stdout",
          "output_type": "stream",
          "text": [
            "Epoch: 004, Loss: 0.3580\n"
          ]
        },
        {
          "name": "stderr",
          "output_type": "stream",
          "text": [
            "100%|██████████| 591/591 [00:12<00:00, 46.86it/s]\n"
          ]
        },
        {
          "name": "stdout",
          "output_type": "stream",
          "text": [
            "Epoch: 005, Loss: 0.3560\n"
          ]
        },
        {
          "name": "stderr",
          "output_type": "stream",
          "text": [
            "100%|██████████| 591/591 [00:12<00:00, 46.04it/s]\n"
          ]
        },
        {
          "name": "stdout",
          "output_type": "stream",
          "text": [
            "Epoch: 006, Loss: 0.3535\n"
          ]
        },
        {
          "name": "stderr",
          "output_type": "stream",
          "text": [
            "100%|██████████| 591/591 [00:12<00:00, 46.23it/s]\n"
          ]
        },
        {
          "name": "stdout",
          "output_type": "stream",
          "text": [
            "Epoch: 007, Loss: 0.3493\n"
          ]
        },
        {
          "name": "stderr",
          "output_type": "stream",
          "text": [
            "100%|██████████| 591/591 [00:11<00:00, 49.71it/s]\n"
          ]
        },
        {
          "name": "stdout",
          "output_type": "stream",
          "text": [
            "Epoch: 008, Loss: 0.3450\n"
          ]
        },
        {
          "name": "stderr",
          "output_type": "stream",
          "text": [
            "100%|██████████| 591/591 [00:12<00:00, 48.23it/s]\n"
          ]
        },
        {
          "name": "stdout",
          "output_type": "stream",
          "text": [
            "Epoch: 009, Loss: 0.3407\n",
            "precision: 0.06252290775809408\n",
            "recall: 0.19713397079244435\n",
            "ndcg: 0.24016528656886124\n",
            "Proxy(x)\n",
            "embed_size: 32, model: <class '__main__.ModelSimple'>, sampled_neighbours: {('course', 'course_school', 'school'): [2, 2], ('course', 'course_teacher', 'teacher'): [2, 2], ('course', 'course_concept', 'concept'): [7, 7], ('user', 'enroll', 'course'): [1, 0], ('course', 'rev_enroll', 'user'): [0, 0], ('school', 'rev_course_school', 'course'): [2, 2], ('teacher', 'rev_course_teacher', 'course'): [2, 2], ('concept', 'rev_course_concept', 'course'): [7, 7]}, num_negative_samples: 4.0, lr: 0.005\n"
          ]
        },
        {
          "name": "stderr",
          "output_type": "stream",
          "text": [
            "100%|██████████| 591/591 [00:12<00:00, 49.21it/s]\n"
          ]
        },
        {
          "name": "stdout",
          "output_type": "stream",
          "text": [
            "Epoch: 000, Loss: 0.4303\n"
          ]
        },
        {
          "name": "stderr",
          "output_type": "stream",
          "text": [
            "100%|██████████| 591/591 [00:12<00:00, 45.65it/s]\n"
          ]
        },
        {
          "name": "stdout",
          "output_type": "stream",
          "text": [
            "Epoch: 001, Loss: 0.3686\n"
          ]
        },
        {
          "name": "stderr",
          "output_type": "stream",
          "text": [
            "100%|██████████| 591/591 [00:13<00:00, 42.93it/s]\n"
          ]
        },
        {
          "name": "stdout",
          "output_type": "stream",
          "text": [
            "Epoch: 002, Loss: 0.3607\n"
          ]
        },
        {
          "name": "stderr",
          "output_type": "stream",
          "text": [
            "100%|██████████| 591/591 [00:14<00:00, 41.67it/s]\n"
          ]
        },
        {
          "name": "stdout",
          "output_type": "stream",
          "text": [
            "Epoch: 003, Loss: 0.3496\n"
          ]
        },
        {
          "name": "stderr",
          "output_type": "stream",
          "text": [
            "100%|██████████| 591/591 [00:13<00:00, 44.97it/s]\n"
          ]
        },
        {
          "name": "stdout",
          "output_type": "stream",
          "text": [
            "Epoch: 004, Loss: 0.3406\n"
          ]
        },
        {
          "name": "stderr",
          "output_type": "stream",
          "text": [
            "100%|██████████| 591/591 [00:12<00:00, 46.42it/s]\n"
          ]
        },
        {
          "name": "stdout",
          "output_type": "stream",
          "text": [
            "Epoch: 005, Loss: 0.3325\n"
          ]
        },
        {
          "name": "stderr",
          "output_type": "stream",
          "text": [
            "100%|██████████| 591/591 [00:11<00:00, 49.72it/s]\n"
          ]
        },
        {
          "name": "stdout",
          "output_type": "stream",
          "text": [
            "Epoch: 006, Loss: 0.3257\n"
          ]
        },
        {
          "name": "stderr",
          "output_type": "stream",
          "text": [
            "100%|██████████| 591/591 [00:12<00:00, 46.13it/s]\n"
          ]
        },
        {
          "name": "stdout",
          "output_type": "stream",
          "text": [
            "Epoch: 007, Loss: 0.3200\n"
          ]
        },
        {
          "name": "stderr",
          "output_type": "stream",
          "text": [
            "100%|██████████| 591/591 [00:13<00:00, 44.42it/s]\n"
          ]
        },
        {
          "name": "stdout",
          "output_type": "stream",
          "text": [
            "Epoch: 008, Loss: 0.3167\n"
          ]
        },
        {
          "name": "stderr",
          "output_type": "stream",
          "text": [
            "100%|██████████| 591/591 [00:14<00:00, 40.98it/s]\n"
          ]
        },
        {
          "name": "stdout",
          "output_type": "stream",
          "text": [
            "Epoch: 009, Loss: 0.3127\n",
            "precision: 0.07034208918753818\n",
            "recall: 0.2226568011800132\n",
            "ndcg: 0.24016528656886124\n",
            "Proxy(x)\n",
            "embed_size: 32, model: <class '__main__.ModelSimple'>, sampled_neighbours: {('course', 'course_school', 'school'): [2, 2], ('course', 'course_teacher', 'teacher'): [2, 2], ('course', 'course_concept', 'concept'): [7, 7], ('user', 'enroll', 'course'): [1, 0], ('course', 'rev_enroll', 'user'): [0, 0], ('school', 'rev_course_school', 'course'): [2, 2], ('teacher', 'rev_course_teacher', 'course'): [2, 2], ('concept', 'rev_course_concept', 'course'): [7, 7]}, num_negative_samples: 4.0, lr: 0.01\n"
          ]
        },
        {
          "name": "stderr",
          "output_type": "stream",
          "text": [
            "100%|██████████| 591/591 [00:13<00:00, 44.81it/s]\n"
          ]
        },
        {
          "name": "stdout",
          "output_type": "stream",
          "text": [
            "Epoch: 000, Loss: 0.4270\n"
          ]
        },
        {
          "name": "stderr",
          "output_type": "stream",
          "text": [
            "100%|██████████| 591/591 [00:12<00:00, 45.67it/s]\n"
          ]
        },
        {
          "name": "stdout",
          "output_type": "stream",
          "text": [
            "Epoch: 001, Loss: 0.3808\n"
          ]
        },
        {
          "name": "stderr",
          "output_type": "stream",
          "text": [
            "100%|██████████| 591/591 [00:13<00:00, 45.29it/s]\n"
          ]
        },
        {
          "name": "stdout",
          "output_type": "stream",
          "text": [
            "Epoch: 002, Loss: 0.3682\n"
          ]
        },
        {
          "name": "stderr",
          "output_type": "stream",
          "text": [
            "100%|██████████| 591/591 [00:11<00:00, 49.43it/s]\n"
          ]
        },
        {
          "name": "stdout",
          "output_type": "stream",
          "text": [
            "Epoch: 003, Loss: 0.3552\n"
          ]
        },
        {
          "name": "stderr",
          "output_type": "stream",
          "text": [
            "100%|██████████| 591/591 [00:11<00:00, 49.70it/s]\n"
          ]
        },
        {
          "name": "stdout",
          "output_type": "stream",
          "text": [
            "Epoch: 004, Loss: 0.3446\n"
          ]
        },
        {
          "name": "stderr",
          "output_type": "stream",
          "text": [
            "100%|██████████| 591/591 [00:12<00:00, 45.89it/s]\n"
          ]
        },
        {
          "name": "stdout",
          "output_type": "stream",
          "text": [
            "Epoch: 005, Loss: 0.3368\n"
          ]
        },
        {
          "name": "stderr",
          "output_type": "stream",
          "text": [
            "100%|██████████| 591/591 [00:12<00:00, 46.06it/s]\n"
          ]
        },
        {
          "name": "stdout",
          "output_type": "stream",
          "text": [
            "Epoch: 006, Loss: 0.3318\n"
          ]
        },
        {
          "name": "stderr",
          "output_type": "stream",
          "text": [
            "100%|██████████| 591/591 [00:13<00:00, 45.38it/s]\n"
          ]
        },
        {
          "name": "stdout",
          "output_type": "stream",
          "text": [
            "Epoch: 007, Loss: 0.3264\n"
          ]
        },
        {
          "name": "stderr",
          "output_type": "stream",
          "text": [
            "100%|██████████| 591/591 [00:12<00:00, 47.12it/s]\n"
          ]
        },
        {
          "name": "stdout",
          "output_type": "stream",
          "text": [
            "Epoch: 008, Loss: 0.3215\n"
          ]
        },
        {
          "name": "stderr",
          "output_type": "stream",
          "text": [
            "100%|██████████| 591/591 [00:14<00:00, 40.94it/s]\n"
          ]
        },
        {
          "name": "stdout",
          "output_type": "stream",
          "text": [
            "Epoch: 009, Loss: 0.3133\n",
            "precision: 0.07619120342089188\n",
            "recall: 0.2418044213282685\n",
            "ndcg: 0.24016528656886124\n",
            "Proxy(x)\n",
            "embed_size: 32, model: <class '__main__.ModelSimple'>, sampled_neighbours: {('course', 'course_school', 'school'): [2, 2], ('course', 'course_teacher', 'teacher'): [2, 2], ('course', 'course_concept', 'concept'): [10, 10], ('user', 'enroll', 'course'): [1, 0], ('course', 'rev_enroll', 'user'): [0, 0], ('school', 'rev_course_school', 'course'): [2, 2], ('teacher', 'rev_course_teacher', 'course'): [2, 2], ('concept', 'rev_course_concept', 'course'): [10, 10]}, num_negative_samples: 1.0, lr: 0.001\n"
          ]
        },
        {
          "name": "stderr",
          "output_type": "stream",
          "text": [
            "100%|██████████| 591/591 [00:11<00:00, 53.56it/s]\n"
          ]
        },
        {
          "name": "stdout",
          "output_type": "stream",
          "text": [
            "Epoch: 000, Loss: 0.8192\n"
          ]
        },
        {
          "name": "stderr",
          "output_type": "stream",
          "text": [
            "100%|██████████| 591/591 [00:11<00:00, 53.14it/s]\n"
          ]
        },
        {
          "name": "stdout",
          "output_type": "stream",
          "text": [
            "Epoch: 001, Loss: 0.5332\n"
          ]
        },
        {
          "name": "stderr",
          "output_type": "stream",
          "text": [
            "100%|██████████| 591/591 [00:11<00:00, 49.56it/s]\n"
          ]
        },
        {
          "name": "stdout",
          "output_type": "stream",
          "text": [
            "Epoch: 002, Loss: 0.4939\n"
          ]
        },
        {
          "name": "stderr",
          "output_type": "stream",
          "text": [
            "100%|██████████| 591/591 [00:11<00:00, 49.28it/s]\n"
          ]
        },
        {
          "name": "stdout",
          "output_type": "stream",
          "text": [
            "Epoch: 003, Loss: 0.4835\n"
          ]
        },
        {
          "name": "stderr",
          "output_type": "stream",
          "text": [
            "100%|██████████| 591/591 [00:10<00:00, 54.47it/s]\n"
          ]
        },
        {
          "name": "stdout",
          "output_type": "stream",
          "text": [
            "Epoch: 004, Loss: 0.4776\n"
          ]
        },
        {
          "name": "stderr",
          "output_type": "stream",
          "text": [
            "100%|██████████| 591/591 [00:13<00:00, 44.35it/s]\n"
          ]
        },
        {
          "name": "stdout",
          "output_type": "stream",
          "text": [
            "Epoch: 005, Loss: 0.4759\n"
          ]
        },
        {
          "name": "stderr",
          "output_type": "stream",
          "text": [
            "100%|██████████| 591/591 [00:12<00:00, 49.05it/s]\n"
          ]
        },
        {
          "name": "stdout",
          "output_type": "stream",
          "text": [
            "Epoch: 006, Loss: 0.4697\n"
          ]
        },
        {
          "name": "stderr",
          "output_type": "stream",
          "text": [
            "100%|██████████| 591/591 [00:12<00:00, 48.68it/s]\n"
          ]
        },
        {
          "name": "stdout",
          "output_type": "stream",
          "text": [
            "Epoch: 007, Loss: 0.4668\n"
          ]
        },
        {
          "name": "stderr",
          "output_type": "stream",
          "text": [
            "100%|██████████| 591/591 [00:11<00:00, 50.15it/s]\n"
          ]
        },
        {
          "name": "stdout",
          "output_type": "stream",
          "text": [
            "Epoch: 008, Loss: 0.4624\n"
          ]
        },
        {
          "name": "stderr",
          "output_type": "stream",
          "text": [
            "100%|██████████| 591/591 [00:10<00:00, 55.07it/s]\n"
          ]
        },
        {
          "name": "stdout",
          "output_type": "stream",
          "text": [
            "Epoch: 009, Loss: 0.4582\n",
            "precision: 0.05870494807574832\n",
            "recall: 0.18331577196109955\n",
            "ndcg: 0.24016528656886124\n",
            "Proxy(x)\n",
            "embed_size: 32, model: <class '__main__.ModelSimple'>, sampled_neighbours: {('course', 'course_school', 'school'): [2, 2], ('course', 'course_teacher', 'teacher'): [2, 2], ('course', 'course_concept', 'concept'): [10, 10], ('user', 'enroll', 'course'): [1, 0], ('course', 'rev_enroll', 'user'): [0, 0], ('school', 'rev_course_school', 'course'): [2, 2], ('teacher', 'rev_course_teacher', 'course'): [2, 2], ('concept', 'rev_course_concept', 'course'): [10, 10]}, num_negative_samples: 1.0, lr: 0.005\n"
          ]
        },
        {
          "name": "stderr",
          "output_type": "stream",
          "text": [
            "100%|██████████| 591/591 [00:10<00:00, 56.65it/s]\n"
          ]
        },
        {
          "name": "stdout",
          "output_type": "stream",
          "text": [
            "Epoch: 000, Loss: 0.6092\n"
          ]
        },
        {
          "name": "stderr",
          "output_type": "stream",
          "text": [
            "100%|██████████| 591/591 [00:11<00:00, 49.25it/s]\n"
          ]
        },
        {
          "name": "stdout",
          "output_type": "stream",
          "text": [
            "Epoch: 001, Loss: 0.4965\n"
          ]
        },
        {
          "name": "stderr",
          "output_type": "stream",
          "text": [
            "100%|██████████| 591/591 [00:12<00:00, 48.62it/s]\n"
          ]
        },
        {
          "name": "stdout",
          "output_type": "stream",
          "text": [
            "Epoch: 002, Loss: 0.4908\n"
          ]
        },
        {
          "name": "stderr",
          "output_type": "stream",
          "text": [
            "100%|██████████| 591/591 [00:11<00:00, 49.68it/s]\n"
          ]
        },
        {
          "name": "stdout",
          "output_type": "stream",
          "text": [
            "Epoch: 003, Loss: 0.4764\n"
          ]
        },
        {
          "name": "stderr",
          "output_type": "stream",
          "text": [
            "100%|██████████| 591/591 [00:10<00:00, 55.80it/s]\n"
          ]
        },
        {
          "name": "stdout",
          "output_type": "stream",
          "text": [
            "Epoch: 004, Loss: 0.4649\n"
          ]
        },
        {
          "name": "stderr",
          "output_type": "stream",
          "text": [
            "100%|██████████| 591/591 [00:13<00:00, 42.84it/s]\n"
          ]
        },
        {
          "name": "stdout",
          "output_type": "stream",
          "text": [
            "Epoch: 005, Loss: 0.4524\n"
          ]
        },
        {
          "name": "stderr",
          "output_type": "stream",
          "text": [
            "100%|██████████| 591/591 [00:11<00:00, 50.25it/s]\n"
          ]
        },
        {
          "name": "stdout",
          "output_type": "stream",
          "text": [
            "Epoch: 006, Loss: 0.4489\n"
          ]
        },
        {
          "name": "stderr",
          "output_type": "stream",
          "text": [
            "100%|██████████| 591/591 [00:11<00:00, 49.43it/s]\n"
          ]
        },
        {
          "name": "stdout",
          "output_type": "stream",
          "text": [
            "Epoch: 007, Loss: 0.4421\n"
          ]
        },
        {
          "name": "stderr",
          "output_type": "stream",
          "text": [
            "100%|██████████| 591/591 [00:10<00:00, 54.46it/s]\n"
          ]
        },
        {
          "name": "stdout",
          "output_type": "stream",
          "text": [
            "Epoch: 008, Loss: 0.4377\n"
          ]
        },
        {
          "name": "stderr",
          "output_type": "stream",
          "text": [
            "100%|██████████| 591/591 [00:11<00:00, 51.27it/s]\n"
          ]
        },
        {
          "name": "stdout",
          "output_type": "stream",
          "text": [
            "Epoch: 009, Loss: 0.4294\n",
            "precision: 0.06317959682345754\n",
            "recall: 0.20403120149718235\n",
            "ndcg: 0.24016528656886124\n",
            "Proxy(x)\n",
            "embed_size: 32, model: <class '__main__.ModelSimple'>, sampled_neighbours: {('course', 'course_school', 'school'): [2, 2], ('course', 'course_teacher', 'teacher'): [2, 2], ('course', 'course_concept', 'concept'): [10, 10], ('user', 'enroll', 'course'): [1, 0], ('course', 'rev_enroll', 'user'): [0, 0], ('school', 'rev_course_school', 'course'): [2, 2], ('teacher', 'rev_course_teacher', 'course'): [2, 2], ('concept', 'rev_course_concept', 'course'): [10, 10]}, num_negative_samples: 1.0, lr: 0.01\n"
          ]
        },
        {
          "name": "stderr",
          "output_type": "stream",
          "text": [
            "100%|██████████| 591/591 [00:11<00:00, 49.45it/s]\n"
          ]
        },
        {
          "name": "stdout",
          "output_type": "stream",
          "text": [
            "Epoch: 000, Loss: 0.6035\n"
          ]
        },
        {
          "name": "stderr",
          "output_type": "stream",
          "text": [
            "100%|██████████| 591/591 [00:14<00:00, 42.15it/s]\n"
          ]
        },
        {
          "name": "stdout",
          "output_type": "stream",
          "text": [
            "Epoch: 001, Loss: 0.5406\n"
          ]
        },
        {
          "name": "stderr",
          "output_type": "stream",
          "text": [
            "100%|██████████| 591/591 [00:12<00:00, 49.23it/s]\n"
          ]
        },
        {
          "name": "stdout",
          "output_type": "stream",
          "text": [
            "Epoch: 002, Loss: 0.5198\n"
          ]
        },
        {
          "name": "stderr",
          "output_type": "stream",
          "text": [
            "100%|██████████| 591/591 [00:10<00:00, 54.46it/s]\n"
          ]
        },
        {
          "name": "stdout",
          "output_type": "stream",
          "text": [
            "Epoch: 003, Loss: 0.4976\n"
          ]
        },
        {
          "name": "stderr",
          "output_type": "stream",
          "text": [
            "100%|██████████| 591/591 [00:11<00:00, 52.05it/s]\n"
          ]
        },
        {
          "name": "stdout",
          "output_type": "stream",
          "text": [
            "Epoch: 004, Loss: 0.4872\n"
          ]
        },
        {
          "name": "stderr",
          "output_type": "stream",
          "text": [
            "100%|██████████| 591/591 [00:11<00:00, 50.07it/s]\n"
          ]
        },
        {
          "name": "stdout",
          "output_type": "stream",
          "text": [
            "Epoch: 005, Loss: 0.4775\n"
          ]
        },
        {
          "name": "stderr",
          "output_type": "stream",
          "text": [
            "100%|██████████| 591/591 [00:11<00:00, 49.87it/s]\n"
          ]
        },
        {
          "name": "stdout",
          "output_type": "stream",
          "text": [
            "Epoch: 006, Loss: 0.4673\n"
          ]
        },
        {
          "name": "stderr",
          "output_type": "stream",
          "text": [
            "100%|██████████| 591/591 [00:10<00:00, 55.78it/s]\n"
          ]
        },
        {
          "name": "stdout",
          "output_type": "stream",
          "text": [
            "Epoch: 007, Loss: 0.4605\n"
          ]
        },
        {
          "name": "stderr",
          "output_type": "stream",
          "text": [
            "100%|██████████| 591/591 [00:11<00:00, 49.79it/s]\n"
          ]
        },
        {
          "name": "stdout",
          "output_type": "stream",
          "text": [
            "Epoch: 008, Loss: 0.4516\n"
          ]
        },
        {
          "name": "stderr",
          "output_type": "stream",
          "text": [
            "100%|██████████| 591/591 [00:11<00:00, 49.44it/s]\n"
          ]
        },
        {
          "name": "stdout",
          "output_type": "stream",
          "text": [
            "Epoch: 009, Loss: 0.4462\n",
            "precision: 0.054932803909590724\n",
            "recall: 0.175862259607879\n",
            "ndcg: 0.24016528656886124\n",
            "Proxy(x)\n",
            "embed_size: 32, model: <class '__main__.ModelSimple'>, sampled_neighbours: {('course', 'course_school', 'school'): [2, 2], ('course', 'course_teacher', 'teacher'): [2, 2], ('course', 'course_concept', 'concept'): [10, 10], ('user', 'enroll', 'course'): [1, 0], ('course', 'rev_enroll', 'user'): [0, 0], ('school', 'rev_course_school', 'course'): [2, 2], ('teacher', 'rev_course_teacher', 'course'): [2, 2], ('concept', 'rev_course_concept', 'course'): [10, 10]}, num_negative_samples: 2.0, lr: 0.001\n"
          ]
        },
        {
          "name": "stderr",
          "output_type": "stream",
          "text": [
            "100%|██████████| 591/591 [00:12<00:00, 46.20it/s]\n"
          ]
        },
        {
          "name": "stdout",
          "output_type": "stream",
          "text": [
            "Epoch: 000, Loss: 0.7295\n"
          ]
        },
        {
          "name": "stderr",
          "output_type": "stream",
          "text": [
            "100%|██████████| 591/591 [00:13<00:00, 44.16it/s]\n"
          ]
        },
        {
          "name": "stdout",
          "output_type": "stream",
          "text": [
            "Epoch: 001, Loss: 0.4911\n"
          ]
        },
        {
          "name": "stderr",
          "output_type": "stream",
          "text": [
            "100%|██████████| 591/591 [00:12<00:00, 47.17it/s]\n"
          ]
        },
        {
          "name": "stdout",
          "output_type": "stream",
          "text": [
            "Epoch: 002, Loss: 0.4585\n"
          ]
        },
        {
          "name": "stderr",
          "output_type": "stream",
          "text": [
            "100%|██████████| 591/591 [00:12<00:00, 46.52it/s]\n"
          ]
        },
        {
          "name": "stdout",
          "output_type": "stream",
          "text": [
            "Epoch: 003, Loss: 0.4489\n"
          ]
        },
        {
          "name": "stderr",
          "output_type": "stream",
          "text": [
            "100%|██████████| 591/591 [00:12<00:00, 46.98it/s]\n"
          ]
        },
        {
          "name": "stdout",
          "output_type": "stream",
          "text": [
            "Epoch: 004, Loss: 0.4455\n"
          ]
        },
        {
          "name": "stderr",
          "output_type": "stream",
          "text": [
            "100%|██████████| 591/591 [00:12<00:00, 46.34it/s]\n"
          ]
        },
        {
          "name": "stdout",
          "output_type": "stream",
          "text": [
            "Epoch: 005, Loss: 0.4417\n"
          ]
        },
        {
          "name": "stderr",
          "output_type": "stream",
          "text": [
            "100%|██████████| 591/591 [00:12<00:00, 48.50it/s]\n"
          ]
        },
        {
          "name": "stdout",
          "output_type": "stream",
          "text": [
            "Epoch: 006, Loss: 0.4377\n"
          ]
        },
        {
          "name": "stderr",
          "output_type": "stream",
          "text": [
            "100%|██████████| 591/591 [00:11<00:00, 51.79it/s]\n"
          ]
        },
        {
          "name": "stdout",
          "output_type": "stream",
          "text": [
            "Epoch: 007, Loss: 0.4341\n"
          ]
        },
        {
          "name": "stderr",
          "output_type": "stream",
          "text": [
            "100%|██████████| 591/591 [00:12<00:00, 45.69it/s]\n"
          ]
        },
        {
          "name": "stdout",
          "output_type": "stream",
          "text": [
            "Epoch: 008, Loss: 0.4293\n"
          ]
        },
        {
          "name": "stderr",
          "output_type": "stream",
          "text": [
            "100%|██████████| 591/591 [00:14<00:00, 41.46it/s]\n"
          ]
        },
        {
          "name": "stdout",
          "output_type": "stream",
          "text": [
            "Epoch: 009, Loss: 0.4246\n",
            "precision: 0.06405009163103238\n",
            "recall: 0.20232511957154792\n",
            "ndcg: 0.24016528656886124\n",
            "Proxy(x)\n",
            "embed_size: 32, model: <class '__main__.ModelSimple'>, sampled_neighbours: {('course', 'course_school', 'school'): [2, 2], ('course', 'course_teacher', 'teacher'): [2, 2], ('course', 'course_concept', 'concept'): [10, 10], ('user', 'enroll', 'course'): [1, 0], ('course', 'rev_enroll', 'user'): [0, 0], ('school', 'rev_course_school', 'course'): [2, 2], ('teacher', 'rev_course_teacher', 'course'): [2, 2], ('concept', 'rev_course_concept', 'course'): [10, 10]}, num_negative_samples: 2.0, lr: 0.005\n"
          ]
        },
        {
          "name": "stderr",
          "output_type": "stream",
          "text": [
            "100%|██████████| 591/591 [00:13<00:00, 45.42it/s]\n"
          ]
        },
        {
          "name": "stdout",
          "output_type": "stream",
          "text": [
            "Epoch: 000, Loss: 0.5495\n"
          ]
        },
        {
          "name": "stderr",
          "output_type": "stream",
          "text": [
            " 21%|██        | 123/591 [00:02<00:08, 53.05it/s]"
          ]
        }
      ],
      "source": [
        "for embed_size in [16,32,64]:\n",
        "  for m in [Model, ModelSimple]:\n",
        "    for neigh in neighbours_params:\n",
        "      for num_neg in [1.0,2.0,4.0]:\n",
        "        for lr in [0.001, 0.005, 0.01]:\n",
        "          train_loader = getLoader(num_neg, neigh)\n",
        "          model = m(hidden_channels=embed_size)\n",
        "\n",
        "          print(f'embed_size: {embed_size}, model: {m}, sampled_neighbours: {neigh}, num_negative_samples: {num_neg}, lr: {lr}')\n",
        "          train(model, 10, lr)\n",
        "          evaluate()\n"
      ]
    },
    {
      "cell_type": "code",
      "execution_count": null,
      "metadata": {
        "id": "350SnhVnQ-93"
      },
      "outputs": [],
      "source": []
    },
    {
      "cell_type": "code",
      "execution_count": null,
      "metadata": {
        "id": "jrfhQB33Q-93"
      },
      "outputs": [],
      "source": []
    }
  ],
  "metadata": {
    "accelerator": "GPU",
    "colab": {
      "gpuType": "T4",
      "provenance": []
    },
    "kernelspec": {
      "display_name": "Python 3",
      "name": "python3"
    },
    "language_info": {
      "codemirror_mode": {
        "name": "ipython",
        "version": 3
      },
      "file_extension": ".py",
      "mimetype": "text/x-python",
      "name": "python",
      "nbconvert_exporter": "python",
      "pygments_lexer": "ipython3",
      "version": "3.11.5"
    }
  },
  "nbformat": 4,
  "nbformat_minor": 0
}
